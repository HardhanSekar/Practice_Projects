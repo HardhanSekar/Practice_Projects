{
 "cells": [
  {
   "cell_type": "markdown",
   "id": "b775dc88",
   "metadata": {},
   "source": [
    "#                                         GLOBUS POWER PLANT"
   ]
  },
  {
   "cell_type": "raw",
   "id": "19c1d62b",
   "metadata": {},
   "source": [
    "INTRODUCTION:\n",
    "          The Project we are going to discuss  about Globus Power Plant,this database covers approximately 35,000 power plants from 167 countries and includes thermal plants (e.g. coal, gas, oil, nuclear, biomass, waste, geothermal) and renewables (e.g. hydro, wind, solar). Each power plant is geolocated and entries contain information on plant capacity, generation, ownership, and fuel type. So we going to analyse the prediction by two labels(Primary_Fuel and capacity_mw)."
   ]
  },
  {
   "cell_type": "code",
   "execution_count": 1,
   "id": "33140954",
   "metadata": {},
   "outputs": [],
   "source": [
    "#Importing Libraries\n",
    "\n",
    "import warnings\n",
    "warnings.filterwarnings(\"ignore\")\n",
    "\n",
    "import numpy as np\n",
    "import pandas as pd\n",
    "import matplotlib.pyplot as plt                                         \n",
    "%matplotlib inline\n",
    "\n",
    "import seaborn as sns\n",
    "from plotly.subplots import make_subplots\n",
    "from sklearn import metrics\n",
    "\n",
    "from sklearn import preprocessing\n",
    "from sklearn.preprocessing import StandardScaler\n",
    "from sklearn.preprocessing import MinMaxScaler\n",
    "from scipy.stats import zscore\n",
    "from sklearn.model_selection import train_test_split\n",
    "\n",
    "from sklearn.preprocessing import PowerTransformer\n",
    "from sklearn.model_selection import KFold\n",
    "from sklearn.feature_selection import RFE\n",
    "\n",
    "from sklearn.pipeline import Pipeline\n",
    "from sklearn.pipeline import make_pipeline\n",
    "\n",
    "from statsmodels.stats.outliers_influence import variance_inflation_factor\n",
    "from sklearn.metrics import silhouette_score\n",
    "from sklearn.metrics import accuracy_score\n",
    "from sklearn.model_selection import cross_val_score"
   ]
  },
  {
   "cell_type": "markdown",
   "id": "987ba9bb",
   "metadata": {},
   "source": [
    "# Data Analysis"
   ]
  },
  {
   "cell_type": "code",
   "execution_count": 2,
   "id": "16d2d037",
   "metadata": {},
   "outputs": [
    {
     "data": {
      "text/html": [
       "<div>\n",
       "<style scoped>\n",
       "    .dataframe tbody tr th:only-of-type {\n",
       "        vertical-align: middle;\n",
       "    }\n",
       "\n",
       "    .dataframe tbody tr th {\n",
       "        vertical-align: top;\n",
       "    }\n",
       "\n",
       "    .dataframe thead th {\n",
       "        text-align: right;\n",
       "    }\n",
       "</style>\n",
       "<table border=\"1\" class=\"dataframe\">\n",
       "  <thead>\n",
       "    <tr style=\"text-align: right;\">\n",
       "      <th></th>\n",
       "      <th>country</th>\n",
       "      <th>country_long</th>\n",
       "      <th>name</th>\n",
       "      <th>gppd_idnr</th>\n",
       "      <th>capacity_mw</th>\n",
       "      <th>latitude</th>\n",
       "      <th>longitude</th>\n",
       "      <th>primary_fuel</th>\n",
       "      <th>other_fuel1</th>\n",
       "      <th>other_fuel2</th>\n",
       "      <th>...</th>\n",
       "      <th>year_of_capacity_data</th>\n",
       "      <th>generation_gwh_2013</th>\n",
       "      <th>generation_gwh_2014</th>\n",
       "      <th>generation_gwh_2015</th>\n",
       "      <th>generation_gwh_2016</th>\n",
       "      <th>generation_gwh_2017</th>\n",
       "      <th>generation_gwh_2018</th>\n",
       "      <th>generation_gwh_2019</th>\n",
       "      <th>generation_data_source</th>\n",
       "      <th>estimated_generation_gwh</th>\n",
       "    </tr>\n",
       "  </thead>\n",
       "  <tbody>\n",
       "    <tr>\n",
       "      <th>0</th>\n",
       "      <td>IND</td>\n",
       "      <td>India</td>\n",
       "      <td>ACME Solar Tower</td>\n",
       "      <td>WRI1020239</td>\n",
       "      <td>2.5</td>\n",
       "      <td>28.1839</td>\n",
       "      <td>73.2407</td>\n",
       "      <td>Solar</td>\n",
       "      <td>NaN</td>\n",
       "      <td>NaN</td>\n",
       "      <td>...</td>\n",
       "      <td>NaN</td>\n",
       "      <td>NaN</td>\n",
       "      <td>NaN</td>\n",
       "      <td>NaN</td>\n",
       "      <td>NaN</td>\n",
       "      <td>NaN</td>\n",
       "      <td>NaN</td>\n",
       "      <td>NaN</td>\n",
       "      <td>NaN</td>\n",
       "      <td>NaN</td>\n",
       "    </tr>\n",
       "    <tr>\n",
       "      <th>1</th>\n",
       "      <td>IND</td>\n",
       "      <td>India</td>\n",
       "      <td>ADITYA CEMENT WORKS</td>\n",
       "      <td>WRI1019881</td>\n",
       "      <td>98.0</td>\n",
       "      <td>24.7663</td>\n",
       "      <td>74.6090</td>\n",
       "      <td>Coal</td>\n",
       "      <td>NaN</td>\n",
       "      <td>NaN</td>\n",
       "      <td>...</td>\n",
       "      <td>NaN</td>\n",
       "      <td>NaN</td>\n",
       "      <td>NaN</td>\n",
       "      <td>NaN</td>\n",
       "      <td>NaN</td>\n",
       "      <td>NaN</td>\n",
       "      <td>NaN</td>\n",
       "      <td>NaN</td>\n",
       "      <td>NaN</td>\n",
       "      <td>NaN</td>\n",
       "    </tr>\n",
       "    <tr>\n",
       "      <th>2</th>\n",
       "      <td>IND</td>\n",
       "      <td>India</td>\n",
       "      <td>AES Saurashtra Windfarms</td>\n",
       "      <td>WRI1026669</td>\n",
       "      <td>39.2</td>\n",
       "      <td>21.9038</td>\n",
       "      <td>69.3732</td>\n",
       "      <td>Wind</td>\n",
       "      <td>NaN</td>\n",
       "      <td>NaN</td>\n",
       "      <td>...</td>\n",
       "      <td>NaN</td>\n",
       "      <td>NaN</td>\n",
       "      <td>NaN</td>\n",
       "      <td>NaN</td>\n",
       "      <td>NaN</td>\n",
       "      <td>NaN</td>\n",
       "      <td>NaN</td>\n",
       "      <td>NaN</td>\n",
       "      <td>NaN</td>\n",
       "      <td>NaN</td>\n",
       "    </tr>\n",
       "    <tr>\n",
       "      <th>3</th>\n",
       "      <td>IND</td>\n",
       "      <td>India</td>\n",
       "      <td>AGARTALA GT</td>\n",
       "      <td>IND0000001</td>\n",
       "      <td>135.0</td>\n",
       "      <td>23.8712</td>\n",
       "      <td>91.3602</td>\n",
       "      <td>Gas</td>\n",
       "      <td>NaN</td>\n",
       "      <td>NaN</td>\n",
       "      <td>...</td>\n",
       "      <td>2019.0</td>\n",
       "      <td>NaN</td>\n",
       "      <td>617.789264</td>\n",
       "      <td>843.7470</td>\n",
       "      <td>886.004428</td>\n",
       "      <td>663.774500</td>\n",
       "      <td>626.239128</td>\n",
       "      <td>NaN</td>\n",
       "      <td>Central Electricity Authority</td>\n",
       "      <td>NaN</td>\n",
       "    </tr>\n",
       "    <tr>\n",
       "      <th>4</th>\n",
       "      <td>IND</td>\n",
       "      <td>India</td>\n",
       "      <td>AKALTARA TPP</td>\n",
       "      <td>IND0000002</td>\n",
       "      <td>1800.0</td>\n",
       "      <td>21.9603</td>\n",
       "      <td>82.4091</td>\n",
       "      <td>Coal</td>\n",
       "      <td>Oil</td>\n",
       "      <td>NaN</td>\n",
       "      <td>...</td>\n",
       "      <td>2019.0</td>\n",
       "      <td>NaN</td>\n",
       "      <td>3035.550000</td>\n",
       "      <td>5916.3700</td>\n",
       "      <td>6243.000000</td>\n",
       "      <td>5385.579736</td>\n",
       "      <td>7279.000000</td>\n",
       "      <td>NaN</td>\n",
       "      <td>Central Electricity Authority</td>\n",
       "      <td>NaN</td>\n",
       "    </tr>\n",
       "    <tr>\n",
       "      <th>5</th>\n",
       "      <td>IND</td>\n",
       "      <td>India</td>\n",
       "      <td>AKRIMOTA LIG</td>\n",
       "      <td>IND0000003</td>\n",
       "      <td>250.0</td>\n",
       "      <td>23.7689</td>\n",
       "      <td>68.6447</td>\n",
       "      <td>Coal</td>\n",
       "      <td>Oil</td>\n",
       "      <td>NaN</td>\n",
       "      <td>...</td>\n",
       "      <td>2019.0</td>\n",
       "      <td>NaN</td>\n",
       "      <td>1153.421000</td>\n",
       "      <td>1208.8520</td>\n",
       "      <td>1175.765000</td>\n",
       "      <td>1147.913000</td>\n",
       "      <td>976.655000</td>\n",
       "      <td>NaN</td>\n",
       "      <td>Central Electricity Authority</td>\n",
       "      <td>NaN</td>\n",
       "    </tr>\n",
       "    <tr>\n",
       "      <th>6</th>\n",
       "      <td>IND</td>\n",
       "      <td>India</td>\n",
       "      <td>ALIYAR</td>\n",
       "      <td>IND0000004</td>\n",
       "      <td>60.0</td>\n",
       "      <td>10.4547</td>\n",
       "      <td>77.0078</td>\n",
       "      <td>Hydro</td>\n",
       "      <td>NaN</td>\n",
       "      <td>NaN</td>\n",
       "      <td>...</td>\n",
       "      <td>2019.0</td>\n",
       "      <td>NaN</td>\n",
       "      <td>157.558250</td>\n",
       "      <td>152.1952</td>\n",
       "      <td>61.421350</td>\n",
       "      <td>89.629600</td>\n",
       "      <td>48.327150</td>\n",
       "      <td>NaN</td>\n",
       "      <td>Central Electricity Authority</td>\n",
       "      <td>NaN</td>\n",
       "    </tr>\n",
       "    <tr>\n",
       "      <th>7</th>\n",
       "      <td>IND</td>\n",
       "      <td>India</td>\n",
       "      <td>ALLAIN DUHANGAN</td>\n",
       "      <td>IND0000005</td>\n",
       "      <td>192.0</td>\n",
       "      <td>32.2258</td>\n",
       "      <td>77.2070</td>\n",
       "      <td>Hydro</td>\n",
       "      <td>NaN</td>\n",
       "      <td>NaN</td>\n",
       "      <td>...</td>\n",
       "      <td>2019.0</td>\n",
       "      <td>NaN</td>\n",
       "      <td>674.391100</td>\n",
       "      <td>721.3352</td>\n",
       "      <td>675.724400</td>\n",
       "      <td>679.594950</td>\n",
       "      <td>579.318850</td>\n",
       "      <td>NaN</td>\n",
       "      <td>Central Electricity Authority</td>\n",
       "      <td>NaN</td>\n",
       "    </tr>\n",
       "    <tr>\n",
       "      <th>8</th>\n",
       "      <td>IND</td>\n",
       "      <td>India</td>\n",
       "      <td>ALMATTI DAM</td>\n",
       "      <td>IND0000006</td>\n",
       "      <td>290.0</td>\n",
       "      <td>16.3300</td>\n",
       "      <td>75.8863</td>\n",
       "      <td>Hydro</td>\n",
       "      <td>NaN</td>\n",
       "      <td>NaN</td>\n",
       "      <td>...</td>\n",
       "      <td>2019.0</td>\n",
       "      <td>NaN</td>\n",
       "      <td>480.594950</td>\n",
       "      <td>144.4342</td>\n",
       "      <td>402.029750</td>\n",
       "      <td>439.372100</td>\n",
       "      <td>406.377900</td>\n",
       "      <td>NaN</td>\n",
       "      <td>Central Electricity Authority</td>\n",
       "      <td>NaN</td>\n",
       "    </tr>\n",
       "    <tr>\n",
       "      <th>9</th>\n",
       "      <td>IND</td>\n",
       "      <td>India</td>\n",
       "      <td>AMAR KANTAK</td>\n",
       "      <td>IND0000007</td>\n",
       "      <td>210.0</td>\n",
       "      <td>23.1642</td>\n",
       "      <td>81.6373</td>\n",
       "      <td>Coal</td>\n",
       "      <td>Oil</td>\n",
       "      <td>NaN</td>\n",
       "      <td>...</td>\n",
       "      <td>2019.0</td>\n",
       "      <td>NaN</td>\n",
       "      <td>1887.904000</td>\n",
       "      <td>1643.0460</td>\n",
       "      <td>1338.093000</td>\n",
       "      <td>1563.457000</td>\n",
       "      <td>1487.880000</td>\n",
       "      <td>NaN</td>\n",
       "      <td>Central Electricity Authority</td>\n",
       "      <td>NaN</td>\n",
       "    </tr>\n",
       "  </tbody>\n",
       "</table>\n",
       "<p>10 rows × 27 columns</p>\n",
       "</div>"
      ],
      "text/plain": [
       "  country country_long                      name   gppd_idnr  capacity_mw  \\\n",
       "0     IND        India          ACME Solar Tower  WRI1020239          2.5   \n",
       "1     IND        India       ADITYA CEMENT WORKS  WRI1019881         98.0   \n",
       "2     IND        India  AES Saurashtra Windfarms  WRI1026669         39.2   \n",
       "3     IND        India               AGARTALA GT  IND0000001        135.0   \n",
       "4     IND        India              AKALTARA TPP  IND0000002       1800.0   \n",
       "5     IND        India              AKRIMOTA LIG  IND0000003        250.0   \n",
       "6     IND        India                    ALIYAR  IND0000004         60.0   \n",
       "7     IND        India           ALLAIN DUHANGAN  IND0000005        192.0   \n",
       "8     IND        India               ALMATTI DAM  IND0000006        290.0   \n",
       "9     IND        India               AMAR KANTAK  IND0000007        210.0   \n",
       "\n",
       "   latitude  longitude primary_fuel other_fuel1 other_fuel2  ...  \\\n",
       "0   28.1839    73.2407        Solar         NaN         NaN  ...   \n",
       "1   24.7663    74.6090         Coal         NaN         NaN  ...   \n",
       "2   21.9038    69.3732         Wind         NaN         NaN  ...   \n",
       "3   23.8712    91.3602          Gas         NaN         NaN  ...   \n",
       "4   21.9603    82.4091         Coal         Oil         NaN  ...   \n",
       "5   23.7689    68.6447         Coal         Oil         NaN  ...   \n",
       "6   10.4547    77.0078        Hydro         NaN         NaN  ...   \n",
       "7   32.2258    77.2070        Hydro         NaN         NaN  ...   \n",
       "8   16.3300    75.8863        Hydro         NaN         NaN  ...   \n",
       "9   23.1642    81.6373         Coal         Oil         NaN  ...   \n",
       "\n",
       "   year_of_capacity_data  generation_gwh_2013 generation_gwh_2014  \\\n",
       "0                    NaN                  NaN                 NaN   \n",
       "1                    NaN                  NaN                 NaN   \n",
       "2                    NaN                  NaN                 NaN   \n",
       "3                 2019.0                  NaN          617.789264   \n",
       "4                 2019.0                  NaN         3035.550000   \n",
       "5                 2019.0                  NaN         1153.421000   \n",
       "6                 2019.0                  NaN          157.558250   \n",
       "7                 2019.0                  NaN          674.391100   \n",
       "8                 2019.0                  NaN          480.594950   \n",
       "9                 2019.0                  NaN         1887.904000   \n",
       "\n",
       "  generation_gwh_2015 generation_gwh_2016 generation_gwh_2017  \\\n",
       "0                 NaN                 NaN                 NaN   \n",
       "1                 NaN                 NaN                 NaN   \n",
       "2                 NaN                 NaN                 NaN   \n",
       "3            843.7470          886.004428          663.774500   \n",
       "4           5916.3700         6243.000000         5385.579736   \n",
       "5           1208.8520         1175.765000         1147.913000   \n",
       "6            152.1952           61.421350           89.629600   \n",
       "7            721.3352          675.724400          679.594950   \n",
       "8            144.4342          402.029750          439.372100   \n",
       "9           1643.0460         1338.093000         1563.457000   \n",
       "\n",
       "   generation_gwh_2018  generation_gwh_2019         generation_data_source  \\\n",
       "0                  NaN                  NaN                            NaN   \n",
       "1                  NaN                  NaN                            NaN   \n",
       "2                  NaN                  NaN                            NaN   \n",
       "3           626.239128                  NaN  Central Electricity Authority   \n",
       "4          7279.000000                  NaN  Central Electricity Authority   \n",
       "5           976.655000                  NaN  Central Electricity Authority   \n",
       "6            48.327150                  NaN  Central Electricity Authority   \n",
       "7           579.318850                  NaN  Central Electricity Authority   \n",
       "8           406.377900                  NaN  Central Electricity Authority   \n",
       "9          1487.880000                  NaN  Central Electricity Authority   \n",
       "\n",
       "   estimated_generation_gwh  \n",
       "0                       NaN  \n",
       "1                       NaN  \n",
       "2                       NaN  \n",
       "3                       NaN  \n",
       "4                       NaN  \n",
       "5                       NaN  \n",
       "6                       NaN  \n",
       "7                       NaN  \n",
       "8                       NaN  \n",
       "9                       NaN  \n",
       "\n",
       "[10 rows x 27 columns]"
      ]
     },
     "execution_count": 2,
     "metadata": {},
     "output_type": "execute_result"
    }
   ],
   "source": [
    "df=pd.read_csv(\"https://raw.githubusercontent.com/wri/global-power-plant-database/master/source_databases_csv/database_IND.csv\")\n",
    "df.head(10)"
   ]
  },
  {
   "cell_type": "code",
   "execution_count": 3,
   "id": "6563a0bd",
   "metadata": {},
   "outputs": [
    {
     "data": {
      "text/plain": [
       "(907, 27)"
      ]
     },
     "execution_count": 3,
     "metadata": {},
     "output_type": "execute_result"
    }
   ],
   "source": [
    "df.shape\n",
    "#Shape of the dataset"
   ]
  },
  {
   "cell_type": "code",
   "execution_count": 4,
   "id": "5409fc40",
   "metadata": {},
   "outputs": [
    {
     "data": {
      "text/plain": [
       "0      Solar\n",
       "1       Coal\n",
       "2       Wind\n",
       "3        Gas\n",
       "4       Coal\n",
       "       ...  \n",
       "902     Coal\n",
       "903    Solar\n",
       "904     Wind\n",
       "905     Coal\n",
       "906     Wind\n",
       "Name: primary_fuel, Length: 907, dtype: object"
      ]
     },
     "execution_count": 4,
     "metadata": {},
     "output_type": "execute_result"
    }
   ],
   "source": [
    "df.primary_fuel"
   ]
  },
  {
   "cell_type": "code",
   "execution_count": 5,
   "id": "814fc3eb",
   "metadata": {},
   "outputs": [
    {
     "data": {
      "text/html": [
       "<div>\n",
       "<style scoped>\n",
       "    .dataframe tbody tr th:only-of-type {\n",
       "        vertical-align: middle;\n",
       "    }\n",
       "\n",
       "    .dataframe tbody tr th {\n",
       "        vertical-align: top;\n",
       "    }\n",
       "\n",
       "    .dataframe thead th {\n",
       "        text-align: right;\n",
       "    }\n",
       "</style>\n",
       "<table border=\"1\" class=\"dataframe\">\n",
       "  <thead>\n",
       "    <tr style=\"text-align: right;\">\n",
       "      <th></th>\n",
       "      <th>country</th>\n",
       "      <th>country_long</th>\n",
       "      <th>name</th>\n",
       "      <th>gppd_idnr</th>\n",
       "      <th>capacity_mw</th>\n",
       "      <th>latitude</th>\n",
       "      <th>longitude</th>\n",
       "      <th>primary_fuel</th>\n",
       "      <th>other_fuel1</th>\n",
       "      <th>other_fuel2</th>\n",
       "      <th>...</th>\n",
       "      <th>year_of_capacity_data</th>\n",
       "      <th>generation_gwh_2013</th>\n",
       "      <th>generation_gwh_2014</th>\n",
       "      <th>generation_gwh_2015</th>\n",
       "      <th>generation_gwh_2016</th>\n",
       "      <th>generation_gwh_2017</th>\n",
       "      <th>generation_gwh_2018</th>\n",
       "      <th>generation_gwh_2019</th>\n",
       "      <th>generation_data_source</th>\n",
       "      <th>estimated_generation_gwh</th>\n",
       "    </tr>\n",
       "  </thead>\n",
       "  <tbody>\n",
       "    <tr>\n",
       "      <th>706</th>\n",
       "      <td>IND</td>\n",
       "      <td>India</td>\n",
       "      <td>SHANAN</td>\n",
       "      <td>IND0000403</td>\n",
       "      <td>110.0</td>\n",
       "      <td>31.9894</td>\n",
       "      <td>76.8072</td>\n",
       "      <td>Hydro</td>\n",
       "      <td>NaN</td>\n",
       "      <td>NaN</td>\n",
       "      <td>...</td>\n",
       "      <td>2019.0</td>\n",
       "      <td>NaN</td>\n",
       "      <td>505.28090</td>\n",
       "      <td>529.90715</td>\n",
       "      <td>470.5156</td>\n",
       "      <td>505.97740</td>\n",
       "      <td>470.02805</td>\n",
       "      <td>NaN</td>\n",
       "      <td>Central Electricity Authority</td>\n",
       "      <td>NaN</td>\n",
       "    </tr>\n",
       "    <tr>\n",
       "      <th>346</th>\n",
       "      <td>IND</td>\n",
       "      <td>India</td>\n",
       "      <td>KISHENGANGA</td>\n",
       "      <td>IND0000530</td>\n",
       "      <td>330.0</td>\n",
       "      <td>34.6490</td>\n",
       "      <td>74.7514</td>\n",
       "      <td>Hydro</td>\n",
       "      <td>NaN</td>\n",
       "      <td>NaN</td>\n",
       "      <td>...</td>\n",
       "      <td>2019.0</td>\n",
       "      <td>NaN</td>\n",
       "      <td>NaN</td>\n",
       "      <td>NaN</td>\n",
       "      <td>NaN</td>\n",
       "      <td>1.67160</td>\n",
       "      <td>526.60375</td>\n",
       "      <td>NaN</td>\n",
       "      <td>Central Electricity Authority</td>\n",
       "      <td>NaN</td>\n",
       "    </tr>\n",
       "    <tr>\n",
       "      <th>603</th>\n",
       "      <td>IND</td>\n",
       "      <td>India</td>\n",
       "      <td>Panandhro Solar Power Plant</td>\n",
       "      <td>WRI1026180</td>\n",
       "      <td>5.0</td>\n",
       "      <td>23.6788</td>\n",
       "      <td>68.7653</td>\n",
       "      <td>Solar</td>\n",
       "      <td>NaN</td>\n",
       "      <td>NaN</td>\n",
       "      <td>...</td>\n",
       "      <td>NaN</td>\n",
       "      <td>NaN</td>\n",
       "      <td>NaN</td>\n",
       "      <td>NaN</td>\n",
       "      <td>NaN</td>\n",
       "      <td>NaN</td>\n",
       "      <td>NaN</td>\n",
       "      <td>NaN</td>\n",
       "      <td>NaN</td>\n",
       "      <td>NaN</td>\n",
       "    </tr>\n",
       "    <tr>\n",
       "      <th>52</th>\n",
       "      <td>IND</td>\n",
       "      <td>India</td>\n",
       "      <td>BANSAGAR (I)</td>\n",
       "      <td>IND0000029</td>\n",
       "      <td>315.0</td>\n",
       "      <td>24.1917</td>\n",
       "      <td>81.2875</td>\n",
       "      <td>Hydro</td>\n",
       "      <td>NaN</td>\n",
       "      <td>NaN</td>\n",
       "      <td>...</td>\n",
       "      <td>2019.0</td>\n",
       "      <td>NaN</td>\n",
       "      <td>1075.95320</td>\n",
       "      <td>571.60760</td>\n",
       "      <td>1232.8249</td>\n",
       "      <td>542.64315</td>\n",
       "      <td>575.45825</td>\n",
       "      <td>NaN</td>\n",
       "      <td>Central Electricity Authority</td>\n",
       "      <td>NaN</td>\n",
       "    </tr>\n",
       "    <tr>\n",
       "      <th>220</th>\n",
       "      <td>IND</td>\n",
       "      <td>India</td>\n",
       "      <td>GANDHI NAGAR</td>\n",
       "      <td>IND0000122</td>\n",
       "      <td>630.0</td>\n",
       "      <td>25.2502</td>\n",
       "      <td>72.6765</td>\n",
       "      <td>Coal</td>\n",
       "      <td>Oil</td>\n",
       "      <td>NaN</td>\n",
       "      <td>...</td>\n",
       "      <td>2019.0</td>\n",
       "      <td>NaN</td>\n",
       "      <td>3034.57500</td>\n",
       "      <td>2441.21000</td>\n",
       "      <td>1938.2490</td>\n",
       "      <td>3358.73300</td>\n",
       "      <td>3326.36900</td>\n",
       "      <td>NaN</td>\n",
       "      <td>Central Electricity Authority</td>\n",
       "      <td>NaN</td>\n",
       "    </tr>\n",
       "    <tr>\n",
       "      <th>198</th>\n",
       "      <td>IND</td>\n",
       "      <td>India</td>\n",
       "      <td>Dhursar</td>\n",
       "      <td>WRI1020240</td>\n",
       "      <td>125.0</td>\n",
       "      <td>26.7846</td>\n",
       "      <td>72.0083</td>\n",
       "      <td>Solar</td>\n",
       "      <td>NaN</td>\n",
       "      <td>NaN</td>\n",
       "      <td>...</td>\n",
       "      <td>NaN</td>\n",
       "      <td>NaN</td>\n",
       "      <td>NaN</td>\n",
       "      <td>NaN</td>\n",
       "      <td>NaN</td>\n",
       "      <td>NaN</td>\n",
       "      <td>NaN</td>\n",
       "      <td>NaN</td>\n",
       "      <td>NaN</td>\n",
       "      <td>NaN</td>\n",
       "    </tr>\n",
       "    <tr>\n",
       "      <th>795</th>\n",
       "      <td>IND</td>\n",
       "      <td>India</td>\n",
       "      <td>TEESTA  I-III</td>\n",
       "      <td>IND0000447</td>\n",
       "      <td>67.5</td>\n",
       "      <td>26.4875</td>\n",
       "      <td>88.3155</td>\n",
       "      <td>Hydro</td>\n",
       "      <td>NaN</td>\n",
       "      <td>NaN</td>\n",
       "      <td>...</td>\n",
       "      <td>2019.0</td>\n",
       "      <td>NaN</td>\n",
       "      <td>142.53773</td>\n",
       "      <td>79.62985</td>\n",
       "      <td>0.0000</td>\n",
       "      <td>130.36490</td>\n",
       "      <td>85.04265</td>\n",
       "      <td>NaN</td>\n",
       "      <td>Central Electricity Authority</td>\n",
       "      <td>NaN</td>\n",
       "    </tr>\n",
       "    <tr>\n",
       "      <th>320</th>\n",
       "      <td>IND</td>\n",
       "      <td>India</td>\n",
       "      <td>KANHER</td>\n",
       "      <td>IND0000179</td>\n",
       "      <td>4.0</td>\n",
       "      <td>17.7384</td>\n",
       "      <td>73.9170</td>\n",
       "      <td>Hydro</td>\n",
       "      <td>NaN</td>\n",
       "      <td>NaN</td>\n",
       "      <td>...</td>\n",
       "      <td>2019.0</td>\n",
       "      <td>NaN</td>\n",
       "      <td>NaN</td>\n",
       "      <td>NaN</td>\n",
       "      <td>NaN</td>\n",
       "      <td>NaN</td>\n",
       "      <td>NaN</td>\n",
       "      <td>NaN</td>\n",
       "      <td>NaN</td>\n",
       "      <td>NaN</td>\n",
       "    </tr>\n",
       "    <tr>\n",
       "      <th>868</th>\n",
       "      <td>IND</td>\n",
       "      <td>India</td>\n",
       "      <td>VALUTHUR GT</td>\n",
       "      <td>IND0000496</td>\n",
       "      <td>187.2</td>\n",
       "      <td>9.3484</td>\n",
       "      <td>78.9235</td>\n",
       "      <td>Gas</td>\n",
       "      <td>NaN</td>\n",
       "      <td>NaN</td>\n",
       "      <td>...</td>\n",
       "      <td>2019.0</td>\n",
       "      <td>NaN</td>\n",
       "      <td>1014.80000</td>\n",
       "      <td>680.47500</td>\n",
       "      <td>906.9960</td>\n",
       "      <td>1198.13600</td>\n",
       "      <td>1125.96100</td>\n",
       "      <td>NaN</td>\n",
       "      <td>Central Electricity Authority</td>\n",
       "      <td>NaN</td>\n",
       "    </tr>\n",
       "    <tr>\n",
       "      <th>72</th>\n",
       "      <td>IND</td>\n",
       "      <td>India</td>\n",
       "      <td>BELLARY DG</td>\n",
       "      <td>IND0000044</td>\n",
       "      <td>25.2</td>\n",
       "      <td>NaN</td>\n",
       "      <td>NaN</td>\n",
       "      <td>Oil</td>\n",
       "      <td>NaN</td>\n",
       "      <td>NaN</td>\n",
       "      <td>...</td>\n",
       "      <td>2019.0</td>\n",
       "      <td>NaN</td>\n",
       "      <td>0.00000</td>\n",
       "      <td>0.00000</td>\n",
       "      <td>0.0000</td>\n",
       "      <td>0.00000</td>\n",
       "      <td>0.00000</td>\n",
       "      <td>NaN</td>\n",
       "      <td>Central Electricity Authority</td>\n",
       "      <td>NaN</td>\n",
       "    </tr>\n",
       "  </tbody>\n",
       "</table>\n",
       "<p>10 rows × 27 columns</p>\n",
       "</div>"
      ],
      "text/plain": [
       "    country country_long                         name   gppd_idnr  \\\n",
       "706     IND        India                       SHANAN  IND0000403   \n",
       "346     IND        India                  KISHENGANGA  IND0000530   \n",
       "603     IND        India  Panandhro Solar Power Plant  WRI1026180   \n",
       "52      IND        India                 BANSAGAR (I)  IND0000029   \n",
       "220     IND        India                 GANDHI NAGAR  IND0000122   \n",
       "198     IND        India                      Dhursar  WRI1020240   \n",
       "795     IND        India                TEESTA  I-III  IND0000447   \n",
       "320     IND        India                       KANHER  IND0000179   \n",
       "868     IND        India                  VALUTHUR GT  IND0000496   \n",
       "72      IND        India                   BELLARY DG  IND0000044   \n",
       "\n",
       "     capacity_mw  latitude  longitude primary_fuel other_fuel1 other_fuel2  \\\n",
       "706        110.0   31.9894    76.8072        Hydro         NaN         NaN   \n",
       "346        330.0   34.6490    74.7514        Hydro         NaN         NaN   \n",
       "603          5.0   23.6788    68.7653        Solar         NaN         NaN   \n",
       "52         315.0   24.1917    81.2875        Hydro         NaN         NaN   \n",
       "220        630.0   25.2502    72.6765         Coal         Oil         NaN   \n",
       "198        125.0   26.7846    72.0083        Solar         NaN         NaN   \n",
       "795         67.5   26.4875    88.3155        Hydro         NaN         NaN   \n",
       "320          4.0   17.7384    73.9170        Hydro         NaN         NaN   \n",
       "868        187.2    9.3484    78.9235          Gas         NaN         NaN   \n",
       "72          25.2       NaN        NaN          Oil         NaN         NaN   \n",
       "\n",
       "     ...  year_of_capacity_data  generation_gwh_2013 generation_gwh_2014  \\\n",
       "706  ...                 2019.0                  NaN           505.28090   \n",
       "346  ...                 2019.0                  NaN                 NaN   \n",
       "603  ...                    NaN                  NaN                 NaN   \n",
       "52   ...                 2019.0                  NaN          1075.95320   \n",
       "220  ...                 2019.0                  NaN          3034.57500   \n",
       "198  ...                    NaN                  NaN                 NaN   \n",
       "795  ...                 2019.0                  NaN           142.53773   \n",
       "320  ...                 2019.0                  NaN                 NaN   \n",
       "868  ...                 2019.0                  NaN          1014.80000   \n",
       "72   ...                 2019.0                  NaN             0.00000   \n",
       "\n",
       "    generation_gwh_2015 generation_gwh_2016 generation_gwh_2017  \\\n",
       "706           529.90715            470.5156           505.97740   \n",
       "346                 NaN                 NaN             1.67160   \n",
       "603                 NaN                 NaN                 NaN   \n",
       "52            571.60760           1232.8249           542.64315   \n",
       "220          2441.21000           1938.2490          3358.73300   \n",
       "198                 NaN                 NaN                 NaN   \n",
       "795            79.62985              0.0000           130.36490   \n",
       "320                 NaN                 NaN                 NaN   \n",
       "868           680.47500            906.9960          1198.13600   \n",
       "72              0.00000              0.0000             0.00000   \n",
       "\n",
       "     generation_gwh_2018  generation_gwh_2019         generation_data_source  \\\n",
       "706            470.02805                  NaN  Central Electricity Authority   \n",
       "346            526.60375                  NaN  Central Electricity Authority   \n",
       "603                  NaN                  NaN                            NaN   \n",
       "52             575.45825                  NaN  Central Electricity Authority   \n",
       "220           3326.36900                  NaN  Central Electricity Authority   \n",
       "198                  NaN                  NaN                            NaN   \n",
       "795             85.04265                  NaN  Central Electricity Authority   \n",
       "320                  NaN                  NaN                            NaN   \n",
       "868           1125.96100                  NaN  Central Electricity Authority   \n",
       "72               0.00000                  NaN  Central Electricity Authority   \n",
       "\n",
       "     estimated_generation_gwh  \n",
       "706                       NaN  \n",
       "346                       NaN  \n",
       "603                       NaN  \n",
       "52                        NaN  \n",
       "220                       NaN  \n",
       "198                       NaN  \n",
       "795                       NaN  \n",
       "320                       NaN  \n",
       "868                       NaN  \n",
       "72                        NaN  \n",
       "\n",
       "[10 rows x 27 columns]"
      ]
     },
     "execution_count": 5,
     "metadata": {},
     "output_type": "execute_result"
    }
   ],
   "source": [
    "df.sample(10)\n",
    "#Sample of dataset"
   ]
  },
  {
   "cell_type": "code",
   "execution_count": 6,
   "id": "db72b20d",
   "metadata": {},
   "outputs": [
    {
     "name": "stdout",
     "output_type": "stream",
     "text": [
      "<class 'pandas.core.frame.DataFrame'>\n",
      "RangeIndex: 907 entries, 0 to 906\n",
      "Data columns (total 27 columns):\n",
      " #   Column                    Non-Null Count  Dtype  \n",
      "---  ------                    --------------  -----  \n",
      " 0   country                   907 non-null    object \n",
      " 1   country_long              907 non-null    object \n",
      " 2   name                      907 non-null    object \n",
      " 3   gppd_idnr                 907 non-null    object \n",
      " 4   capacity_mw               907 non-null    float64\n",
      " 5   latitude                  861 non-null    float64\n",
      " 6   longitude                 861 non-null    float64\n",
      " 7   primary_fuel              907 non-null    object \n",
      " 8   other_fuel1               198 non-null    object \n",
      " 9   other_fuel2               1 non-null      object \n",
      " 10  other_fuel3               0 non-null      float64\n",
      " 11  commissioning_year        527 non-null    float64\n",
      " 12  owner                     342 non-null    object \n",
      " 13  source                    907 non-null    object \n",
      " 14  url                       907 non-null    object \n",
      " 15  geolocation_source        888 non-null    object \n",
      " 16  wepp_id                   0 non-null      float64\n",
      " 17  year_of_capacity_data     519 non-null    float64\n",
      " 18  generation_gwh_2013       0 non-null      float64\n",
      " 19  generation_gwh_2014       398 non-null    float64\n",
      " 20  generation_gwh_2015       422 non-null    float64\n",
      " 21  generation_gwh_2016       434 non-null    float64\n",
      " 22  generation_gwh_2017       440 non-null    float64\n",
      " 23  generation_gwh_2018       448 non-null    float64\n",
      " 24  generation_gwh_2019       0 non-null      float64\n",
      " 25  generation_data_source    449 non-null    object \n",
      " 26  estimated_generation_gwh  0 non-null      float64\n",
      "dtypes: float64(15), object(12)\n",
      "memory usage: 191.4+ KB\n"
     ]
    }
   ],
   "source": [
    "df.info()"
   ]
  },
  {
   "cell_type": "code",
   "execution_count": 7,
   "id": "f9cb59e5",
   "metadata": {},
   "outputs": [
    {
     "data": {
      "text/plain": [
       "Index(['country', 'country_long', 'name', 'gppd_idnr', 'capacity_mw',\n",
       "       'latitude', 'longitude', 'primary_fuel', 'other_fuel1', 'other_fuel2',\n",
       "       'other_fuel3', 'commissioning_year', 'owner', 'source', 'url',\n",
       "       'geolocation_source', 'wepp_id', 'year_of_capacity_data',\n",
       "       'generation_gwh_2013', 'generation_gwh_2014', 'generation_gwh_2015',\n",
       "       'generation_gwh_2016', 'generation_gwh_2017', 'generation_gwh_2018',\n",
       "       'generation_gwh_2019', 'generation_data_source',\n",
       "       'estimated_generation_gwh'],\n",
       "      dtype='object')"
      ]
     },
     "execution_count": 7,
     "metadata": {},
     "output_type": "execute_result"
    }
   ],
   "source": [
    "df.columns\n",
    "#Total Columns in DataSet"
   ]
  },
  {
   "cell_type": "code",
   "execution_count": 8,
   "id": "a8ff5491",
   "metadata": {},
   "outputs": [
    {
     "data": {
      "text/plain": [
       "country                      object\n",
       "country_long                 object\n",
       "name                         object\n",
       "gppd_idnr                    object\n",
       "capacity_mw                 float64\n",
       "latitude                    float64\n",
       "longitude                   float64\n",
       "primary_fuel                 object\n",
       "other_fuel1                  object\n",
       "other_fuel2                  object\n",
       "other_fuel3                 float64\n",
       "commissioning_year          float64\n",
       "owner                        object\n",
       "source                       object\n",
       "url                          object\n",
       "geolocation_source           object\n",
       "wepp_id                     float64\n",
       "year_of_capacity_data       float64\n",
       "generation_gwh_2013         float64\n",
       "generation_gwh_2014         float64\n",
       "generation_gwh_2015         float64\n",
       "generation_gwh_2016         float64\n",
       "generation_gwh_2017         float64\n",
       "generation_gwh_2018         float64\n",
       "generation_gwh_2019         float64\n",
       "generation_data_source       object\n",
       "estimated_generation_gwh    float64\n",
       "dtype: object"
      ]
     },
     "execution_count": 8,
     "metadata": {},
     "output_type": "execute_result"
    }
   ],
   "source": [
    "df.dtypes"
   ]
  },
  {
   "cell_type": "code",
   "execution_count": 9,
   "id": "04db3cd3",
   "metadata": {},
   "outputs": [
    {
     "data": {
      "text/plain": [
       "country                       0\n",
       "country_long                  0\n",
       "name                          0\n",
       "gppd_idnr                     0\n",
       "capacity_mw                   0\n",
       "latitude                     46\n",
       "longitude                    46\n",
       "primary_fuel                  0\n",
       "other_fuel1                 709\n",
       "other_fuel2                 906\n",
       "other_fuel3                 907\n",
       "commissioning_year          380\n",
       "owner                       565\n",
       "source                        0\n",
       "url                           0\n",
       "geolocation_source           19\n",
       "wepp_id                     907\n",
       "year_of_capacity_data       388\n",
       "generation_gwh_2013         907\n",
       "generation_gwh_2014         509\n",
       "generation_gwh_2015         485\n",
       "generation_gwh_2016         473\n",
       "generation_gwh_2017         467\n",
       "generation_gwh_2018         459\n",
       "generation_gwh_2019         907\n",
       "generation_data_source      458\n",
       "estimated_generation_gwh    907\n",
       "dtype: int64"
      ]
     },
     "execution_count": 9,
     "metadata": {},
     "output_type": "execute_result"
    }
   ],
   "source": [
    "df.isnull().sum()\n",
    "#Finding the NUll Values..."
   ]
  },
  {
   "cell_type": "code",
   "execution_count": 10,
   "id": "6ba68687",
   "metadata": {},
   "outputs": [
    {
     "data": {
      "text/plain": [
       "10445"
      ]
     },
     "execution_count": 10,
     "metadata": {},
     "output_type": "execute_result"
    }
   ],
   "source": [
    "df.isnull().sum().sum()\n",
    "#TotalNull Values"
   ]
  },
  {
   "cell_type": "code",
   "execution_count": 11,
   "id": "883d5990",
   "metadata": {},
   "outputs": [],
   "source": [
    "#We are going to remove some columns those contain more null values and unwanted columns.\n",
    "df.drop(['estimated_generation_gwh','generation_gwh_2013','generation_gwh_2019','wepp_id','other_fuel3','other_fuel1','other_fuel2','gppd_idnr','owner','generation_data_source'],axis=1,inplace=True)"
   ]
  },
  {
   "cell_type": "code",
   "execution_count": 12,
   "id": "da07bc09",
   "metadata": {},
   "outputs": [
    {
     "data": {
      "text/plain": [
       "(907, 17)"
      ]
     },
     "execution_count": 12,
     "metadata": {},
     "output_type": "execute_result"
    }
   ],
   "source": [
    "df.shape"
   ]
  },
  {
   "cell_type": "code",
   "execution_count": 13,
   "id": "df648e3f",
   "metadata": {},
   "outputs": [
    {
     "data": {
      "text/plain": [
       "country                    0\n",
       "country_long               0\n",
       "name                       0\n",
       "capacity_mw                0\n",
       "latitude                  46\n",
       "longitude                 46\n",
       "primary_fuel               0\n",
       "commissioning_year       380\n",
       "source                     0\n",
       "url                        0\n",
       "geolocation_source        19\n",
       "year_of_capacity_data    388\n",
       "generation_gwh_2014      509\n",
       "generation_gwh_2015      485\n",
       "generation_gwh_2016      473\n",
       "generation_gwh_2017      467\n",
       "generation_gwh_2018      459\n",
       "dtype: int64"
      ]
     },
     "execution_count": 13,
     "metadata": {},
     "output_type": "execute_result"
    }
   ],
   "source": [
    "df.isnull().sum()"
   ]
  },
  {
   "cell_type": "code",
   "execution_count": 14,
   "id": "cee431fb",
   "metadata": {},
   "outputs": [
    {
     "data": {
      "text/html": [
       "<div>\n",
       "<style scoped>\n",
       "    .dataframe tbody tr th:only-of-type {\n",
       "        vertical-align: middle;\n",
       "    }\n",
       "\n",
       "    .dataframe tbody tr th {\n",
       "        vertical-align: top;\n",
       "    }\n",
       "\n",
       "    .dataframe thead th {\n",
       "        text-align: right;\n",
       "    }\n",
       "</style>\n",
       "<table border=\"1\" class=\"dataframe\">\n",
       "  <thead>\n",
       "    <tr style=\"text-align: right;\">\n",
       "      <th></th>\n",
       "      <th>capacity_mw</th>\n",
       "      <th>latitude</th>\n",
       "      <th>longitude</th>\n",
       "      <th>commissioning_year</th>\n",
       "      <th>year_of_capacity_data</th>\n",
       "      <th>generation_gwh_2014</th>\n",
       "      <th>generation_gwh_2015</th>\n",
       "      <th>generation_gwh_2016</th>\n",
       "      <th>generation_gwh_2017</th>\n",
       "      <th>generation_gwh_2018</th>\n",
       "    </tr>\n",
       "  </thead>\n",
       "  <tbody>\n",
       "    <tr>\n",
       "      <th>count</th>\n",
       "      <td>907.000000</td>\n",
       "      <td>861.000000</td>\n",
       "      <td>861.000000</td>\n",
       "      <td>527.000000</td>\n",
       "      <td>519.0</td>\n",
       "      <td>398.000000</td>\n",
       "      <td>422.000000</td>\n",
       "      <td>434.000000</td>\n",
       "      <td>440.000000</td>\n",
       "      <td>448.000000</td>\n",
       "    </tr>\n",
       "    <tr>\n",
       "      <th>mean</th>\n",
       "      <td>326.223755</td>\n",
       "      <td>21.197918</td>\n",
       "      <td>77.464907</td>\n",
       "      <td>1997.091082</td>\n",
       "      <td>2019.0</td>\n",
       "      <td>2431.823590</td>\n",
       "      <td>2428.226946</td>\n",
       "      <td>2467.936859</td>\n",
       "      <td>2547.759305</td>\n",
       "      <td>2600.804099</td>\n",
       "    </tr>\n",
       "    <tr>\n",
       "      <th>std</th>\n",
       "      <td>590.085456</td>\n",
       "      <td>6.239612</td>\n",
       "      <td>4.939316</td>\n",
       "      <td>17.082868</td>\n",
       "      <td>0.0</td>\n",
       "      <td>4026.440035</td>\n",
       "      <td>4194.596959</td>\n",
       "      <td>4162.884308</td>\n",
       "      <td>4196.991169</td>\n",
       "      <td>4314.880456</td>\n",
       "    </tr>\n",
       "    <tr>\n",
       "      <th>min</th>\n",
       "      <td>0.000000</td>\n",
       "      <td>8.168900</td>\n",
       "      <td>68.644700</td>\n",
       "      <td>1927.000000</td>\n",
       "      <td>2019.0</td>\n",
       "      <td>0.000000</td>\n",
       "      <td>0.000000</td>\n",
       "      <td>0.000000</td>\n",
       "      <td>0.000000</td>\n",
       "      <td>0.000000</td>\n",
       "    </tr>\n",
       "    <tr>\n",
       "      <th>25%</th>\n",
       "      <td>16.725000</td>\n",
       "      <td>16.773900</td>\n",
       "      <td>74.256200</td>\n",
       "      <td>1988.000000</td>\n",
       "      <td>2019.0</td>\n",
       "      <td>223.557672</td>\n",
       "      <td>176.381063</td>\n",
       "      <td>188.285252</td>\n",
       "      <td>177.874930</td>\n",
       "      <td>193.378250</td>\n",
       "    </tr>\n",
       "    <tr>\n",
       "      <th>50%</th>\n",
       "      <td>59.200000</td>\n",
       "      <td>21.780000</td>\n",
       "      <td>76.719500</td>\n",
       "      <td>2001.000000</td>\n",
       "      <td>2019.0</td>\n",
       "      <td>801.123775</td>\n",
       "      <td>711.181225</td>\n",
       "      <td>737.205450</td>\n",
       "      <td>817.977250</td>\n",
       "      <td>751.644375</td>\n",
       "    </tr>\n",
       "    <tr>\n",
       "      <th>75%</th>\n",
       "      <td>385.250000</td>\n",
       "      <td>25.512400</td>\n",
       "      <td>79.440800</td>\n",
       "      <td>2012.000000</td>\n",
       "      <td>2019.0</td>\n",
       "      <td>3035.306250</td>\n",
       "      <td>3084.121250</td>\n",
       "      <td>3282.861313</td>\n",
       "      <td>3275.690475</td>\n",
       "      <td>3143.535900</td>\n",
       "    </tr>\n",
       "    <tr>\n",
       "      <th>max</th>\n",
       "      <td>4760.000000</td>\n",
       "      <td>34.649000</td>\n",
       "      <td>95.408000</td>\n",
       "      <td>2018.000000</td>\n",
       "      <td>2019.0</td>\n",
       "      <td>28127.000000</td>\n",
       "      <td>30539.000000</td>\n",
       "      <td>30015.000000</td>\n",
       "      <td>35116.000000</td>\n",
       "      <td>35136.000000</td>\n",
       "    </tr>\n",
       "  </tbody>\n",
       "</table>\n",
       "</div>"
      ],
      "text/plain": [
       "       capacity_mw    latitude   longitude  commissioning_year  \\\n",
       "count   907.000000  861.000000  861.000000          527.000000   \n",
       "mean    326.223755   21.197918   77.464907         1997.091082   \n",
       "std     590.085456    6.239612    4.939316           17.082868   \n",
       "min       0.000000    8.168900   68.644700         1927.000000   \n",
       "25%      16.725000   16.773900   74.256200         1988.000000   \n",
       "50%      59.200000   21.780000   76.719500         2001.000000   \n",
       "75%     385.250000   25.512400   79.440800         2012.000000   \n",
       "max    4760.000000   34.649000   95.408000         2018.000000   \n",
       "\n",
       "       year_of_capacity_data  generation_gwh_2014  generation_gwh_2015  \\\n",
       "count                  519.0           398.000000           422.000000   \n",
       "mean                  2019.0          2431.823590          2428.226946   \n",
       "std                      0.0          4026.440035          4194.596959   \n",
       "min                   2019.0             0.000000             0.000000   \n",
       "25%                   2019.0           223.557672           176.381063   \n",
       "50%                   2019.0           801.123775           711.181225   \n",
       "75%                   2019.0          3035.306250          3084.121250   \n",
       "max                   2019.0         28127.000000         30539.000000   \n",
       "\n",
       "       generation_gwh_2016  generation_gwh_2017  generation_gwh_2018  \n",
       "count           434.000000           440.000000           448.000000  \n",
       "mean           2467.936859          2547.759305          2600.804099  \n",
       "std            4162.884308          4196.991169          4314.880456  \n",
       "min               0.000000             0.000000             0.000000  \n",
       "25%             188.285252           177.874930           193.378250  \n",
       "50%             737.205450           817.977250           751.644375  \n",
       "75%            3282.861313          3275.690475          3143.535900  \n",
       "max           30015.000000         35116.000000         35136.000000  "
      ]
     },
     "execution_count": 14,
     "metadata": {},
     "output_type": "execute_result"
    }
   ],
   "source": [
    "df.describe()"
   ]
  },
  {
   "cell_type": "code",
   "execution_count": 15,
   "id": "e3090e5e",
   "metadata": {},
   "outputs": [
    {
     "data": {
      "text/plain": [
       "country                    1\n",
       "country_long               1\n",
       "name                     907\n",
       "capacity_mw              361\n",
       "latitude                 836\n",
       "longitude                827\n",
       "primary_fuel               8\n",
       "commissioning_year        73\n",
       "source                   191\n",
       "url                      304\n",
       "geolocation_source         3\n",
       "year_of_capacity_data      1\n",
       "generation_gwh_2014      371\n",
       "generation_gwh_2015      396\n",
       "generation_gwh_2016      403\n",
       "generation_gwh_2017      408\n",
       "generation_gwh_2018      410\n",
       "dtype: int64"
      ]
     },
     "execution_count": 15,
     "metadata": {},
     "output_type": "execute_result"
    }
   ],
   "source": [
    "df.nunique()"
   ]
  },
  {
   "cell_type": "code",
   "execution_count": 16,
   "id": "3366eaec",
   "metadata": {},
   "outputs": [
    {
     "data": {
      "text/plain": [
       "907"
      ]
     },
     "execution_count": 16,
     "metadata": {},
     "output_type": "execute_result"
    }
   ],
   "source": [
    "df['name'].nunique()"
   ]
  },
  {
   "cell_type": "code",
   "execution_count": 17,
   "id": "f73baef2",
   "metadata": {},
   "outputs": [],
   "source": [
    "df.drop(['name'],axis=1,inplace=True)\n",
    "#Dropping colmn name since no use..."
   ]
  },
  {
   "cell_type": "code",
   "execution_count": 18,
   "id": "004a6431",
   "metadata": {},
   "outputs": [
    {
     "data": {
      "text/plain": [
       "0      http://www.nrel.gov/csp/solarpaces/project_det...\n",
       "1                        http://www.ultratechcement.com/\n",
       "2      https://cdm.unfccc.int/Projects/DB/DNV-CUK1328...\n",
       "3                                 http://www.cea.nic.in/\n",
       "4                                 http://www.cea.nic.in/\n",
       "                             ...                        \n",
       "902                               http://www.cea.nic.in/\n",
       "903                            http://karnatakapower.com\n",
       "904    https://cdm.unfccc.int/Projects/DB/TUEV-RHEIN1...\n",
       "905                             http://www.hzlindia.com/\n",
       "906    https://cdm.unfccc.int/Projects/DB/RWTUV134503...\n",
       "Name: url, Length: 907, dtype: object"
      ]
     },
     "execution_count": 18,
     "metadata": {},
     "output_type": "execute_result"
    }
   ],
   "source": [
    "df.url"
   ]
  },
  {
   "cell_type": "code",
   "execution_count": 19,
   "id": "71cdc60a",
   "metadata": {},
   "outputs": [
    {
     "data": {
      "text/plain": [
       "304"
      ]
     },
     "execution_count": 19,
     "metadata": {},
     "output_type": "execute_result"
    }
   ],
   "source": [
    "df['url'].nunique()"
   ]
  },
  {
   "cell_type": "code",
   "execution_count": 20,
   "id": "c22a1437",
   "metadata": {},
   "outputs": [],
   "source": [
    "df.drop(['url'],axis=1,inplace=True)\n",
    "#Dropping colmn name url..."
   ]
  },
  {
   "cell_type": "code",
   "execution_count": 21,
   "id": "8032400c",
   "metadata": {},
   "outputs": [
    {
     "data": {
      "text/plain": [
       "19"
      ]
     },
     "execution_count": 21,
     "metadata": {},
     "output_type": "execute_result"
    }
   ],
   "source": [
    "df.geolocation_source.isnull().sum()"
   ]
  },
  {
   "cell_type": "code",
   "execution_count": 22,
   "id": "6da2dfbc",
   "metadata": {},
   "outputs": [],
   "source": [
    "df['geolocation_source'].fillna(df['geolocation_source'].mode()[0], inplace=True)\n",
    "#Filling Nan"
   ]
  },
  {
   "cell_type": "code",
   "execution_count": 23,
   "id": "97f44d0b",
   "metadata": {},
   "outputs": [
    {
     "data": {
      "text/plain": [
       "0"
      ]
     },
     "execution_count": 23,
     "metadata": {},
     "output_type": "execute_result"
    }
   ],
   "source": [
    "df.geolocation_source.isnull().sum()"
   ]
  },
  {
   "cell_type": "code",
   "execution_count": 24,
   "id": "5e4fe881",
   "metadata": {},
   "outputs": [
    {
     "data": {
      "text/html": [
       "<div>\n",
       "<style scoped>\n",
       "    .dataframe tbody tr th:only-of-type {\n",
       "        vertical-align: middle;\n",
       "    }\n",
       "\n",
       "    .dataframe tbody tr th {\n",
       "        vertical-align: top;\n",
       "    }\n",
       "\n",
       "    .dataframe thead th {\n",
       "        text-align: right;\n",
       "    }\n",
       "</style>\n",
       "<table border=\"1\" class=\"dataframe\">\n",
       "  <thead>\n",
       "    <tr style=\"text-align: right;\">\n",
       "      <th></th>\n",
       "      <th>country</th>\n",
       "      <th>country_long</th>\n",
       "      <th>capacity_mw</th>\n",
       "      <th>latitude</th>\n",
       "      <th>longitude</th>\n",
       "      <th>primary_fuel</th>\n",
       "      <th>commissioning_year</th>\n",
       "      <th>source</th>\n",
       "      <th>geolocation_source</th>\n",
       "      <th>year_of_capacity_data</th>\n",
       "      <th>generation_gwh_2014</th>\n",
       "      <th>generation_gwh_2015</th>\n",
       "      <th>generation_gwh_2016</th>\n",
       "      <th>generation_gwh_2017</th>\n",
       "      <th>generation_gwh_2018</th>\n",
       "    </tr>\n",
       "  </thead>\n",
       "  <tbody>\n",
       "    <tr>\n",
       "      <th>0</th>\n",
       "      <td>IND</td>\n",
       "      <td>India</td>\n",
       "      <td>2.5</td>\n",
       "      <td>28.1839</td>\n",
       "      <td>73.2407</td>\n",
       "      <td>Solar</td>\n",
       "      <td>2011.0</td>\n",
       "      <td>National Renewable Energy Laboratory</td>\n",
       "      <td>National Renewable Energy Laboratory</td>\n",
       "      <td>NaN</td>\n",
       "      <td>NaN</td>\n",
       "      <td>NaN</td>\n",
       "      <td>NaN</td>\n",
       "      <td>NaN</td>\n",
       "      <td>NaN</td>\n",
       "    </tr>\n",
       "    <tr>\n",
       "      <th>1</th>\n",
       "      <td>IND</td>\n",
       "      <td>India</td>\n",
       "      <td>98.0</td>\n",
       "      <td>24.7663</td>\n",
       "      <td>74.6090</td>\n",
       "      <td>Coal</td>\n",
       "      <td>NaN</td>\n",
       "      <td>Ultratech Cement ltd</td>\n",
       "      <td>WRI</td>\n",
       "      <td>NaN</td>\n",
       "      <td>NaN</td>\n",
       "      <td>NaN</td>\n",
       "      <td>NaN</td>\n",
       "      <td>NaN</td>\n",
       "      <td>NaN</td>\n",
       "    </tr>\n",
       "    <tr>\n",
       "      <th>2</th>\n",
       "      <td>IND</td>\n",
       "      <td>India</td>\n",
       "      <td>39.2</td>\n",
       "      <td>21.9038</td>\n",
       "      <td>69.3732</td>\n",
       "      <td>Wind</td>\n",
       "      <td>NaN</td>\n",
       "      <td>CDM</td>\n",
       "      <td>WRI</td>\n",
       "      <td>NaN</td>\n",
       "      <td>NaN</td>\n",
       "      <td>NaN</td>\n",
       "      <td>NaN</td>\n",
       "      <td>NaN</td>\n",
       "      <td>NaN</td>\n",
       "    </tr>\n",
       "    <tr>\n",
       "      <th>3</th>\n",
       "      <td>IND</td>\n",
       "      <td>India</td>\n",
       "      <td>135.0</td>\n",
       "      <td>23.8712</td>\n",
       "      <td>91.3602</td>\n",
       "      <td>Gas</td>\n",
       "      <td>2004.0</td>\n",
       "      <td>Central Electricity Authority</td>\n",
       "      <td>WRI</td>\n",
       "      <td>2019.0</td>\n",
       "      <td>617.789264</td>\n",
       "      <td>843.7470</td>\n",
       "      <td>886.004428</td>\n",
       "      <td>663.774500</td>\n",
       "      <td>626.239128</td>\n",
       "    </tr>\n",
       "    <tr>\n",
       "      <th>4</th>\n",
       "      <td>IND</td>\n",
       "      <td>India</td>\n",
       "      <td>1800.0</td>\n",
       "      <td>21.9603</td>\n",
       "      <td>82.4091</td>\n",
       "      <td>Coal</td>\n",
       "      <td>2015.0</td>\n",
       "      <td>Central Electricity Authority</td>\n",
       "      <td>WRI</td>\n",
       "      <td>2019.0</td>\n",
       "      <td>3035.550000</td>\n",
       "      <td>5916.3700</td>\n",
       "      <td>6243.000000</td>\n",
       "      <td>5385.579736</td>\n",
       "      <td>7279.000000</td>\n",
       "    </tr>\n",
       "    <tr>\n",
       "      <th>5</th>\n",
       "      <td>IND</td>\n",
       "      <td>India</td>\n",
       "      <td>250.0</td>\n",
       "      <td>23.7689</td>\n",
       "      <td>68.6447</td>\n",
       "      <td>Coal</td>\n",
       "      <td>2005.0</td>\n",
       "      <td>Central Electricity Authority</td>\n",
       "      <td>WRI</td>\n",
       "      <td>2019.0</td>\n",
       "      <td>1153.421000</td>\n",
       "      <td>1208.8520</td>\n",
       "      <td>1175.765000</td>\n",
       "      <td>1147.913000</td>\n",
       "      <td>976.655000</td>\n",
       "    </tr>\n",
       "    <tr>\n",
       "      <th>6</th>\n",
       "      <td>IND</td>\n",
       "      <td>India</td>\n",
       "      <td>60.0</td>\n",
       "      <td>10.4547</td>\n",
       "      <td>77.0078</td>\n",
       "      <td>Hydro</td>\n",
       "      <td>1970.0</td>\n",
       "      <td>Central Electricity Authority</td>\n",
       "      <td>WRI</td>\n",
       "      <td>2019.0</td>\n",
       "      <td>157.558250</td>\n",
       "      <td>152.1952</td>\n",
       "      <td>61.421350</td>\n",
       "      <td>89.629600</td>\n",
       "      <td>48.327150</td>\n",
       "    </tr>\n",
       "    <tr>\n",
       "      <th>7</th>\n",
       "      <td>IND</td>\n",
       "      <td>India</td>\n",
       "      <td>192.0</td>\n",
       "      <td>32.2258</td>\n",
       "      <td>77.2070</td>\n",
       "      <td>Hydro</td>\n",
       "      <td>2010.0</td>\n",
       "      <td>Central Electricity Authority</td>\n",
       "      <td>WRI</td>\n",
       "      <td>2019.0</td>\n",
       "      <td>674.391100</td>\n",
       "      <td>721.3352</td>\n",
       "      <td>675.724400</td>\n",
       "      <td>679.594950</td>\n",
       "      <td>579.318850</td>\n",
       "    </tr>\n",
       "    <tr>\n",
       "      <th>8</th>\n",
       "      <td>IND</td>\n",
       "      <td>India</td>\n",
       "      <td>290.0</td>\n",
       "      <td>16.3300</td>\n",
       "      <td>75.8863</td>\n",
       "      <td>Hydro</td>\n",
       "      <td>2004.0</td>\n",
       "      <td>Central Electricity Authority</td>\n",
       "      <td>WRI</td>\n",
       "      <td>2019.0</td>\n",
       "      <td>480.594950</td>\n",
       "      <td>144.4342</td>\n",
       "      <td>402.029750</td>\n",
       "      <td>439.372100</td>\n",
       "      <td>406.377900</td>\n",
       "    </tr>\n",
       "    <tr>\n",
       "      <th>9</th>\n",
       "      <td>IND</td>\n",
       "      <td>India</td>\n",
       "      <td>210.0</td>\n",
       "      <td>23.1642</td>\n",
       "      <td>81.6373</td>\n",
       "      <td>Coal</td>\n",
       "      <td>2008.0</td>\n",
       "      <td>Central Electricity Authority</td>\n",
       "      <td>WRI</td>\n",
       "      <td>2019.0</td>\n",
       "      <td>1887.904000</td>\n",
       "      <td>1643.0460</td>\n",
       "      <td>1338.093000</td>\n",
       "      <td>1563.457000</td>\n",
       "      <td>1487.880000</td>\n",
       "    </tr>\n",
       "  </tbody>\n",
       "</table>\n",
       "</div>"
      ],
      "text/plain": [
       "  country country_long  capacity_mw  latitude  longitude primary_fuel  \\\n",
       "0     IND        India          2.5   28.1839    73.2407        Solar   \n",
       "1     IND        India         98.0   24.7663    74.6090         Coal   \n",
       "2     IND        India         39.2   21.9038    69.3732         Wind   \n",
       "3     IND        India        135.0   23.8712    91.3602          Gas   \n",
       "4     IND        India       1800.0   21.9603    82.4091         Coal   \n",
       "5     IND        India        250.0   23.7689    68.6447         Coal   \n",
       "6     IND        India         60.0   10.4547    77.0078        Hydro   \n",
       "7     IND        India        192.0   32.2258    77.2070        Hydro   \n",
       "8     IND        India        290.0   16.3300    75.8863        Hydro   \n",
       "9     IND        India        210.0   23.1642    81.6373         Coal   \n",
       "\n",
       "   commissioning_year                                source  \\\n",
       "0              2011.0  National Renewable Energy Laboratory   \n",
       "1                 NaN                  Ultratech Cement ltd   \n",
       "2                 NaN                                   CDM   \n",
       "3              2004.0         Central Electricity Authority   \n",
       "4              2015.0         Central Electricity Authority   \n",
       "5              2005.0         Central Electricity Authority   \n",
       "6              1970.0         Central Electricity Authority   \n",
       "7              2010.0         Central Electricity Authority   \n",
       "8              2004.0         Central Electricity Authority   \n",
       "9              2008.0         Central Electricity Authority   \n",
       "\n",
       "                     geolocation_source  year_of_capacity_data  \\\n",
       "0  National Renewable Energy Laboratory                    NaN   \n",
       "1                                   WRI                    NaN   \n",
       "2                                   WRI                    NaN   \n",
       "3                                   WRI                 2019.0   \n",
       "4                                   WRI                 2019.0   \n",
       "5                                   WRI                 2019.0   \n",
       "6                                   WRI                 2019.0   \n",
       "7                                   WRI                 2019.0   \n",
       "8                                   WRI                 2019.0   \n",
       "9                                   WRI                 2019.0   \n",
       "\n",
       "   generation_gwh_2014  generation_gwh_2015  generation_gwh_2016  \\\n",
       "0                  NaN                  NaN                  NaN   \n",
       "1                  NaN                  NaN                  NaN   \n",
       "2                  NaN                  NaN                  NaN   \n",
       "3           617.789264             843.7470           886.004428   \n",
       "4          3035.550000            5916.3700          6243.000000   \n",
       "5          1153.421000            1208.8520          1175.765000   \n",
       "6           157.558250             152.1952            61.421350   \n",
       "7           674.391100             721.3352           675.724400   \n",
       "8           480.594950             144.4342           402.029750   \n",
       "9          1887.904000            1643.0460          1338.093000   \n",
       "\n",
       "   generation_gwh_2017  generation_gwh_2018  \n",
       "0                  NaN                  NaN  \n",
       "1                  NaN                  NaN  \n",
       "2                  NaN                  NaN  \n",
       "3           663.774500           626.239128  \n",
       "4          5385.579736          7279.000000  \n",
       "5          1147.913000           976.655000  \n",
       "6            89.629600            48.327150  \n",
       "7           679.594950           579.318850  \n",
       "8           439.372100           406.377900  \n",
       "9          1563.457000          1487.880000  "
      ]
     },
     "execution_count": 24,
     "metadata": {},
     "output_type": "execute_result"
    }
   ],
   "source": [
    "df.head(10)"
   ]
  },
  {
   "cell_type": "code",
   "execution_count": 25,
   "id": "3a305740",
   "metadata": {},
   "outputs": [],
   "source": [
    "df.drop('year_of_capacity_data',axis=1,inplace=True)\n",
    "#Dropping colm year_of_cap_data..."
   ]
  },
  {
   "cell_type": "code",
   "execution_count": 26,
   "id": "7057b3d5",
   "metadata": {},
   "outputs": [
    {
     "data": {
      "text/plain": [
       "country                  0\n",
       "country_long             0\n",
       "capacity_mw              0\n",
       "latitude                46\n",
       "longitude               46\n",
       "primary_fuel             0\n",
       "commissioning_year     380\n",
       "source                   0\n",
       "geolocation_source       0\n",
       "generation_gwh_2014    509\n",
       "generation_gwh_2015    485\n",
       "generation_gwh_2016    473\n",
       "generation_gwh_2017    467\n",
       "generation_gwh_2018    459\n",
       "dtype: int64"
      ]
     },
     "execution_count": 26,
     "metadata": {},
     "output_type": "execute_result"
    }
   ],
   "source": [
    "df.isnull().sum()"
   ]
  },
  {
   "cell_type": "raw",
   "id": "7d9f27b5",
   "metadata": {},
   "source": [
    "#Rest of the columns are numerical datas..."
   ]
  },
  {
   "cell_type": "code",
   "execution_count": 27,
   "id": "c4f8b408",
   "metadata": {},
   "outputs": [],
   "source": [
    "df.fillna(df.median()[0], inplace=True)\n",
    "#Filling the NaN in numerical columns...."
   ]
  },
  {
   "cell_type": "code",
   "execution_count": 28,
   "id": "6f8367db",
   "metadata": {},
   "outputs": [
    {
     "data": {
      "text/plain": [
       "country                0\n",
       "country_long           0\n",
       "capacity_mw            0\n",
       "latitude               0\n",
       "longitude              0\n",
       "primary_fuel           0\n",
       "commissioning_year     0\n",
       "source                 0\n",
       "geolocation_source     0\n",
       "generation_gwh_2014    0\n",
       "generation_gwh_2015    0\n",
       "generation_gwh_2016    0\n",
       "generation_gwh_2017    0\n",
       "generation_gwh_2018    0\n",
       "dtype: int64"
      ]
     },
     "execution_count": 28,
     "metadata": {},
     "output_type": "execute_result"
    }
   ],
   "source": [
    "df.isnull().sum()\n",
    "#Removed NaN.."
   ]
  },
  {
   "cell_type": "raw",
   "id": "5124b4c6",
   "metadata": {},
   "source": [
    "Country and Country_long has only one data as value so dropping both columns.."
   ]
  },
  {
   "cell_type": "code",
   "execution_count": 29,
   "id": "1bca422b",
   "metadata": {},
   "outputs": [],
   "source": [
    "df.drop(['country','country_long'],axis=1,inplace=True)"
   ]
  },
  {
   "cell_type": "code",
   "execution_count": 30,
   "id": "56c1b1e1",
   "metadata": {},
   "outputs": [
    {
     "data": {
      "text/plain": [
       "Index(['capacity_mw', 'latitude', 'longitude', 'primary_fuel',\n",
       "       'commissioning_year', 'source', 'geolocation_source',\n",
       "       'generation_gwh_2014', 'generation_gwh_2015', 'generation_gwh_2016',\n",
       "       'generation_gwh_2017', 'generation_gwh_2018'],\n",
       "      dtype='object')"
      ]
     },
     "execution_count": 30,
     "metadata": {},
     "output_type": "execute_result"
    }
   ],
   "source": [
    "df.columns"
   ]
  },
  {
   "cell_type": "code",
   "execution_count": 31,
   "id": "4b3c3941",
   "metadata": {},
   "outputs": [
    {
     "name": "stdout",
     "output_type": "stream",
     "text": [
      "<class 'pandas.core.frame.DataFrame'>\n",
      "RangeIndex: 907 entries, 0 to 906\n",
      "Data columns (total 12 columns):\n",
      " #   Column               Non-Null Count  Dtype  \n",
      "---  ------               --------------  -----  \n",
      " 0   capacity_mw          907 non-null    float64\n",
      " 1   latitude             907 non-null    float64\n",
      " 2   longitude            907 non-null    float64\n",
      " 3   primary_fuel         907 non-null    object \n",
      " 4   commissioning_year   907 non-null    float64\n",
      " 5   source               907 non-null    object \n",
      " 6   geolocation_source   907 non-null    object \n",
      " 7   generation_gwh_2014  907 non-null    float64\n",
      " 8   generation_gwh_2015  907 non-null    float64\n",
      " 9   generation_gwh_2016  907 non-null    float64\n",
      " 10  generation_gwh_2017  907 non-null    float64\n",
      " 11  generation_gwh_2018  907 non-null    float64\n",
      "dtypes: float64(9), object(3)\n",
      "memory usage: 85.2+ KB\n"
     ]
    }
   ],
   "source": [
    "df.info()"
   ]
  },
  {
   "cell_type": "code",
   "execution_count": 32,
   "id": "d573503b",
   "metadata": {},
   "outputs": [
    {
     "data": {
      "text/plain": [
       "0      Solar\n",
       "1       Coal\n",
       "2       Wind\n",
       "3        Gas\n",
       "4       Coal\n",
       "       ...  \n",
       "902     Coal\n",
       "903    Solar\n",
       "904     Wind\n",
       "905     Coal\n",
       "906     Wind\n",
       "Name: primary_fuel, Length: 907, dtype: object"
      ]
     },
     "execution_count": 32,
     "metadata": {},
     "output_type": "execute_result"
    }
   ],
   "source": [
    "df.primary_fuel"
   ]
  },
  {
   "cell_type": "code",
   "execution_count": 33,
   "id": "e8412577",
   "metadata": {},
   "outputs": [
    {
     "data": {
      "text/plain": [
       "<AxesSubplot:xlabel='primary_fuel', ylabel='count'>"
      ]
     },
     "execution_count": 33,
     "metadata": {},
     "output_type": "execute_result"
    },
    {
     "data": {
      "image/png": "[encoded data removed]",
      "text/plain": [
       "<Figure size 432x288 with 1 Axes>"
      ]
     },
     "metadata": {},
     "output_type": "display_data"
    }
   ],
   "source": [
    "sns.set_style(\"whitegrid\")\n",
    "sns.countplot(x=\"primary_fuel\", data=df)"
   ]
  },
  {
   "cell_type": "markdown",
   "id": "0feffa97",
   "metadata": {},
   "source": [
    "# EDA"
   ]
  },
  {
   "cell_type": "code",
   "execution_count": 34,
   "id": "971d9478",
   "metadata": {},
   "outputs": [
    {
     "data": {
      "text/plain": [
       "<function matplotlib.pyplot.show(close=None, block=None)>"
      ]
     },
     "execution_count": 34,
     "metadata": {},
     "output_type": "execute_result"
    },
    {
     "data": {
      "image/png": "[encoded data removed]",
      "text/plain": [
       "<Figure size 864x1080 with 2 Axes>"
      ]
     },
     "metadata": {},
     "output_type": "display_data"
    }
   ],
   "source": [
    "corr=df.corr().abs()\n",
    "plt.figure(figsize=(12,15))\n",
    "sns.heatmap(corr,annot=True,annot_kws={'size':12})\n",
    "plt.title(\"Heatmap to find corelation\")\n",
    "plt.show\n",
    "#HEATMAP to find corelation.."
   ]
  },
  {
   "cell_type": "raw",
   "id": "fac79b45",
   "metadata": {},
   "source": [
    "Here we notice generation_gwh_2014,2015,2016,2017,2018 are highly corelated to capacity_mw"
   ]
  },
  {
   "cell_type": "code",
   "execution_count": 35,
   "id": "6d957f94",
   "metadata": {},
   "outputs": [
    {
     "data": {
      "image/png": "[encoded data removed]",
      "text/plain": [
       "<Figure size 432x288 with 1 Axes>"
      ]
     },
     "metadata": {},
     "output_type": "display_data"
    }
   ],
   "source": [
    "plt.style.use('ggplot')\n",
    "sns.scatterplot(x = \"capacity_mw\", y = \"generation_gwh_2014\", data = df)\n",
    "plt.show()"
   ]
  },
  {
   "cell_type": "code",
   "execution_count": 36,
   "id": "6f886ee1",
   "metadata": {},
   "outputs": [
    {
     "data": {
      "image/png": "[encoded data removed]",
      "text/plain": [
       "<Figure size 432x288 with 1 Axes>"
      ]
     },
     "metadata": {},
     "output_type": "display_data"
    }
   ],
   "source": [
    "plt.style.use('ggplot')\n",
    "sns.scatterplot(x = \"capacity_mw\", y = \"generation_gwh_2015\", data = df)\n",
    "plt.show()"
   ]
  },
  {
   "cell_type": "code",
   "execution_count": 37,
   "id": "8ffd9e79",
   "metadata": {},
   "outputs": [
    {
     "data": {
      "image/png": "[encoded data removed]",
      "text/plain": [
       "<Figure size 432x288 with 1 Axes>"
      ]
     },
     "metadata": {},
     "output_type": "display_data"
    }
   ],
   "source": [
    "plt.style.use('ggplot')\n",
    "sns.scatterplot(x = \"capacity_mw\", y = \"generation_gwh_2016\", data = df)\n",
    "plt.show()"
   ]
  },
  {
   "cell_type": "code",
   "execution_count": 38,
   "id": "55d547a6",
   "metadata": {},
   "outputs": [
    {
     "data": {
      "image/png": "[encoded data removed]",
      "text/plain": [
       "<Figure size 432x288 with 1 Axes>"
      ]
     },
     "metadata": {},
     "output_type": "display_data"
    }
   ],
   "source": [
    "plt.style.use('ggplot')\n",
    "sns.scatterplot(x = \"capacity_mw\", y = \"generation_gwh_2017\", data = df)\n",
    "plt.show()"
   ]
  },
  {
   "cell_type": "code",
   "execution_count": 39,
   "id": "5b133a1c",
   "metadata": {},
   "outputs": [
    {
     "data": {
      "image/png": "[encoded data removed]",
      "text/plain": [
       "<Figure size 432x288 with 1 Axes>"
      ]
     },
     "metadata": {},
     "output_type": "display_data"
    }
   ],
   "source": [
    "plt.style.use('ggplot')\n",
    "sns.scatterplot(x = \"capacity_mw\", y = \"generation_gwh_2018\", data = df)\n",
    "plt.show()"
   ]
  },
  {
   "cell_type": "code",
   "execution_count": 40,
   "id": "141ed966",
   "metadata": {},
   "outputs": [
    {
     "data": {
      "image/png": "[encoded data removed]",
      "text/plain": [
       "<Figure size 432x288 with 1 Axes>"
      ]
     },
     "metadata": {},
     "output_type": "display_data"
    }
   ],
   "source": [
    "plt.style.use('ggplot')\n",
    "sns.scatterplot(x = \"capacity_mw\", y = \"latitude\", data = df)\n",
    "plt.show()"
   ]
  },
  {
   "cell_type": "code",
   "execution_count": 41,
   "id": "b4c0aef8",
   "metadata": {},
   "outputs": [
    {
     "data": {
      "image/png": "[encoded data removed]",
      "text/plain": [
       "<Figure size 432x288 with 1 Axes>"
      ]
     },
     "metadata": {},
     "output_type": "display_data"
    }
   ],
   "source": [
    "plt.style.use('ggplot')\n",
    "sns.scatterplot(x = \"capacity_mw\", y = \"longitude\", data = df)\n",
    "plt.show()"
   ]
  },
  {
   "cell_type": "code",
   "execution_count": 42,
   "id": "f1a2b167",
   "metadata": {},
   "outputs": [
    {
     "data": {
      "image/png": "[encoded data removed]",
      "text/plain": [
       "<Figure size 432x288 with 1 Axes>"
      ]
     },
     "metadata": {},
     "output_type": "display_data"
    }
   ],
   "source": [
    "plt.style.use('ggplot')\n",
    "sns.scatterplot(x = \"capacity_mw\", y = \"commissioning_year\", data = df)\n",
    "plt.show()"
   ]
  },
  {
   "cell_type": "code",
   "execution_count": 43,
   "id": "9cea3965",
   "metadata": {},
   "outputs": [
    {
     "data": {
      "image/png": "[encoded data removed]",
      "text/plain": [
       "<Figure size 360x360 with 1 Axes>"
      ]
     },
     "metadata": {},
     "output_type": "display_data"
    }
   ],
   "source": [
    "plt.style.use('seaborn-pastel')\n",
    "sns.catplot(x = \"primary_fuel\", y = \"capacity_mw\", data = df)\n",
    "plt.show()"
   ]
  },
  {
   "cell_type": "code",
   "execution_count": 44,
   "id": "784bcb2b",
   "metadata": {},
   "outputs": [
    {
     "data": {
      "image/png": "[encoded data removed]",
      "text/plain": [
       "<Figure size 360x360 with 1 Axes>"
      ]
     },
     "metadata": {},
     "output_type": "display_data"
    }
   ],
   "source": [
    "sns.catplot(x = \"primary_fuel\", y = \"latitude\", data = df)\n",
    "plt.show()"
   ]
  },
  {
   "cell_type": "code",
   "execution_count": 45,
   "id": "c577a86d",
   "metadata": {},
   "outputs": [
    {
     "data": {
      "image/png": "[encoded data removed]",
      "text/plain": [
       "<Figure size 360x360 with 1 Axes>"
      ]
     },
     "metadata": {},
     "output_type": "display_data"
    }
   ],
   "source": [
    "sns.catplot(x = \"primary_fuel\", y = \"latitude\", data = df)\n",
    "plt.show()"
   ]
  },
  {
   "cell_type": "code",
   "execution_count": 46,
   "id": "70b44e7f",
   "metadata": {},
   "outputs": [
    {
     "data": {
      "text/plain": [
       "<function matplotlib.pyplot.show(close=None, block=None)>"
      ]
     },
     "execution_count": 46,
     "metadata": {},
     "output_type": "execute_result"
    },
    {
     "data": {
      "image/png": "[encoded data removed]",
      "text/plain": [
       "<Figure size 360x360 with 1 Axes>"
      ]
     },
     "metadata": {},
     "output_type": "display_data"
    }
   ],
   "source": [
    "sns.catplot(x='primary_fuel',y='generation_gwh_2014',data=df)\n",
    "plt.show"
   ]
  },
  {
   "cell_type": "code",
   "execution_count": 47,
   "id": "3a026973",
   "metadata": {},
   "outputs": [
    {
     "data": {
      "text/plain": [
       "<function matplotlib.pyplot.show(close=None, block=None)>"
      ]
     },
     "execution_count": 47,
     "metadata": {},
     "output_type": "execute_result"
    },
    {
     "data": {
      "image/png": "[encoded data removed]",
      "text/plain": [
       "<Figure size 360x360 with 1 Axes>"
      ]
     },
     "metadata": {},
     "output_type": "display_data"
    }
   ],
   "source": [
    "sns.catplot(x='primary_fuel',y='generation_gwh_2015',data=df)\n",
    "plt.show"
   ]
  },
  {
   "cell_type": "code",
   "execution_count": 48,
   "id": "4bd90a34",
   "metadata": {},
   "outputs": [
    {
     "data": {
      "text/plain": [
       "<function matplotlib.pyplot.show(close=None, block=None)>"
      ]
     },
     "execution_count": 48,
     "metadata": {},
     "output_type": "execute_result"
    },
    {
     "data": {
      "image/png": "[encoded data removed]",
      "text/plain": [
       "<Figure size 360x360 with 1 Axes>"
      ]
     },
     "metadata": {},
     "output_type": "display_data"
    }
   ],
   "source": [
    "sns.catplot(x='primary_fuel',y='generation_gwh_2016',data=df)\n",
    "plt.show"
   ]
  },
  {
   "cell_type": "code",
   "execution_count": 49,
   "id": "94cb8fa1",
   "metadata": {},
   "outputs": [
    {
     "data": {
      "text/plain": [
       "<function matplotlib.pyplot.show(close=None, block=None)>"
      ]
     },
     "execution_count": 49,
     "metadata": {},
     "output_type": "execute_result"
    },
    {
     "data": {
      "image/png": "[encoded data removed]",
      "text/plain": [
       "<Figure size 360x360 with 1 Axes>"
      ]
     },
     "metadata": {},
     "output_type": "display_data"
    }
   ],
   "source": [
    "sns.catplot(x='primary_fuel',y='generation_gwh_2017',data=df)\n",
    "plt.show"
   ]
  },
  {
   "cell_type": "code",
   "execution_count": 50,
   "id": "c5a0883b",
   "metadata": {},
   "outputs": [
    {
     "data": {
      "text/plain": [
       "<function matplotlib.pyplot.show(close=None, block=None)>"
      ]
     },
     "execution_count": 50,
     "metadata": {},
     "output_type": "execute_result"
    },
    {
     "data": {
      "image/png": "[encoded data removed]",
      "text/plain": [
       "<Figure size 360x360 with 1 Axes>"
      ]
     },
     "metadata": {},
     "output_type": "display_data"
    }
   ],
   "source": [
    "sns.catplot(x='primary_fuel',y='generation_gwh_2018',data=df)\n",
    "plt.show"
   ]
  },
  {
   "cell_type": "markdown",
   "id": "000bd5f0",
   "metadata": {},
   "source": [
    "# ENCODING-LABEL ENCODER"
   ]
  },
  {
   "cell_type": "code",
   "execution_count": 51,
   "id": "b5bb0ab7",
   "metadata": {},
   "outputs": [],
   "source": [
    "from sklearn.preprocessing import LabelEncoder"
   ]
  },
  {
   "cell_type": "code",
   "execution_count": 52,
   "id": "597f76de",
   "metadata": {},
   "outputs": [
    {
     "name": "stdout",
     "output_type": "stream",
     "text": [
      "<class 'pandas.core.frame.DataFrame'>\n",
      "RangeIndex: 907 entries, 0 to 906\n",
      "Data columns (total 12 columns):\n",
      " #   Column               Non-Null Count  Dtype  \n",
      "---  ------               --------------  -----  \n",
      " 0   capacity_mw          907 non-null    float64\n",
      " 1   latitude             907 non-null    float64\n",
      " 2   longitude            907 non-null    float64\n",
      " 3   primary_fuel         907 non-null    object \n",
      " 4   commissioning_year   907 non-null    float64\n",
      " 5   source               907 non-null    object \n",
      " 6   geolocation_source   907 non-null    object \n",
      " 7   generation_gwh_2014  907 non-null    float64\n",
      " 8   generation_gwh_2015  907 non-null    float64\n",
      " 9   generation_gwh_2016  907 non-null    float64\n",
      " 10  generation_gwh_2017  907 non-null    float64\n",
      " 11  generation_gwh_2018  907 non-null    float64\n",
      "dtypes: float64(9), object(3)\n",
      "memory usage: 85.2+ KB\n"
     ]
    }
   ],
   "source": [
    "df.info()"
   ]
  },
  {
   "cell_type": "code",
   "execution_count": 53,
   "id": "c782acc2",
   "metadata": {},
   "outputs": [
    {
     "data": {
      "text/plain": [
       "array(['Solar', 'Coal', 'Wind', 'Gas', 'Hydro', 'Biomass', 'Oil',\n",
       "       'Nuclear'], dtype=object)"
      ]
     },
     "execution_count": 53,
     "metadata": {},
     "output_type": "execute_result"
    }
   ],
   "source": [
    "df['primary_fuel'].unique()"
   ]
  },
  {
   "cell_type": "code",
   "execution_count": 54,
   "id": "b1c38841",
   "metadata": {},
   "outputs": [
    {
     "data": {
      "text/plain": [
       "array(['National Renewable Energy Laboratory', 'WRI', 'Industry About'],\n",
       "      dtype=object)"
      ]
     },
     "execution_count": 54,
     "metadata": {},
     "output_type": "execute_result"
    }
   ],
   "source": [
    "df['geolocation_source'].unique()"
   ]
  },
  {
   "cell_type": "code",
   "execution_count": 55,
   "id": "f418e75a",
   "metadata": {},
   "outputs": [],
   "source": [
    "lab_enc = LabelEncoder()\n",
    "df['primary_fuel'] = lab_enc.fit_transform(df['primary_fuel'])\n",
    "df['geolocation_source'] = lab_enc.fit_transform(df['geolocation_source'])\n",
    "df['source'] = lab_enc.fit_transform(df['source'])"
   ]
  },
  {
   "cell_type": "code",
   "execution_count": 56,
   "id": "523f4cf6",
   "metadata": {},
   "outputs": [
    {
     "data": {
      "text/plain": [
       "array([1, 2, 0])"
      ]
     },
     "execution_count": 56,
     "metadata": {},
     "output_type": "execute_result"
    }
   ],
   "source": [
    "df['geolocation_source'].unique()"
   ]
  },
  {
   "cell_type": "code",
   "execution_count": 57,
   "id": "ed53894e",
   "metadata": {},
   "outputs": [
    {
     "data": {
      "text/plain": [
       "array([6, 1, 7, 2, 3, 0, 5, 4])"
      ]
     },
     "execution_count": 57,
     "metadata": {},
     "output_type": "execute_result"
    }
   ],
   "source": [
    "df['primary_fuel'].unique()"
   ]
  },
  {
   "cell_type": "code",
   "execution_count": 58,
   "id": "d825987b",
   "metadata": {},
   "outputs": [
    {
     "data": {
      "text/plain": [
       "capacity_mw                AxesSubplot(0.125,0.71587;0.227941x0.16413)\n",
       "latitude                AxesSubplot(0.398529,0.71587;0.227941x0.16413)\n",
       "longitude               AxesSubplot(0.672059,0.71587;0.227941x0.16413)\n",
       "primary_fuel              AxesSubplot(0.125,0.518913;0.227941x0.16413)\n",
       "commissioning_year     AxesSubplot(0.398529,0.518913;0.227941x0.16413)\n",
       "source                 AxesSubplot(0.672059,0.518913;0.227941x0.16413)\n",
       "geolocation_source        AxesSubplot(0.125,0.321957;0.227941x0.16413)\n",
       "generation_gwh_2014    AxesSubplot(0.398529,0.321957;0.227941x0.16413)\n",
       "generation_gwh_2015    AxesSubplot(0.672059,0.321957;0.227941x0.16413)\n",
       "generation_gwh_2016          AxesSubplot(0.125,0.125;0.227941x0.16413)\n",
       "generation_gwh_2017       AxesSubplot(0.398529,0.125;0.227941x0.16413)\n",
       "generation_gwh_2018       AxesSubplot(0.672059,0.125;0.227941x0.16413)\n",
       "dtype: object"
      ]
     },
     "execution_count": 58,
     "metadata": {},
     "output_type": "execute_result"
    },
    {
     "data": {
      "image/png": "[encoded data removed]",
      "text/plain": [
       "<Figure size 1296x1728 with 12 Axes>"
      ]
     },
     "metadata": {},
     "output_type": "display_data"
    }
   ],
   "source": [
    "df.plot(kind='box',subplots=True,layout=(4,3),figsize=(18,24))"
   ]
  },
  {
   "cell_type": "markdown",
   "id": "f8b3b9f5",
   "metadata": {},
   "source": [
    "# Removing Outliers-Z Score"
   ]
  },
  {
   "cell_type": "code",
   "execution_count": 59,
   "id": "e9e21e13",
   "metadata": {},
   "outputs": [],
   "source": [
    "from scipy.stats import zscore"
   ]
  },
  {
   "cell_type": "raw",
   "id": "3fbe7417",
   "metadata": {},
   "source": [
    "Features that carries outliers are ..."
   ]
  },
  {
   "cell_type": "code",
   "execution_count": 60,
   "id": "dff62bb3",
   "metadata": {},
   "outputs": [
    {
     "name": "stdout",
     "output_type": "stream",
     "text": [
      "(array([ 15,  15,  15,  15,  15, 143, 143, 143, 143, 143, 143, 147, 158,\n",
      "       209, 209, 209, 209, 209, 209, 308, 308, 308, 308, 308, 308, 363,\n",
      "       364, 364, 364, 364, 364, 364, 375, 482, 482, 493, 493, 493, 493,\n",
      "       493, 493, 494, 494, 494, 494, 494, 494, 532, 623, 648, 648, 648,\n",
      "       648, 648, 648, 657, 657, 657, 657, 657, 657, 695, 695, 695, 695,\n",
      "       695, 695, 721, 721, 721, 721, 721, 724, 724, 724, 724, 724, 726,\n",
      "       726, 726, 726, 726, 726, 767, 786, 786, 786, 786, 786, 786, 788,\n",
      "       808, 808, 808, 808, 808, 808, 880, 880, 880, 880, 880, 880],\n",
      "      dtype=int64), array([1, 2, 3, 4, 5, 0, 1, 2, 3, 4, 5, 5, 0, 0, 1, 2, 3, 4, 5, 0, 1, 2,\n",
      "       3, 4, 5, 5, 0, 1, 2, 3, 4, 5, 5, 4, 5, 0, 1, 2, 3, 4, 5, 0, 1, 2,\n",
      "       3, 4, 5, 0, 0, 0, 1, 2, 3, 4, 5, 0, 1, 2, 3, 4, 5, 0, 1, 2, 3, 4,\n",
      "       5, 0, 1, 2, 3, 4, 0, 1, 2, 3, 4, 0, 1, 2, 3, 4, 5, 5, 0, 1, 2, 3,\n",
      "       4, 5, 5, 0, 1, 2, 3, 4, 5, 0, 1, 2, 3, 4, 5], dtype=int64))\n"
     ]
    }
   ],
   "source": [
    "z=np.abs(zscore(df[['generation_gwh_2014','generation_gwh_2015','generation_gwh_2016','generation_gwh_2017','generation_gwh_2018','capacity_mw']]))\n",
    "print(np.where(z>3))"
   ]
  },
  {
   "cell_type": "code",
   "execution_count": 61,
   "id": "119075e8",
   "metadata": {},
   "outputs": [],
   "source": [
    "z = np.abs(zscore(df[['generation_gwh_2014','generation_gwh_2015','generation_gwh_2016','generation_gwh_2017','generation_gwh_2018','capacity_mw']]))\n",
    "threshold = 3"
   ]
  },
  {
   "cell_type": "code",
   "execution_count": 62,
   "id": "5227fda7",
   "metadata": {},
   "outputs": [],
   "source": [
    "df1 = df[(z<3).all(axis = 1)]"
   ]
  },
  {
   "cell_type": "code",
   "execution_count": 63,
   "id": "34cfa88b",
   "metadata": {},
   "outputs": [
    {
     "data": {
      "text/plain": [
       "(907, 12)"
      ]
     },
     "execution_count": 63,
     "metadata": {},
     "output_type": "execute_result"
    }
   ],
   "source": [
    "df.shape"
   ]
  },
  {
   "cell_type": "code",
   "execution_count": 64,
   "id": "3698f5f5",
   "metadata": {},
   "outputs": [
    {
     "data": {
      "text/plain": [
       "(882, 12)"
      ]
     },
     "execution_count": 64,
     "metadata": {},
     "output_type": "execute_result"
    }
   ],
   "source": [
    "df1.shape"
   ]
  },
  {
   "cell_type": "code",
   "execution_count": 65,
   "id": "bb8150f3",
   "metadata": {},
   "outputs": [
    {
     "data": {
      "text/plain": [
       "2.7563395810363835"
      ]
     },
     "execution_count": 65,
     "metadata": {},
     "output_type": "execute_result"
    }
   ],
   "source": [
    "(df.shape[0]-df1.shape[0])/df.shape[0]*100\n",
    "#After removing Outliers.."
   ]
  },
  {
   "cell_type": "markdown",
   "id": "1344717d",
   "metadata": {},
   "source": [
    "# Skewness"
   ]
  },
  {
   "cell_type": "code",
   "execution_count": 66,
   "id": "d6145f59",
   "metadata": {},
   "outputs": [
    {
     "data": {
      "image/png": "[encoded data removed]",
      "text/plain": [
       "<Figure size 1440x1296 with 12 Axes>"
      ]
     },
     "metadata": {},
     "output_type": "display_data"
    }
   ],
   "source": [
    "plt.figure(figsize=(20,18),facecolor='white')\n",
    "plotnumber=1\n",
    "for column in df:\n",
    "    if plotnumber<=12:\n",
    "        ax=plt.subplot(4,3,plotnumber)\n",
    "        sns.distplot(df[column],kde=True)\n",
    "        plt.xlabel(column,fontsize=24)\n",
    "    plotnumber+=1\n",
    "plt.show()"
   ]
  },
  {
   "cell_type": "code",
   "execution_count": 67,
   "id": "836852c1",
   "metadata": {},
   "outputs": [
    {
     "data": {
      "text/plain": [
       "capacity_mw            3.123576\n",
       "latitude               1.940249\n",
       "longitude             -0.295883\n",
       "primary_fuel           0.472251\n",
       "commissioning_year    -0.328473\n",
       "source                 1.827373\n",
       "geolocation_source    -2.159841\n",
       "generation_gwh_2014    5.018549\n",
       "generation_gwh_2015    5.292321\n",
       "generation_gwh_2016    5.014692\n",
       "generation_gwh_2017    5.010509\n",
       "generation_gwh_2018    4.874039\n",
       "dtype: float64"
      ]
     },
     "execution_count": 67,
     "metadata": {},
     "output_type": "execute_result"
    }
   ],
   "source": [
    "df.skew()"
   ]
  },
  {
   "cell_type": "raw",
   "id": "1b322d07",
   "metadata": {},
   "source": [
    "USING POWER TRANSFORM TO REDUCE SKEWNESS"
   ]
  },
  {
   "cell_type": "code",
   "execution_count": 68,
   "id": "8635c6ff",
   "metadata": {},
   "outputs": [],
   "source": [
    "from sklearn.preprocessing import power_transform"
   ]
  },
  {
   "cell_type": "code",
   "execution_count": 69,
   "id": "e6118570",
   "metadata": {},
   "outputs": [],
   "source": [
    "df[['capacity_mw',\"generation_gwh_2013\",'generation_gwh_2014','generation_gwh_2015','generation_gwh_2016','generation_gwh_2017']]=power_transform(df[['capacity_mw',\"generation_gwh_2014\",'generation_gwh_2015','generation_gwh_2016','generation_gwh_2017','generation_gwh_2018']])"
   ]
  },
  {
   "cell_type": "code",
   "execution_count": 70,
   "id": "5f13f4b8",
   "metadata": {},
   "outputs": [
    {
     "data": {
      "text/plain": [
       "capacity_mw            0.022164\n",
       "latitude               1.940249\n",
       "longitude             -0.295883\n",
       "primary_fuel           0.472251\n",
       "commissioning_year    -0.328473\n",
       "source                 1.827373\n",
       "geolocation_source    -2.159841\n",
       "generation_gwh_2014   -0.021906\n",
       "generation_gwh_2015   -0.017326\n",
       "generation_gwh_2016   -0.010751\n",
       "generation_gwh_2017   -0.005868\n",
       "generation_gwh_2018    4.874039\n",
       "generation_gwh_2013   -0.025038\n",
       "dtype: float64"
      ]
     },
     "execution_count": 70,
     "metadata": {},
     "output_type": "execute_result"
    }
   ],
   "source": [
    "df.skew()"
   ]
  },
  {
   "cell_type": "markdown",
   "id": "a31a01d2",
   "metadata": {},
   "source": [
    "# Data Preprocessing"
   ]
  },
  {
   "cell_type": "raw",
   "id": "6e13be08",
   "metadata": {},
   "source": [
    "SPLITTING DATA INTO X AND Y for TRAIN and TEST"
   ]
  },
  {
   "cell_type": "code",
   "execution_count": 71,
   "id": "e71e9441",
   "metadata": {},
   "outputs": [],
   "source": [
    "X=df.drop(['capacity_mw'],axis=1)\n",
    "Y=df['capacity_mw']"
   ]
  },
  {
   "cell_type": "code",
   "execution_count": 72,
   "id": "f0386c7e",
   "metadata": {},
   "outputs": [
    {
     "data": {
      "text/plain": [
       "((907, 12), (907,))"
      ]
     },
     "execution_count": 72,
     "metadata": {},
     "output_type": "execute_result"
    }
   ],
   "source": [
    "X.shape,Y.shape"
   ]
  },
  {
   "cell_type": "markdown",
   "id": "f1de4ea1",
   "metadata": {},
   "source": [
    "# StandardScaler"
   ]
  },
  {
   "cell_type": "code",
   "execution_count": 73,
   "id": "e2ead4e4",
   "metadata": {},
   "outputs": [
    {
     "data": {
      "text/html": [
       "<div>\n",
       "<style scoped>\n",
       "    .dataframe tbody tr th:only-of-type {\n",
       "        vertical-align: middle;\n",
       "    }\n",
       "\n",
       "    .dataframe tbody tr th {\n",
       "        vertical-align: top;\n",
       "    }\n",
       "\n",
       "    .dataframe thead th {\n",
       "        text-align: right;\n",
       "    }\n",
       "</style>\n",
       "<table border=\"1\" class=\"dataframe\">\n",
       "  <thead>\n",
       "    <tr style=\"text-align: right;\">\n",
       "      <th></th>\n",
       "      <th>latitude</th>\n",
       "      <th>longitude</th>\n",
       "      <th>primary_fuel</th>\n",
       "      <th>commissioning_year</th>\n",
       "      <th>source</th>\n",
       "      <th>geolocation_source</th>\n",
       "      <th>generation_gwh_2014</th>\n",
       "      <th>generation_gwh_2015</th>\n",
       "      <th>generation_gwh_2016</th>\n",
       "      <th>generation_gwh_2017</th>\n",
       "      <th>generation_gwh_2018</th>\n",
       "      <th>generation_gwh_2013</th>\n",
       "    </tr>\n",
       "  </thead>\n",
       "  <tbody>\n",
       "    <tr>\n",
       "      <th>0</th>\n",
       "      <td>0.490314</td>\n",
       "      <td>-0.526774</td>\n",
       "      <td>1.225688</td>\n",
       "      <td>0.863621</td>\n",
       "      <td>1.460215</td>\n",
       "      <td>-1.083349</td>\n",
       "      <td>-0.480768</td>\n",
       "      <td>-0.495756</td>\n",
       "      <td>-0.500284</td>\n",
       "      <td>-0.500906</td>\n",
       "      <td>-0.382173</td>\n",
       "      <td>-0.476612</td>\n",
       "    </tr>\n",
       "    <tr>\n",
       "      <th>1</th>\n",
       "      <td>0.159060</td>\n",
       "      <td>-0.308213</td>\n",
       "      <td>-0.967877</td>\n",
       "      <td>-1.177534</td>\n",
       "      <td>2.917019</td>\n",
       "      <td>0.394241</td>\n",
       "      <td>-0.480768</td>\n",
       "      <td>-0.495756</td>\n",
       "      <td>-0.500284</td>\n",
       "      <td>-0.500906</td>\n",
       "      <td>-0.382173</td>\n",
       "      <td>-0.476612</td>\n",
       "    </tr>\n",
       "    <tr>\n",
       "      <th>2</th>\n",
       "      <td>-0.118391</td>\n",
       "      <td>-1.144536</td>\n",
       "      <td>1.664401</td>\n",
       "      <td>-1.177534</td>\n",
       "      <td>-0.512075</td>\n",
       "      <td>0.394241</td>\n",
       "      <td>-0.480768</td>\n",
       "      <td>-0.495756</td>\n",
       "      <td>-0.500284</td>\n",
       "      <td>-0.500906</td>\n",
       "      <td>-0.382173</td>\n",
       "      <td>-0.476612</td>\n",
       "    </tr>\n",
       "    <tr>\n",
       "      <th>3</th>\n",
       "      <td>0.072301</td>\n",
       "      <td>2.367481</td>\n",
       "      <td>-0.529164</td>\n",
       "      <td>0.856301</td>\n",
       "      <td>-0.489662</td>\n",
       "      <td>0.394241</td>\n",
       "      <td>0.856915</td>\n",
       "      <td>0.848300</td>\n",
       "      <td>0.678482</td>\n",
       "      <td>0.624972</td>\n",
       "      <td>-0.209552</td>\n",
       "      <td>0.728652</td>\n",
       "    </tr>\n",
       "    <tr>\n",
       "      <th>4</th>\n",
       "      <td>-0.112915</td>\n",
       "      <td>0.937708</td>\n",
       "      <td>-0.967877</td>\n",
       "      <td>0.867804</td>\n",
       "      <td>-0.489662</td>\n",
       "      <td>0.394241</td>\n",
       "      <td>1.747502</td>\n",
       "      <td>1.737912</td>\n",
       "      <td>1.636981</td>\n",
       "      <td>1.752415</td>\n",
       "      <td>1.815722</td>\n",
       "      <td>1.484548</td>\n",
       "    </tr>\n",
       "    <tr>\n",
       "      <th>...</th>\n",
       "      <td>...</td>\n",
       "      <td>...</td>\n",
       "      <td>...</td>\n",
       "      <td>...</td>\n",
       "      <td>...</td>\n",
       "      <td>...</td>\n",
       "      <td>...</td>\n",
       "      <td>...</td>\n",
       "      <td>...</td>\n",
       "      <td>...</td>\n",
       "      <td>...</td>\n",
       "      <td>...</td>\n",
       "    </tr>\n",
       "    <tr>\n",
       "      <th>902</th>\n",
       "      <td>-0.662039</td>\n",
       "      <td>0.130697</td>\n",
       "      <td>-0.967877</td>\n",
       "      <td>0.868850</td>\n",
       "      <td>-0.489662</td>\n",
       "      <td>0.394241</td>\n",
       "      <td>-2.453637</td>\n",
       "      <td>0.201617</td>\n",
       "      <td>0.803261</td>\n",
       "      <td>0.668072</td>\n",
       "      <td>-0.191207</td>\n",
       "      <td>-0.476612</td>\n",
       "    </tr>\n",
       "    <tr>\n",
       "      <th>903</th>\n",
       "      <td>-0.991752</td>\n",
       "      <td>0.259856</td>\n",
       "      <td>1.225688</td>\n",
       "      <td>-1.177534</td>\n",
       "      <td>0.743019</td>\n",
       "      <td>-2.560940</td>\n",
       "      <td>-0.480768</td>\n",
       "      <td>-0.495756</td>\n",
       "      <td>-0.500284</td>\n",
       "      <td>-0.500906</td>\n",
       "      <td>-0.382173</td>\n",
       "      <td>-0.476612</td>\n",
       "    </tr>\n",
       "    <tr>\n",
       "      <th>904</th>\n",
       "      <td>-0.760817</td>\n",
       "      <td>-0.152938</td>\n",
       "      <td>1.664401</td>\n",
       "      <td>-1.177534</td>\n",
       "      <td>-0.512075</td>\n",
       "      <td>0.394241</td>\n",
       "      <td>-0.480768</td>\n",
       "      <td>-0.495756</td>\n",
       "      <td>-0.500284</td>\n",
       "      <td>-0.500906</td>\n",
       "      <td>-0.382173</td>\n",
       "      <td>-0.476612</td>\n",
       "    </tr>\n",
       "    <tr>\n",
       "      <th>905</th>\n",
       "      <td>0.118710</td>\n",
       "      <td>-0.445790</td>\n",
       "      <td>-0.967877</td>\n",
       "      <td>-1.177534</td>\n",
       "      <td>0.339596</td>\n",
       "      <td>0.394241</td>\n",
       "      <td>-0.480768</td>\n",
       "      <td>-0.495756</td>\n",
       "      <td>-0.500284</td>\n",
       "      <td>-0.500906</td>\n",
       "      <td>-0.382173</td>\n",
       "      <td>-0.476612</td>\n",
       "    </tr>\n",
       "    <tr>\n",
       "      <th>906</th>\n",
       "      <td>-1.278537</td>\n",
       "      <td>0.149865</td>\n",
       "      <td>1.664401</td>\n",
       "      <td>-1.177534</td>\n",
       "      <td>-0.512075</td>\n",
       "      <td>0.394241</td>\n",
       "      <td>-0.480768</td>\n",
       "      <td>-0.495756</td>\n",
       "      <td>-0.500284</td>\n",
       "      <td>-0.500906</td>\n",
       "      <td>-0.382173</td>\n",
       "      <td>-0.476612</td>\n",
       "    </tr>\n",
       "  </tbody>\n",
       "</table>\n",
       "<p>907 rows × 12 columns</p>\n",
       "</div>"
      ],
      "text/plain": [
       "     latitude  longitude  primary_fuel  commissioning_year    source  \\\n",
       "0    0.490314  -0.526774      1.225688            0.863621  1.460215   \n",
       "1    0.159060  -0.308213     -0.967877           -1.177534  2.917019   \n",
       "2   -0.118391  -1.144536      1.664401           -1.177534 -0.512075   \n",
       "3    0.072301   2.367481     -0.529164            0.856301 -0.489662   \n",
       "4   -0.112915   0.937708     -0.967877            0.867804 -0.489662   \n",
       "..        ...        ...           ...                 ...       ...   \n",
       "902 -0.662039   0.130697     -0.967877            0.868850 -0.489662   \n",
       "903 -0.991752   0.259856      1.225688           -1.177534  0.743019   \n",
       "904 -0.760817  -0.152938      1.664401           -1.177534 -0.512075   \n",
       "905  0.118710  -0.445790     -0.967877           -1.177534  0.339596   \n",
       "906 -1.278537   0.149865      1.664401           -1.177534 -0.512075   \n",
       "\n",
       "     geolocation_source  generation_gwh_2014  generation_gwh_2015  \\\n",
       "0             -1.083349            -0.480768            -0.495756   \n",
       "1              0.394241            -0.480768            -0.495756   \n",
       "2              0.394241            -0.480768            -0.495756   \n",
       "3              0.394241             0.856915             0.848300   \n",
       "4              0.394241             1.747502             1.737912   \n",
       "..                  ...                  ...                  ...   \n",
       "902            0.394241            -2.453637             0.201617   \n",
       "903           -2.560940            -0.480768            -0.495756   \n",
       "904            0.394241            -0.480768            -0.495756   \n",
       "905            0.394241            -0.480768            -0.495756   \n",
       "906            0.394241            -0.480768            -0.495756   \n",
       "\n",
       "     generation_gwh_2016  generation_gwh_2017  generation_gwh_2018  \\\n",
       "0              -0.500284            -0.500906            -0.382173   \n",
       "1              -0.500284            -0.500906            -0.382173   \n",
       "2              -0.500284            -0.500906            -0.382173   \n",
       "3               0.678482             0.624972            -0.209552   \n",
       "4               1.636981             1.752415             1.815722   \n",
       "..                   ...                  ...                  ...   \n",
       "902             0.803261             0.668072            -0.191207   \n",
       "903            -0.500284            -0.500906            -0.382173   \n",
       "904            -0.500284            -0.500906            -0.382173   \n",
       "905            -0.500284            -0.500906            -0.382173   \n",
       "906            -0.500284            -0.500906            -0.382173   \n",
       "\n",
       "     generation_gwh_2013  \n",
       "0              -0.476612  \n",
       "1              -0.476612  \n",
       "2              -0.476612  \n",
       "3               0.728652  \n",
       "4               1.484548  \n",
       "..                   ...  \n",
       "902            -0.476612  \n",
       "903            -0.476612  \n",
       "904            -0.476612  \n",
       "905            -0.476612  \n",
       "906            -0.476612  \n",
       "\n",
       "[907 rows x 12 columns]"
      ]
     },
     "execution_count": 73,
     "metadata": {},
     "output_type": "execute_result"
    }
   ],
   "source": [
    "scaler = StandardScaler()\n",
    "X_scaled = pd.DataFrame(scaler.fit_transform(X), columns=X.columns)\n",
    "X_scaled"
   ]
  },
  {
   "cell_type": "code",
   "execution_count": 74,
   "id": "91d9e3cf",
   "metadata": {},
   "outputs": [],
   "source": [
    "x=X_scaled"
   ]
  },
  {
   "cell_type": "markdown",
   "id": "c8c28d77",
   "metadata": {},
   "source": [
    "# VIF"
   ]
  },
  {
   "cell_type": "code",
   "execution_count": 75,
   "id": "df10fb3a",
   "metadata": {},
   "outputs": [],
   "source": [
    "vif=pd.DataFrame()\n",
    "vif[\"vif\"]=[variance_inflation_factor(X_scaled,i) for i in range(X_scaled.shape[1])]"
   ]
  },
  {
   "cell_type": "code",
   "execution_count": 76,
   "id": "130f4cf4",
   "metadata": {},
   "outputs": [
    {
     "data": {
      "text/html": [
       "<div>\n",
       "<style scoped>\n",
       "    .dataframe tbody tr th:only-of-type {\n",
       "        vertical-align: middle;\n",
       "    }\n",
       "\n",
       "    .dataframe tbody tr th {\n",
       "        vertical-align: top;\n",
       "    }\n",
       "\n",
       "    .dataframe thead th {\n",
       "        text-align: right;\n",
       "    }\n",
       "</style>\n",
       "<table border=\"1\" class=\"dataframe\">\n",
       "  <thead>\n",
       "    <tr style=\"text-align: right;\">\n",
       "      <th></th>\n",
       "      <th>vif</th>\n",
       "    </tr>\n",
       "  </thead>\n",
       "  <tbody>\n",
       "    <tr>\n",
       "      <th>0</th>\n",
       "      <td>1.492125</td>\n",
       "    </tr>\n",
       "    <tr>\n",
       "      <th>1</th>\n",
       "      <td>1.731021</td>\n",
       "    </tr>\n",
       "    <tr>\n",
       "      <th>2</th>\n",
       "      <td>2.122596</td>\n",
       "    </tr>\n",
       "    <tr>\n",
       "      <th>3</th>\n",
       "      <td>2.264715</td>\n",
       "    </tr>\n",
       "    <tr>\n",
       "      <th>4</th>\n",
       "      <td>2.083170</td>\n",
       "    </tr>\n",
       "    <tr>\n",
       "      <th>5</th>\n",
       "      <td>1.941840</td>\n",
       "    </tr>\n",
       "    <tr>\n",
       "      <th>6</th>\n",
       "      <td>5.883453</td>\n",
       "    </tr>\n",
       "    <tr>\n",
       "      <th>7</th>\n",
       "      <td>9.731836</td>\n",
       "    </tr>\n",
       "    <tr>\n",
       "      <th>8</th>\n",
       "      <td>9.129839</td>\n",
       "    </tr>\n",
       "    <tr>\n",
       "      <th>9</th>\n",
       "      <td>8.410839</td>\n",
       "    </tr>\n",
       "    <tr>\n",
       "      <th>10</th>\n",
       "      <td>1.854839</td>\n",
       "    </tr>\n",
       "    <tr>\n",
       "      <th>11</th>\n",
       "      <td>3.583180</td>\n",
       "    </tr>\n",
       "  </tbody>\n",
       "</table>\n",
       "</div>"
      ],
      "text/plain": [
       "         vif\n",
       "0   1.492125\n",
       "1   1.731021\n",
       "2   2.122596\n",
       "3   2.264715\n",
       "4   2.083170\n",
       "5   1.941840\n",
       "6   5.883453\n",
       "7   9.731836\n",
       "8   9.129839\n",
       "9   8.410839\n",
       "10  1.854839\n",
       "11  3.583180"
      ]
     },
     "execution_count": 76,
     "metadata": {},
     "output_type": "execute_result"
    }
   ],
   "source": [
    "vif"
   ]
  },
  {
   "cell_type": "markdown",
   "id": "1bc6d57a",
   "metadata": {},
   "source": [
    "# ModelBuilding-REGRESSION"
   ]
  },
  {
   "cell_type": "markdown",
   "id": "33322412",
   "metadata": {},
   "source": [
    "# LINEAR REGRESSION"
   ]
  },
  {
   "cell_type": "code",
   "execution_count": 77,
   "id": "790ff26d",
   "metadata": {},
   "outputs": [],
   "source": [
    "from sklearn.metrics import mean_squared_error,mean_absolute_error\n",
    "from sklearn.metrics import r2_score\n",
    "from sklearn.model_selection import train_test_split\n",
    "from sklearn.model_selection import cross_val_score"
   ]
  },
  {
   "cell_type": "code",
   "execution_count": 78,
   "id": "8950e445",
   "metadata": {},
   "outputs": [],
   "source": [
    "from sklearn.linear_model import LinearRegression"
   ]
  },
  {
   "cell_type": "raw",
   "id": "a1123f40",
   "metadata": {},
   "source": [
    "TRAIN and TEST"
   ]
  },
  {
   "cell_type": "markdown",
   "id": "91716ef3",
   "metadata": {},
   "source": [
    "# RANDOM STATE"
   ]
  },
  {
   "cell_type": "code",
   "execution_count": 81,
   "id": "eb655512",
   "metadata": {},
   "outputs": [
    {
     "name": "stdout",
     "output_type": "stream",
     "text": [
      "At random state 0, The training accuracy is: 0.6443542300013783\n",
      "At random state 0, The test accuracy is: 0.6802098166818626\n",
      "\n",
      "\n",
      "At random state 1, The training accuracy is: 0.6609650516902573\n",
      "At random state 1, The test accuracy is: 0.6094770162875098\n",
      "\n",
      "\n",
      "At random state 2, The training accuracy is: 0.6525164090193762\n",
      "At random state 2, The test accuracy is: 0.6372017486121451\n",
      "\n",
      "\n",
      "At random state 3, The training accuracy is: 0.6520439062719046\n",
      "At random state 3, The test accuracy is: 0.6447930124828765\n",
      "\n",
      "\n",
      "At random state 4, The training accuracy is: 0.6597424358623207\n",
      "At random state 4, The test accuracy is: 0.6074218061244603\n",
      "\n",
      "\n",
      "At random state 5, The training accuracy is: 0.637845650048702\n",
      "At random state 5, The test accuracy is: 0.7044500226158601\n",
      "\n",
      "\n",
      "At random state 6, The training accuracy is: 0.6737340427395939\n",
      "At random state 6, The test accuracy is: 0.5416373678504259\n",
      "\n",
      "\n",
      "At random state 7, The training accuracy is: 0.652479889359024\n",
      "At random state 7, The test accuracy is: 0.6445148844536801\n",
      "\n",
      "\n",
      "At random state 8, The training accuracy is: 0.6587477426359338\n",
      "At random state 8, The test accuracy is: 0.6212474640476202\n",
      "\n",
      "\n",
      "At random state 9, The training accuracy is: 0.6444471969965564\n",
      "At random state 9, The test accuracy is: 0.6718702513172672\n",
      "\n",
      "\n",
      "At random state 10, The training accuracy is: 0.6541696777990691\n",
      "At random state 10, The test accuracy is: 0.6380120462713506\n",
      "\n",
      "\n",
      "At random state 11, The training accuracy is: 0.6553952017937907\n",
      "At random state 11, The test accuracy is: 0.6351307039138561\n",
      "\n",
      "\n",
      "At random state 12, The training accuracy is: 0.6506768301962925\n",
      "At random state 12, The test accuracy is: 0.6513677820515682\n",
      "\n",
      "\n",
      "At random state 13, The training accuracy is: 0.6747473503945804\n",
      "At random state 13, The test accuracy is: 0.5586528589484674\n",
      "\n",
      "\n",
      "At random state 14, The training accuracy is: 0.6553419519644792\n",
      "At random state 14, The test accuracy is: 0.6347341679558125\n",
      "\n",
      "\n",
      "At random state 15, The training accuracy is: 0.64499879194307\n",
      "At random state 15, The test accuracy is: 0.679501683591429\n",
      "\n",
      "\n",
      "At random state 16, The training accuracy is: 0.6626566262897068\n",
      "At random state 16, The test accuracy is: 0.6039152705468636\n",
      "\n",
      "\n",
      "At random state 17, The training accuracy is: 0.6798879786029017\n",
      "At random state 17, The test accuracy is: 0.5099851244737472\n",
      "\n",
      "\n",
      "At random state 18, The training accuracy is: 0.6439178751194669\n",
      "At random state 18, The test accuracy is: 0.680451268556354\n",
      "\n",
      "\n",
      "At random state 19, The training accuracy is: 0.6649324494701749\n",
      "At random state 19, The test accuracy is: 0.5973771018707075\n",
      "\n",
      "\n",
      "At random state 20, The training accuracy is: 0.6514335123334125\n",
      "At random state 20, The test accuracy is: 0.6388816734492964\n",
      "\n",
      "\n",
      "At random state 21, The training accuracy is: 0.6546267656765101\n",
      "At random state 21, The test accuracy is: 0.6396540491054459\n",
      "\n",
      "\n",
      "At random state 22, The training accuracy is: 0.6522900076750902\n",
      "At random state 22, The test accuracy is: 0.6493986486048579\n",
      "\n",
      "\n",
      "At random state 23, The training accuracy is: 0.661143061749285\n",
      "At random state 23, The test accuracy is: 0.6088478090422669\n",
      "\n",
      "\n",
      "At random state 24, The training accuracy is: 0.6446495620184489\n",
      "At random state 24, The test accuracy is: 0.6819352870963791\n",
      "\n",
      "\n",
      "At random state 25, The training accuracy is: 0.645761080952302\n",
      "At random state 25, The test accuracy is: 0.6740554058307835\n",
      "\n",
      "\n",
      "At random state 26, The training accuracy is: 0.6635018488239186\n",
      "At random state 26, The test accuracy is: 0.6011062493445738\n",
      "\n",
      "\n",
      "At random state 27, The training accuracy is: 0.6398534401459162\n",
      "At random state 27, The test accuracy is: 0.6876806972813124\n",
      "\n",
      "\n",
      "At random state 28, The training accuracy is: 0.6501702431672751\n",
      "At random state 28, The test accuracy is: 0.6538318439208526\n",
      "\n",
      "\n",
      "At random state 29, The training accuracy is: 0.6473128267925612\n",
      "At random state 29, The test accuracy is: 0.6658392354496598\n",
      "\n",
      "\n",
      "At random state 30, The training accuracy is: 0.65434371809046\n",
      "At random state 30, The test accuracy is: 0.6325596495590244\n",
      "\n",
      "\n",
      "At random state 31, The training accuracy is: 0.6568280959396872\n",
      "At random state 31, The test accuracy is: 0.618321841831275\n",
      "\n",
      "\n",
      "At random state 32, The training accuracy is: 0.6746347994735357\n",
      "At random state 32, The test accuracy is: 0.5453860482737174\n",
      "\n",
      "\n",
      "At random state 33, The training accuracy is: 0.6576001912582362\n",
      "At random state 33, The test accuracy is: 0.6210447718247204\n",
      "\n",
      "\n",
      "At random state 34, The training accuracy is: 0.6459080384924277\n",
      "At random state 34, The test accuracy is: 0.6702415007051241\n",
      "\n",
      "\n",
      "At random state 35, The training accuracy is: 0.6567761601441786\n",
      "At random state 35, The test accuracy is: 0.6251371888127575\n",
      "\n",
      "\n",
      "At random state 36, The training accuracy is: 0.6493370594550052\n",
      "At random state 36, The test accuracy is: 0.6615059731936423\n",
      "\n",
      "\n",
      "At random state 37, The training accuracy is: 0.6359803361875292\n",
      "At random state 37, The test accuracy is: 0.7026419643874671\n",
      "\n",
      "\n",
      "At random state 38, The training accuracy is: 0.6687342956011635\n",
      "At random state 38, The test accuracy is: 0.5758145704835884\n",
      "\n",
      "\n",
      "At random state 39, The training accuracy is: 0.6451502227642207\n",
      "At random state 39, The test accuracy is: 0.6741529791490726\n",
      "\n",
      "\n",
      "At random state 40, The training accuracy is: 0.6546844415159029\n",
      "At random state 40, The test accuracy is: 0.6302076225018105\n",
      "\n",
      "\n",
      "At random state 41, The training accuracy is: 0.6478223760555271\n",
      "At random state 41, The test accuracy is: 0.6554238715134597\n",
      "\n",
      "\n",
      "At random state 42, The training accuracy is: 0.6695305754255239\n",
      "At random state 42, The test accuracy is: 0.5424007001435532\n",
      "\n",
      "\n",
      "At random state 43, The training accuracy is: 0.6510165676008337\n",
      "At random state 43, The test accuracy is: 0.6403360899124055\n",
      "\n",
      "\n",
      "At random state 44, The training accuracy is: 0.6308514732509133\n",
      "At random state 44, The test accuracy is: 0.7246369690867025\n",
      "\n",
      "\n",
      "At random state 45, The training accuracy is: 0.668041982770893\n",
      "At random state 45, The test accuracy is: 0.5818101146293121\n",
      "\n",
      "\n",
      "At random state 46, The training accuracy is: 0.6566254536143725\n",
      "At random state 46, The test accuracy is: 0.6305982790462024\n",
      "\n",
      "\n",
      "At random state 47, The training accuracy is: 0.6543879265466945\n",
      "At random state 47, The test accuracy is: 0.633992360495367\n",
      "\n",
      "\n",
      "At random state 48, The training accuracy is: 0.6642049723617098\n",
      "At random state 48, The test accuracy is: 0.5973496123805674\n",
      "\n",
      "\n",
      "At random state 49, The training accuracy is: 0.6533973893208759\n",
      "At random state 49, The test accuracy is: 0.6298851911446659\n",
      "\n",
      "\n",
      "At random state 50, The training accuracy is: 0.6338489747469157\n",
      "At random state 50, The test accuracy is: 0.7075758674005103\n",
      "\n",
      "\n",
      "At random state 51, The training accuracy is: 0.6442063540164169\n",
      "At random state 51, The test accuracy is: 0.6756941434990272\n",
      "\n",
      "\n",
      "At random state 52, The training accuracy is: 0.645081202512654\n",
      "At random state 52, The test accuracy is: 0.6754039288256659\n",
      "\n",
      "\n",
      "At random state 53, The training accuracy is: 0.6537644285346169\n",
      "At random state 53, The test accuracy is: 0.642226752907798\n",
      "\n",
      "\n",
      "At random state 54, The training accuracy is: 0.6508282886206391\n",
      "At random state 54, The test accuracy is: 0.6539870277274757\n",
      "\n",
      "\n",
      "At random state 55, The training accuracy is: 0.6458892949466912\n",
      "At random state 55, The test accuracy is: 0.6674477483414738\n",
      "\n",
      "\n",
      "At random state 56, The training accuracy is: 0.6671616420589297\n",
      "At random state 56, The test accuracy is: 0.5895357078492911\n",
      "\n",
      "\n",
      "At random state 57, The training accuracy is: 0.6450881256544718\n",
      "At random state 57, The test accuracy is: 0.6721954496857029\n",
      "\n",
      "\n",
      "At random state 58, The training accuracy is: 0.6623675714790858\n",
      "At random state 58, The test accuracy is: 0.6057169334408805\n",
      "\n",
      "\n",
      "At random state 59, The training accuracy is: 0.6536372745308323\n",
      "At random state 59, The test accuracy is: 0.6391499656595241\n",
      "\n",
      "\n",
      "At random state 60, The training accuracy is: 0.6558362323578277\n",
      "At random state 60, The test accuracy is: 0.620390350934123\n",
      "\n",
      "\n",
      "At random state 61, The training accuracy is: 0.6469051178037692\n",
      "At random state 61, The test accuracy is: 0.6652454024284893\n",
      "\n",
      "\n",
      "At random state 62, The training accuracy is: 0.6587235920240533\n",
      "At random state 62, The test accuracy is: 0.6234007953494141\n",
      "\n",
      "\n",
      "At random state 63, The training accuracy is: 0.6501795799545904\n",
      "At random state 63, The test accuracy is: 0.6539165433462122\n",
      "\n",
      "\n",
      "At random state 64, The training accuracy is: 0.6418970291074564\n",
      "At random state 64, The test accuracy is: 0.68059708793052\n",
      "\n",
      "\n",
      "At random state 65, The training accuracy is: 0.6567667313858101\n",
      "At random state 65, The test accuracy is: 0.6324288010958021\n",
      "\n",
      "\n",
      "At random state 66, The training accuracy is: 0.6602402092494775\n",
      "At random state 66, The test accuracy is: 0.6109061247218994\n",
      "\n",
      "\n",
      "At random state 67, The training accuracy is: 0.680065030356775\n",
      "At random state 67, The test accuracy is: 0.5276406301856376\n",
      "\n",
      "\n",
      "At random state 68, The training accuracy is: 0.6553187391178077\n",
      "At random state 68, The test accuracy is: 0.6259262081297052\n",
      "\n",
      "\n",
      "At random state 69, The training accuracy is: 0.6553511802708548\n",
      "At random state 69, The test accuracy is: 0.6348934853220926\n",
      "\n",
      "\n",
      "At random state 70, The training accuracy is: 0.6412234876219026\n",
      "At random state 70, The test accuracy is: 0.6902777482689344\n",
      "\n",
      "\n",
      "At random state 71, The training accuracy is: 0.6664904123621265\n",
      "At random state 71, The test accuracy is: 0.5897953053437417\n",
      "\n",
      "\n",
      "At random state 72, The training accuracy is: 0.6511650770509386\n",
      "At random state 72, The test accuracy is: 0.6386897589224905\n",
      "\n",
      "\n",
      "At random state 73, The training accuracy is: 0.6608096446805991\n",
      "At random state 73, The test accuracy is: 0.5946907985758846\n",
      "\n",
      "\n",
      "At random state 74, The training accuracy is: 0.6476110993979427\n",
      "At random state 74, The test accuracy is: 0.6634598007470067\n",
      "\n",
      "\n",
      "At random state 75, The training accuracy is: 0.6647144256837548\n",
      "At random state 75, The test accuracy is: 0.5868093213679513\n",
      "\n",
      "\n",
      "At random state 76, The training accuracy is: 0.6521885012181903\n",
      "At random state 76, The test accuracy is: 0.6502779071738025\n",
      "\n",
      "\n",
      "At random state 77, The training accuracy is: 0.6662461886316655\n",
      "At random state 77, The test accuracy is: 0.5775489855820486\n",
      "\n",
      "\n",
      "At random state 78, The training accuracy is: 0.6450369481527827\n",
      "At random state 78, The test accuracy is: 0.6756466976853794\n",
      "\n",
      "\n",
      "At random state 79, The training accuracy is: 0.6439329166905738\n",
      "At random state 79, The test accuracy is: 0.6821495824608714\n",
      "\n",
      "\n",
      "At random state 80, The training accuracy is: 0.6409425873274099\n",
      "At random state 80, The test accuracy is: 0.6959080698113186\n",
      "\n",
      "\n",
      "At random state 81, The training accuracy is: 0.6497375738548119\n",
      "At random state 81, The test accuracy is: 0.6581145594066867\n",
      "\n",
      "\n",
      "At random state 82, The training accuracy is: 0.6740171599630291\n",
      "At random state 82, The test accuracy is: 0.5486735666923368\n",
      "\n",
      "\n",
      "At random state 83, The training accuracy is: 0.6598393464780405\n",
      "At random state 83, The test accuracy is: 0.6100642115767536\n",
      "\n",
      "\n",
      "At random state 84, The training accuracy is: 0.6571236593093008\n",
      "At random state 84, The test accuracy is: 0.6201138915142714\n",
      "\n",
      "\n",
      "At random state 85, The training accuracy is: 0.6571057456876265\n",
      "At random state 85, The test accuracy is: 0.6150754234673266\n",
      "\n",
      "\n",
      "At random state 86, The training accuracy is: 0.6689234281841785\n",
      "At random state 86, The test accuracy is: 0.5684272342131937\n",
      "\n",
      "\n",
      "At random state 87, The training accuracy is: 0.6497083623925876\n",
      "At random state 87, The test accuracy is: 0.6528402748027722\n",
      "\n",
      "\n",
      "At random state 88, The training accuracy is: 0.6617197191338027\n",
      "At random state 88, The test accuracy is: 0.6012011888721311\n",
      "\n",
      "\n",
      "At random state 89, The training accuracy is: 0.6475469732326791\n",
      "At random state 89, The test accuracy is: 0.6622928954747738\n",
      "\n",
      "\n",
      "At random state 90, The training accuracy is: 0.6394854323599473\n",
      "At random state 90, The test accuracy is: 0.6915694685492122\n",
      "\n",
      "\n",
      "At random state 91, The training accuracy is: 0.6570334898900738\n",
      "At random state 91, The test accuracy is: 0.6168861280448869\n",
      "\n",
      "\n",
      "At random state 92, The training accuracy is: 0.632859812785137\n",
      "At random state 92, The test accuracy is: 0.6958290971307441\n",
      "\n",
      "\n",
      "At random state 93, The training accuracy is: 0.6481321319675337\n",
      "At random state 93, The test accuracy is: 0.660472514004441\n",
      "\n",
      "\n",
      "At random state 94, The training accuracy is: 0.6519936173237906\n",
      "At random state 94, The test accuracy is: 0.6459507075191506\n",
      "\n",
      "\n",
      "At random state 95, The training accuracy is: 0.6605056709279626\n",
      "At random state 95, The test accuracy is: 0.6128772851826385\n",
      "\n",
      "\n",
      "At random state 96, The training accuracy is: 0.6284396761349824\n",
      "At random state 96, The test accuracy is: 0.7342088883726918\n",
      "\n",
      "\n",
      "At random state 97, The training accuracy is: 0.6686776870606213\n",
      "At random state 97, The test accuracy is: 0.5731073707571034\n",
      "\n",
      "\n",
      "At random state 98, The training accuracy is: 0.6205406430853617\n",
      "At random state 98, The test accuracy is: 0.7568136661687797\n",
      "\n",
      "\n",
      "At random state 99, The training accuracy is: 0.6711395874688459\n",
      "At random state 99, The test accuracy is: 0.5501095897857083\n",
      "\n",
      "\n"
     ]
    }
   ],
   "source": [
    "lin_reg=LinearRegression()\n",
    "\n",
    "for i in range(0,100):\n",
    "    x_train,x_test,Y_train,Y_test=train_test_split(x,Y,test_size=0.2,random_state=i)\n",
    "    lin_reg.fit(x_train,Y_train)\n",
    "    lin_reg_predict_train=lin_reg.predict(x_train)\n",
    "    lin_reg_predict_test=lin_reg.predict(x_test)\n",
    "    print(f'At random state {i}, The training accuracy is: {r2_score(Y_train,lin_reg_predict_train)}')\n",
    "    print(f'At random state {i}, The test accuracy is: {r2_score(Y_test,lin_reg_predict_test)}')\n",
    "    print('\\n')"
   ]
  },
  {
   "cell_type": "raw",
   "id": "7a893da4",
   "metadata": {},
   "source": [
    "Highest Accuracy in RandomState is 98, so taking this as best random state.."
   ]
  },
  {
   "cell_type": "markdown",
   "id": "41dddebd",
   "metadata": {},
   "source": [
    "# SPLITTING THE DATA WITH RANDOM STATE =98"
   ]
  },
  {
   "cell_type": "code",
   "execution_count": 82,
   "id": "8405b203",
   "metadata": {},
   "outputs": [],
   "source": [
    "x_train,x_test,Y_train,Y_test=train_test_split(x,Y,test_size=.30,random_state=98)\n",
    "#Making a new train and test.."
   ]
  },
  {
   "cell_type": "code",
   "execution_count": 84,
   "id": "786d61da",
   "metadata": {},
   "outputs": [
    {
     "name": "stdout",
     "output_type": "stream",
     "text": [
      "0.6317789641815876\n"
     ]
    }
   ],
   "source": [
    "lin_reg=LinearRegression()\n",
    "lin_reg.fit(x_train,Y_train)\n",
    "print(lin_reg.score(x_train,Y_train))\n",
    "lin_reg_predict=lin_reg.predict(x_test)"
   ]
  },
  {
   "cell_type": "code",
   "execution_count": 86,
   "id": "4f968dca",
   "metadata": {},
   "outputs": [
    {
     "name": "stdout",
     "output_type": "stream",
     "text": [
      "MSE: 0.32169663576648094\n",
      "MAE: 0.43722479543409404\n",
      "r2_score: 0.5069607661569236\n"
     ]
    }
   ],
   "source": [
    "print('MSE:',mean_squared_error(lin_reg_predict,Y_test))\n",
    "print('MAE:',mean_absolute_error(lin_reg_predict,Y_test))\n",
    "print('r2_score:',r2_score(lin_reg_predict,Y_test))"
   ]
  },
  {
   "cell_type": "code",
   "execution_count": 107,
   "id": "ede4ea63",
   "metadata": {},
   "outputs": [
    {
     "name": "stdout",
     "output_type": "stream",
     "text": [
      "0.6358898754199849\n"
     ]
    }
   ],
   "source": [
    "print(cross_val_score(lin_reg,x,Y,cv=5).mean())"
   ]
  },
  {
   "cell_type": "markdown",
   "id": "b2a3a947",
   "metadata": {},
   "source": [
    "# RIDGE"
   ]
  },
  {
   "cell_type": "code",
   "execution_count": 87,
   "id": "78cf279b",
   "metadata": {},
   "outputs": [],
   "source": [
    "from sklearn.linear_model import Ridge"
   ]
  },
  {
   "cell_type": "code",
   "execution_count": 90,
   "id": "60f07325",
   "metadata": {},
   "outputs": [
    {
     "name": "stdout",
     "output_type": "stream",
     "text": [
      "0.6317779260201052\n"
     ]
    }
   ],
   "source": [
    "rid=Ridge()\n",
    "rid.fit(x_train,Y_train)\n",
    "print(rid.score(x_train,Y_train))\n",
    "rid_pred=rid.predict(x_test)"
   ]
  },
  {
   "cell_type": "code",
   "execution_count": 91,
   "id": "3cf131b1",
   "metadata": {},
   "outputs": [
    {
     "name": "stdout",
     "output_type": "stream",
     "text": [
      "MSE: 0.321611319674331\n",
      "MAE: 0.43731359309275275\n",
      "r2_score: 0.5064851327057476\n"
     ]
    }
   ],
   "source": [
    "print('MSE:',mean_squared_error(rid_pred,Y_test))\n",
    "print('MAE:',mean_absolute_error(rid_pred,Y_test))\n",
    "print('r2_score:',r2_score(rid_pred,Y_test))"
   ]
  },
  {
   "cell_type": "code",
   "execution_count": 106,
   "id": "b5219dbe",
   "metadata": {},
   "outputs": [
    {
     "name": "stdout",
     "output_type": "stream",
     "text": [
      "0.636064084787167\n"
     ]
    }
   ],
   "source": [
    "print(cross_val_score(rid,x,Y,cv=5).mean())"
   ]
  },
  {
   "cell_type": "markdown",
   "id": "ff8f288e",
   "metadata": {},
   "source": [
    "# LASSO"
   ]
  },
  {
   "cell_type": "code",
   "execution_count": 95,
   "id": "a4e7a1ed",
   "metadata": {},
   "outputs": [],
   "source": [
    "from sklearn.linear_model import Lasso"
   ]
  },
  {
   "cell_type": "code",
   "execution_count": 96,
   "id": "4fbc9ce7",
   "metadata": {},
   "outputs": [
    {
     "name": "stdout",
     "output_type": "stream",
     "text": [
      "0.6317779260201052\n"
     ]
    }
   ],
   "source": [
    "lasso=Lasso()\n",
    "lasso.fit(x_train,Y_train)\n",
    "print(rid.score(x_train,Y_train))\n",
    "lasso_pred=lasso.predict(x_test)"
   ]
  },
  {
   "cell_type": "code",
   "execution_count": 97,
   "id": "34b332c9",
   "metadata": {},
   "outputs": [
    {
     "name": "stdout",
     "output_type": "stream",
     "text": [
      "MSE: 1.039049032454626\n",
      "MAE: 0.8811123625324736\n",
      "r2_score: 0.0\n"
     ]
    }
   ],
   "source": [
    "print('MSE:',mean_squared_error(lasso_pred,Y_test))\n",
    "print('MAE:',mean_absolute_error(lasso_pred,Y_test))\n",
    "print('r2_score:',r2_score(lasso_pred,Y_test))"
   ]
  },
  {
   "cell_type": "code",
   "execution_count": 105,
   "id": "1374dc9d",
   "metadata": {},
   "outputs": [
    {
     "name": "stdout",
     "output_type": "stream",
     "text": [
      "-0.003970670182005876\n"
     ]
    }
   ],
   "source": [
    "print(cross_val_score(lasso,x,Y,cv=5).mean())"
   ]
  },
  {
   "cell_type": "markdown",
   "id": "de8e3210",
   "metadata": {},
   "source": [
    "# RandomForest Regressor"
   ]
  },
  {
   "cell_type": "code",
   "execution_count": 98,
   "id": "4db3076c",
   "metadata": {},
   "outputs": [],
   "source": [
    "from sklearn.ensemble import RandomForestRegressor"
   ]
  },
  {
   "cell_type": "code",
   "execution_count": 99,
   "id": "d56022f9",
   "metadata": {},
   "outputs": [
    {
     "name": "stdout",
     "output_type": "stream",
     "text": [
      "0.9671384672266312\n"
     ]
    }
   ],
   "source": [
    "RF=RandomForestRegressor()\n",
    "RF.fit(x_train,Y_train)\n",
    "print(RF.score(x_train,Y_train))\n",
    "RF_PRED=RF.predict(x_test)"
   ]
  },
  {
   "cell_type": "code",
   "execution_count": 100,
   "id": "95fc5cf4",
   "metadata": {},
   "outputs": [
    {
     "name": "stdout",
     "output_type": "stream",
     "text": [
      "MSE: 0.15825152731311123\n",
      "MAE: 0.2819116295184127\n",
      "r2_score: 0.8306426832020292\n"
     ]
    }
   ],
   "source": [
    "print('MSE:',mean_squared_error(RF_PRED,Y_test))\n",
    "print('MAE:',mean_absolute_error(RF_PRED,Y_test))\n",
    "print('r2_score:',r2_score(RF_PRED,Y_test))"
   ]
  },
  {
   "cell_type": "code",
   "execution_count": 104,
   "id": "dba6fe82",
   "metadata": {},
   "outputs": [
    {
     "name": "stdout",
     "output_type": "stream",
     "text": [
      "0.7984811764565947\n"
     ]
    }
   ],
   "source": [
    "print(cross_val_score(RF,x,Y,cv=5).mean())"
   ]
  },
  {
   "cell_type": "markdown",
   "id": "55c05502",
   "metadata": {},
   "source": [
    "# GradientBoostingRegressor"
   ]
  },
  {
   "cell_type": "code",
   "execution_count": 101,
   "id": "9e06e60f",
   "metadata": {},
   "outputs": [
    {
     "name": "stdout",
     "output_type": "stream",
     "text": [
      "0.894829658544589\n"
     ]
    }
   ],
   "source": [
    "from sklearn.ensemble import GradientBoostingRegressor\n",
    "\n",
    "GBR=GradientBoostingRegressor()\n",
    "GBR.fit(x_train,Y_train)\n",
    "print(GBR.score(x_train,Y_train))\n",
    "GBR_PRED=GBR.predict(x_test)"
   ]
  },
  {
   "cell_type": "code",
   "execution_count": 102,
   "id": "d6b35113",
   "metadata": {},
   "outputs": [
    {
     "name": "stdout",
     "output_type": "stream",
     "text": [
      "MSE: 0.14259384857228868\n",
      "MAE: 0.28305624217742986\n",
      "r2_score: 0.8378813232565867\n"
     ]
    }
   ],
   "source": [
    "print('MSE:',mean_squared_error(GBR_PRED,Y_test))\n",
    "print('MAE:',mean_absolute_error(GBR_PRED,Y_test))\n",
    "print('r2_score:',r2_score(GBR_PRED,Y_test))"
   ]
  },
  {
   "cell_type": "code",
   "execution_count": 103,
   "id": "9f762b2d",
   "metadata": {},
   "outputs": [
    {
     "name": "stdout",
     "output_type": "stream",
     "text": [
      "0.8114134132631874\n"
     ]
    }
   ],
   "source": [
    "print(cross_val_score(GBR,x,Y,cv=5).mean())"
   ]
  },
  {
   "cell_type": "markdown",
   "id": "0709fc1e",
   "metadata": {},
   "source": [
    "# HyperParameter Tuning"
   ]
  },
  {
   "cell_type": "code",
   "execution_count": 112,
   "id": "33261cbe",
   "metadata": {},
   "outputs": [],
   "source": [
    "from sklearn.model_selection import GridSearchCV"
   ]
  },
  {
   "cell_type": "code",
   "execution_count": 115,
   "id": "511fc2c9",
   "metadata": {},
   "outputs": [],
   "source": [
    "GF=GradientBoostingRegressor()\n",
    "param={\n",
    "     'criterion':['mse','mae'],\n",
    "     'n_estimators':[100, 200],\n",
    "    }"
   ]
  },
  {
   "cell_type": "code",
   "execution_count": 118,
   "id": "fa85dfb3",
   "metadata": {},
   "outputs": [
    {
     "name": "stdout",
     "output_type": "stream",
     "text": [
      "Fitting 10 folds for each of 4 candidates, totalling 40 fits\n"
     ]
    },
    {
     "data": {
      "text/plain": [
       "{'criterion': 'mse', 'n_estimators': 100}"
      ]
     },
     "execution_count": 118,
     "metadata": {},
     "output_type": "execute_result"
    }
   ],
   "source": [
    "GF_grid=GridSearchCV(RandomForestRegressor(),param,cv=10,scoring='accuracy',n_jobs=-1,verbose=2)\n",
    "GF_grid.fit(x_train,Y_train)\n",
    "GF_grid_pred=GF_grid.best_estimator_.predict(x_test)\n",
    "GF_grid.best_params_"
   ]
  },
  {
   "cell_type": "code",
   "execution_count": 119,
   "id": "b1b24a26",
   "metadata": {},
   "outputs": [
    {
     "name": "stdout",
     "output_type": "stream",
     "text": [
      "MSE: 0.15589013586494602\n",
      "MAE: 0.2843925978512241\n",
      "r2_score: 0.8337847944361406\n"
     ]
    }
   ],
   "source": [
    "print('MSE:',mean_squared_error(GF_grid_pred,Y_test))\n",
    "print('MAE:',mean_absolute_error(GF_grid_pred,Y_test))\n",
    "print('r2_score:',r2_score(GF_grid_pred,Y_test))"
   ]
  },
  {
   "cell_type": "raw",
   "id": "6bb9be3c",
   "metadata": {},
   "source": [
    "CHOOSING GRADIENT BOOSTER is the BEST MODEL.."
   ]
  },
  {
   "cell_type": "markdown",
   "id": "028e5b75",
   "metadata": {},
   "source": [
    "# CLASSIFICATION MODEL"
   ]
  },
  {
   "cell_type": "raw",
   "id": "dbe02e3c",
   "metadata": {},
   "source": [
    "SINCE primary_fuel is categorical..."
   ]
  },
  {
   "cell_type": "code",
   "execution_count": 120,
   "id": "ac58da25",
   "metadata": {},
   "outputs": [],
   "source": [
    "a=df.drop(['primary_fuel'],axis=1)\n",
    "b=df['primary_fuel']"
   ]
  },
  {
   "cell_type": "code",
   "execution_count": 121,
   "id": "2af4e598",
   "metadata": {},
   "outputs": [
    {
     "data": {
      "text/plain": [
       "(907, 12)"
      ]
     },
     "execution_count": 121,
     "metadata": {},
     "output_type": "execute_result"
    }
   ],
   "source": [
    "a.shape"
   ]
  },
  {
   "cell_type": "code",
   "execution_count": 122,
   "id": "bb8aeefb",
   "metadata": {},
   "outputs": [
    {
     "data": {
      "text/plain": [
       "(907,)"
      ]
     },
     "execution_count": 122,
     "metadata": {},
     "output_type": "execute_result"
    }
   ],
   "source": [
    "b.shape"
   ]
  },
  {
   "cell_type": "markdown",
   "id": "e5b7ddf8",
   "metadata": {},
   "source": [
    "# train and test"
   ]
  },
  {
   "cell_type": "code",
   "execution_count": 123,
   "id": "acee7a41",
   "metadata": {},
   "outputs": [],
   "source": [
    "from sklearn.model_selection import train_test_split"
   ]
  },
  {
   "cell_type": "code",
   "execution_count": 125,
   "id": "1fde560f",
   "metadata": {},
   "outputs": [],
   "source": [
    "x_train,x_test,y_train,y_test=train_test_split(a,b,test_size=.27,random_state=42)"
   ]
  },
  {
   "cell_type": "code",
   "execution_count": 126,
   "id": "fdf43b80",
   "metadata": {},
   "outputs": [
    {
     "data": {
      "text/plain": [
       "(662, 12)"
      ]
     },
     "execution_count": 126,
     "metadata": {},
     "output_type": "execute_result"
    }
   ],
   "source": [
    "x_train.shape"
   ]
  },
  {
   "cell_type": "code",
   "execution_count": 127,
   "id": "c66027eb",
   "metadata": {},
   "outputs": [
    {
     "data": {
      "text/plain": [
       "(245, 12)"
      ]
     },
     "execution_count": 127,
     "metadata": {},
     "output_type": "execute_result"
    }
   ],
   "source": [
    "x_test.shape"
   ]
  },
  {
   "cell_type": "code",
   "execution_count": 128,
   "id": "c7e0e82b",
   "metadata": {},
   "outputs": [
    {
     "data": {
      "text/plain": [
       "(662,)"
      ]
     },
     "execution_count": 128,
     "metadata": {},
     "output_type": "execute_result"
    }
   ],
   "source": [
    "y_train.shape"
   ]
  },
  {
   "cell_type": "code",
   "execution_count": 129,
   "id": "97b4b02b",
   "metadata": {},
   "outputs": [
    {
     "data": {
      "text/plain": [
       "(245,)"
      ]
     },
     "execution_count": 129,
     "metadata": {},
     "output_type": "execute_result"
    }
   ],
   "source": [
    "y_test.shape"
   ]
  },
  {
   "cell_type": "markdown",
   "id": "731005b2",
   "metadata": {},
   "source": [
    "# MODEL BUILDING-LOGISTIC REGRESSION"
   ]
  },
  {
   "cell_type": "code",
   "execution_count": 130,
   "id": "def0105d",
   "metadata": {},
   "outputs": [],
   "source": [
    "from sklearn.linear_model import LogisticRegression"
   ]
  },
  {
   "cell_type": "code",
   "execution_count": 172,
   "id": "9ff7bc9a",
   "metadata": {},
   "outputs": [],
   "source": [
    "from sklearn.metrics import accuracy_score,confusion_matrix,classification_report"
   ]
  },
  {
   "cell_type": "code",
   "execution_count": 131,
   "id": "493b1ba1",
   "metadata": {},
   "outputs": [],
   "source": [
    "log=LogisticRegression()"
   ]
  },
  {
   "cell_type": "code",
   "execution_count": 137,
   "id": "a61b75bc",
   "metadata": {},
   "outputs": [
    {
     "name": "stdout",
     "output_type": "stream",
     "text": [
      "0.6612244897959184\n",
      "[[ 2  0  0  0  0  0  4  2]\n",
      " [ 0 32  0 15  0  0 16  2]\n",
      " [ 0  3  0 15  0  0  3  2]\n",
      " [ 0  3  0 74  0  0  0  0]\n",
      " [ 0  2  0  1  0  0  0  0]\n",
      " [ 0  0  0  7  0  0  1  0]\n",
      " [ 0  4  0  0  0  0 16  3]\n",
      " [ 0  0  0  0  0  0  0 38]]\n",
      "              precision    recall  f1-score   support\n",
      "\n",
      "           0       1.00      0.25      0.40         8\n",
      "           1       0.73      0.49      0.59        65\n",
      "           2       0.00      0.00      0.00        23\n",
      "           3       0.66      0.96      0.78        77\n",
      "           4       0.00      0.00      0.00         3\n",
      "           5       0.00      0.00      0.00         8\n",
      "           6       0.40      0.70      0.51        23\n",
      "           7       0.81      1.00      0.89        38\n",
      "\n",
      "    accuracy                           0.66       245\n",
      "   macro avg       0.45      0.42      0.40       245\n",
      "weighted avg       0.60      0.66      0.60       245\n",
      "\n",
      "Training accuracy:: 0.6404833836858006\n",
      "Test accuracy:: 0.6612244897959184\n"
     ]
    }
   ],
   "source": [
    "log.fit(x_train,y_train)\n",
    "log_pred=log.predict(x_test)\n",
    "\n",
    "print(accuracy_score(y_test,log_pred))\n",
    "print(confusion_matrix(y_test,log_pred))\n",
    "print(classification_report(y_test,log_pred))\n",
    "print(\"Training accuracy::\",log.score(x_train,y_train))\n",
    "print(\"Test accuracy::\",log.score(x_test,y_test))"
   ]
  },
  {
   "cell_type": "code",
   "execution_count": 138,
   "id": "66f85304",
   "metadata": {},
   "outputs": [
    {
     "name": "stdout",
     "output_type": "stream",
     "text": [
      "0.6461477748770565\n"
     ]
    }
   ],
   "source": [
    "print(cross_val_score(log,a,b,cv=5).mean())"
   ]
  },
  {
   "cell_type": "markdown",
   "id": "8689dc74",
   "metadata": {},
   "source": [
    "# KNeighborsClassifier"
   ]
  },
  {
   "cell_type": "code",
   "execution_count": 140,
   "id": "79040221",
   "metadata": {},
   "outputs": [],
   "source": [
    "from sklearn.neighbors import KNeighborsClassifier"
   ]
  },
  {
   "cell_type": "code",
   "execution_count": 141,
   "id": "7efb9437",
   "metadata": {},
   "outputs": [
    {
     "name": "stdout",
     "output_type": "stream",
     "text": [
      "0.6938775510204082\n",
      "[[ 3  1  0  0  0  0  3  1]\n",
      " [ 3 45  1  9  0  0  6  1]\n",
      " [ 3  8  4  6  0  0  0  2]\n",
      " [ 0  8  5 64  0  0  0  0]\n",
      " [ 0  2  0  1  0  0  0  0]\n",
      " [ 0  4  2  1  0  1  0  0]\n",
      " [ 4  4  0  0  0  0 15  0]\n",
      " [ 0  0  0  0  0  0  0 38]]\n",
      "              precision    recall  f1-score   support\n",
      "\n",
      "           0       0.23      0.38      0.29         8\n",
      "           1       0.62      0.69      0.66        65\n",
      "           2       0.33      0.17      0.23        23\n",
      "           3       0.79      0.83      0.81        77\n",
      "           4       0.00      0.00      0.00         3\n",
      "           5       1.00      0.12      0.22         8\n",
      "           6       0.62      0.65      0.64        23\n",
      "           7       0.90      1.00      0.95        38\n",
      "\n",
      "    accuracy                           0.69       245\n",
      "   macro avg       0.56      0.48      0.47       245\n",
      "weighted avg       0.68      0.69      0.67       245\n",
      "\n",
      "Training accuracy:: 0.7960725075528701\n",
      "Test accuracy:: 0.6938775510204082\n"
     ]
    }
   ],
   "source": [
    "knn=KNeighborsClassifier()\n",
    "knn.fit(x_train,y_train)\n",
    "pred_knn=knn.predict(x_test)\n",
    "print(accuracy_score(y_test,pred_knn))\n",
    "print(confusion_matrix(y_test,pred_knn))\n",
    "print(classification_report(y_test,pred_knn))\n",
    "print(\"Training accuracy::\",knn.score(x_train,y_train))\n",
    "print(\"Test accuracy::\",knn.score(x_test,y_test))"
   ]
  },
  {
   "cell_type": "code",
   "execution_count": 142,
   "id": "5c62c57f",
   "metadata": {},
   "outputs": [
    {
     "name": "stdout",
     "output_type": "stream",
     "text": [
      "0.6989557403922045\n"
     ]
    }
   ],
   "source": [
    "print(cross_val_score(knn,a,b,cv=5).mean())"
   ]
  },
  {
   "cell_type": "markdown",
   "id": "94873faf",
   "metadata": {},
   "source": [
    "# RandomForestClassifier"
   ]
  },
  {
   "cell_type": "code",
   "execution_count": 143,
   "id": "dd0ba3a3",
   "metadata": {},
   "outputs": [],
   "source": [
    "from sklearn.ensemble import RandomForestClassifier"
   ]
  },
  {
   "cell_type": "code",
   "execution_count": 144,
   "id": "a463f662",
   "metadata": {},
   "outputs": [
    {
     "name": "stdout",
     "output_type": "stream",
     "text": [
      "0.8367346938775511\n",
      "[[ 5  2  0  0  0  0  0  1]\n",
      " [ 4 54  4  3  0  0  0  0]\n",
      " [ 0  8  8  4  0  3  0  0]\n",
      " [ 0  2  0 75  0  0  0  0]\n",
      " [ 0  2  0  1  0  0  0  0]\n",
      " [ 0  1  4  1  0  2  0  0]\n",
      " [ 0  0  0  0  0  0 23  0]\n",
      " [ 0  0  0  0  0  0  0 38]]\n",
      "              precision    recall  f1-score   support\n",
      "\n",
      "           0       0.56      0.62      0.59         8\n",
      "           1       0.78      0.83      0.81        65\n",
      "           2       0.50      0.35      0.41        23\n",
      "           3       0.89      0.97      0.93        77\n",
      "           4       0.00      0.00      0.00         3\n",
      "           5       0.40      0.25      0.31         8\n",
      "           6       1.00      1.00      1.00        23\n",
      "           7       0.97      1.00      0.99        38\n",
      "\n",
      "    accuracy                           0.84       245\n",
      "   macro avg       0.64      0.63      0.63       245\n",
      "weighted avg       0.81      0.84      0.82       245\n",
      "\n",
      "Training accuracy:: 1.0\n",
      "Test accuracy:: 0.8367346938775511\n"
     ]
    }
   ],
   "source": [
    "Ran=RandomForestClassifier()\n",
    "Ran.fit(x_train,y_train)\n",
    "pred_Ran=Ran.predict(x_test)\n",
    "print(accuracy_score(y_test,pred_Ran))\n",
    "print(confusion_matrix(y_test,pred_Ran))\n",
    "print(classification_report(y_test,pred_Ran))\n",
    "print(\"Training accuracy::\",Ran.score(x_train,y_train))\n",
    "print(\"Test accuracy::\",Ran.score(x_test,y_test))"
   ]
  },
  {
   "cell_type": "code",
   "execution_count": 145,
   "id": "cbbf1a67",
   "metadata": {},
   "outputs": [
    {
     "name": "stdout",
     "output_type": "stream",
     "text": [
      "0.8511747920587698\n"
     ]
    }
   ],
   "source": [
    "print(cross_val_score(Ran,a,b,cv=5).mean())"
   ]
  },
  {
   "cell_type": "markdown",
   "id": "24b4f4a1",
   "metadata": {},
   "source": [
    "# AdaBoostClassifier"
   ]
  },
  {
   "cell_type": "code",
   "execution_count": 146,
   "id": "4e78c2ae",
   "metadata": {},
   "outputs": [],
   "source": [
    "from sklearn.ensemble import AdaBoostClassifier\n"
   ]
  },
  {
   "cell_type": "code",
   "execution_count": 149,
   "id": "0fb8c0bf",
   "metadata": {},
   "outputs": [
    {
     "name": "stdout",
     "output_type": "stream",
     "text": [
      "0.3673469387755102\n",
      "[[ 0  8  0  0  0  0  0  0]\n",
      " [ 0 63  0  2  0  0  0  0]\n",
      " [ 0 23  0  0  0  0  0  0]\n",
      " [ 0 71  0  6  0  0  0  0]\n",
      " [ 0  3  0  0  0  0  0  0]\n",
      " [ 0  6  0  2  0  0  0  0]\n",
      " [ 0  0  0  2  0  0 21  0]\n",
      " [ 0 38  0  0  0  0  0  0]]\n",
      "              precision    recall  f1-score   support\n",
      "\n",
      "           0       0.00      0.00      0.00         8\n",
      "           1       0.30      0.97      0.45        65\n",
      "           2       0.00      0.00      0.00        23\n",
      "           3       0.50      0.08      0.13        77\n",
      "           4       0.00      0.00      0.00         3\n",
      "           5       0.00      0.00      0.00         8\n",
      "           6       1.00      0.91      0.95        23\n",
      "           7       0.00      0.00      0.00        38\n",
      "\n",
      "    accuracy                           0.37       245\n",
      "   macro avg       0.22      0.25      0.19       245\n",
      "weighted avg       0.33      0.37      0.25       245\n",
      "\n",
      "Training accuracy:: 0.4561933534743202\n",
      "Test accuracy:: 0.3673469387755102\n"
     ]
    }
   ],
   "source": [
    "Ada=AdaBoostClassifier()\n",
    "Ada.fit(x_train,y_train)\n",
    "pred_Ada=Ada.predict(x_test)\n",
    "print(accuracy_score(y_test,pred_Ada))\n",
    "print(confusion_matrix(y_test,pred_Ada))\n",
    "print(classification_report(y_test,pred_Ada))\n",
    "print(\"Training accuracy::\",Ada.score(x_train,y_train))\n",
    "print(\"Test accuracy::\",Ada.score(x_test,y_test))"
   ]
  },
  {
   "cell_type": "code",
   "execution_count": 150,
   "id": "7dea5af7",
   "metadata": {},
   "outputs": [
    {
     "name": "stdout",
     "output_type": "stream",
     "text": [
      "0.5293303381701171\n"
     ]
    }
   ],
   "source": [
    "print(cross_val_score(Ada,a,b,cv=5).mean())"
   ]
  },
  {
   "cell_type": "markdown",
   "id": "a1b56251",
   "metadata": {},
   "source": [
    "# BaggingClassifier"
   ]
  },
  {
   "cell_type": "code",
   "execution_count": 151,
   "id": "9cddb826",
   "metadata": {},
   "outputs": [],
   "source": [
    "from sklearn.ensemble import BaggingClassifier"
   ]
  },
  {
   "cell_type": "code",
   "execution_count": 152,
   "id": "34306041",
   "metadata": {},
   "outputs": [
    {
     "name": "stdout",
     "output_type": "stream",
     "text": [
      "0.8244897959183674\n",
      "[[ 6  2  0  0  0  0  0  0]\n",
      " [ 3 53  5  3  0  1  0  0]\n",
      " [ 0  7  7  5  0  4  0  0]\n",
      " [ 0  4  0 73  0  0  0  0]\n",
      " [ 0  2  0  1  0  0  0  0]\n",
      " [ 0  1  3  1  0  3  0  0]\n",
      " [ 0  0  0  0  0  1 22  0]\n",
      " [ 0  0  0  0  0  0  0 38]]\n",
      "              precision    recall  f1-score   support\n",
      "\n",
      "           0       0.67      0.75      0.71         8\n",
      "           1       0.77      0.82      0.79        65\n",
      "           2       0.47      0.30      0.37        23\n",
      "           3       0.88      0.95      0.91        77\n",
      "           4       0.00      0.00      0.00         3\n",
      "           5       0.33      0.38      0.35         8\n",
      "           6       1.00      0.96      0.98        23\n",
      "           7       1.00      1.00      1.00        38\n",
      "\n",
      "    accuracy                           0.82       245\n",
      "   macro avg       0.64      0.64      0.64       245\n",
      "weighted avg       0.81      0.82      0.81       245\n",
      "\n",
      "Training accuracy:: 0.986404833836858\n",
      "Test accuracy:: 0.8244897959183674\n"
     ]
    }
   ],
   "source": [
    "Bag=BaggingClassifier()\n",
    "Bag.fit(x_train,y_train)\n",
    "pred_Bag=Bag.predict(x_test)\n",
    "print(accuracy_score(y_test,pred_Bag))\n",
    "print(confusion_matrix(y_test,pred_Bag))\n",
    "print(classification_report(y_test,pred_Bag))\n",
    "print(\"Training accuracy::\",Bag.score(x_train,y_train))\n",
    "print(\"Test accuracy::\",Bag.score(x_test,y_test))"
   ]
  },
  {
   "cell_type": "code",
   "execution_count": 153,
   "id": "188a1e02",
   "metadata": {},
   "outputs": [
    {
     "name": "stdout",
     "output_type": "stream",
     "text": [
      "0.8423592981604031\n"
     ]
    }
   ],
   "source": [
    "print(cross_val_score(Bag,a,b,cv=5).mean())"
   ]
  },
  {
   "cell_type": "markdown",
   "id": "873de094",
   "metadata": {},
   "source": [
    "# Gradient Boosting classifier"
   ]
  },
  {
   "cell_type": "code",
   "execution_count": 154,
   "id": "f5e8a7a8",
   "metadata": {},
   "outputs": [],
   "source": [
    "from sklearn.ensemble import GradientBoostingClassifier"
   ]
  },
  {
   "cell_type": "code",
   "execution_count": 156,
   "id": "332122c8",
   "metadata": {},
   "outputs": [
    {
     "name": "stdout",
     "output_type": "stream",
     "text": [
      "0.8204081632653061\n",
      "[[ 5  3  0  0  0  0  0  0]\n",
      " [ 2 55  4  4  0  0  0  0]\n",
      " [ 1  6  9  4  0  3  0  0]\n",
      " [ 0  7  1 69  0  0  0  0]\n",
      " [ 0  3  0  0  0  0  0  0]\n",
      " [ 0  1  2  2  1  2  0  0]\n",
      " [ 0  0  0  0  0  0 23  0]\n",
      " [ 0  0  0  0  0  0  0 38]]\n",
      "              precision    recall  f1-score   support\n",
      "\n",
      "           0       0.62      0.62      0.62         8\n",
      "           1       0.73      0.85      0.79        65\n",
      "           2       0.56      0.39      0.46        23\n",
      "           3       0.87      0.90      0.88        77\n",
      "           4       0.00      0.00      0.00         3\n",
      "           5       0.40      0.25      0.31         8\n",
      "           6       1.00      1.00      1.00        23\n",
      "           7       1.00      1.00      1.00        38\n",
      "\n",
      "    accuracy                           0.82       245\n",
      "   macro avg       0.65      0.63      0.63       245\n",
      "weighted avg       0.80      0.82      0.81       245\n",
      "\n",
      "Training accuracy:: 1.0\n",
      "Test accuracy:: 0.8204081632653061\n"
     ]
    }
   ],
   "source": [
    "Gra=GradientBoostingClassifier()\n",
    "Gra.fit(x_train,y_train)\n",
    "pred_Gra=Gra.predict(x_test)\n",
    "print(accuracy_score(y_test,pred_Gra))\n",
    "print(confusion_matrix(y_test,pred_Gra))\n",
    "print(classification_report(y_test,pred_Gra))\n",
    "print(\"Training accuracy::\",Gra.score(x_train,y_train))\n",
    "print(\"Test accuracy::\",Gra.score(x_test,y_test))"
   ]
  },
  {
   "cell_type": "code",
   "execution_count": 157,
   "id": "3f0e94bb",
   "metadata": {},
   "outputs": [
    {
     "name": "stdout",
     "output_type": "stream",
     "text": [
      "0.8644041041831096\n"
     ]
    }
   ],
   "source": [
    "print(cross_val_score(Gra,a,b,cv=5).mean())"
   ]
  },
  {
   "cell_type": "markdown",
   "id": "bb03daed",
   "metadata": {},
   "source": [
    "# HyperarameterTuning"
   ]
  },
  {
   "cell_type": "raw",
   "id": "529eec83",
   "metadata": {},
   "source": [
    "TestAccuracy in RandomForest is high.."
   ]
  },
  {
   "cell_type": "code",
   "execution_count": 158,
   "id": "e98465da",
   "metadata": {},
   "outputs": [],
   "source": [
    "Ran=RandomForestClassifier()\n",
    "param_grid={\n",
    "    'criterion' : [\"gini\", \"entropy\"],\n",
    "    'n_estimators':[200,50],\n",
    "    'min_samples_split':[2,3],\n",
    "     'random_state':[10]              \n",
    "}"
   ]
  },
  {
   "cell_type": "code",
   "execution_count": 159,
   "id": "0b8e20bc",
   "metadata": {},
   "outputs": [],
   "source": [
    "Ran_grid=GridSearchCV(RandomForestClassifier(),param_grid,cv=4,scoring='accuracy',n_jobs=-1,verbose=2)"
   ]
  },
  {
   "cell_type": "code",
   "execution_count": 160,
   "id": "5c33722d",
   "metadata": {},
   "outputs": [
    {
     "name": "stdout",
     "output_type": "stream",
     "text": [
      "Fitting 4 folds for each of 8 candidates, totalling 32 fits\n",
      "Accuracy after parameter tuning:: 0.8244897959183674\n"
     ]
    }
   ],
   "source": [
    "Ran_grid.fit(x_train,y_train)\n",
    "Ran_pred=Ran_grid.best_estimator_.predict(x_test)\n",
    "print(\"Accuracy after parameter tuning::\",accuracy_score(y_test,Ran_pred))"
   ]
  },
  {
   "cell_type": "code",
   "execution_count": 166,
   "id": "2aa08ece",
   "metadata": {},
   "outputs": [
    {
     "data": {
      "text/plain": [
       "{'criterion': 'entropy',\n",
       " 'min_samples_split': 2,\n",
       " 'n_estimators': 200,\n",
       " 'random_state': 10}"
      ]
     },
     "execution_count": 166,
     "metadata": {},
     "output_type": "execute_result"
    }
   ],
   "source": [
    "Ran_grid.best_params_"
   ]
  },
  {
   "cell_type": "code",
   "execution_count": 168,
   "id": "36668c1c",
   "metadata": {},
   "outputs": [],
   "source": [
    "best_param={\n",
    "    'criterion' : ['gini'],\n",
    "    'n_estimators':[200],\n",
    "    'min_samples_split':[2],\n",
    "     'random_state':[10]   }"
   ]
  },
  {
   "cell_type": "code",
   "execution_count": 169,
   "id": "0125d26e",
   "metadata": {},
   "outputs": [],
   "source": [
    "best_Ran_grid=GridSearchCV(RandomForestClassifier(),best_param,cv=4,scoring='accuracy',n_jobs=-1,verbose=2)"
   ]
  },
  {
   "cell_type": "code",
   "execution_count": 170,
   "id": "da6215b2",
   "metadata": {},
   "outputs": [
    {
     "name": "stdout",
     "output_type": "stream",
     "text": [
      "Fitting 4 folds for each of 1 candidates, totalling 4 fits\n",
      "Accuracy after parameter tuning:: 0.8408163265306122\n"
     ]
    }
   ],
   "source": [
    "best_Ran_grid.fit(x_train,y_train)\n",
    "best_Ran_pred=best_Ran_grid.best_estimator_.predict(x_test)\n",
    "print(\"Accuracy after parameter tuning::\",accuracy_score(y_test,best_Ran_pred))"
   ]
  },
  {
   "cell_type": "markdown",
   "id": "0b32d2fe",
   "metadata": {},
   "source": [
    "# Classificationreport"
   ]
  },
  {
   "cell_type": "code",
   "execution_count": 175,
   "id": "8751b56e",
   "metadata": {},
   "outputs": [
    {
     "name": "stdout",
     "output_type": "stream",
     "text": [
      "              precision    recall  f1-score   support\n",
      "\n",
      "           0       0.56      0.62      0.59         8\n",
      "           1       0.78      0.83      0.81        65\n",
      "           2       0.56      0.39      0.46        23\n",
      "           3       0.90      0.96      0.93        77\n",
      "           4       0.00      0.00      0.00         3\n",
      "           5       0.43      0.38      0.40         8\n",
      "           6       1.00      1.00      1.00        23\n",
      "           7       0.97      1.00      0.99        38\n",
      "\n",
      "    accuracy                           0.84       245\n",
      "   macro avg       0.65      0.65      0.65       245\n",
      "weighted avg       0.82      0.84      0.83       245\n",
      "\n"
     ]
    }
   ],
   "source": [
    "print(classification_report(y_test,best_Ran_pred))"
   ]
  },
  {
   "cell_type": "code",
   "execution_count": 177,
   "id": "f9b896d8",
   "metadata": {},
   "outputs": [],
   "source": [
    "from sklearn.metrics import accuracy_score,confusion_matrix,roc_curve,roc_auc_score"
   ]
  },
  {
   "cell_type": "code",
   "execution_count": 180,
   "id": "574070db",
   "metadata": {},
   "outputs": [
    {
     "name": "stdout",
     "output_type": "stream",
     "text": [
      "Fitting 4 folds for each of 1 candidates, totalling 4 fits\n",
      "One-vs-One ROC AUC scores:\n",
      "0.911611 (macro),\n",
      "0.931176 (weighted by prevalence)\n",
      "========================================\n",
      "One-vs-Rest ROC AUC scores:\n",
      "0.933133 (macro),\n",
      "0.962599 (weighted by prevalence)\n"
     ]
    }
   ],
   "source": [
    "y_prob = best_Ran_grid.fit(x_train,y_train).predict_proba(x_test)\n",
    "\n",
    "macro_roc_auc_ovo = roc_auc_score(y_test, y_prob, multi_class=\"ovo\", average=\"macro\")\n",
    "weighted_roc_auc_ovo = roc_auc_score(y_test, y_prob, multi_class=\"ovo\", average=\"weighted\")\n",
    "macro_roc_auc_ovr = roc_auc_score(y_test, y_prob, multi_class=\"ovr\", average=\"macro\")\n",
    "weighted_roc_auc_ovr = roc_auc_score(y_test, y_prob, multi_class=\"ovr\", average=\"weighted\")\n",
    "print(\"One-vs-One ROC AUC scores:\\n{:.6f} (macro),\\n{:.6f} \"\n",
    "      \"(weighted by prevalence)\"\n",
    "      .format(macro_roc_auc_ovo, weighted_roc_auc_ovo))\n",
    "print(\"=\"*40)\n",
    "print(\"One-vs-Rest ROC AUC scores:\\n{:.6f} (macro),\\n{:.6f} \"\n",
    "      \"(weighted by prevalence)\"\n",
    "      .format(macro_roc_auc_ovr, weighted_roc_auc_ovr))"
   ]
  },
  {
   "cell_type": "markdown",
   "id": "fe776c3e",
   "metadata": {},
   "source": [
    "# Conclusion"
   ]
  },
  {
   "cell_type": "raw",
   "id": "4f775b1c",
   "metadata": {},
   "source": [
    "Random Forest Classifier is the best model which shows high accuracy compare to the other models."
   ]
  },
  {
   "cell_type": "code",
   "execution_count": 181,
   "id": "531dea6e",
   "metadata": {},
   "outputs": [],
   "source": [
    "#SAVING THE PROJECT\n",
    "import joblib"
   ]
  },
  {
   "cell_type": "code",
   "execution_count": 182,
   "id": "4ce6d499",
   "metadata": {},
   "outputs": [
    {
     "data": {
      "text/plain": [
       "['Global Power Plant.obj']"
      ]
     },
     "execution_count": 182,
     "metadata": {},
     "output_type": "execute_result"
    }
   ],
   "source": [
    "joblib.dump(best_Ran_grid.best_estimator_,'Global Power Plant.obj')"
   ]
  }
 ],
 "metadata": {
  "kernelspec": {
   "display_name": "Python 3 (ipykernel)",
   "language": "python",
   "name": "python3"
  },
  "language_info": {
   "codemirror_mode": {
    "name": "ipython",
    "version": 3
   },
   "file_extension": ".py",
   "mimetype": "text/x-python",
   "name": "python",
   "nbconvert_exporter": "python",
   "pygments_lexer": "ipython3",
   "version": "3.9.12"
  }
 },
 "nbformat": 4,
 "nbformat_minor": 5
}
