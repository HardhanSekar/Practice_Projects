{
 "cells": [
  {
   "cell_type": "markdown",
   "id": "5f2f4849",
   "metadata": {},
   "source": [
    "#                                          Customer Churn Analysis"
   ]
  },
  {
   "cell_type": "raw",
   "id": "bdf84e54",
   "metadata": {},
   "source": [
    "INTRODUCTION:\n",
    "         Customer churn is when a company’s customers stop doing business with that company,New business involves working leads \n",
    "through a sales funnel, using marketing and sales budgets to gain additional customers. Existing customers will often \n",
    "have a higher volume of service consumption and can generate additional customer referrals.Preventing customer churn is critically important to the telecommunications sector, as the barriers to entry for switching services are so low. Here we going to discus about data from IBM Sample Data Sets with the aim of building and comparing several customer churn."
   ]
  },
  {
   "cell_type": "code",
   "execution_count": 1,
   "id": "0c73b3ab",
   "metadata": {},
   "outputs": [],
   "source": [
    "#Importing Libraries\n",
    "\n",
    "import warnings\n",
    "warnings.filterwarnings(\"ignore\")\n",
    "\n",
    "import numpy as np\n",
    "import pandas as pd\n",
    "import matplotlib.pyplot as plt                                         \n",
    "%matplotlib inline\n",
    "\n",
    "import seaborn as sns\n",
    "from plotly.subplots import make_subplots\n",
    "from sklearn import metrics\n",
    "\n",
    "from sklearn import preprocessing\n",
    "from sklearn.preprocessing import StandardScaler\n",
    "from sklearn.preprocessing import MinMaxScaler\n",
    "from scipy.stats import zscore\n",
    "from sklearn.model_selection import train_test_split\n",
    "\n",
    "from sklearn.preprocessing import PowerTransformer\n",
    "from sklearn.model_selection import KFold\n",
    "from sklearn.feature_selection import RFE\n",
    "\n",
    "from sklearn.pipeline import Pipeline\n",
    "from sklearn.pipeline import make_pipeline\n",
    "\n",
    "from statsmodels.stats.outliers_influence import variance_inflation_factor\n",
    "from sklearn.metrics import silhouette_score\n",
    "from sklearn.metrics import accuracy_score\n",
    "from sklearn.model_selection import cross_val_score"
   ]
  },
  {
   "cell_type": "code",
   "execution_count": 2,
   "id": "47b0a842",
   "metadata": {},
   "outputs": [
    {
     "data": {
      "text/html": [
       "<div>\n",
       "<style scoped>\n",
       "    .dataframe tbody tr th:only-of-type {\n",
       "        vertical-align: middle;\n",
       "    }\n",
       "\n",
       "    .dataframe tbody tr th {\n",
       "        vertical-align: top;\n",
       "    }\n",
       "\n",
       "    .dataframe thead th {\n",
       "        text-align: right;\n",
       "    }\n",
       "</style>\n",
       "<table border=\"1\" class=\"dataframe\">\n",
       "  <thead>\n",
       "    <tr style=\"text-align: right;\">\n",
       "      <th></th>\n",
       "      <th>customerID</th>\n",
       "      <th>gender</th>\n",
       "      <th>SeniorCitizen</th>\n",
       "      <th>Partner</th>\n",
       "      <th>Dependents</th>\n",
       "      <th>tenure</th>\n",
       "      <th>PhoneService</th>\n",
       "      <th>MultipleLines</th>\n",
       "      <th>InternetService</th>\n",
       "      <th>OnlineSecurity</th>\n",
       "      <th>...</th>\n",
       "      <th>DeviceProtection</th>\n",
       "      <th>TechSupport</th>\n",
       "      <th>StreamingTV</th>\n",
       "      <th>StreamingMovies</th>\n",
       "      <th>Contract</th>\n",
       "      <th>PaperlessBilling</th>\n",
       "      <th>PaymentMethod</th>\n",
       "      <th>MonthlyCharges</th>\n",
       "      <th>TotalCharges</th>\n",
       "      <th>Churn</th>\n",
       "    </tr>\n",
       "  </thead>\n",
       "  <tbody>\n",
       "    <tr>\n",
       "      <th>0</th>\n",
       "      <td>7590-VHVEG</td>\n",
       "      <td>Female</td>\n",
       "      <td>0</td>\n",
       "      <td>Yes</td>\n",
       "      <td>No</td>\n",
       "      <td>1</td>\n",
       "      <td>No</td>\n",
       "      <td>No phone service</td>\n",
       "      <td>DSL</td>\n",
       "      <td>No</td>\n",
       "      <td>...</td>\n",
       "      <td>No</td>\n",
       "      <td>No</td>\n",
       "      <td>No</td>\n",
       "      <td>No</td>\n",
       "      <td>Month-to-month</td>\n",
       "      <td>Yes</td>\n",
       "      <td>Electronic check</td>\n",
       "      <td>29.85</td>\n",
       "      <td>29.85</td>\n",
       "      <td>No</td>\n",
       "    </tr>\n",
       "    <tr>\n",
       "      <th>1</th>\n",
       "      <td>5575-GNVDE</td>\n",
       "      <td>Male</td>\n",
       "      <td>0</td>\n",
       "      <td>No</td>\n",
       "      <td>No</td>\n",
       "      <td>34</td>\n",
       "      <td>Yes</td>\n",
       "      <td>No</td>\n",
       "      <td>DSL</td>\n",
       "      <td>Yes</td>\n",
       "      <td>...</td>\n",
       "      <td>Yes</td>\n",
       "      <td>No</td>\n",
       "      <td>No</td>\n",
       "      <td>No</td>\n",
       "      <td>One year</td>\n",
       "      <td>No</td>\n",
       "      <td>Mailed check</td>\n",
       "      <td>56.95</td>\n",
       "      <td>1889.5</td>\n",
       "      <td>No</td>\n",
       "    </tr>\n",
       "    <tr>\n",
       "      <th>2</th>\n",
       "      <td>3668-QPYBK</td>\n",
       "      <td>Male</td>\n",
       "      <td>0</td>\n",
       "      <td>No</td>\n",
       "      <td>No</td>\n",
       "      <td>2</td>\n",
       "      <td>Yes</td>\n",
       "      <td>No</td>\n",
       "      <td>DSL</td>\n",
       "      <td>Yes</td>\n",
       "      <td>...</td>\n",
       "      <td>No</td>\n",
       "      <td>No</td>\n",
       "      <td>No</td>\n",
       "      <td>No</td>\n",
       "      <td>Month-to-month</td>\n",
       "      <td>Yes</td>\n",
       "      <td>Mailed check</td>\n",
       "      <td>53.85</td>\n",
       "      <td>108.15</td>\n",
       "      <td>Yes</td>\n",
       "    </tr>\n",
       "    <tr>\n",
       "      <th>3</th>\n",
       "      <td>7795-CFOCW</td>\n",
       "      <td>Male</td>\n",
       "      <td>0</td>\n",
       "      <td>No</td>\n",
       "      <td>No</td>\n",
       "      <td>45</td>\n",
       "      <td>No</td>\n",
       "      <td>No phone service</td>\n",
       "      <td>DSL</td>\n",
       "      <td>Yes</td>\n",
       "      <td>...</td>\n",
       "      <td>Yes</td>\n",
       "      <td>Yes</td>\n",
       "      <td>No</td>\n",
       "      <td>No</td>\n",
       "      <td>One year</td>\n",
       "      <td>No</td>\n",
       "      <td>Bank transfer (automatic)</td>\n",
       "      <td>42.30</td>\n",
       "      <td>1840.75</td>\n",
       "      <td>No</td>\n",
       "    </tr>\n",
       "    <tr>\n",
       "      <th>4</th>\n",
       "      <td>9237-HQITU</td>\n",
       "      <td>Female</td>\n",
       "      <td>0</td>\n",
       "      <td>No</td>\n",
       "      <td>No</td>\n",
       "      <td>2</td>\n",
       "      <td>Yes</td>\n",
       "      <td>No</td>\n",
       "      <td>Fiber optic</td>\n",
       "      <td>No</td>\n",
       "      <td>...</td>\n",
       "      <td>No</td>\n",
       "      <td>No</td>\n",
       "      <td>No</td>\n",
       "      <td>No</td>\n",
       "      <td>Month-to-month</td>\n",
       "      <td>Yes</td>\n",
       "      <td>Electronic check</td>\n",
       "      <td>70.70</td>\n",
       "      <td>151.65</td>\n",
       "      <td>Yes</td>\n",
       "    </tr>\n",
       "    <tr>\n",
       "      <th>5</th>\n",
       "      <td>9305-CDSKC</td>\n",
       "      <td>Female</td>\n",
       "      <td>0</td>\n",
       "      <td>No</td>\n",
       "      <td>No</td>\n",
       "      <td>8</td>\n",
       "      <td>Yes</td>\n",
       "      <td>Yes</td>\n",
       "      <td>Fiber optic</td>\n",
       "      <td>No</td>\n",
       "      <td>...</td>\n",
       "      <td>Yes</td>\n",
       "      <td>No</td>\n",
       "      <td>Yes</td>\n",
       "      <td>Yes</td>\n",
       "      <td>Month-to-month</td>\n",
       "      <td>Yes</td>\n",
       "      <td>Electronic check</td>\n",
       "      <td>99.65</td>\n",
       "      <td>820.5</td>\n",
       "      <td>Yes</td>\n",
       "    </tr>\n",
       "    <tr>\n",
       "      <th>6</th>\n",
       "      <td>1452-KIOVK</td>\n",
       "      <td>Male</td>\n",
       "      <td>0</td>\n",
       "      <td>No</td>\n",
       "      <td>Yes</td>\n",
       "      <td>22</td>\n",
       "      <td>Yes</td>\n",
       "      <td>Yes</td>\n",
       "      <td>Fiber optic</td>\n",
       "      <td>No</td>\n",
       "      <td>...</td>\n",
       "      <td>No</td>\n",
       "      <td>No</td>\n",
       "      <td>Yes</td>\n",
       "      <td>No</td>\n",
       "      <td>Month-to-month</td>\n",
       "      <td>Yes</td>\n",
       "      <td>Credit card (automatic)</td>\n",
       "      <td>89.10</td>\n",
       "      <td>1949.4</td>\n",
       "      <td>No</td>\n",
       "    </tr>\n",
       "    <tr>\n",
       "      <th>7</th>\n",
       "      <td>6713-OKOMC</td>\n",
       "      <td>Female</td>\n",
       "      <td>0</td>\n",
       "      <td>No</td>\n",
       "      <td>No</td>\n",
       "      <td>10</td>\n",
       "      <td>No</td>\n",
       "      <td>No phone service</td>\n",
       "      <td>DSL</td>\n",
       "      <td>Yes</td>\n",
       "      <td>...</td>\n",
       "      <td>No</td>\n",
       "      <td>No</td>\n",
       "      <td>No</td>\n",
       "      <td>No</td>\n",
       "      <td>Month-to-month</td>\n",
       "      <td>No</td>\n",
       "      <td>Mailed check</td>\n",
       "      <td>29.75</td>\n",
       "      <td>301.9</td>\n",
       "      <td>No</td>\n",
       "    </tr>\n",
       "    <tr>\n",
       "      <th>8</th>\n",
       "      <td>7892-POOKP</td>\n",
       "      <td>Female</td>\n",
       "      <td>0</td>\n",
       "      <td>Yes</td>\n",
       "      <td>No</td>\n",
       "      <td>28</td>\n",
       "      <td>Yes</td>\n",
       "      <td>Yes</td>\n",
       "      <td>Fiber optic</td>\n",
       "      <td>No</td>\n",
       "      <td>...</td>\n",
       "      <td>Yes</td>\n",
       "      <td>Yes</td>\n",
       "      <td>Yes</td>\n",
       "      <td>Yes</td>\n",
       "      <td>Month-to-month</td>\n",
       "      <td>Yes</td>\n",
       "      <td>Electronic check</td>\n",
       "      <td>104.80</td>\n",
       "      <td>3046.05</td>\n",
       "      <td>Yes</td>\n",
       "    </tr>\n",
       "    <tr>\n",
       "      <th>9</th>\n",
       "      <td>6388-TABGU</td>\n",
       "      <td>Male</td>\n",
       "      <td>0</td>\n",
       "      <td>No</td>\n",
       "      <td>Yes</td>\n",
       "      <td>62</td>\n",
       "      <td>Yes</td>\n",
       "      <td>No</td>\n",
       "      <td>DSL</td>\n",
       "      <td>Yes</td>\n",
       "      <td>...</td>\n",
       "      <td>No</td>\n",
       "      <td>No</td>\n",
       "      <td>No</td>\n",
       "      <td>No</td>\n",
       "      <td>One year</td>\n",
       "      <td>No</td>\n",
       "      <td>Bank transfer (automatic)</td>\n",
       "      <td>56.15</td>\n",
       "      <td>3487.95</td>\n",
       "      <td>No</td>\n",
       "    </tr>\n",
       "  </tbody>\n",
       "</table>\n",
       "<p>10 rows × 21 columns</p>\n",
       "</div>"
      ],
      "text/plain": [
       "   customerID  gender  SeniorCitizen Partner Dependents  tenure PhoneService  \\\n",
       "0  7590-VHVEG  Female              0     Yes         No       1           No   \n",
       "1  5575-GNVDE    Male              0      No         No      34          Yes   \n",
       "2  3668-QPYBK    Male              0      No         No       2          Yes   \n",
       "3  7795-CFOCW    Male              0      No         No      45           No   \n",
       "4  9237-HQITU  Female              0      No         No       2          Yes   \n",
       "5  9305-CDSKC  Female              0      No         No       8          Yes   \n",
       "6  1452-KIOVK    Male              0      No        Yes      22          Yes   \n",
       "7  6713-OKOMC  Female              0      No         No      10           No   \n",
       "8  7892-POOKP  Female              0     Yes         No      28          Yes   \n",
       "9  6388-TABGU    Male              0      No        Yes      62          Yes   \n",
       "\n",
       "      MultipleLines InternetService OnlineSecurity  ... DeviceProtection  \\\n",
       "0  No phone service             DSL             No  ...               No   \n",
       "1                No             DSL            Yes  ...              Yes   \n",
       "2                No             DSL            Yes  ...               No   \n",
       "3  No phone service             DSL            Yes  ...              Yes   \n",
       "4                No     Fiber optic             No  ...               No   \n",
       "5               Yes     Fiber optic             No  ...              Yes   \n",
       "6               Yes     Fiber optic             No  ...               No   \n",
       "7  No phone service             DSL            Yes  ...               No   \n",
       "8               Yes     Fiber optic             No  ...              Yes   \n",
       "9                No             DSL            Yes  ...               No   \n",
       "\n",
       "  TechSupport StreamingTV StreamingMovies        Contract PaperlessBilling  \\\n",
       "0          No          No              No  Month-to-month              Yes   \n",
       "1          No          No              No        One year               No   \n",
       "2          No          No              No  Month-to-month              Yes   \n",
       "3         Yes          No              No        One year               No   \n",
       "4          No          No              No  Month-to-month              Yes   \n",
       "5          No         Yes             Yes  Month-to-month              Yes   \n",
       "6          No         Yes              No  Month-to-month              Yes   \n",
       "7          No          No              No  Month-to-month               No   \n",
       "8         Yes         Yes             Yes  Month-to-month              Yes   \n",
       "9          No          No              No        One year               No   \n",
       "\n",
       "               PaymentMethod MonthlyCharges  TotalCharges Churn  \n",
       "0           Electronic check          29.85         29.85    No  \n",
       "1               Mailed check          56.95        1889.5    No  \n",
       "2               Mailed check          53.85        108.15   Yes  \n",
       "3  Bank transfer (automatic)          42.30       1840.75    No  \n",
       "4           Electronic check          70.70        151.65   Yes  \n",
       "5           Electronic check          99.65         820.5   Yes  \n",
       "6    Credit card (automatic)          89.10        1949.4    No  \n",
       "7               Mailed check          29.75         301.9    No  \n",
       "8           Electronic check         104.80       3046.05   Yes  \n",
       "9  Bank transfer (automatic)          56.15       3487.95    No  \n",
       "\n",
       "[10 rows x 21 columns]"
      ]
     },
     "execution_count": 2,
     "metadata": {},
     "output_type": "execute_result"
    }
   ],
   "source": [
    "data=pd.read_csv(\"https://raw.githubusercontent.com/dsrscientist/DSData/master/Telecom_customer_churn.csv\")\n",
    "data.head(10)"
   ]
  },
  {
   "cell_type": "code",
   "execution_count": 3,
   "id": "687b644a",
   "metadata": {},
   "outputs": [
    {
     "data": {
      "text/html": [
       "<div>\n",
       "<style scoped>\n",
       "    .dataframe tbody tr th:only-of-type {\n",
       "        vertical-align: middle;\n",
       "    }\n",
       "\n",
       "    .dataframe tbody tr th {\n",
       "        vertical-align: top;\n",
       "    }\n",
       "\n",
       "    .dataframe thead th {\n",
       "        text-align: right;\n",
       "    }\n",
       "</style>\n",
       "<table border=\"1\" class=\"dataframe\">\n",
       "  <thead>\n",
       "    <tr style=\"text-align: right;\">\n",
       "      <th></th>\n",
       "      <th>customerID</th>\n",
       "      <th>gender</th>\n",
       "      <th>SeniorCitizen</th>\n",
       "      <th>Partner</th>\n",
       "      <th>Dependents</th>\n",
       "      <th>tenure</th>\n",
       "      <th>PhoneService</th>\n",
       "      <th>MultipleLines</th>\n",
       "      <th>InternetService</th>\n",
       "      <th>OnlineSecurity</th>\n",
       "      <th>...</th>\n",
       "      <th>DeviceProtection</th>\n",
       "      <th>TechSupport</th>\n",
       "      <th>StreamingTV</th>\n",
       "      <th>StreamingMovies</th>\n",
       "      <th>Contract</th>\n",
       "      <th>PaperlessBilling</th>\n",
       "      <th>PaymentMethod</th>\n",
       "      <th>MonthlyCharges</th>\n",
       "      <th>TotalCharges</th>\n",
       "      <th>Churn</th>\n",
       "    </tr>\n",
       "  </thead>\n",
       "  <tbody>\n",
       "    <tr>\n",
       "      <th>6216</th>\n",
       "      <td>7162-WPHPM</td>\n",
       "      <td>Male</td>\n",
       "      <td>0</td>\n",
       "      <td>Yes</td>\n",
       "      <td>Yes</td>\n",
       "      <td>58</td>\n",
       "      <td>Yes</td>\n",
       "      <td>Yes</td>\n",
       "      <td>DSL</td>\n",
       "      <td>Yes</td>\n",
       "      <td>...</td>\n",
       "      <td>Yes</td>\n",
       "      <td>Yes</td>\n",
       "      <td>No</td>\n",
       "      <td>No</td>\n",
       "      <td>Two year</td>\n",
       "      <td>No</td>\n",
       "      <td>Credit card (automatic)</td>\n",
       "      <td>71.60</td>\n",
       "      <td>4230.25</td>\n",
       "      <td>No</td>\n",
       "    </tr>\n",
       "    <tr>\n",
       "      <th>6822</th>\n",
       "      <td>5389-FFVKB</td>\n",
       "      <td>Male</td>\n",
       "      <td>1</td>\n",
       "      <td>Yes</td>\n",
       "      <td>No</td>\n",
       "      <td>32</td>\n",
       "      <td>Yes</td>\n",
       "      <td>No</td>\n",
       "      <td>Fiber optic</td>\n",
       "      <td>No</td>\n",
       "      <td>...</td>\n",
       "      <td>No</td>\n",
       "      <td>No</td>\n",
       "      <td>No</td>\n",
       "      <td>Yes</td>\n",
       "      <td>Month-to-month</td>\n",
       "      <td>Yes</td>\n",
       "      <td>Credit card (automatic)</td>\n",
       "      <td>80.30</td>\n",
       "      <td>2483.05</td>\n",
       "      <td>Yes</td>\n",
       "    </tr>\n",
       "    <tr>\n",
       "      <th>1326</th>\n",
       "      <td>6682-VCIXC</td>\n",
       "      <td>Female</td>\n",
       "      <td>0</td>\n",
       "      <td>Yes</td>\n",
       "      <td>Yes</td>\n",
       "      <td>43</td>\n",
       "      <td>No</td>\n",
       "      <td>No phone service</td>\n",
       "      <td>DSL</td>\n",
       "      <td>Yes</td>\n",
       "      <td>...</td>\n",
       "      <td>No</td>\n",
       "      <td>Yes</td>\n",
       "      <td>Yes</td>\n",
       "      <td>No</td>\n",
       "      <td>One year</td>\n",
       "      <td>Yes</td>\n",
       "      <td>Bank transfer (automatic)</td>\n",
       "      <td>51.25</td>\n",
       "      <td>2151.6</td>\n",
       "      <td>No</td>\n",
       "    </tr>\n",
       "    <tr>\n",
       "      <th>1512</th>\n",
       "      <td>9314-IJWSQ</td>\n",
       "      <td>Female</td>\n",
       "      <td>0</td>\n",
       "      <td>Yes</td>\n",
       "      <td>Yes</td>\n",
       "      <td>14</td>\n",
       "      <td>Yes</td>\n",
       "      <td>Yes</td>\n",
       "      <td>Fiber optic</td>\n",
       "      <td>No</td>\n",
       "      <td>...</td>\n",
       "      <td>No</td>\n",
       "      <td>No</td>\n",
       "      <td>Yes</td>\n",
       "      <td>No</td>\n",
       "      <td>Month-to-month</td>\n",
       "      <td>Yes</td>\n",
       "      <td>Electronic check</td>\n",
       "      <td>84.80</td>\n",
       "      <td>1203.9</td>\n",
       "      <td>No</td>\n",
       "    </tr>\n",
       "    <tr>\n",
       "      <th>4836</th>\n",
       "      <td>0584-BJQGZ</td>\n",
       "      <td>Female</td>\n",
       "      <td>0</td>\n",
       "      <td>No</td>\n",
       "      <td>No</td>\n",
       "      <td>25</td>\n",
       "      <td>Yes</td>\n",
       "      <td>Yes</td>\n",
       "      <td>DSL</td>\n",
       "      <td>Yes</td>\n",
       "      <td>...</td>\n",
       "      <td>Yes</td>\n",
       "      <td>Yes</td>\n",
       "      <td>Yes</td>\n",
       "      <td>No</td>\n",
       "      <td>Month-to-month</td>\n",
       "      <td>Yes</td>\n",
       "      <td>Bank transfer (automatic)</td>\n",
       "      <td>78.35</td>\n",
       "      <td>1837.9</td>\n",
       "      <td>No</td>\n",
       "    </tr>\n",
       "    <tr>\n",
       "      <th>4303</th>\n",
       "      <td>3284-SVCRO</td>\n",
       "      <td>Female</td>\n",
       "      <td>0</td>\n",
       "      <td>Yes</td>\n",
       "      <td>No</td>\n",
       "      <td>45</td>\n",
       "      <td>Yes</td>\n",
       "      <td>Yes</td>\n",
       "      <td>No</td>\n",
       "      <td>No internet service</td>\n",
       "      <td>...</td>\n",
       "      <td>No internet service</td>\n",
       "      <td>No internet service</td>\n",
       "      <td>No internet service</td>\n",
       "      <td>No internet service</td>\n",
       "      <td>Two year</td>\n",
       "      <td>No</td>\n",
       "      <td>Mailed check</td>\n",
       "      <td>25.50</td>\n",
       "      <td>1121.05</td>\n",
       "      <td>No</td>\n",
       "    </tr>\n",
       "    <tr>\n",
       "      <th>1353</th>\n",
       "      <td>7073-QETQY</td>\n",
       "      <td>Male</td>\n",
       "      <td>0</td>\n",
       "      <td>Yes</td>\n",
       "      <td>Yes</td>\n",
       "      <td>66</td>\n",
       "      <td>Yes</td>\n",
       "      <td>No</td>\n",
       "      <td>No</td>\n",
       "      <td>No internet service</td>\n",
       "      <td>...</td>\n",
       "      <td>No internet service</td>\n",
       "      <td>No internet service</td>\n",
       "      <td>No internet service</td>\n",
       "      <td>No internet service</td>\n",
       "      <td>One year</td>\n",
       "      <td>Yes</td>\n",
       "      <td>Electronic check</td>\n",
       "      <td>20.35</td>\n",
       "      <td>1359.5</td>\n",
       "      <td>No</td>\n",
       "    </tr>\n",
       "    <tr>\n",
       "      <th>4599</th>\n",
       "      <td>1834-ABKHQ</td>\n",
       "      <td>Female</td>\n",
       "      <td>0</td>\n",
       "      <td>Yes</td>\n",
       "      <td>Yes</td>\n",
       "      <td>52</td>\n",
       "      <td>Yes</td>\n",
       "      <td>No</td>\n",
       "      <td>DSL</td>\n",
       "      <td>No</td>\n",
       "      <td>...</td>\n",
       "      <td>Yes</td>\n",
       "      <td>No</td>\n",
       "      <td>No</td>\n",
       "      <td>No</td>\n",
       "      <td>One year</td>\n",
       "      <td>Yes</td>\n",
       "      <td>Bank transfer (automatic)</td>\n",
       "      <td>50.95</td>\n",
       "      <td>2610.65</td>\n",
       "      <td>No</td>\n",
       "    </tr>\n",
       "    <tr>\n",
       "      <th>5095</th>\n",
       "      <td>7269-JISCY</td>\n",
       "      <td>Female</td>\n",
       "      <td>0</td>\n",
       "      <td>No</td>\n",
       "      <td>No</td>\n",
       "      <td>55</td>\n",
       "      <td>Yes</td>\n",
       "      <td>No</td>\n",
       "      <td>DSL</td>\n",
       "      <td>No</td>\n",
       "      <td>...</td>\n",
       "      <td>No</td>\n",
       "      <td>No</td>\n",
       "      <td>No</td>\n",
       "      <td>No</td>\n",
       "      <td>One year</td>\n",
       "      <td>No</td>\n",
       "      <td>Bank transfer (automatic)</td>\n",
       "      <td>45.05</td>\n",
       "      <td>2462.6</td>\n",
       "      <td>No</td>\n",
       "    </tr>\n",
       "    <tr>\n",
       "      <th>679</th>\n",
       "      <td>2826-UWHIS</td>\n",
       "      <td>Male</td>\n",
       "      <td>0</td>\n",
       "      <td>Yes</td>\n",
       "      <td>No</td>\n",
       "      <td>45</td>\n",
       "      <td>Yes</td>\n",
       "      <td>Yes</td>\n",
       "      <td>Fiber optic</td>\n",
       "      <td>No</td>\n",
       "      <td>...</td>\n",
       "      <td>No</td>\n",
       "      <td>No</td>\n",
       "      <td>No</td>\n",
       "      <td>No</td>\n",
       "      <td>Month-to-month</td>\n",
       "      <td>No</td>\n",
       "      <td>Bank transfer (automatic)</td>\n",
       "      <td>81.40</td>\n",
       "      <td>3775.85</td>\n",
       "      <td>No</td>\n",
       "    </tr>\n",
       "  </tbody>\n",
       "</table>\n",
       "<p>10 rows × 21 columns</p>\n",
       "</div>"
      ],
      "text/plain": [
       "      customerID  gender  SeniorCitizen Partner Dependents  tenure  \\\n",
       "6216  7162-WPHPM    Male              0     Yes        Yes      58   \n",
       "6822  5389-FFVKB    Male              1     Yes         No      32   \n",
       "1326  6682-VCIXC  Female              0     Yes        Yes      43   \n",
       "1512  9314-IJWSQ  Female              0     Yes        Yes      14   \n",
       "4836  0584-BJQGZ  Female              0      No         No      25   \n",
       "4303  3284-SVCRO  Female              0     Yes         No      45   \n",
       "1353  7073-QETQY    Male              0     Yes        Yes      66   \n",
       "4599  1834-ABKHQ  Female              0     Yes        Yes      52   \n",
       "5095  7269-JISCY  Female              0      No         No      55   \n",
       "679   2826-UWHIS    Male              0     Yes         No      45   \n",
       "\n",
       "     PhoneService     MultipleLines InternetService       OnlineSecurity  ...  \\\n",
       "6216          Yes               Yes             DSL                  Yes  ...   \n",
       "6822          Yes                No     Fiber optic                   No  ...   \n",
       "1326           No  No phone service             DSL                  Yes  ...   \n",
       "1512          Yes               Yes     Fiber optic                   No  ...   \n",
       "4836          Yes               Yes             DSL                  Yes  ...   \n",
       "4303          Yes               Yes              No  No internet service  ...   \n",
       "1353          Yes                No              No  No internet service  ...   \n",
       "4599          Yes                No             DSL                   No  ...   \n",
       "5095          Yes                No             DSL                   No  ...   \n",
       "679           Yes               Yes     Fiber optic                   No  ...   \n",
       "\n",
       "         DeviceProtection          TechSupport          StreamingTV  \\\n",
       "6216                  Yes                  Yes                   No   \n",
       "6822                   No                   No                   No   \n",
       "1326                   No                  Yes                  Yes   \n",
       "1512                   No                   No                  Yes   \n",
       "4836                  Yes                  Yes                  Yes   \n",
       "4303  No internet service  No internet service  No internet service   \n",
       "1353  No internet service  No internet service  No internet service   \n",
       "4599                  Yes                   No                   No   \n",
       "5095                   No                   No                   No   \n",
       "679                    No                   No                   No   \n",
       "\n",
       "          StreamingMovies        Contract PaperlessBilling  \\\n",
       "6216                   No        Two year               No   \n",
       "6822                  Yes  Month-to-month              Yes   \n",
       "1326                   No        One year              Yes   \n",
       "1512                   No  Month-to-month              Yes   \n",
       "4836                   No  Month-to-month              Yes   \n",
       "4303  No internet service        Two year               No   \n",
       "1353  No internet service        One year              Yes   \n",
       "4599                   No        One year              Yes   \n",
       "5095                   No        One year               No   \n",
       "679                    No  Month-to-month               No   \n",
       "\n",
       "                  PaymentMethod MonthlyCharges  TotalCharges Churn  \n",
       "6216    Credit card (automatic)          71.60       4230.25    No  \n",
       "6822    Credit card (automatic)          80.30       2483.05   Yes  \n",
       "1326  Bank transfer (automatic)          51.25        2151.6    No  \n",
       "1512           Electronic check          84.80        1203.9    No  \n",
       "4836  Bank transfer (automatic)          78.35        1837.9    No  \n",
       "4303               Mailed check          25.50       1121.05    No  \n",
       "1353           Electronic check          20.35        1359.5    No  \n",
       "4599  Bank transfer (automatic)          50.95       2610.65    No  \n",
       "5095  Bank transfer (automatic)          45.05        2462.6    No  \n",
       "679   Bank transfer (automatic)          81.40       3775.85    No  \n",
       "\n",
       "[10 rows x 21 columns]"
      ]
     },
     "execution_count": 3,
     "metadata": {},
     "output_type": "execute_result"
    }
   ],
   "source": [
    "data.sample(10)"
   ]
  },
  {
   "cell_type": "markdown",
   "id": "3df39cf9",
   "metadata": {},
   "source": [
    "# Data Analysing"
   ]
  },
  {
   "cell_type": "code",
   "execution_count": 4,
   "id": "d8140e3d",
   "metadata": {},
   "outputs": [
    {
     "data": {
      "text/plain": [
       "(7043, 21)"
      ]
     },
     "execution_count": 4,
     "metadata": {},
     "output_type": "execute_result"
    }
   ],
   "source": [
    "data.shape\n",
    "#Shape of the dataset..."
   ]
  },
  {
   "cell_type": "code",
   "execution_count": 5,
   "id": "25539fe7",
   "metadata": {},
   "outputs": [
    {
     "name": "stdout",
     "output_type": "stream",
     "text": [
      "<class 'pandas.core.frame.DataFrame'>\n",
      "RangeIndex: 7043 entries, 0 to 7042\n",
      "Data columns (total 21 columns):\n",
      " #   Column            Non-Null Count  Dtype  \n",
      "---  ------            --------------  -----  \n",
      " 0   customerID        7043 non-null   object \n",
      " 1   gender            7043 non-null   object \n",
      " 2   SeniorCitizen     7043 non-null   int64  \n",
      " 3   Partner           7043 non-null   object \n",
      " 4   Dependents        7043 non-null   object \n",
      " 5   tenure            7043 non-null   int64  \n",
      " 6   PhoneService      7043 non-null   object \n",
      " 7   MultipleLines     7043 non-null   object \n",
      " 8   InternetService   7043 non-null   object \n",
      " 9   OnlineSecurity    7043 non-null   object \n",
      " 10  OnlineBackup      7043 non-null   object \n",
      " 11  DeviceProtection  7043 non-null   object \n",
      " 12  TechSupport       7043 non-null   object \n",
      " 13  StreamingTV       7043 non-null   object \n",
      " 14  StreamingMovies   7043 non-null   object \n",
      " 15  Contract          7043 non-null   object \n",
      " 16  PaperlessBilling  7043 non-null   object \n",
      " 17  PaymentMethod     7043 non-null   object \n",
      " 18  MonthlyCharges    7043 non-null   float64\n",
      " 19  TotalCharges      7043 non-null   object \n",
      " 20  Churn             7043 non-null   object \n",
      "dtypes: float64(1), int64(2), object(18)\n",
      "memory usage: 1.1+ MB\n"
     ]
    }
   ],
   "source": [
    "data.info()\n",
    "#Checking types of data set.."
   ]
  },
  {
   "cell_type": "raw",
   "id": "3e85887f",
   "metadata": {},
   "source": [
    "We having object ,float,int all data types.."
   ]
  },
  {
   "cell_type": "code",
   "execution_count": 6,
   "id": "66b4a384",
   "metadata": {},
   "outputs": [
    {
     "data": {
      "text/plain": [
       "Index(['customerID', 'gender', 'SeniorCitizen', 'Partner', 'Dependents',\n",
       "       'tenure', 'PhoneService', 'MultipleLines', 'InternetService',\n",
       "       'OnlineSecurity', 'OnlineBackup', 'DeviceProtection', 'TechSupport',\n",
       "       'StreamingTV', 'StreamingMovies', 'Contract', 'PaperlessBilling',\n",
       "       'PaymentMethod', 'MonthlyCharges', 'TotalCharges', 'Churn'],\n",
       "      dtype='object')"
      ]
     },
     "execution_count": 6,
     "metadata": {},
     "output_type": "execute_result"
    }
   ],
   "source": [
    "data.columns"
   ]
  },
  {
   "cell_type": "code",
   "execution_count": 7,
   "id": "1879505c",
   "metadata": {},
   "outputs": [
    {
     "data": {
      "text/plain": [
       "customerID           object\n",
       "gender               object\n",
       "SeniorCitizen         int64\n",
       "Partner              object\n",
       "Dependents           object\n",
       "tenure                int64\n",
       "PhoneService         object\n",
       "MultipleLines        object\n",
       "InternetService      object\n",
       "OnlineSecurity       object\n",
       "OnlineBackup         object\n",
       "DeviceProtection     object\n",
       "TechSupport          object\n",
       "StreamingTV          object\n",
       "StreamingMovies      object\n",
       "Contract             object\n",
       "PaperlessBilling     object\n",
       "PaymentMethod        object\n",
       "MonthlyCharges      float64\n",
       "TotalCharges         object\n",
       "Churn                object\n",
       "dtype: object"
      ]
     },
     "execution_count": 7,
     "metadata": {},
     "output_type": "execute_result"
    }
   ],
   "source": [
    "data.dtypes"
   ]
  },
  {
   "cell_type": "raw",
   "id": "331dd468",
   "metadata": {},
   "source": [
    "As shown above, the data set contains 20 independent variables (17 Categorical & 3 Continuous)."
   ]
  },
  {
   "cell_type": "code",
   "execution_count": 8,
   "id": "5a008058",
   "metadata": {},
   "outputs": [
    {
     "data": {
      "text/plain": [
       "customerID          0\n",
       "gender              0\n",
       "SeniorCitizen       0\n",
       "Partner             0\n",
       "Dependents          0\n",
       "tenure              0\n",
       "PhoneService        0\n",
       "MultipleLines       0\n",
       "InternetService     0\n",
       "OnlineSecurity      0\n",
       "OnlineBackup        0\n",
       "DeviceProtection    0\n",
       "TechSupport         0\n",
       "StreamingTV         0\n",
       "StreamingMovies     0\n",
       "Contract            0\n",
       "PaperlessBilling    0\n",
       "PaymentMethod       0\n",
       "MonthlyCharges      0\n",
       "TotalCharges        0\n",
       "Churn               0\n",
       "dtype: int64"
      ]
     },
     "execution_count": 8,
     "metadata": {},
     "output_type": "execute_result"
    }
   ],
   "source": [
    "data.isnull().sum()"
   ]
  },
  {
   "cell_type": "raw",
   "id": "24f28452",
   "metadata": {},
   "source": [
    "There are no null values present in the dataset.."
   ]
  },
  {
   "cell_type": "code",
   "execution_count": 9,
   "id": "5b9145a1",
   "metadata": {},
   "outputs": [
    {
     "name": "stdout",
     "output_type": "stream",
     "text": [
      "4\n",
      "3\n"
     ]
    }
   ],
   "source": [
    "#Checking unique values in column[Payment method] and [Contract]..\n",
    "print(data['PaymentMethod'].nunique())\n",
    "print(data[\"Contract\"].nunique())"
   ]
  },
  {
   "cell_type": "code",
   "execution_count": 10,
   "id": "b04c564b",
   "metadata": {},
   "outputs": [
    {
     "data": {
      "text/plain": [
       "array(['Electronic check', 'Mailed check', 'Bank transfer', 'Credit card'],\n",
       "      dtype=object)"
      ]
     },
     "execution_count": 10,
     "metadata": {},
     "output_type": "execute_result"
    }
   ],
   "source": [
    "# remove (automatic) from payment method column.\n",
    "data['PaymentMethod'] = data['PaymentMethod'].str.replace(' (automatic)', '', regex=False)\n",
    "data['PaymentMethod'].unique()"
   ]
  },
  {
   "cell_type": "code",
   "execution_count": 11,
   "id": "7ee4b1a6",
   "metadata": {},
   "outputs": [],
   "source": [
    "#converting this column from object to numeric data type...\n",
    "data['TotalCharges'] = pd.to_numeric(data['TotalCharges'],errors='coerce')\n",
    "data['TotalCharges'] = data['TotalCharges'].astype(\"float\")"
   ]
  },
  {
   "cell_type": "code",
   "execution_count": 12,
   "id": "8afeb2ad",
   "metadata": {},
   "outputs": [
    {
     "data": {
      "text/plain": [
       "dtype('float64')"
      ]
     },
     "execution_count": 12,
     "metadata": {},
     "output_type": "execute_result"
    }
   ],
   "source": [
    "data['TotalCharges'].dtype"
   ]
  },
  {
   "cell_type": "markdown",
   "id": "47d1b181",
   "metadata": {},
   "source": [
    "# EDA"
   ]
  },
  {
   "cell_type": "code",
   "execution_count": 13,
   "id": "1c79d143",
   "metadata": {},
   "outputs": [
    {
     "data": {
      "image/png": "[encoded data removed]",
      "text/plain": [
       "<Figure size 1440x1440 with 4 Axes>"
      ]
     },
     "metadata": {
      "needs_background": "light"
     },
     "output_type": "display_data"
    }
   ],
   "source": [
    "data.hist(bins = 20, figsize = (20,20), color = 'orange');"
   ]
  },
  {
   "cell_type": "code",
   "execution_count": 14,
   "id": "abb972af",
   "metadata": {},
   "outputs": [
    {
     "data": {
      "image/png": "[encoded data removed]",
      "text/plain": [
       "<Figure size 432x288 with 1 Axes>"
      ]
     },
     "metadata": {
      "needs_background": "light"
     },
     "output_type": "display_data"
    }
   ],
   "source": [
    "# Visualize the count of customer churn\n",
    "sns.countplot(data['Churn'])\n",
    "plt.show()"
   ]
  },
  {
   "cell_type": "raw",
   "id": "ff3dfa03",
   "metadata": {},
   "source": [
    "In target variable Churn, The majority of class is No when compare to Yes,where No is more that 5000, and Yes is nearly 2000.."
   ]
  },
  {
   "cell_type": "code",
   "execution_count": 15,
   "id": "c1ed58c6",
   "metadata": {},
   "outputs": [
    {
     "name": "stdout",
     "output_type": "stream",
     "text": [
      "73.4630129206304 % of customer stayed with the company\n",
      "26.536987079369588 % of customer left with the company\n"
     ]
    }
   ],
   "source": [
    "# Check the percentage of customer that are leaving\n",
    "num_retained = data[data['Churn'] == 'No'].shape[0]\n",
    "num_churned = data[data['Churn'] == 'Yes'].shape[0]\n",
    "\n",
    "# Print the percentage of customer that stayed\n",
    "print(num_retained / (num_retained + num_churned) * 100, '% of customer stayed with the company')\n",
    "\n",
    "# Print the percentage of customer that left\n",
    "print(num_churned / (num_retained + num_churned) * 100, '% of customer left with the company')"
   ]
  },
  {
   "cell_type": "raw",
   "id": "2a14f39f",
   "metadata": {},
   "source": [
    "No is 73%,Yes is 26%, imbalanced dataset."
   ]
  },
  {
   "cell_type": "markdown",
   "id": "3484ddd8",
   "metadata": {},
   "source": [
    "# Categoery Colm Information"
   ]
  },
  {
   "cell_type": "code",
   "execution_count": 16,
   "id": "8c8c2a99",
   "metadata": {},
   "outputs": [
    {
     "data": {
      "image/png": "[encoded data removed]",
      "text/plain": [
       "<Figure size 432x288 with 1 Axes>"
      ]
     },
     "metadata": {
      "needs_background": "light"
     },
     "output_type": "display_data"
    }
   ],
   "source": [
    "# Visualize the churn count for both male and females\n",
    "sns.countplot(x = 'gender', hue = 'Churn', data = data)\n",
    "plt.show()"
   ]
  },
  {
   "cell_type": "code",
   "execution_count": 17,
   "id": "9a8b4eb5",
   "metadata": {},
   "outputs": [
    {
     "data": {
      "image/png": "[encoded data removed]",
      "text/plain": [
       "<Figure size 432x288 with 1 Axes>"
      ]
     },
     "metadata": {
      "needs_background": "light"
     },
     "output_type": "display_data"
    }
   ],
   "source": [
    "sns.countplot(x = 'SeniorCitizen', hue = 'Churn', data = data)\n",
    "plt.show()"
   ]
  },
  {
   "cell_type": "code",
   "execution_count": 18,
   "id": "18add2f0",
   "metadata": {},
   "outputs": [
    {
     "data": {
      "image/png": "[encoded data removed]",
      "text/plain": [
       "<Figure size 432x288 with 1 Axes>"
      ]
     },
     "metadata": {
      "needs_background": "light"
     },
     "output_type": "display_data"
    }
   ],
   "source": [
    "sns.countplot(x = 'Partner', hue = 'Churn', data = data)\n",
    "plt.show()"
   ]
  },
  {
   "cell_type": "code",
   "execution_count": 19,
   "id": "938d01c7",
   "metadata": {},
   "outputs": [
    {
     "data": {
      "image/png": "[encoded data removed]",
      "text/plain": [
       "<Figure size 432x288 with 1 Axes>"
      ]
     },
     "metadata": {
      "needs_background": "light"
     },
     "output_type": "display_data"
    }
   ],
   "source": [
    "sns.countplot(x = 'Dependents', hue = 'Churn', data = data)\n",
    "plt.show()"
   ]
  },
  {
   "cell_type": "raw",
   "id": "a387a6dd",
   "metadata": {},
   "source": [
    "1)A similar percentage of churn is shown both when a customer is a man or a woman.\n",
    "2)The churn rate of senior citizens is almost double that of young citizens\n",
    "3)Customers with a partner churn less than customers with no partner."
   ]
  },
  {
   "cell_type": "markdown",
   "id": "0aea52ae",
   "metadata": {},
   "source": [
    "# SERVICE INFORMATION:"
   ]
  },
  {
   "cell_type": "code",
   "execution_count": 20,
   "id": "2697a786",
   "metadata": {},
   "outputs": [
    {
     "data": {
      "image/png": "[encoded data removed]",
      "text/plain": [
       "<Figure size 432x288 with 1 Axes>"
      ]
     },
     "metadata": {
      "needs_background": "light"
     },
     "output_type": "display_data"
    }
   ],
   "source": [
    "# Visualize the churn count for internet service\n",
    "sns.countplot(x = 'InternetService', hue = 'Churn', data = data)\n",
    "plt.show()"
   ]
  },
  {
   "cell_type": "code",
   "execution_count": 21,
   "id": "3d290b64",
   "metadata": {},
   "outputs": [
    {
     "data": {
      "image/png": "[encoded data removed]",
      "text/plain": [
       "<Figure size 432x288 with 1 Axes>"
      ]
     },
     "metadata": {
      "needs_background": "light"
     },
     "output_type": "display_data"
    }
   ],
   "source": [
    "sns.countplot(x = 'TechSupport', hue = 'Churn', data = data)\n",
    "plt.show()"
   ]
  },
  {
   "cell_type": "code",
   "execution_count": 22,
   "id": "1182dd2f",
   "metadata": {},
   "outputs": [
    {
     "data": {
      "image/png": "[encoded data removed]",
      "text/plain": [
       "<Figure size 432x288 with 1 Axes>"
      ]
     },
     "metadata": {
      "needs_background": "light"
     },
     "output_type": "display_data"
    }
   ],
   "source": [
    "sns.countplot(x = 'StreamingTV', hue = 'Churn', data = data)\n",
    "plt.show()"
   ]
  },
  {
   "cell_type": "code",
   "execution_count": 23,
   "id": "3310cbbd",
   "metadata": {},
   "outputs": [
    {
     "data": {
      "image/png": "[encoded data removed]",
      "text/plain": [
       "<Figure size 432x288 with 1 Axes>"
      ]
     },
     "metadata": {
      "needs_background": "light"
     },
     "output_type": "display_data"
    }
   ],
   "source": [
    "sns.countplot(x = 'StreamingMovies', hue = 'Churn', data = data)\n",
    "plt.show()"
   ]
  },
  {
   "cell_type": "code",
   "execution_count": 24,
   "id": "296e9891",
   "metadata": {},
   "outputs": [
    {
     "data": {
      "image/png": "[encoded data removed]",
      "text/plain": [
       "<Figure size 432x288 with 1 Axes>"
      ]
     },
     "metadata": {
      "needs_background": "light"
     },
     "output_type": "display_data"
    }
   ],
   "source": [
    "sns.countplot(x = 'PhoneService', hue = 'Churn', data = data)\n",
    "plt.show()"
   ]
  },
  {
   "cell_type": "code",
   "execution_count": 25,
   "id": "57116577",
   "metadata": {},
   "outputs": [
    {
     "data": {
      "image/png": "[encoded data removed]",
      "text/plain": [
       "<Figure size 432x288 with 1 Axes>"
      ]
     },
     "metadata": {
      "needs_background": "light"
     },
     "output_type": "display_data"
    }
   ],
   "source": [
    "sns.countplot(x = 'MultipleLines', hue = 'Churn', data = data)\n",
    "plt.show()"
   ]
  },
  {
   "cell_type": "code",
   "execution_count": 26,
   "id": "80568cd3",
   "metadata": {},
   "outputs": [
    {
     "data": {
      "image/png": "[encoded data removed]",
      "text/plain": [
       "<Figure size 432x288 with 1 Axes>"
      ]
     },
     "metadata": {
      "needs_background": "light"
     },
     "output_type": "display_data"
    }
   ],
   "source": [
    "sns.countplot(x = 'InternetService', hue = 'Churn', data = data)\n",
    "plt.show()"
   ]
  },
  {
   "cell_type": "code",
   "execution_count": 27,
   "id": "390c2eef",
   "metadata": {},
   "outputs": [
    {
     "data": {
      "image/png": "[encoded data removed]",
      "text/plain": [
       "<Figure size 432x288 with 1 Axes>"
      ]
     },
     "metadata": {
      "needs_background": "light"
     },
     "output_type": "display_data"
    }
   ],
   "source": [
    "sns.countplot(x = 'OnlineBackup', hue = 'Churn', data = data)\n",
    "plt.show()"
   ]
  },
  {
   "cell_type": "code",
   "execution_count": 28,
   "id": "bd536543",
   "metadata": {},
   "outputs": [
    {
     "data": {
      "image/png": "[encoded data removed]",
      "text/plain": [
       "<Figure size 432x288 with 1 Axes>"
      ]
     },
     "metadata": {
      "needs_background": "light"
     },
     "output_type": "display_data"
    }
   ],
   "source": [
    "sns.countplot(x = 'DeviceProtection', hue = 'Churn', data = data)\n",
    "plt.show()"
   ]
  },
  {
   "cell_type": "code",
   "execution_count": 29,
   "id": "fc87cf04",
   "metadata": {},
   "outputs": [
    {
     "data": {
      "image/png": "[encoded data removed]",
      "text/plain": [
       "<Figure size 432x288 with 1 Axes>"
      ]
     },
     "metadata": {
      "needs_background": "light"
     },
     "output_type": "display_data"
    }
   ],
   "source": [
    "sns.countplot(x = 'OnlineSecurity', hue = 'Churn', data = data)\n",
    "plt.show()"
   ]
  },
  {
   "cell_type": "raw",
   "id": "4696ee21",
   "metadata": {},
   "source": [
    "The percentage of churn for all classes in both independent variables is nearly the same.\n",
    "Clients with online security churn less than those without it.\n",
    "Customers with no tech support tend to churn more often than those with tech support.\n",
    "We do not expect phone attributes (PhoneService and MultipleLines) to have significant predictive power.\n",
    "By looking at the plots above, we can identify the most relevant attributes for detecting churn."
   ]
  },
  {
   "cell_type": "markdown",
   "id": "5e5b2336",
   "metadata": {},
   "source": [
    "# Customer Accnt Information"
   ]
  },
  {
   "cell_type": "code",
   "execution_count": 30,
   "id": "6b23cfcd",
   "metadata": {},
   "outputs": [
    {
     "data": {
      "image/png": "[encoded data removed]",
      "text/plain": [
       "<Figure size 432x288 with 1 Axes>"
      ]
     },
     "metadata": {
      "needs_background": "light"
     },
     "output_type": "display_data"
    }
   ],
   "source": [
    "sns.countplot(x = 'Contract', hue = 'Churn', data = data)\n",
    "plt.show()"
   ]
  },
  {
   "cell_type": "code",
   "execution_count": 31,
   "id": "13f1c1df",
   "metadata": {},
   "outputs": [
    {
     "data": {
      "image/png": "[encoded data removed]",
      "text/plain": [
       "<Figure size 432x288 with 1 Axes>"
      ]
     },
     "metadata": {
      "needs_background": "light"
     },
     "output_type": "display_data"
    }
   ],
   "source": [
    "sns.countplot(x = 'PaperlessBilling', hue = 'Churn', data = data)\n",
    "plt.show()"
   ]
  },
  {
   "cell_type": "code",
   "execution_count": 32,
   "id": "08551b24",
   "metadata": {},
   "outputs": [
    {
     "data": {
      "image/png": "[encoded data removed]",
      "text/plain": [
       "<Figure size 432x288 with 1 Axes>"
      ]
     },
     "metadata": {
      "needs_background": "light"
     },
     "output_type": "display_data"
    }
   ],
   "source": [
    "sns.countplot(x = 'PaymentMethod', hue = 'Churn', data = data)\n",
    "plt.show()"
   ]
  },
  {
   "cell_type": "raw",
   "id": "411a3ac3",
   "metadata": {},
   "source": [
    "1)Customers with month-to-month contracts have higher churn rates compared to clients with yearly contracts.\n",
    "2)Customers subscribed to paperless billing churn more than those who are not subscribed.\n",
    "3)Customers who opted for an electronic check as paying method are more likely to leave the company."
   ]
  },
  {
   "cell_type": "markdown",
   "id": "ed2336fc",
   "metadata": {},
   "source": [
    "# Encoding-LabelEncoder"
   ]
  },
  {
   "cell_type": "code",
   "execution_count": 33,
   "id": "9ad44096",
   "metadata": {},
   "outputs": [],
   "source": [
    "from sklearn.preprocessing import LabelEncoder"
   ]
  },
  {
   "cell_type": "code",
   "execution_count": 34,
   "id": "e5111177",
   "metadata": {},
   "outputs": [
    {
     "data": {
      "text/plain": [
       "{int64: ['SeniorCitizen', 'tenure'], float64: ['MonthlyCharges', 'TotalCharges'], object: ['customerID', 'gender', 'Partner', 'Dependents', 'PhoneService', 'MultipleLines', 'InternetService', 'OnlineSecurity', 'OnlineBackup', 'DeviceProtection', 'TechSupport', 'StreamingTV', 'StreamingMovies', 'Contract', 'PaperlessBilling', 'PaymentMethod', 'Churn']}"
      ]
     },
     "execution_count": 34,
     "metadata": {},
     "output_type": "execute_result"
    }
   ],
   "source": [
    "data.columns.to_series().groupby(data.dtypes).groups"
   ]
  },
  {
   "cell_type": "code",
   "execution_count": 35,
   "id": "2b5073f9",
   "metadata": {},
   "outputs": [
    {
     "name": "stdout",
     "output_type": "stream",
     "text": [
      "gender\n",
      "Partner\n",
      "Dependents\n",
      "PhoneService\n",
      "PaperlessBilling\n",
      "Churn\n",
      "6 columns were label encoded.\n"
     ]
    }
   ],
   "source": [
    "lab=LabelEncoder()\n",
    "lab_count=0\n",
    "for col in data.columns[1:]:\n",
    "    if data[col].dtype == 'object':\n",
    "        if len(list(data[col].unique())) <= 2:\n",
    "            lab.fit(data[col])\n",
    "            data[col] = lab.transform(data[col])\n",
    "            lab_count += 1\n",
    "            print(col)\n",
    "print('{} columns were label encoded.'.format(lab_count))        "
   ]
  },
  {
   "cell_type": "markdown",
   "id": "3992a26f",
   "metadata": {},
   "source": [
    "# Corealtion"
   ]
  },
  {
   "cell_type": "code",
   "execution_count": 36,
   "id": "b3718860",
   "metadata": {},
   "outputs": [
    {
     "data": {
      "text/html": [
       "<div>\n",
       "<style scoped>\n",
       "    .dataframe tbody tr th:only-of-type {\n",
       "        vertical-align: middle;\n",
       "    }\n",
       "\n",
       "    .dataframe tbody tr th {\n",
       "        vertical-align: top;\n",
       "    }\n",
       "\n",
       "    .dataframe thead th {\n",
       "        text-align: right;\n",
       "    }\n",
       "</style>\n",
       "<table border=\"1\" class=\"dataframe\">\n",
       "  <thead>\n",
       "    <tr style=\"text-align: right;\">\n",
       "      <th></th>\n",
       "      <th>gender</th>\n",
       "      <th>SeniorCitizen</th>\n",
       "      <th>Partner</th>\n",
       "      <th>Dependents</th>\n",
       "      <th>tenure</th>\n",
       "      <th>PhoneService</th>\n",
       "      <th>PaperlessBilling</th>\n",
       "      <th>MonthlyCharges</th>\n",
       "      <th>TotalCharges</th>\n",
       "      <th>Churn</th>\n",
       "    </tr>\n",
       "  </thead>\n",
       "  <tbody>\n",
       "    <tr>\n",
       "      <th>gender</th>\n",
       "      <td>1.000000</td>\n",
       "      <td>-0.001874</td>\n",
       "      <td>-0.001808</td>\n",
       "      <td>0.010517</td>\n",
       "      <td>0.005106</td>\n",
       "      <td>-0.006488</td>\n",
       "      <td>-0.011754</td>\n",
       "      <td>-0.014569</td>\n",
       "      <td>0.000048</td>\n",
       "      <td>-0.008612</td>\n",
       "    </tr>\n",
       "    <tr>\n",
       "      <th>SeniorCitizen</th>\n",
       "      <td>-0.001874</td>\n",
       "      <td>1.000000</td>\n",
       "      <td>0.016479</td>\n",
       "      <td>-0.211185</td>\n",
       "      <td>0.016567</td>\n",
       "      <td>0.008576</td>\n",
       "      <td>0.156530</td>\n",
       "      <td>0.220173</td>\n",
       "      <td>0.102411</td>\n",
       "      <td>0.150889</td>\n",
       "    </tr>\n",
       "    <tr>\n",
       "      <th>Partner</th>\n",
       "      <td>-0.001808</td>\n",
       "      <td>0.016479</td>\n",
       "      <td>1.000000</td>\n",
       "      <td>0.452676</td>\n",
       "      <td>0.379697</td>\n",
       "      <td>0.017706</td>\n",
       "      <td>-0.014877</td>\n",
       "      <td>0.096848</td>\n",
       "      <td>0.319072</td>\n",
       "      <td>-0.150448</td>\n",
       "    </tr>\n",
       "    <tr>\n",
       "      <th>Dependents</th>\n",
       "      <td>0.010517</td>\n",
       "      <td>-0.211185</td>\n",
       "      <td>0.452676</td>\n",
       "      <td>1.000000</td>\n",
       "      <td>0.159712</td>\n",
       "      <td>-0.001762</td>\n",
       "      <td>-0.111377</td>\n",
       "      <td>-0.113890</td>\n",
       "      <td>0.064653</td>\n",
       "      <td>-0.164221</td>\n",
       "    </tr>\n",
       "    <tr>\n",
       "      <th>tenure</th>\n",
       "      <td>0.005106</td>\n",
       "      <td>0.016567</td>\n",
       "      <td>0.379697</td>\n",
       "      <td>0.159712</td>\n",
       "      <td>1.000000</td>\n",
       "      <td>0.008448</td>\n",
       "      <td>0.006152</td>\n",
       "      <td>0.247900</td>\n",
       "      <td>0.825880</td>\n",
       "      <td>-0.352229</td>\n",
       "    </tr>\n",
       "    <tr>\n",
       "      <th>PhoneService</th>\n",
       "      <td>-0.006488</td>\n",
       "      <td>0.008576</td>\n",
       "      <td>0.017706</td>\n",
       "      <td>-0.001762</td>\n",
       "      <td>0.008448</td>\n",
       "      <td>1.000000</td>\n",
       "      <td>0.016505</td>\n",
       "      <td>0.247398</td>\n",
       "      <td>0.113008</td>\n",
       "      <td>0.011942</td>\n",
       "    </tr>\n",
       "    <tr>\n",
       "      <th>PaperlessBilling</th>\n",
       "      <td>-0.011754</td>\n",
       "      <td>0.156530</td>\n",
       "      <td>-0.014877</td>\n",
       "      <td>-0.111377</td>\n",
       "      <td>0.006152</td>\n",
       "      <td>0.016505</td>\n",
       "      <td>1.000000</td>\n",
       "      <td>0.352150</td>\n",
       "      <td>0.157830</td>\n",
       "      <td>0.191825</td>\n",
       "    </tr>\n",
       "    <tr>\n",
       "      <th>MonthlyCharges</th>\n",
       "      <td>-0.014569</td>\n",
       "      <td>0.220173</td>\n",
       "      <td>0.096848</td>\n",
       "      <td>-0.113890</td>\n",
       "      <td>0.247900</td>\n",
       "      <td>0.247398</td>\n",
       "      <td>0.352150</td>\n",
       "      <td>1.000000</td>\n",
       "      <td>0.651065</td>\n",
       "      <td>0.193356</td>\n",
       "    </tr>\n",
       "    <tr>\n",
       "      <th>TotalCharges</th>\n",
       "      <td>0.000048</td>\n",
       "      <td>0.102411</td>\n",
       "      <td>0.319072</td>\n",
       "      <td>0.064653</td>\n",
       "      <td>0.825880</td>\n",
       "      <td>0.113008</td>\n",
       "      <td>0.157830</td>\n",
       "      <td>0.651065</td>\n",
       "      <td>1.000000</td>\n",
       "      <td>-0.199484</td>\n",
       "    </tr>\n",
       "    <tr>\n",
       "      <th>Churn</th>\n",
       "      <td>-0.008612</td>\n",
       "      <td>0.150889</td>\n",
       "      <td>-0.150448</td>\n",
       "      <td>-0.164221</td>\n",
       "      <td>-0.352229</td>\n",
       "      <td>0.011942</td>\n",
       "      <td>0.191825</td>\n",
       "      <td>0.193356</td>\n",
       "      <td>-0.199484</td>\n",
       "      <td>1.000000</td>\n",
       "    </tr>\n",
       "  </tbody>\n",
       "</table>\n",
       "</div>"
      ],
      "text/plain": [
       "                    gender  SeniorCitizen   Partner  Dependents    tenure  \\\n",
       "gender            1.000000      -0.001874 -0.001808    0.010517  0.005106   \n",
       "SeniorCitizen    -0.001874       1.000000  0.016479   -0.211185  0.016567   \n",
       "Partner          -0.001808       0.016479  1.000000    0.452676  0.379697   \n",
       "Dependents        0.010517      -0.211185  0.452676    1.000000  0.159712   \n",
       "tenure            0.005106       0.016567  0.379697    0.159712  1.000000   \n",
       "PhoneService     -0.006488       0.008576  0.017706   -0.001762  0.008448   \n",
       "PaperlessBilling -0.011754       0.156530 -0.014877   -0.111377  0.006152   \n",
       "MonthlyCharges   -0.014569       0.220173  0.096848   -0.113890  0.247900   \n",
       "TotalCharges      0.000048       0.102411  0.319072    0.064653  0.825880   \n",
       "Churn            -0.008612       0.150889 -0.150448   -0.164221 -0.352229   \n",
       "\n",
       "                  PhoneService  PaperlessBilling  MonthlyCharges  \\\n",
       "gender               -0.006488         -0.011754       -0.014569   \n",
       "SeniorCitizen         0.008576          0.156530        0.220173   \n",
       "Partner               0.017706         -0.014877        0.096848   \n",
       "Dependents           -0.001762         -0.111377       -0.113890   \n",
       "tenure                0.008448          0.006152        0.247900   \n",
       "PhoneService          1.000000          0.016505        0.247398   \n",
       "PaperlessBilling      0.016505          1.000000        0.352150   \n",
       "MonthlyCharges        0.247398          0.352150        1.000000   \n",
       "TotalCharges          0.113008          0.157830        0.651065   \n",
       "Churn                 0.011942          0.191825        0.193356   \n",
       "\n",
       "                  TotalCharges     Churn  \n",
       "gender                0.000048 -0.008612  \n",
       "SeniorCitizen         0.102411  0.150889  \n",
       "Partner               0.319072 -0.150448  \n",
       "Dependents            0.064653 -0.164221  \n",
       "tenure                0.825880 -0.352229  \n",
       "PhoneService          0.113008  0.011942  \n",
       "PaperlessBilling      0.157830  0.191825  \n",
       "MonthlyCharges        0.651065  0.193356  \n",
       "TotalCharges          1.000000 -0.199484  \n",
       "Churn                -0.199484  1.000000  "
      ]
     },
     "execution_count": 36,
     "metadata": {},
     "output_type": "execute_result"
    }
   ],
   "source": [
    "data.corr()"
   ]
  },
  {
   "cell_type": "code",
   "execution_count": 37,
   "id": "77037fc6",
   "metadata": {},
   "outputs": [
    {
     "data": {
      "text/plain": [
       "<function matplotlib.pyplot.show(close=None, block=None)>"
      ]
     },
     "execution_count": 37,
     "metadata": {},
     "output_type": "execute_result"
    },
    {
     "data": {
      "image/png": "[encoded data removed]",
      "text/plain": [
       "<Figure size 864x1080 with 2 Axes>"
      ]
     },
     "metadata": {
      "needs_background": "light"
     },
     "output_type": "display_data"
    }
   ],
   "source": [
    "corr=data.corr()\n",
    "plt.figure(figsize=(12,15))\n",
    "sns.heatmap(corr,annot=True,annot_kws={'size':12})\n",
    "plt.title(\"Heatmap to find corelation\")\n",
    "plt.show"
   ]
  },
  {
   "cell_type": "raw",
   "id": "e8eb8652",
   "metadata": {},
   "source": [
    "'Total Charges' seem to be collinear with 'Monthly Charges'.\n",
    "There is multicollinearity between Monthly Charges and Total Charges."
   ]
  },
  {
   "cell_type": "raw",
   "id": "9b04a045",
   "metadata": {},
   "source": [
    "TotalCharges,Partner,Dependents and tenure are negatively corelated."
   ]
  },
  {
   "cell_type": "code",
   "execution_count": 38,
   "id": "9f527604",
   "metadata": {},
   "outputs": [
    {
     "data": {
      "text/plain": [
       "Text(0, 0.5, 'Total Charges')"
      ]
     },
     "execution_count": 38,
     "metadata": {},
     "output_type": "execute_result"
    },
    {
     "data": {
      "image/png": "[encoded data removed]",
      "text/plain": [
       "<Figure size 432x288 with 1 Axes>"
      ]
     },
     "metadata": {
      "needs_background": "light"
     },
     "output_type": "display_data"
    }
   ],
   "source": [
    "# Check colinearity:\n",
    "x = data['MonthlyCharges']\n",
    "y = data['TotalCharges']\n",
    "plt.scatter(x, y, color =  'orange')\n",
    "plt.title('Collinearity of Monthly Charges and Total Charges \\n', horizontalalignment=\"center\", fontstyle = \"normal\", fontsize = \"22\", fontfamily = \"sans-serif\")\n",
    "plt.xlabel('Monthly Charges')\n",
    "plt.ylabel('Total Charges')"
   ]
  },
  {
   "cell_type": "markdown",
   "id": "c2720af5",
   "metadata": {},
   "source": [
    "# Multicollinearity using ViF"
   ]
  },
  {
   "cell_type": "code",
   "execution_count": 39,
   "id": "526fa0c5",
   "metadata": {},
   "outputs": [],
   "source": [
    "from statsmodels.stats.outliers_influence import variance_inflation_factor"
   ]
  },
  {
   "cell_type": "code",
   "execution_count": 40,
   "id": "4c0b0d4b",
   "metadata": {},
   "outputs": [
    {
     "data": {
      "text/html": [
       "<div>\n",
       "<style scoped>\n",
       "    .dataframe tbody tr th:only-of-type {\n",
       "        vertical-align: middle;\n",
       "    }\n",
       "\n",
       "    .dataframe tbody tr th {\n",
       "        vertical-align: top;\n",
       "    }\n",
       "\n",
       "    .dataframe thead th {\n",
       "        text-align: right;\n",
       "    }\n",
       "</style>\n",
       "<table border=\"1\" class=\"dataframe\">\n",
       "  <thead>\n",
       "    <tr style=\"text-align: right;\">\n",
       "      <th></th>\n",
       "      <th>variables</th>\n",
       "      <th>VIF</th>\n",
       "    </tr>\n",
       "  </thead>\n",
       "  <tbody>\n",
       "    <tr>\n",
       "      <th>0</th>\n",
       "      <td>gender</td>\n",
       "      <td>1.922523</td>\n",
       "    </tr>\n",
       "    <tr>\n",
       "      <th>1</th>\n",
       "      <td>SeniorCitizen</td>\n",
       "      <td>1.327942</td>\n",
       "    </tr>\n",
       "    <tr>\n",
       "      <th>2</th>\n",
       "      <td>Partner</td>\n",
       "      <td>2.813694</td>\n",
       "    </tr>\n",
       "    <tr>\n",
       "      <th>3</th>\n",
       "      <td>Dependents</td>\n",
       "      <td>1.919266</td>\n",
       "    </tr>\n",
       "    <tr>\n",
       "      <th>4</th>\n",
       "      <td>tenure</td>\n",
       "      <td>10.727299</td>\n",
       "    </tr>\n",
       "    <tr>\n",
       "      <th>5</th>\n",
       "      <td>PhoneService</td>\n",
       "      <td>8.030292</td>\n",
       "    </tr>\n",
       "    <tr>\n",
       "      <th>6</th>\n",
       "      <td>PaperlessBilling</td>\n",
       "      <td>2.816921</td>\n",
       "    </tr>\n",
       "    <tr>\n",
       "      <th>7</th>\n",
       "      <td>MonthlyCharges</td>\n",
       "      <td>14.109313</td>\n",
       "    </tr>\n",
       "    <tr>\n",
       "      <th>8</th>\n",
       "      <td>TotalCharges</td>\n",
       "      <td>12.740486</td>\n",
       "    </tr>\n",
       "  </tbody>\n",
       "</table>\n",
       "</div>"
      ],
      "text/plain": [
       "          variables        VIF\n",
       "0            gender   1.922523\n",
       "1     SeniorCitizen   1.327942\n",
       "2           Partner   2.813694\n",
       "3        Dependents   1.919266\n",
       "4            tenure  10.727299\n",
       "5      PhoneService   8.030292\n",
       "6  PaperlessBilling   2.816921\n",
       "7    MonthlyCharges  14.109313\n",
       "8      TotalCharges  12.740486"
      ]
     },
     "execution_count": 40,
     "metadata": {},
     "output_type": "execute_result"
    }
   ],
   "source": [
    "def calc_vif(X):\n",
    "# Calculating VIF\n",
    "    vif = pd.DataFrame()\n",
    "    vif[\"variables\"] = X.columns\n",
    "    vif[\"VIF\"] = [variance_inflation_factor(X.values, i)\n",
    "    for i in range(X.shape[1])]\n",
    "    return(vif)\n",
    "\n",
    "data = data[~data.isin([np.nan, np.inf, -np.inf]).any(1)]\n",
    "dataset_vif = data[['gender', 'SeniorCitizen', 'Partner', 'Dependents','tenure', 'PhoneService','PaperlessBilling','MonthlyCharges','TotalCharges']]\n",
    "calc_vif(dataset_vif)"
   ]
  },
  {
   "cell_type": "raw",
   "id": "73cd2360",
   "metadata": {},
   "source": [
    "We can see here that the ‘Monthly Charges’ and ‘Total Charges’ have a high VIF value."
   ]
  },
  {
   "cell_type": "code",
   "execution_count": 41,
   "id": "fd98f810",
   "metadata": {},
   "outputs": [
    {
     "data": {
      "text/html": [
       "<div>\n",
       "<style scoped>\n",
       "    .dataframe tbody tr th:only-of-type {\n",
       "        vertical-align: middle;\n",
       "    }\n",
       "\n",
       "    .dataframe tbody tr th {\n",
       "        vertical-align: top;\n",
       "    }\n",
       "\n",
       "    .dataframe thead th {\n",
       "        text-align: right;\n",
       "    }\n",
       "</style>\n",
       "<table border=\"1\" class=\"dataframe\">\n",
       "  <thead>\n",
       "    <tr style=\"text-align: right;\">\n",
       "      <th></th>\n",
       "      <th>variables</th>\n",
       "      <th>VIF</th>\n",
       "    </tr>\n",
       "  </thead>\n",
       "  <tbody>\n",
       "    <tr>\n",
       "      <th>0</th>\n",
       "      <td>gender</td>\n",
       "      <td>1.878863</td>\n",
       "    </tr>\n",
       "    <tr>\n",
       "      <th>1</th>\n",
       "      <td>SeniorCitizen</td>\n",
       "      <td>1.323160</td>\n",
       "    </tr>\n",
       "    <tr>\n",
       "      <th>2</th>\n",
       "      <td>Partner</td>\n",
       "      <td>2.812757</td>\n",
       "    </tr>\n",
       "    <tr>\n",
       "      <th>3</th>\n",
       "      <td>Dependents</td>\n",
       "      <td>1.904657</td>\n",
       "    </tr>\n",
       "    <tr>\n",
       "      <th>4</th>\n",
       "      <td>tenure</td>\n",
       "      <td>3.299933</td>\n",
       "    </tr>\n",
       "    <tr>\n",
       "      <th>5</th>\n",
       "      <td>PhoneService</td>\n",
       "      <td>5.967552</td>\n",
       "    </tr>\n",
       "    <tr>\n",
       "      <th>6</th>\n",
       "      <td>PaperlessBilling</td>\n",
       "      <td>2.748477</td>\n",
       "    </tr>\n",
       "    <tr>\n",
       "      <th>7</th>\n",
       "      <td>MonthlyCharges</td>\n",
       "      <td>7.465415</td>\n",
       "    </tr>\n",
       "  </tbody>\n",
       "</table>\n",
       "</div>"
      ],
      "text/plain": [
       "          variables       VIF\n",
       "0            gender  1.878863\n",
       "1     SeniorCitizen  1.323160\n",
       "2           Partner  2.812757\n",
       "3        Dependents  1.904657\n",
       "4            tenure  3.299933\n",
       "5      PhoneService  5.967552\n",
       "6  PaperlessBilling  2.748477\n",
       "7    MonthlyCharges  7.465415"
      ]
     },
     "execution_count": 41,
     "metadata": {},
     "output_type": "execute_result"
    }
   ],
   "source": [
    "#Dropping 'TotalCharges':\n",
    "    \n",
    "dataset_new = dataset_vif.drop(columns = \"TotalCharges\")\n",
    "#Revalidate Colinearity:\n",
    "dataset_new = data[['gender', \n",
    "'SeniorCitizen', 'Partner', 'Dependents',\n",
    "'tenure', 'PhoneService', 'PaperlessBilling',\n",
    "'MonthlyCharges']]\n",
    "calc_vif(dataset_new)"
   ]
  },
  {
   "cell_type": "raw",
   "id": "70a281dc",
   "metadata": {},
   "source": [
    "VIF values for all the independent variables have decreased to a considerable extent.\n",
    "Dropping Total Charges have decreased the VIF values considerably."
   ]
  },
  {
   "cell_type": "code",
   "execution_count": 42,
   "id": "f7bb4303",
   "metadata": {},
   "outputs": [],
   "source": [
    "data = data.drop(columns = \"TotalCharges\")\n",
    "#Dropping TotalCharges..."
   ]
  },
  {
   "cell_type": "code",
   "execution_count": 43,
   "id": "6f88c2ef",
   "metadata": {},
   "outputs": [
    {
     "data": {
      "text/plain": [
       "Index(['customerID', 'gender', 'SeniorCitizen', 'Partner', 'Dependents',\n",
       "       'tenure', 'PhoneService', 'MultipleLines', 'InternetService',\n",
       "       'OnlineSecurity', 'OnlineBackup', 'DeviceProtection', 'TechSupport',\n",
       "       'StreamingTV', 'StreamingMovies', 'Contract', 'PaperlessBilling',\n",
       "       'PaymentMethod', 'MonthlyCharges', 'Churn'],\n",
       "      dtype='object')"
      ]
     },
     "execution_count": 43,
     "metadata": {},
     "output_type": "execute_result"
    }
   ],
   "source": [
    "data.columns"
   ]
  },
  {
   "cell_type": "code",
   "execution_count": 44,
   "id": "de9df162",
   "metadata": {},
   "outputs": [
    {
     "data": {
      "text/plain": [
       "gender             -0.018776\n",
       "SeniorCitizen       1.831103\n",
       "Partner             0.070024\n",
       "Dependents          0.880908\n",
       "tenure              0.237731\n",
       "PhoneService       -2.729727\n",
       "PaperlessBilling   -0.377503\n",
       "MonthlyCharges     -0.222103\n",
       "Churn               1.060622\n",
       "dtype: float64"
      ]
     },
     "execution_count": 44,
     "metadata": {},
     "output_type": "execute_result"
    }
   ],
   "source": [
    "data.skew()"
   ]
  },
  {
   "cell_type": "code",
   "execution_count": 45,
   "id": "23a43f73",
   "metadata": {},
   "outputs": [],
   "source": [
    "data=data.drop(columns=\"customerID\")"
   ]
  },
  {
   "cell_type": "code",
   "execution_count": 46,
   "id": "184c6cb4",
   "metadata": {},
   "outputs": [],
   "source": [
    "data=pd.get_dummies(data)"
   ]
  },
  {
   "cell_type": "code",
   "execution_count": 47,
   "id": "a50b3c59",
   "metadata": {},
   "outputs": [],
   "source": [
    "Y = data[\"Churn\"]\n",
    "X= data.drop(columns=\"Churn\")"
   ]
  },
  {
   "cell_type": "code",
   "execution_count": 48,
   "id": "de166c06",
   "metadata": {},
   "outputs": [
    {
     "data": {
      "text/plain": [
       "(7032,)"
      ]
     },
     "execution_count": 48,
     "metadata": {},
     "output_type": "execute_result"
    }
   ],
   "source": [
    "Y.shape"
   ]
  },
  {
   "cell_type": "code",
   "execution_count": 49,
   "id": "1dbdf4ac",
   "metadata": {},
   "outputs": [
    {
     "data": {
      "text/plain": [
       "(7032, 39)"
      ]
     },
     "execution_count": 49,
     "metadata": {},
     "output_type": "execute_result"
    }
   ],
   "source": [
    "X.shape"
   ]
  },
  {
   "cell_type": "markdown",
   "id": "883d1aef",
   "metadata": {},
   "source": [
    "# StandardScaler"
   ]
  },
  {
   "cell_type": "code",
   "execution_count": 50,
   "id": "769414a6",
   "metadata": {},
   "outputs": [
    {
     "data": {
      "text/html": [
       "<div>\n",
       "<style scoped>\n",
       "    .dataframe tbody tr th:only-of-type {\n",
       "        vertical-align: middle;\n",
       "    }\n",
       "\n",
       "    .dataframe tbody tr th {\n",
       "        vertical-align: top;\n",
       "    }\n",
       "\n",
       "    .dataframe thead th {\n",
       "        text-align: right;\n",
       "    }\n",
       "</style>\n",
       "<table border=\"1\" class=\"dataframe\">\n",
       "  <thead>\n",
       "    <tr style=\"text-align: right;\">\n",
       "      <th></th>\n",
       "      <th>gender</th>\n",
       "      <th>SeniorCitizen</th>\n",
       "      <th>Partner</th>\n",
       "      <th>Dependents</th>\n",
       "      <th>tenure</th>\n",
       "      <th>PhoneService</th>\n",
       "      <th>PaperlessBilling</th>\n",
       "      <th>MonthlyCharges</th>\n",
       "      <th>MultipleLines_No</th>\n",
       "      <th>MultipleLines_No phone service</th>\n",
       "      <th>...</th>\n",
       "      <th>StreamingMovies_No</th>\n",
       "      <th>StreamingMovies_No internet service</th>\n",
       "      <th>StreamingMovies_Yes</th>\n",
       "      <th>Contract_Month-to-month</th>\n",
       "      <th>Contract_One year</th>\n",
       "      <th>Contract_Two year</th>\n",
       "      <th>PaymentMethod_Bank transfer</th>\n",
       "      <th>PaymentMethod_Credit card</th>\n",
       "      <th>PaymentMethod_Electronic check</th>\n",
       "      <th>PaymentMethod_Mailed check</th>\n",
       "    </tr>\n",
       "  </thead>\n",
       "  <tbody>\n",
       "    <tr>\n",
       "      <th>0</th>\n",
       "      <td>-1.009430</td>\n",
       "      <td>-0.440327</td>\n",
       "      <td>1.035617</td>\n",
       "      <td>-0.652305</td>\n",
       "      <td>-1.280248</td>\n",
       "      <td>-3.056334</td>\n",
       "      <td>0.828939</td>\n",
       "      <td>-1.161694</td>\n",
       "      <td>-0.963411</td>\n",
       "      <td>3.056334</td>\n",
       "      <td>...</td>\n",
       "      <td>1.236360</td>\n",
       "      <td>-0.52513</td>\n",
       "      <td>-0.796849</td>\n",
       "      <td>0.902613</td>\n",
       "      <td>-0.514537</td>\n",
       "      <td>-0.561364</td>\n",
       "      <td>-0.529976</td>\n",
       "      <td>-0.525351</td>\n",
       "      <td>1.404764</td>\n",
       "      <td>-0.543604</td>\n",
       "    </tr>\n",
       "    <tr>\n",
       "      <th>1</th>\n",
       "      <td>0.990658</td>\n",
       "      <td>-0.440327</td>\n",
       "      <td>-0.965608</td>\n",
       "      <td>-0.652305</td>\n",
       "      <td>0.064303</td>\n",
       "      <td>0.327189</td>\n",
       "      <td>-1.206361</td>\n",
       "      <td>-0.260878</td>\n",
       "      <td>1.037979</td>\n",
       "      <td>-0.327189</td>\n",
       "      <td>...</td>\n",
       "      <td>1.236360</td>\n",
       "      <td>-0.52513</td>\n",
       "      <td>-0.796849</td>\n",
       "      <td>-1.107895</td>\n",
       "      <td>1.943495</td>\n",
       "      <td>-0.561364</td>\n",
       "      <td>-0.529976</td>\n",
       "      <td>-0.525351</td>\n",
       "      <td>-0.711863</td>\n",
       "      <td>1.839576</td>\n",
       "    </tr>\n",
       "    <tr>\n",
       "      <th>2</th>\n",
       "      <td>0.990658</td>\n",
       "      <td>-0.440327</td>\n",
       "      <td>-0.965608</td>\n",
       "      <td>-0.652305</td>\n",
       "      <td>-1.239504</td>\n",
       "      <td>0.327189</td>\n",
       "      <td>0.828939</td>\n",
       "      <td>-0.363923</td>\n",
       "      <td>1.037979</td>\n",
       "      <td>-0.327189</td>\n",
       "      <td>...</td>\n",
       "      <td>1.236360</td>\n",
       "      <td>-0.52513</td>\n",
       "      <td>-0.796849</td>\n",
       "      <td>0.902613</td>\n",
       "      <td>-0.514537</td>\n",
       "      <td>-0.561364</td>\n",
       "      <td>-0.529976</td>\n",
       "      <td>-0.525351</td>\n",
       "      <td>-0.711863</td>\n",
       "      <td>1.839576</td>\n",
       "    </tr>\n",
       "    <tr>\n",
       "      <th>3</th>\n",
       "      <td>0.990658</td>\n",
       "      <td>-0.440327</td>\n",
       "      <td>-0.965608</td>\n",
       "      <td>-0.652305</td>\n",
       "      <td>0.512486</td>\n",
       "      <td>-3.056334</td>\n",
       "      <td>-1.206361</td>\n",
       "      <td>-0.747850</td>\n",
       "      <td>-0.963411</td>\n",
       "      <td>3.056334</td>\n",
       "      <td>...</td>\n",
       "      <td>1.236360</td>\n",
       "      <td>-0.52513</td>\n",
       "      <td>-0.796849</td>\n",
       "      <td>-1.107895</td>\n",
       "      <td>1.943495</td>\n",
       "      <td>-0.561364</td>\n",
       "      <td>1.886879</td>\n",
       "      <td>-0.525351</td>\n",
       "      <td>-0.711863</td>\n",
       "      <td>-0.543604</td>\n",
       "    </tr>\n",
       "    <tr>\n",
       "      <th>4</th>\n",
       "      <td>-1.009430</td>\n",
       "      <td>-0.440327</td>\n",
       "      <td>-0.965608</td>\n",
       "      <td>-0.652305</td>\n",
       "      <td>-1.239504</td>\n",
       "      <td>0.327189</td>\n",
       "      <td>0.828939</td>\n",
       "      <td>0.196178</td>\n",
       "      <td>1.037979</td>\n",
       "      <td>-0.327189</td>\n",
       "      <td>...</td>\n",
       "      <td>1.236360</td>\n",
       "      <td>-0.52513</td>\n",
       "      <td>-0.796849</td>\n",
       "      <td>0.902613</td>\n",
       "      <td>-0.514537</td>\n",
       "      <td>-0.561364</td>\n",
       "      <td>-0.529976</td>\n",
       "      <td>-0.525351</td>\n",
       "      <td>1.404764</td>\n",
       "      <td>-0.543604</td>\n",
       "    </tr>\n",
       "    <tr>\n",
       "      <th>...</th>\n",
       "      <td>...</td>\n",
       "      <td>...</td>\n",
       "      <td>...</td>\n",
       "      <td>...</td>\n",
       "      <td>...</td>\n",
       "      <td>...</td>\n",
       "      <td>...</td>\n",
       "      <td>...</td>\n",
       "      <td>...</td>\n",
       "      <td>...</td>\n",
       "      <td>...</td>\n",
       "      <td>...</td>\n",
       "      <td>...</td>\n",
       "      <td>...</td>\n",
       "      <td>...</td>\n",
       "      <td>...</td>\n",
       "      <td>...</td>\n",
       "      <td>...</td>\n",
       "      <td>...</td>\n",
       "      <td>...</td>\n",
       "      <td>...</td>\n",
       "    </tr>\n",
       "    <tr>\n",
       "      <th>7027</th>\n",
       "      <td>0.990658</td>\n",
       "      <td>-0.440327</td>\n",
       "      <td>1.035617</td>\n",
       "      <td>1.533025</td>\n",
       "      <td>-0.343137</td>\n",
       "      <td>0.327189</td>\n",
       "      <td>0.828939</td>\n",
       "      <td>0.664868</td>\n",
       "      <td>-0.963411</td>\n",
       "      <td>-0.327189</td>\n",
       "      <td>...</td>\n",
       "      <td>-0.808826</td>\n",
       "      <td>-0.52513</td>\n",
       "      <td>1.254943</td>\n",
       "      <td>-1.107895</td>\n",
       "      <td>1.943495</td>\n",
       "      <td>-0.561364</td>\n",
       "      <td>-0.529976</td>\n",
       "      <td>-0.525351</td>\n",
       "      <td>-0.711863</td>\n",
       "      <td>1.839576</td>\n",
       "    </tr>\n",
       "    <tr>\n",
       "      <th>7028</th>\n",
       "      <td>-1.009430</td>\n",
       "      <td>-0.440327</td>\n",
       "      <td>1.035617</td>\n",
       "      <td>1.533025</td>\n",
       "      <td>1.612573</td>\n",
       "      <td>0.327189</td>\n",
       "      <td>0.828939</td>\n",
       "      <td>1.276493</td>\n",
       "      <td>-0.963411</td>\n",
       "      <td>-0.327189</td>\n",
       "      <td>...</td>\n",
       "      <td>-0.808826</td>\n",
       "      <td>-0.52513</td>\n",
       "      <td>1.254943</td>\n",
       "      <td>-1.107895</td>\n",
       "      <td>1.943495</td>\n",
       "      <td>-0.561364</td>\n",
       "      <td>-0.529976</td>\n",
       "      <td>1.903490</td>\n",
       "      <td>-0.711863</td>\n",
       "      <td>-0.543604</td>\n",
       "    </tr>\n",
       "    <tr>\n",
       "      <th>7029</th>\n",
       "      <td>-1.009430</td>\n",
       "      <td>-0.440327</td>\n",
       "      <td>1.035617</td>\n",
       "      <td>1.533025</td>\n",
       "      <td>-0.872808</td>\n",
       "      <td>-3.056334</td>\n",
       "      <td>0.828939</td>\n",
       "      <td>-1.170004</td>\n",
       "      <td>-0.963411</td>\n",
       "      <td>3.056334</td>\n",
       "      <td>...</td>\n",
       "      <td>1.236360</td>\n",
       "      <td>-0.52513</td>\n",
       "      <td>-0.796849</td>\n",
       "      <td>0.902613</td>\n",
       "      <td>-0.514537</td>\n",
       "      <td>-0.561364</td>\n",
       "      <td>-0.529976</td>\n",
       "      <td>-0.525351</td>\n",
       "      <td>1.404764</td>\n",
       "      <td>-0.543604</td>\n",
       "    </tr>\n",
       "    <tr>\n",
       "      <th>7030</th>\n",
       "      <td>0.990658</td>\n",
       "      <td>2.271039</td>\n",
       "      <td>1.035617</td>\n",
       "      <td>-0.652305</td>\n",
       "      <td>-1.158016</td>\n",
       "      <td>0.327189</td>\n",
       "      <td>0.828939</td>\n",
       "      <td>0.319168</td>\n",
       "      <td>-0.963411</td>\n",
       "      <td>-0.327189</td>\n",
       "      <td>...</td>\n",
       "      <td>1.236360</td>\n",
       "      <td>-0.52513</td>\n",
       "      <td>-0.796849</td>\n",
       "      <td>0.902613</td>\n",
       "      <td>-0.514537</td>\n",
       "      <td>-0.561364</td>\n",
       "      <td>-0.529976</td>\n",
       "      <td>-0.525351</td>\n",
       "      <td>-0.711863</td>\n",
       "      <td>1.839576</td>\n",
       "    </tr>\n",
       "    <tr>\n",
       "      <th>7031</th>\n",
       "      <td>0.990658</td>\n",
       "      <td>-0.440327</td>\n",
       "      <td>-0.965608</td>\n",
       "      <td>-0.652305</td>\n",
       "      <td>1.368109</td>\n",
       "      <td>0.327189</td>\n",
       "      <td>0.828939</td>\n",
       "      <td>1.357932</td>\n",
       "      <td>1.037979</td>\n",
       "      <td>-0.327189</td>\n",
       "      <td>...</td>\n",
       "      <td>-0.808826</td>\n",
       "      <td>-0.52513</td>\n",
       "      <td>1.254943</td>\n",
       "      <td>-1.107895</td>\n",
       "      <td>-0.514537</td>\n",
       "      <td>1.781374</td>\n",
       "      <td>1.886879</td>\n",
       "      <td>-0.525351</td>\n",
       "      <td>-0.711863</td>\n",
       "      <td>-0.543604</td>\n",
       "    </tr>\n",
       "  </tbody>\n",
       "</table>\n",
       "<p>7032 rows × 39 columns</p>\n",
       "</div>"
      ],
      "text/plain": [
       "        gender  SeniorCitizen   Partner  Dependents    tenure  PhoneService  \\\n",
       "0    -1.009430      -0.440327  1.035617   -0.652305 -1.280248     -3.056334   \n",
       "1     0.990658      -0.440327 -0.965608   -0.652305  0.064303      0.327189   \n",
       "2     0.990658      -0.440327 -0.965608   -0.652305 -1.239504      0.327189   \n",
       "3     0.990658      -0.440327 -0.965608   -0.652305  0.512486     -3.056334   \n",
       "4    -1.009430      -0.440327 -0.965608   -0.652305 -1.239504      0.327189   \n",
       "...        ...            ...       ...         ...       ...           ...   \n",
       "7027  0.990658      -0.440327  1.035617    1.533025 -0.343137      0.327189   \n",
       "7028 -1.009430      -0.440327  1.035617    1.533025  1.612573      0.327189   \n",
       "7029 -1.009430      -0.440327  1.035617    1.533025 -0.872808     -3.056334   \n",
       "7030  0.990658       2.271039  1.035617   -0.652305 -1.158016      0.327189   \n",
       "7031  0.990658      -0.440327 -0.965608   -0.652305  1.368109      0.327189   \n",
       "\n",
       "      PaperlessBilling  MonthlyCharges  MultipleLines_No  \\\n",
       "0             0.828939       -1.161694         -0.963411   \n",
       "1            -1.206361       -0.260878          1.037979   \n",
       "2             0.828939       -0.363923          1.037979   \n",
       "3            -1.206361       -0.747850         -0.963411   \n",
       "4             0.828939        0.196178          1.037979   \n",
       "...                ...             ...               ...   \n",
       "7027          0.828939        0.664868         -0.963411   \n",
       "7028          0.828939        1.276493         -0.963411   \n",
       "7029          0.828939       -1.170004         -0.963411   \n",
       "7030          0.828939        0.319168         -0.963411   \n",
       "7031          0.828939        1.357932          1.037979   \n",
       "\n",
       "      MultipleLines_No phone service  ...  StreamingMovies_No  \\\n",
       "0                           3.056334  ...            1.236360   \n",
       "1                          -0.327189  ...            1.236360   \n",
       "2                          -0.327189  ...            1.236360   \n",
       "3                           3.056334  ...            1.236360   \n",
       "4                          -0.327189  ...            1.236360   \n",
       "...                              ...  ...                 ...   \n",
       "7027                       -0.327189  ...           -0.808826   \n",
       "7028                       -0.327189  ...           -0.808826   \n",
       "7029                        3.056334  ...            1.236360   \n",
       "7030                       -0.327189  ...            1.236360   \n",
       "7031                       -0.327189  ...           -0.808826   \n",
       "\n",
       "      StreamingMovies_No internet service  StreamingMovies_Yes  \\\n",
       "0                                -0.52513            -0.796849   \n",
       "1                                -0.52513            -0.796849   \n",
       "2                                -0.52513            -0.796849   \n",
       "3                                -0.52513            -0.796849   \n",
       "4                                -0.52513            -0.796849   \n",
       "...                                   ...                  ...   \n",
       "7027                             -0.52513             1.254943   \n",
       "7028                             -0.52513             1.254943   \n",
       "7029                             -0.52513            -0.796849   \n",
       "7030                             -0.52513            -0.796849   \n",
       "7031                             -0.52513             1.254943   \n",
       "\n",
       "      Contract_Month-to-month  Contract_One year  Contract_Two year  \\\n",
       "0                    0.902613          -0.514537          -0.561364   \n",
       "1                   -1.107895           1.943495          -0.561364   \n",
       "2                    0.902613          -0.514537          -0.561364   \n",
       "3                   -1.107895           1.943495          -0.561364   \n",
       "4                    0.902613          -0.514537          -0.561364   \n",
       "...                       ...                ...                ...   \n",
       "7027                -1.107895           1.943495          -0.561364   \n",
       "7028                -1.107895           1.943495          -0.561364   \n",
       "7029                 0.902613          -0.514537          -0.561364   \n",
       "7030                 0.902613          -0.514537          -0.561364   \n",
       "7031                -1.107895          -0.514537           1.781374   \n",
       "\n",
       "      PaymentMethod_Bank transfer  PaymentMethod_Credit card  \\\n",
       "0                       -0.529976                  -0.525351   \n",
       "1                       -0.529976                  -0.525351   \n",
       "2                       -0.529976                  -0.525351   \n",
       "3                        1.886879                  -0.525351   \n",
       "4                       -0.529976                  -0.525351   \n",
       "...                           ...                        ...   \n",
       "7027                    -0.529976                  -0.525351   \n",
       "7028                    -0.529976                   1.903490   \n",
       "7029                    -0.529976                  -0.525351   \n",
       "7030                    -0.529976                  -0.525351   \n",
       "7031                     1.886879                  -0.525351   \n",
       "\n",
       "      PaymentMethod_Electronic check  PaymentMethod_Mailed check  \n",
       "0                           1.404764                   -0.543604  \n",
       "1                          -0.711863                    1.839576  \n",
       "2                          -0.711863                    1.839576  \n",
       "3                          -0.711863                   -0.543604  \n",
       "4                           1.404764                   -0.543604  \n",
       "...                              ...                         ...  \n",
       "7027                       -0.711863                    1.839576  \n",
       "7028                       -0.711863                   -0.543604  \n",
       "7029                        1.404764                   -0.543604  \n",
       "7030                       -0.711863                    1.839576  \n",
       "7031                       -0.711863                   -0.543604  \n",
       "\n",
       "[7032 rows x 39 columns]"
      ]
     },
     "execution_count": 50,
     "metadata": {},
     "output_type": "execute_result"
    }
   ],
   "source": [
    "scaler = StandardScaler()\n",
    "X_scaled = pd.DataFrame(scaler.fit_transform(X), columns=X.columns)\n",
    "X_scaled"
   ]
  },
  {
   "cell_type": "code",
   "execution_count": 51,
   "id": "f574580b",
   "metadata": {},
   "outputs": [],
   "source": [
    "from sklearn.model_selection import train_test_split\n",
    "X_train, X_test, y_train, y_test = train_test_split(X, Y, test_size = 0.2, random_state = 0)"
   ]
  },
  {
   "cell_type": "markdown",
   "id": "493e988d",
   "metadata": {},
   "source": [
    "# ModelBuilding"
   ]
  },
  {
   "cell_type": "markdown",
   "id": "91427ca5",
   "metadata": {},
   "source": [
    "# LogisticRegression"
   ]
  },
  {
   "cell_type": "code",
   "execution_count": 52,
   "id": "2f5830e8",
   "metadata": {},
   "outputs": [
    {
     "name": "stdout",
     "output_type": "stream",
     "text": [
      "Best accuracy is 0.8253697383390216 on Random State 99\n"
     ]
    }
   ],
   "source": [
    "from sklearn.linear_model import LogisticRegression\n",
    "max_accu = 0\n",
    "max_rs = 0\n",
    "for i in range(1,200):\n",
    "    x_train,x_test,y_train,y_test = train_test_split(X,Y,test_size = 0.25, random_state = i)\n",
    "    LR = LogisticRegression()\n",
    "    LR.fit(x_train,y_train)\n",
    "    pred = LR.predict(x_test)\n",
    "    acc = accuracy_score(y_test,pred)\n",
    "    if acc > max_accu:\n",
    "        max_accu = acc\n",
    "        max_rs = i\n",
    "print(\"Best accuracy is\",max_accu,\"on Random State\",max_rs)"
   ]
  },
  {
   "cell_type": "code",
   "execution_count": 53,
   "id": "5c23d60a",
   "metadata": {},
   "outputs": [],
   "source": [
    "x_train,x_test,y_train,y_test = train_test_split(X, Y, test_size = 0.25, random_state = max_rs )"
   ]
  },
  {
   "cell_type": "code",
   "execution_count": 54,
   "id": "bab5015f",
   "metadata": {},
   "outputs": [],
   "source": [
    "from sklearn.metrics import accuracy_score,confusion_matrix,classification_report"
   ]
  },
  {
   "cell_type": "code",
   "execution_count": 55,
   "id": "19b278a2",
   "metadata": {},
   "outputs": [
    {
     "name": "stdout",
     "output_type": "stream",
     "text": [
      "0.8253697383390216\n",
      "[[1200  109]\n",
      " [ 198  251]]\n",
      "              precision    recall  f1-score   support\n",
      "\n",
      "           0       0.86      0.92      0.89      1309\n",
      "           1       0.70      0.56      0.62       449\n",
      "\n",
      "    accuracy                           0.83      1758\n",
      "   macro avg       0.78      0.74      0.75      1758\n",
      "weighted avg       0.82      0.83      0.82      1758\n",
      "\n",
      "Training accuracy:: 0.798445202882063\n",
      "Test accuracy:: 0.8253697383390216\n"
     ]
    }
   ],
   "source": [
    "LR.fit(x_train,y_train)\n",
    "LR_pred=LR.predict(x_test)\n",
    "\n",
    "print(accuracy_score(y_test,LR_pred))\n",
    "print(confusion_matrix(y_test,LR_pred))\n",
    "print(classification_report(y_test,LR_pred))\n",
    "print(\"Training accuracy::\",LR.score(x_train,y_train))\n",
    "print(\"Test accuracy::\",LR.score(x_test,y_test))"
   ]
  },
  {
   "cell_type": "code",
   "execution_count": 56,
   "id": "5faf10b0",
   "metadata": {},
   "outputs": [
    {
     "name": "stdout",
     "output_type": "stream",
     "text": [
      "0.800907674591885\n"
     ]
    }
   ],
   "source": [
    "print(cross_val_score(LR,X,Y,cv=5).mean())"
   ]
  },
  {
   "cell_type": "markdown",
   "id": "f5bcf027",
   "metadata": {},
   "source": [
    "# KNeighbors Classifier"
   ]
  },
  {
   "cell_type": "code",
   "execution_count": 57,
   "id": "86929df8",
   "metadata": {},
   "outputs": [],
   "source": [
    "from sklearn.neighbors import KNeighborsClassifier"
   ]
  },
  {
   "cell_type": "code",
   "execution_count": 58,
   "id": "ff31163c",
   "metadata": {},
   "outputs": [
    {
     "name": "stdout",
     "output_type": "stream",
     "text": [
      "0.78839590443686\n",
      "[[1151  158]\n",
      " [ 214  235]]\n",
      "              precision    recall  f1-score   support\n",
      "\n",
      "           0       0.84      0.88      0.86      1309\n",
      "           1       0.60      0.52      0.56       449\n",
      "\n",
      "    accuracy                           0.79      1758\n",
      "   macro avg       0.72      0.70      0.71      1758\n",
      "weighted avg       0.78      0.79      0.78      1758\n",
      "\n",
      "Training accuracy:: 0.8392112248767539\n",
      "Test accuracy:: 0.78839590443686\n"
     ]
    }
   ],
   "source": [
    "knn=KNeighborsClassifier()\n",
    "knn.fit(x_train,y_train)\n",
    "pred_knn=knn.predict(x_test)\n",
    "print(accuracy_score(y_test,pred_knn))\n",
    "print(confusion_matrix(y_test,pred_knn))\n",
    "print(classification_report(y_test,pred_knn))\n",
    "print(\"Training accuracy::\",knn.score(x_train,y_train))\n",
    "print(\"Test accuracy::\",knn.score(x_test,y_test))"
   ]
  },
  {
   "cell_type": "code",
   "execution_count": 59,
   "id": "58b34500",
   "metadata": {},
   "outputs": [
    {
     "name": "stdout",
     "output_type": "stream",
     "text": [
      "0.7713292913607133\n"
     ]
    }
   ],
   "source": [
    "print(cross_val_score(knn,X,Y,cv=5).mean())"
   ]
  },
  {
   "cell_type": "markdown",
   "id": "f9e6ccd8",
   "metadata": {},
   "source": [
    "# DecisionTreeClassifier"
   ]
  },
  {
   "cell_type": "code",
   "execution_count": 60,
   "id": "d20760ae",
   "metadata": {},
   "outputs": [],
   "source": [
    "from sklearn.tree import DecisionTreeClassifier"
   ]
  },
  {
   "cell_type": "code",
   "execution_count": 61,
   "id": "0c52eba9",
   "metadata": {},
   "outputs": [
    {
     "name": "stdout",
     "output_type": "stream",
     "text": [
      "0.7622298065984073\n",
      "[[1107  202]\n",
      " [ 216  233]]\n",
      "              precision    recall  f1-score   support\n",
      "\n",
      "           0       0.84      0.85      0.84      1309\n",
      "           1       0.54      0.52      0.53       449\n",
      "\n",
      "    accuracy                           0.76      1758\n",
      "   macro avg       0.69      0.68      0.68      1758\n",
      "weighted avg       0.76      0.76      0.76      1758\n",
      "\n",
      "Training accuracy:: 0.997155858930603\n",
      "Test accuracy:: 0.7622298065984073\n"
     ]
    }
   ],
   "source": [
    "DT=DecisionTreeClassifier()\n",
    "DT.fit(x_train,y_train)\n",
    "pred_DT=DT.predict(x_test)\n",
    "print(accuracy_score(y_test,pred_DT))\n",
    "print(confusion_matrix(y_test,pred_DT))\n",
    "print(classification_report(y_test,pred_DT))\n",
    "print(\"Training accuracy::\",DT.score(x_train,y_train))\n",
    "print(\"Test accuracy::\",DT.score(x_test,y_test))"
   ]
  },
  {
   "cell_type": "code",
   "execution_count": 62,
   "id": "84d90464",
   "metadata": {},
   "outputs": [
    {
     "name": "stdout",
     "output_type": "stream",
     "text": [
      "0.7191408331235511\n"
     ]
    }
   ],
   "source": [
    "print(cross_val_score(DT,X,Y,cv=5).mean())"
   ]
  },
  {
   "cell_type": "markdown",
   "id": "77ccc3f9",
   "metadata": {},
   "source": [
    "# RandomforestClassifier"
   ]
  },
  {
   "cell_type": "code",
   "execution_count": 63,
   "id": "a4a062fa",
   "metadata": {},
   "outputs": [],
   "source": [
    "from sklearn.ensemble import RandomForestClassifier"
   ]
  },
  {
   "cell_type": "code",
   "execution_count": 64,
   "id": "1fcc945e",
   "metadata": {},
   "outputs": [
    {
     "name": "stdout",
     "output_type": "stream",
     "text": [
      "0.7946530147895335\n",
      "[[1185  124]\n",
      " [ 237  212]]\n",
      "              precision    recall  f1-score   support\n",
      "\n",
      "           0       0.83      0.91      0.87      1309\n",
      "           1       0.63      0.47      0.54       449\n",
      "\n",
      "    accuracy                           0.79      1758\n",
      "   macro avg       0.73      0.69      0.70      1758\n",
      "weighted avg       0.78      0.79      0.78      1758\n",
      "\n",
      "Training accuracy:: 0.997155858930603\n",
      "Test accuracy:: 0.7946530147895335\n"
     ]
    }
   ],
   "source": [
    "RF=RandomForestClassifier()\n",
    "RF.fit(x_train,y_train)\n",
    "pred_RF=RF.predict(x_test)\n",
    "print(accuracy_score(y_test,pred_RF))\n",
    "print(confusion_matrix(y_test,pred_RF))\n",
    "print(classification_report(y_test,pred_RF))\n",
    "print(\"Training accuracy::\",RF.score(x_train,y_train))\n",
    "print(\"Test accuracy::\",RF.score(x_test,y_test))"
   ]
  },
  {
   "cell_type": "code",
   "execution_count": 65,
   "id": "a8522268",
   "metadata": {},
   "outputs": [
    {
     "name": "stdout",
     "output_type": "stream",
     "text": [
      "0.7838425228056022\n"
     ]
    }
   ],
   "source": [
    "print(cross_val_score(RF,X,Y,cv=5).mean())"
   ]
  },
  {
   "cell_type": "markdown",
   "id": "1df64c24",
   "metadata": {},
   "source": [
    "# AdaBosstClassifier"
   ]
  },
  {
   "cell_type": "code",
   "execution_count": 66,
   "id": "263b97c0",
   "metadata": {},
   "outputs": [],
   "source": [
    "from sklearn.ensemble import AdaBoostClassifier"
   ]
  },
  {
   "cell_type": "code",
   "execution_count": 67,
   "id": "f32960e2",
   "metadata": {},
   "outputs": [
    {
     "name": "stdout",
     "output_type": "stream",
     "text": [
      "0.8242320819112628\n",
      "[[1207  102]\n",
      " [ 207  242]]\n",
      "              precision    recall  f1-score   support\n",
      "\n",
      "           0       0.85      0.92      0.89      1309\n",
      "           1       0.70      0.54      0.61       449\n",
      "\n",
      "    accuracy                           0.82      1758\n",
      "   macro avg       0.78      0.73      0.75      1758\n",
      "weighted avg       0.82      0.82      0.82      1758\n",
      "\n",
      "Training accuracy:: 0.7986348122866894\n",
      "Test accuracy:: 0.8242320819112628\n"
     ]
    }
   ],
   "source": [
    "ADA=AdaBoostClassifier()\n",
    "ADA.fit(x_train,y_train)\n",
    "pred_ADA=ADA.predict(x_test)\n",
    "print(accuracy_score(y_test,pred_ADA))\n",
    "print(confusion_matrix(y_test,pred_ADA))\n",
    "print(classification_report(y_test,pred_ADA))\n",
    "print(\"Training accuracy::\",ADA.score(x_train,y_train))\n",
    "print(\"Test accuracy::\",ADA.score(x_test,y_test))"
   ]
  },
  {
   "cell_type": "code",
   "execution_count": 68,
   "id": "5c2e4da4",
   "metadata": {},
   "outputs": [
    {
     "name": "stdout",
     "output_type": "stream",
     "text": [
      "0.8020453513776372\n"
     ]
    }
   ],
   "source": [
    "print(cross_val_score(ADA,X,Y,cv=5).mean())"
   ]
  },
  {
   "cell_type": "markdown",
   "id": "89eb80e3",
   "metadata": {},
   "source": [
    "# ROC Curve"
   ]
  },
  {
   "cell_type": "code",
   "execution_count": 69,
   "id": "de430cff",
   "metadata": {},
   "outputs": [
    {
     "data": {
      "image/png": "[encoded data removed]",
      "text/plain": [
       "<Figure size 432x288 with 1 Axes>"
      ]
     },
     "metadata": {
      "needs_background": "light"
     },
     "output_type": "display_data"
    }
   ],
   "source": [
    "#Lets plot roc curve and check auc and performance of all algorithms\n",
    "from sklearn.metrics import plot_roc_curve\n",
    "disp = plot_roc_curve(LR, x_test, y_test)\n",
    "plot_roc_curve(DT, x_test, y_test, ax = disp.ax_)\n",
    "plot_roc_curve(RF, x_test, y_test, ax = disp.ax_)\n",
    "plot_roc_curve(knn, x_test, y_test, ax = disp.ax_)\n",
    "plot_roc_curve(ADA, x_test, y_test, ax = disp.ax_)\n",
    "\n",
    "plt.legend(prop={\"size\" :10} ,loc = 'lower right')\n",
    "plt.show()"
   ]
  },
  {
   "cell_type": "markdown",
   "id": "c5ef58ab",
   "metadata": {},
   "source": [
    "# HyperParameterTuning"
   ]
  },
  {
   "cell_type": "code",
   "execution_count": 71,
   "id": "74513a83",
   "metadata": {},
   "outputs": [],
   "source": [
    "from sklearn.model_selection import  GridSearchCV"
   ]
  },
  {
   "cell_type": "code",
   "execution_count": 74,
   "id": "5312e62a",
   "metadata": {},
   "outputs": [
    {
     "name": "stdout",
     "output_type": "stream",
     "text": [
      "Fitting 5 folds for each of 50 candidates, totalling 250 fits\n",
      "Tuned Decision Logistic Regression: {'C': 1.4285714285714286, 'penalty': 'l1', 'solver': 'liblinear'}\n",
      "Best score is 0.8363470707513564\n"
     ]
    }
   ],
   "source": [
    "lg = LogisticRegression(random_state=0)\n",
    "\n",
    "param_grid = {'solver':['liblinear'],\n",
    "              'penalty': ['l1'],\n",
    "             'C': np.linspace(2,1,50)}\n",
    "\n",
    "lg_cv = GridSearchCV(lg, param_grid,scoring=\"roc_auc\", verbose=1).fit(x_train,y_train)\n",
    "\n",
    "\n",
    "print(\"Tuned Decision Logistic Regression: {}\".format(lg_cv.best_params_))\n",
    "print(\"Best score is {}\".format(lg_cv.best_score_))"
   ]
  },
  {
   "cell_type": "code",
   "execution_count": 75,
   "id": "ea242af3",
   "metadata": {},
   "outputs": [
    {
     "name": "stdout",
     "output_type": "stream",
     "text": [
      "Fitting 5 folds for each of 144 candidates, totalling 720 fits\n",
      "Tuned Decision Tree Parameters: {'algorithm': 'auto', 'n_neighbors': 8, 'p': 1, 'weights': 'uniform'}\n",
      "Best score is 0.7787255051844925\n"
     ]
    }
   ],
   "source": [
    "param_dist = {'n_neighbors': range(1,10), 'weights': ['uniform','distance'], 'algorithm':['auto', 'ball_tree', 'kd_tree', 'brute'], 'p':[1,2]}\n",
    "\n",
    "knn = KNeighborsClassifier().fit(x_train,y_train)\n",
    "\n",
    "\n",
    "knn_cv = GridSearchCV(knn, param_dist,n_jobs=-1, verbose=1).fit(x_train,y_train)\n",
    "\n",
    "\n",
    "# Print the tuned parameters and score\n",
    "print(\"Tuned Decision Tree Parameters: {}\".format(knn_cv.best_params_))\n",
    "print(\"Best score is {}\".format(knn_cv.best_score_))"
   ]
  },
  {
   "cell_type": "code",
   "execution_count": 78,
   "id": "67ff188a",
   "metadata": {},
   "outputs": [
    {
     "name": "stdout",
     "output_type": "stream",
     "text": [
      "Fitting 5 folds for each of 48 candidates, totalling 240 fits\n",
      "Best params achieve a train score of 0.8255361196776224 with the params:\n"
     ]
    },
    {
     "data": {
      "text/plain": [
       "{'criterion': 'gini',\n",
       " 'max_depth': 4,\n",
       " 'max_features': None,\n",
       " 'min_samples_leaf': 4,\n",
       " 'min_samples_split': 6}"
      ]
     },
     "execution_count": 78,
     "metadata": {},
     "output_type": "execute_result"
    }
   ],
   "source": [
    "DT = DecisionTreeClassifier(random_state=0)\n",
    "\n",
    "param_dist = {\n",
    "              'max_depth': [None,2,4,6],\n",
    "              \"min_samples_leaf\": [2,4,6],\n",
    "              \"min_samples_split\": [6,7,8,9], #0.5\n",
    "              \"criterion\": [\"gini\"],\n",
    "              \"max_features\":[None]}\n",
    "\n",
    "DT_rs = GridSearchCV(DT,param_dist,scoring='roc_auc', verbose=1,n_jobs=-1).fit(x_train,y_train)\n",
    "\n",
    "print('Best params achieve a train score of', abs(DT_rs.best_score_),'with the params:')\n",
    "DT_rs.best_params_"
   ]
  },
  {
   "cell_type": "code",
   "execution_count": 80,
   "id": "06ce96c8",
   "metadata": {},
   "outputs": [],
   "source": [
    "DT = DecisionTreeClassifier(random_state=0,\n",
    "                            max_depth=None,\n",
    "                            min_samples_leaf=2,\n",
    "                            min_samples_split=9)"
   ]
  },
  {
   "cell_type": "code",
   "execution_count": 81,
   "id": "060a09bc",
   "metadata": {},
   "outputs": [
    {
     "name": "stdout",
     "output_type": "stream",
     "text": [
      "Fitting 5 folds for each of 8 candidates, totalling 40 fits\n",
      "Tuned Decision Tree Parameters: {'algorithm': 'SAMME.R', 'learning_rate': 0.01, 'n_estimators': 450}\n",
      "Best score is 0.776826353228954\n"
     ]
    }
   ],
   "source": [
    "param_dist = {'n_estimators': range(400,600,25), \n",
    "              'learning_rate': [0.01],\n",
    "              'algorithm':['SAMME.R']}\n",
    "\n",
    "ADA = AdaBoostClassifier(DT,random_state=0)\n",
    "\n",
    "ADA_cv = GridSearchCV(ADA, param_dist, cv=5, n_jobs=-1,verbose=1).fit(x_train,y_train)\n",
    "\n",
    "\n",
    "# Print the tuned parameters and score\n",
    "print(\"Tuned Decision Tree Parameters: {}\".format(ADA_cv.best_params_))\n",
    "print(\"Best score is {}\".format(ADA_cv.best_score_))"
   ]
  },
  {
   "cell_type": "code",
   "execution_count": 82,
   "id": "6f29c95b",
   "metadata": {},
   "outputs": [
    {
     "name": "stdout",
     "output_type": "stream",
     "text": [
      "Fitting 5 folds for each of 32 candidates, totalling 160 fits\n",
      "Best params achieve a train score of 0.8288863970285574 with the params:\n"
     ]
    },
    {
     "data": {
      "text/plain": [
       "{'criterion': 'gini',\n",
       " 'max_depth': None,\n",
       " 'min_samples_leaf': 2,\n",
       " 'min_samples_split': 2,\n",
       " 'n_estimators': 1900}"
      ]
     },
     "execution_count": 82,
     "metadata": {},
     "output_type": "execute_result"
    }
   ],
   "source": [
    "RF = RandomForestClassifier(random_state=0)\n",
    "\n",
    "param_dist = {\"n_estimators\": [1600,1700,1900,2000],\n",
    "              'max_depth': [None,2],\n",
    "              \"min_samples_leaf\": [1,2],\n",
    "              \"min_samples_split\": [2,3], #0.5\n",
    "              \"criterion\": [\"gini\"]}\n",
    "\n",
    "#RF_rs = RandomizedSearchCV(RF_cls, param_distributions=param_dist, cv=5, n_iter =25,verbose=True,random_state=0,scoring='recall', n_jobs=-1).fit(X_train,y_train)\n",
    "RF_gs2 = GridSearchCV(estimator=RF,param_grid=param_dist,scoring='roc_auc', verbose=True, n_jobs=-1).fit(x_train,y_train)\n",
    "\n",
    "\n",
    "\n",
    "print('Best params achieve a train score of', abs(RF_gs2.best_score_),'with the params:')\n",
    "RF_gs2.best_params_"
   ]
  },
  {
   "cell_type": "code",
   "execution_count": null,
   "id": "e828d204",
   "metadata": {},
   "outputs": [],
   "source": [
    "lg = LogisticRegression(random_state=0)\n",
    "\n",
    "param_grid = {'solver':['liblinear'],\n",
    "              'penalty': ['l1'],\n",
    "             'C': np.linspace(2,1,50)}\n",
    "\n",
    "lg_cv = GridSearchCV(lg, param_grid,scoring=\"roc_auc\", verbose=1).fit(x_train,y_train)\n",
    "\n",
    "\n",
    "print(\"Tuned Decision Logistic Regression: {}\".format(lg_cv.best_params_))\n",
    "print(\"Best score is {}\".format(lg_cv.best_score_))"
   ]
  },
  {
   "cell_type": "code",
   "execution_count": 87,
   "id": "6d102809",
   "metadata": {},
   "outputs": [],
   "source": [
    "from sklearn.metrics import roc_auc_score"
   ]
  },
  {
   "cell_type": "code",
   "execution_count": 89,
   "id": "119e5ed7",
   "metadata": {},
   "outputs": [
    {
     "name": "stdout",
     "output_type": "stream",
     "text": [
      "Accuracy Score: 82.53697383390217%\n",
      "---------------------------------------------------\n",
      "roc_auc_score: 73.78751865192321%\n",
      "---------------------------------------------------\n",
      "Confusion Matrix : \n",
      " [[1200  109]\n",
      " [ 198  251]]\n",
      "\n",
      "---------------------------------------------------\n",
      "CLASSIFICATION REPORT : \n",
      "               precision    recall  f1-score   support\n",
      "\n",
      "           0       0.86      0.92      0.89      1309\n",
      "           1       0.70      0.56      0.62       449\n",
      "\n",
      "    accuracy                           0.83      1758\n",
      "   macro avg       0.78      0.74      0.75      1758\n",
      "weighted avg       0.82      0.83      0.82      1758\n",
      "\n",
      "---------------------------------------------------\n"
     ]
    }
   ],
   "source": [
    "model = LogisticRegression( solver = 'liblinear', penalty='l1')\n",
    "\n",
    "model.fit(x_train,y_train)\n",
    "pred = model.predict(x_test)\n",
    "\n",
    "print(f\"Accuracy Score: {accuracy_score(y_test,pred)*100}%\")\n",
    "print(\"---------------------------------------------------\")\n",
    "\n",
    "print(f\"roc_auc_score: {roc_auc_score(y_test,LR_pred)*100}%\")\n",
    "print(\"---------------------------------------------------\")\n",
    "\n",
    "print(f\"Confusion Matrix : \\n {confusion_matrix(y_test,pred)}\\n\")\n",
    "print(\"---------------------------------------------------\")\n",
    "\n",
    "print(f\"CLASSIFICATION REPORT : \\n {classification_report(y_test,pred)}\")\n",
    "print(\"---------------------------------------------------\")"
   ]
  },
  {
   "cell_type": "code",
   "execution_count": 90,
   "id": "af9d1429",
   "metadata": {},
   "outputs": [
    {
     "data": {
      "image/png": "[encoded data removed]",
      "text/plain": [
       "<Figure size 432x288 with 1 Axes>"
      ]
     },
     "metadata": {
      "needs_background": "light"
     },
     "output_type": "display_data"
    }
   ],
   "source": [
    "plot_roc_curve(model, x_test, y_test)\n",
    "plt.show()"
   ]
  },
  {
   "cell_type": "markdown",
   "id": "cfb9296e",
   "metadata": {},
   "source": [
    "# Conclusion"
   ]
  },
  {
   "cell_type": "code",
   "execution_count": 91,
   "id": "6deca3a8",
   "metadata": {},
   "outputs": [
    {
     "name": "stdout",
     "output_type": "stream",
     "text": [
      "Logistic Regression Classifier: 82.54% Accuracy\n",
      "Random Forest Classifier: 79.47% Accuracy\n",
      "K-Nearest Neighbors Classifier: 78.84% Accuracy\n",
      "DecisionTreeClassifier: 76.22% Accuracy\n",
      "AdaBoostClassifier: 82.42% Accuracy\n"
     ]
    }
   ],
   "source": [
    "print(\"Logistic Regression Classifier: {:.2f}% Accuracy\".format( 100 * accuracy_score(LR_pred, y_test)))\n",
    "print(\"Random Forest Classifier: {:.2f}% Accuracy\".format( 100 * accuracy_score(pred_RF, y_test)))\n",
    "print(\"K-Nearest Neighbors Classifier: {:.2f}% Accuracy\".format( 100 * accuracy_score(pred_knn, y_test)))\n",
    "print(\"DecisionTreeClassifier: {:.2f}% Accuracy\".format( 100 * accuracy_score(pred_DT, y_test)))\n",
    "print(\"AdaBoostClassifier: {:.2f}% Accuracy\".format( 100 * accuracy_score(pred_ADA, y_test)))"
   ]
  },
  {
   "cell_type": "raw",
   "id": "1d1ea3dc",
   "metadata": {},
   "source": [
    "LogisticRegression is the best model for Customer Churn prediction which shows the accuracy of 82%."
   ]
  },
  {
   "cell_type": "code",
   "execution_count": 92,
   "id": "8b364cdf",
   "metadata": {},
   "outputs": [
    {
     "data": {
      "text/plain": [
       "['Customer_CHURN.pkl']"
      ]
     },
     "execution_count": 92,
     "metadata": {},
     "output_type": "execute_result"
    }
   ],
   "source": [
    "import joblib\n",
    "joblib.dump(model,\"Customer_CHURN.pkl\")"
   ]
  }
 ],
 "metadata": {
  "kernelspec": {
   "display_name": "Python 3 (ipykernel)",
   "language": "python",
   "name": "python3"
  },
  "language_info": {
   "codemirror_mode": {
    "name": "ipython",
    "version": 3
   },
   "file_extension": ".py",
   "mimetype": "text/x-python",
   "name": "python",
   "nbconvert_exporter": "python",
   "pygments_lexer": "ipython3",
   "version": "3.9.12"
  }
 },
 "nbformat": 4,
 "nbformat_minor": 5
}
