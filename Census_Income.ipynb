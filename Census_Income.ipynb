{
 "cells": [
  {
   "cell_type": "markdown",
   "id": "eaa15940",
   "metadata": {},
   "source": [
    "#                                           Census Income Project"
   ]
  },
  {
   "cell_type": "raw",
   "id": "2131cfe4",
   "metadata": {},
   "source": [
    "INTRODUCTION\n",
    "            This data was extracted from the 1994 Census bureau database by Ronny Kohavi and Barry Becker (Data Mining and Visualization, Silicon Graphics).These are prepared monthly for us by Population Division here at the Census Bureau. We use 3 sets of controls. These are:\n",
    "\n",
    "A single cell estimate of the population 16+ for each state.\n",
    "\n",
    "Controls for Hispanic Origin by age and sex.\n",
    "\n",
    "Controls by Race, age and sex.So in this  details our task is to determine whether a person makes over $50K a year,So lets begin our project."
   ]
  },
  {
   "cell_type": "code",
   "execution_count": 1,
   "id": "e020f416",
   "metadata": {},
   "outputs": [],
   "source": [
    "#Importing Libraries\n",
    "\n",
    "import warnings\n",
    "warnings.filterwarnings(\"ignore\")\n",
    "\n",
    "import numpy as np\n",
    "import pandas as pd\n",
    "import matplotlib.pyplot as plt                                         \n",
    "%matplotlib inline\n",
    "\n",
    "import seaborn as sns\n",
    "from plotly.subplots import make_subplots\n",
    "from sklearn import metrics\n",
    "\n",
    "from sklearn import preprocessing\n",
    "from sklearn.preprocessing import StandardScaler\n",
    "from sklearn.preprocessing import MinMaxScaler\n",
    "from scipy.stats import zscore\n",
    "from sklearn.model_selection import train_test_split\n",
    "\n",
    "from sklearn.preprocessing import PowerTransformer\n",
    "from sklearn.model_selection import KFold\n",
    "from sklearn.feature_selection import RFE\n",
    "\n",
    "from sklearn.pipeline import Pipeline\n",
    "from sklearn.pipeline import make_pipeline\n",
    "\n",
    "from statsmodels.stats.outliers_influence import variance_inflation_factor\n",
    "from sklearn.metrics import silhouette_score\n",
    "from sklearn.metrics import accuracy_score\n",
    "from sklearn.model_selection import cross_val_score"
   ]
  },
  {
   "cell_type": "code",
   "execution_count": 2,
   "id": "504d7931",
   "metadata": {},
   "outputs": [
    {
     "data": {
      "text/html": [
       "<div>\n",
       "<style scoped>\n",
       "    .dataframe tbody tr th:only-of-type {\n",
       "        vertical-align: middle;\n",
       "    }\n",
       "\n",
       "    .dataframe tbody tr th {\n",
       "        vertical-align: top;\n",
       "    }\n",
       "\n",
       "    .dataframe thead th {\n",
       "        text-align: right;\n",
       "    }\n",
       "</style>\n",
       "<table border=\"1\" class=\"dataframe\">\n",
       "  <thead>\n",
       "    <tr style=\"text-align: right;\">\n",
       "      <th></th>\n",
       "      <th>Age</th>\n",
       "      <th>Workclass</th>\n",
       "      <th>Fnlwgt</th>\n",
       "      <th>Education</th>\n",
       "      <th>Education_num</th>\n",
       "      <th>Marital_status</th>\n",
       "      <th>Occupation</th>\n",
       "      <th>Relationship</th>\n",
       "      <th>Race</th>\n",
       "      <th>Sex</th>\n",
       "      <th>Capital_gain</th>\n",
       "      <th>Capital_loss</th>\n",
       "      <th>Hours_per_week</th>\n",
       "      <th>Native_country</th>\n",
       "      <th>Income</th>\n",
       "    </tr>\n",
       "  </thead>\n",
       "  <tbody>\n",
       "    <tr>\n",
       "      <th>0</th>\n",
       "      <td>50</td>\n",
       "      <td>Self-emp-not-inc</td>\n",
       "      <td>83311</td>\n",
       "      <td>Bachelors</td>\n",
       "      <td>13</td>\n",
       "      <td>Married-civ-spouse</td>\n",
       "      <td>Exec-managerial</td>\n",
       "      <td>Husband</td>\n",
       "      <td>White</td>\n",
       "      <td>Male</td>\n",
       "      <td>0</td>\n",
       "      <td>0</td>\n",
       "      <td>13</td>\n",
       "      <td>United-States</td>\n",
       "      <td>&lt;=50K</td>\n",
       "    </tr>\n",
       "    <tr>\n",
       "      <th>1</th>\n",
       "      <td>38</td>\n",
       "      <td>Private</td>\n",
       "      <td>215646</td>\n",
       "      <td>HS-grad</td>\n",
       "      <td>9</td>\n",
       "      <td>Divorced</td>\n",
       "      <td>Handlers-cleaners</td>\n",
       "      <td>Not-in-family</td>\n",
       "      <td>White</td>\n",
       "      <td>Male</td>\n",
       "      <td>0</td>\n",
       "      <td>0</td>\n",
       "      <td>40</td>\n",
       "      <td>United-States</td>\n",
       "      <td>&lt;=50K</td>\n",
       "    </tr>\n",
       "    <tr>\n",
       "      <th>2</th>\n",
       "      <td>53</td>\n",
       "      <td>Private</td>\n",
       "      <td>234721</td>\n",
       "      <td>11th</td>\n",
       "      <td>7</td>\n",
       "      <td>Married-civ-spouse</td>\n",
       "      <td>Handlers-cleaners</td>\n",
       "      <td>Husband</td>\n",
       "      <td>Black</td>\n",
       "      <td>Male</td>\n",
       "      <td>0</td>\n",
       "      <td>0</td>\n",
       "      <td>40</td>\n",
       "      <td>United-States</td>\n",
       "      <td>&lt;=50K</td>\n",
       "    </tr>\n",
       "    <tr>\n",
       "      <th>3</th>\n",
       "      <td>28</td>\n",
       "      <td>Private</td>\n",
       "      <td>338409</td>\n",
       "      <td>Bachelors</td>\n",
       "      <td>13</td>\n",
       "      <td>Married-civ-spouse</td>\n",
       "      <td>Prof-specialty</td>\n",
       "      <td>Wife</td>\n",
       "      <td>Black</td>\n",
       "      <td>Female</td>\n",
       "      <td>0</td>\n",
       "      <td>0</td>\n",
       "      <td>40</td>\n",
       "      <td>Cuba</td>\n",
       "      <td>&lt;=50K</td>\n",
       "    </tr>\n",
       "    <tr>\n",
       "      <th>4</th>\n",
       "      <td>37</td>\n",
       "      <td>Private</td>\n",
       "      <td>284582</td>\n",
       "      <td>Masters</td>\n",
       "      <td>14</td>\n",
       "      <td>Married-civ-spouse</td>\n",
       "      <td>Exec-managerial</td>\n",
       "      <td>Wife</td>\n",
       "      <td>White</td>\n",
       "      <td>Female</td>\n",
       "      <td>0</td>\n",
       "      <td>0</td>\n",
       "      <td>40</td>\n",
       "      <td>United-States</td>\n",
       "      <td>&lt;=50K</td>\n",
       "    </tr>\n",
       "    <tr>\n",
       "      <th>5</th>\n",
       "      <td>49</td>\n",
       "      <td>Private</td>\n",
       "      <td>160187</td>\n",
       "      <td>9th</td>\n",
       "      <td>5</td>\n",
       "      <td>Married-spouse-absent</td>\n",
       "      <td>Other-service</td>\n",
       "      <td>Not-in-family</td>\n",
       "      <td>Black</td>\n",
       "      <td>Female</td>\n",
       "      <td>0</td>\n",
       "      <td>0</td>\n",
       "      <td>16</td>\n",
       "      <td>Jamaica</td>\n",
       "      <td>&lt;=50K</td>\n",
       "    </tr>\n",
       "    <tr>\n",
       "      <th>6</th>\n",
       "      <td>52</td>\n",
       "      <td>Self-emp-not-inc</td>\n",
       "      <td>209642</td>\n",
       "      <td>HS-grad</td>\n",
       "      <td>9</td>\n",
       "      <td>Married-civ-spouse</td>\n",
       "      <td>Exec-managerial</td>\n",
       "      <td>Husband</td>\n",
       "      <td>White</td>\n",
       "      <td>Male</td>\n",
       "      <td>0</td>\n",
       "      <td>0</td>\n",
       "      <td>45</td>\n",
       "      <td>United-States</td>\n",
       "      <td>&gt;50K</td>\n",
       "    </tr>\n",
       "    <tr>\n",
       "      <th>7</th>\n",
       "      <td>31</td>\n",
       "      <td>Private</td>\n",
       "      <td>45781</td>\n",
       "      <td>Masters</td>\n",
       "      <td>14</td>\n",
       "      <td>Never-married</td>\n",
       "      <td>Prof-specialty</td>\n",
       "      <td>Not-in-family</td>\n",
       "      <td>White</td>\n",
       "      <td>Female</td>\n",
       "      <td>14084</td>\n",
       "      <td>0</td>\n",
       "      <td>50</td>\n",
       "      <td>United-States</td>\n",
       "      <td>&gt;50K</td>\n",
       "    </tr>\n",
       "    <tr>\n",
       "      <th>8</th>\n",
       "      <td>42</td>\n",
       "      <td>Private</td>\n",
       "      <td>159449</td>\n",
       "      <td>Bachelors</td>\n",
       "      <td>13</td>\n",
       "      <td>Married-civ-spouse</td>\n",
       "      <td>Exec-managerial</td>\n",
       "      <td>Husband</td>\n",
       "      <td>White</td>\n",
       "      <td>Male</td>\n",
       "      <td>5178</td>\n",
       "      <td>0</td>\n",
       "      <td>40</td>\n",
       "      <td>United-States</td>\n",
       "      <td>&gt;50K</td>\n",
       "    </tr>\n",
       "    <tr>\n",
       "      <th>9</th>\n",
       "      <td>37</td>\n",
       "      <td>Private</td>\n",
       "      <td>280464</td>\n",
       "      <td>Some-college</td>\n",
       "      <td>10</td>\n",
       "      <td>Married-civ-spouse</td>\n",
       "      <td>Exec-managerial</td>\n",
       "      <td>Husband</td>\n",
       "      <td>Black</td>\n",
       "      <td>Male</td>\n",
       "      <td>0</td>\n",
       "      <td>0</td>\n",
       "      <td>80</td>\n",
       "      <td>United-States</td>\n",
       "      <td>&gt;50K</td>\n",
       "    </tr>\n",
       "  </tbody>\n",
       "</table>\n",
       "</div>"
      ],
      "text/plain": [
       "   Age          Workclass  Fnlwgt      Education  Education_num  \\\n",
       "0   50   Self-emp-not-inc   83311      Bachelors             13   \n",
       "1   38            Private  215646        HS-grad              9   \n",
       "2   53            Private  234721           11th              7   \n",
       "3   28            Private  338409      Bachelors             13   \n",
       "4   37            Private  284582        Masters             14   \n",
       "5   49            Private  160187            9th              5   \n",
       "6   52   Self-emp-not-inc  209642        HS-grad              9   \n",
       "7   31            Private   45781        Masters             14   \n",
       "8   42            Private  159449      Bachelors             13   \n",
       "9   37            Private  280464   Some-college             10   \n",
       "\n",
       "           Marital_status          Occupation    Relationship    Race  \\\n",
       "0      Married-civ-spouse     Exec-managerial         Husband   White   \n",
       "1                Divorced   Handlers-cleaners   Not-in-family   White   \n",
       "2      Married-civ-spouse   Handlers-cleaners         Husband   Black   \n",
       "3      Married-civ-spouse      Prof-specialty            Wife   Black   \n",
       "4      Married-civ-spouse     Exec-managerial            Wife   White   \n",
       "5   Married-spouse-absent       Other-service   Not-in-family   Black   \n",
       "6      Married-civ-spouse     Exec-managerial         Husband   White   \n",
       "7           Never-married      Prof-specialty   Not-in-family   White   \n",
       "8      Married-civ-spouse     Exec-managerial         Husband   White   \n",
       "9      Married-civ-spouse     Exec-managerial         Husband   Black   \n",
       "\n",
       "       Sex  Capital_gain  Capital_loss  Hours_per_week  Native_country  Income  \n",
       "0     Male             0             0              13   United-States   <=50K  \n",
       "1     Male             0             0              40   United-States   <=50K  \n",
       "2     Male             0             0              40   United-States   <=50K  \n",
       "3   Female             0             0              40            Cuba   <=50K  \n",
       "4   Female             0             0              40   United-States   <=50K  \n",
       "5   Female             0             0              16         Jamaica   <=50K  \n",
       "6     Male             0             0              45   United-States    >50K  \n",
       "7   Female         14084             0              50   United-States    >50K  \n",
       "8     Male          5178             0              40   United-States    >50K  \n",
       "9     Male             0             0              80   United-States    >50K  "
      ]
     },
     "execution_count": 2,
     "metadata": {},
     "output_type": "execute_result"
    }
   ],
   "source": [
    "df=pd.read_csv(\"https://raw.githubusercontent.com/dsrscientist/dataset1/master/census_income.csv\")\n",
    "df.head(10)"
   ]
  },
  {
   "cell_type": "code",
   "execution_count": 3,
   "id": "6cd5450c",
   "metadata": {},
   "outputs": [
    {
     "data": {
      "text/html": [
       "<div>\n",
       "<style scoped>\n",
       "    .dataframe tbody tr th:only-of-type {\n",
       "        vertical-align: middle;\n",
       "    }\n",
       "\n",
       "    .dataframe tbody tr th {\n",
       "        vertical-align: top;\n",
       "    }\n",
       "\n",
       "    .dataframe thead th {\n",
       "        text-align: right;\n",
       "    }\n",
       "</style>\n",
       "<table border=\"1\" class=\"dataframe\">\n",
       "  <thead>\n",
       "    <tr style=\"text-align: right;\">\n",
       "      <th></th>\n",
       "      <th>Age</th>\n",
       "      <th>Workclass</th>\n",
       "      <th>Fnlwgt</th>\n",
       "      <th>Education</th>\n",
       "      <th>Education_num</th>\n",
       "      <th>Marital_status</th>\n",
       "      <th>Occupation</th>\n",
       "      <th>Relationship</th>\n",
       "      <th>Race</th>\n",
       "      <th>Sex</th>\n",
       "      <th>Capital_gain</th>\n",
       "      <th>Capital_loss</th>\n",
       "      <th>Hours_per_week</th>\n",
       "      <th>Native_country</th>\n",
       "      <th>Income</th>\n",
       "    </tr>\n",
       "  </thead>\n",
       "  <tbody>\n",
       "    <tr>\n",
       "      <th>10730</th>\n",
       "      <td>30</td>\n",
       "      <td>Local-gov</td>\n",
       "      <td>108386</td>\n",
       "      <td>Assoc-voc</td>\n",
       "      <td>11</td>\n",
       "      <td>Married-civ-spouse</td>\n",
       "      <td>Protective-serv</td>\n",
       "      <td>Husband</td>\n",
       "      <td>White</td>\n",
       "      <td>Male</td>\n",
       "      <td>0</td>\n",
       "      <td>0</td>\n",
       "      <td>40</td>\n",
       "      <td>United-States</td>\n",
       "      <td>&lt;=50K</td>\n",
       "    </tr>\n",
       "    <tr>\n",
       "      <th>17333</th>\n",
       "      <td>37</td>\n",
       "      <td>Private</td>\n",
       "      <td>239397</td>\n",
       "      <td>10th</td>\n",
       "      <td>6</td>\n",
       "      <td>Married-civ-spouse</td>\n",
       "      <td>Machine-op-inspct</td>\n",
       "      <td>Husband</td>\n",
       "      <td>White</td>\n",
       "      <td>Male</td>\n",
       "      <td>0</td>\n",
       "      <td>0</td>\n",
       "      <td>40</td>\n",
       "      <td>Mexico</td>\n",
       "      <td>&lt;=50K</td>\n",
       "    </tr>\n",
       "    <tr>\n",
       "      <th>3280</th>\n",
       "      <td>31</td>\n",
       "      <td>Local-gov</td>\n",
       "      <td>446358</td>\n",
       "      <td>Doctorate</td>\n",
       "      <td>16</td>\n",
       "      <td>Never-married</td>\n",
       "      <td>Prof-specialty</td>\n",
       "      <td>Not-in-family</td>\n",
       "      <td>White</td>\n",
       "      <td>Male</td>\n",
       "      <td>0</td>\n",
       "      <td>0</td>\n",
       "      <td>50</td>\n",
       "      <td>Mexico</td>\n",
       "      <td>&gt;50K</td>\n",
       "    </tr>\n",
       "    <tr>\n",
       "      <th>20685</th>\n",
       "      <td>42</td>\n",
       "      <td>?</td>\n",
       "      <td>32533</td>\n",
       "      <td>Some-college</td>\n",
       "      <td>10</td>\n",
       "      <td>Never-married</td>\n",
       "      <td>?</td>\n",
       "      <td>Not-in-family</td>\n",
       "      <td>White</td>\n",
       "      <td>Male</td>\n",
       "      <td>0</td>\n",
       "      <td>0</td>\n",
       "      <td>45</td>\n",
       "      <td>United-States</td>\n",
       "      <td>&lt;=50K</td>\n",
       "    </tr>\n",
       "    <tr>\n",
       "      <th>6767</th>\n",
       "      <td>22</td>\n",
       "      <td>Private</td>\n",
       "      <td>180052</td>\n",
       "      <td>Some-college</td>\n",
       "      <td>10</td>\n",
       "      <td>Never-married</td>\n",
       "      <td>Farming-fishing</td>\n",
       "      <td>Own-child</td>\n",
       "      <td>White</td>\n",
       "      <td>Male</td>\n",
       "      <td>0</td>\n",
       "      <td>0</td>\n",
       "      <td>10</td>\n",
       "      <td>United-States</td>\n",
       "      <td>&lt;=50K</td>\n",
       "    </tr>\n",
       "    <tr>\n",
       "      <th>30933</th>\n",
       "      <td>22</td>\n",
       "      <td>Private</td>\n",
       "      <td>147397</td>\n",
       "      <td>Bachelors</td>\n",
       "      <td>13</td>\n",
       "      <td>Never-married</td>\n",
       "      <td>Farming-fishing</td>\n",
       "      <td>Not-in-family</td>\n",
       "      <td>White</td>\n",
       "      <td>Male</td>\n",
       "      <td>0</td>\n",
       "      <td>0</td>\n",
       "      <td>20</td>\n",
       "      <td>United-States</td>\n",
       "      <td>&lt;=50K</td>\n",
       "    </tr>\n",
       "    <tr>\n",
       "      <th>26356</th>\n",
       "      <td>23</td>\n",
       "      <td>Private</td>\n",
       "      <td>245302</td>\n",
       "      <td>Some-college</td>\n",
       "      <td>10</td>\n",
       "      <td>Divorced</td>\n",
       "      <td>Sales</td>\n",
       "      <td>Own-child</td>\n",
       "      <td>Black</td>\n",
       "      <td>Female</td>\n",
       "      <td>0</td>\n",
       "      <td>0</td>\n",
       "      <td>40</td>\n",
       "      <td>United-States</td>\n",
       "      <td>&lt;=50K</td>\n",
       "    </tr>\n",
       "    <tr>\n",
       "      <th>29653</th>\n",
       "      <td>50</td>\n",
       "      <td>Private</td>\n",
       "      <td>109277</td>\n",
       "      <td>HS-grad</td>\n",
       "      <td>9</td>\n",
       "      <td>Married-civ-spouse</td>\n",
       "      <td>Machine-op-inspct</td>\n",
       "      <td>Husband</td>\n",
       "      <td>White</td>\n",
       "      <td>Male</td>\n",
       "      <td>0</td>\n",
       "      <td>0</td>\n",
       "      <td>40</td>\n",
       "      <td>United-States</td>\n",
       "      <td>&gt;50K</td>\n",
       "    </tr>\n",
       "    <tr>\n",
       "      <th>28144</th>\n",
       "      <td>56</td>\n",
       "      <td>?</td>\n",
       "      <td>35723</td>\n",
       "      <td>HS-grad</td>\n",
       "      <td>9</td>\n",
       "      <td>Divorced</td>\n",
       "      <td>?</td>\n",
       "      <td>Own-child</td>\n",
       "      <td>White</td>\n",
       "      <td>Male</td>\n",
       "      <td>0</td>\n",
       "      <td>0</td>\n",
       "      <td>40</td>\n",
       "      <td>United-States</td>\n",
       "      <td>&lt;=50K</td>\n",
       "    </tr>\n",
       "    <tr>\n",
       "      <th>19759</th>\n",
       "      <td>35</td>\n",
       "      <td>Private</td>\n",
       "      <td>204590</td>\n",
       "      <td>Assoc-voc</td>\n",
       "      <td>11</td>\n",
       "      <td>Married-civ-spouse</td>\n",
       "      <td>Other-service</td>\n",
       "      <td>Wife</td>\n",
       "      <td>Black</td>\n",
       "      <td>Female</td>\n",
       "      <td>0</td>\n",
       "      <td>0</td>\n",
       "      <td>40</td>\n",
       "      <td>United-States</td>\n",
       "      <td>&gt;50K</td>\n",
       "    </tr>\n",
       "  </tbody>\n",
       "</table>\n",
       "</div>"
      ],
      "text/plain": [
       "       Age   Workclass  Fnlwgt      Education  Education_num  \\\n",
       "10730   30   Local-gov  108386      Assoc-voc             11   \n",
       "17333   37     Private  239397           10th              6   \n",
       "3280    31   Local-gov  446358      Doctorate             16   \n",
       "20685   42           ?   32533   Some-college             10   \n",
       "6767    22     Private  180052   Some-college             10   \n",
       "30933   22     Private  147397      Bachelors             13   \n",
       "26356   23     Private  245302   Some-college             10   \n",
       "29653   50     Private  109277        HS-grad              9   \n",
       "28144   56           ?   35723        HS-grad              9   \n",
       "19759   35     Private  204590      Assoc-voc             11   \n",
       "\n",
       "            Marital_status          Occupation    Relationship    Race  \\\n",
       "10730   Married-civ-spouse     Protective-serv         Husband   White   \n",
       "17333   Married-civ-spouse   Machine-op-inspct         Husband   White   \n",
       "3280         Never-married      Prof-specialty   Not-in-family   White   \n",
       "20685        Never-married                   ?   Not-in-family   White   \n",
       "6767         Never-married     Farming-fishing       Own-child   White   \n",
       "30933        Never-married     Farming-fishing   Not-in-family   White   \n",
       "26356             Divorced               Sales       Own-child   Black   \n",
       "29653   Married-civ-spouse   Machine-op-inspct         Husband   White   \n",
       "28144             Divorced                   ?       Own-child   White   \n",
       "19759   Married-civ-spouse       Other-service            Wife   Black   \n",
       "\n",
       "           Sex  Capital_gain  Capital_loss  Hours_per_week  Native_country  \\\n",
       "10730     Male             0             0              40   United-States   \n",
       "17333     Male             0             0              40          Mexico   \n",
       "3280      Male             0             0              50          Mexico   \n",
       "20685     Male             0             0              45   United-States   \n",
       "6767      Male             0             0              10   United-States   \n",
       "30933     Male             0             0              20   United-States   \n",
       "26356   Female             0             0              40   United-States   \n",
       "29653     Male             0             0              40   United-States   \n",
       "28144     Male             0             0              40   United-States   \n",
       "19759   Female             0             0              40   United-States   \n",
       "\n",
       "       Income  \n",
       "10730   <=50K  \n",
       "17333   <=50K  \n",
       "3280     >50K  \n",
       "20685   <=50K  \n",
       "6767    <=50K  \n",
       "30933   <=50K  \n",
       "26356   <=50K  \n",
       "29653    >50K  \n",
       "28144   <=50K  \n",
       "19759    >50K  "
      ]
     },
     "execution_count": 3,
     "metadata": {},
     "output_type": "execute_result"
    }
   ],
   "source": [
    "df.sample(10)"
   ]
  },
  {
   "cell_type": "markdown",
   "id": "959ff2c3",
   "metadata": {},
   "source": [
    "# DataAnalysis"
   ]
  },
  {
   "cell_type": "code",
   "execution_count": 4,
   "id": "1c4f6241",
   "metadata": {},
   "outputs": [
    {
     "data": {
      "text/plain": [
       "(32560, 15)"
      ]
     },
     "execution_count": 4,
     "metadata": {},
     "output_type": "execute_result"
    }
   ],
   "source": [
    "df.shape\n",
    "#Shape of the dataset.."
   ]
  },
  {
   "cell_type": "code",
   "execution_count": 5,
   "id": "b0954747",
   "metadata": {},
   "outputs": [
    {
     "name": "stdout",
     "output_type": "stream",
     "text": [
      "<class 'pandas.core.frame.DataFrame'>\n",
      "RangeIndex: 32560 entries, 0 to 32559\n",
      "Data columns (total 15 columns):\n",
      " #   Column          Non-Null Count  Dtype \n",
      "---  ------          --------------  ----- \n",
      " 0   Age             32560 non-null  int64 \n",
      " 1   Workclass       32560 non-null  object\n",
      " 2   Fnlwgt          32560 non-null  int64 \n",
      " 3   Education       32560 non-null  object\n",
      " 4   Education_num   32560 non-null  int64 \n",
      " 5   Marital_status  32560 non-null  object\n",
      " 6   Occupation      32560 non-null  object\n",
      " 7   Relationship    32560 non-null  object\n",
      " 8   Race            32560 non-null  object\n",
      " 9   Sex             32560 non-null  object\n",
      " 10  Capital_gain    32560 non-null  int64 \n",
      " 11  Capital_loss    32560 non-null  int64 \n",
      " 12  Hours_per_week  32560 non-null  int64 \n",
      " 13  Native_country  32560 non-null  object\n",
      " 14  Income          32560 non-null  object\n",
      "dtypes: int64(6), object(9)\n",
      "memory usage: 3.7+ MB\n"
     ]
    }
   ],
   "source": [
    "df.info()\n",
    "#Types of values in dataset.."
   ]
  },
  {
   "cell_type": "code",
   "execution_count": 6,
   "id": "1f20b0e5",
   "metadata": {},
   "outputs": [
    {
     "data": {
      "text/plain": [
       "Index(['Age', 'Workclass', 'Fnlwgt', 'Education', 'Education_num',\n",
       "       'Marital_status', 'Occupation', 'Relationship', 'Race', 'Sex',\n",
       "       'Capital_gain', 'Capital_loss', 'Hours_per_week', 'Native_country',\n",
       "       'Income'],\n",
       "      dtype='object')"
      ]
     },
     "execution_count": 6,
     "metadata": {},
     "output_type": "execute_result"
    }
   ],
   "source": [
    "df.columns\n",
    "#Columns in the data set..."
   ]
  },
  {
   "cell_type": "code",
   "execution_count": 7,
   "id": "a838e6c6",
   "metadata": {},
   "outputs": [
    {
     "data": {
      "text/plain": [
       "Age               0\n",
       "Workclass         0\n",
       "Fnlwgt            0\n",
       "Education         0\n",
       "Education_num     0\n",
       "Marital_status    0\n",
       "Occupation        0\n",
       "Relationship      0\n",
       "Race              0\n",
       "Sex               0\n",
       "Capital_gain      0\n",
       "Capital_loss      0\n",
       "Hours_per_week    0\n",
       "Native_country    0\n",
       "Income            0\n",
       "dtype: int64"
      ]
     },
     "execution_count": 7,
     "metadata": {},
     "output_type": "execute_result"
    }
   ],
   "source": [
    "df.isnull().sum()"
   ]
  },
  {
   "cell_type": "raw",
   "id": "0dcc2fc3",
   "metadata": {},
   "source": [
    "There are no null values present in the data.."
   ]
  },
  {
   "cell_type": "code",
   "execution_count": 8,
   "id": "834d53f0",
   "metadata": {},
   "outputs": [
    {
     "data": {
      "text/plain": [
       "Age                  73\n",
       "Workclass             9\n",
       "Fnlwgt            21647\n",
       "Education            16\n",
       "Education_num        16\n",
       "Marital_status        7\n",
       "Occupation           15\n",
       "Relationship          6\n",
       "Race                  5\n",
       "Sex                   2\n",
       "Capital_gain        119\n",
       "Capital_loss         92\n",
       "Hours_per_week       94\n",
       "Native_country       42\n",
       "Income                2\n",
       "dtype: int64"
      ]
     },
     "execution_count": 8,
     "metadata": {},
     "output_type": "execute_result"
    }
   ],
   "source": [
    "df.nunique()"
   ]
  },
  {
   "cell_type": "code",
   "execution_count": 9,
   "id": "f4ba0a28",
   "metadata": {},
   "outputs": [
    {
     "data": {
      "text/html": [
       "<div>\n",
       "<style scoped>\n",
       "    .dataframe tbody tr th:only-of-type {\n",
       "        vertical-align: middle;\n",
       "    }\n",
       "\n",
       "    .dataframe tbody tr th {\n",
       "        vertical-align: top;\n",
       "    }\n",
       "\n",
       "    .dataframe thead th {\n",
       "        text-align: right;\n",
       "    }\n",
       "</style>\n",
       "<table border=\"1\" class=\"dataframe\">\n",
       "  <thead>\n",
       "    <tr style=\"text-align: right;\">\n",
       "      <th></th>\n",
       "      <th>Age</th>\n",
       "      <th>Fnlwgt</th>\n",
       "      <th>Education_num</th>\n",
       "      <th>Capital_gain</th>\n",
       "      <th>Capital_loss</th>\n",
       "      <th>Hours_per_week</th>\n",
       "    </tr>\n",
       "  </thead>\n",
       "  <tbody>\n",
       "    <tr>\n",
       "      <th>count</th>\n",
       "      <td>32560.000000</td>\n",
       "      <td>3.256000e+04</td>\n",
       "      <td>32560.000000</td>\n",
       "      <td>32560.000000</td>\n",
       "      <td>32560.000000</td>\n",
       "      <td>32560.000000</td>\n",
       "    </tr>\n",
       "    <tr>\n",
       "      <th>mean</th>\n",
       "      <td>38.581634</td>\n",
       "      <td>1.897818e+05</td>\n",
       "      <td>10.080590</td>\n",
       "      <td>1077.615172</td>\n",
       "      <td>87.306511</td>\n",
       "      <td>40.437469</td>\n",
       "    </tr>\n",
       "    <tr>\n",
       "      <th>std</th>\n",
       "      <td>13.640642</td>\n",
       "      <td>1.055498e+05</td>\n",
       "      <td>2.572709</td>\n",
       "      <td>7385.402999</td>\n",
       "      <td>402.966116</td>\n",
       "      <td>12.347618</td>\n",
       "    </tr>\n",
       "    <tr>\n",
       "      <th>min</th>\n",
       "      <td>17.000000</td>\n",
       "      <td>1.228500e+04</td>\n",
       "      <td>1.000000</td>\n",
       "      <td>0.000000</td>\n",
       "      <td>0.000000</td>\n",
       "      <td>1.000000</td>\n",
       "    </tr>\n",
       "    <tr>\n",
       "      <th>25%</th>\n",
       "      <td>28.000000</td>\n",
       "      <td>1.178315e+05</td>\n",
       "      <td>9.000000</td>\n",
       "      <td>0.000000</td>\n",
       "      <td>0.000000</td>\n",
       "      <td>40.000000</td>\n",
       "    </tr>\n",
       "    <tr>\n",
       "      <th>50%</th>\n",
       "      <td>37.000000</td>\n",
       "      <td>1.783630e+05</td>\n",
       "      <td>10.000000</td>\n",
       "      <td>0.000000</td>\n",
       "      <td>0.000000</td>\n",
       "      <td>40.000000</td>\n",
       "    </tr>\n",
       "    <tr>\n",
       "      <th>75%</th>\n",
       "      <td>48.000000</td>\n",
       "      <td>2.370545e+05</td>\n",
       "      <td>12.000000</td>\n",
       "      <td>0.000000</td>\n",
       "      <td>0.000000</td>\n",
       "      <td>45.000000</td>\n",
       "    </tr>\n",
       "    <tr>\n",
       "      <th>max</th>\n",
       "      <td>90.000000</td>\n",
       "      <td>1.484705e+06</td>\n",
       "      <td>16.000000</td>\n",
       "      <td>99999.000000</td>\n",
       "      <td>4356.000000</td>\n",
       "      <td>99.000000</td>\n",
       "    </tr>\n",
       "  </tbody>\n",
       "</table>\n",
       "</div>"
      ],
      "text/plain": [
       "                Age        Fnlwgt  Education_num  Capital_gain  Capital_loss  \\\n",
       "count  32560.000000  3.256000e+04   32560.000000  32560.000000  32560.000000   \n",
       "mean      38.581634  1.897818e+05      10.080590   1077.615172     87.306511   \n",
       "std       13.640642  1.055498e+05       2.572709   7385.402999    402.966116   \n",
       "min       17.000000  1.228500e+04       1.000000      0.000000      0.000000   \n",
       "25%       28.000000  1.178315e+05       9.000000      0.000000      0.000000   \n",
       "50%       37.000000  1.783630e+05      10.000000      0.000000      0.000000   \n",
       "75%       48.000000  2.370545e+05      12.000000      0.000000      0.000000   \n",
       "max       90.000000  1.484705e+06      16.000000  99999.000000   4356.000000   \n",
       "\n",
       "       Hours_per_week  \n",
       "count    32560.000000  \n",
       "mean        40.437469  \n",
       "std         12.347618  \n",
       "min          1.000000  \n",
       "25%         40.000000  \n",
       "50%         40.000000  \n",
       "75%         45.000000  \n",
       "max         99.000000  "
      ]
     },
     "execution_count": 9,
     "metadata": {},
     "output_type": "execute_result"
    }
   ],
   "source": [
    "df.describe()\n",
    "#Finding the mean std.dev for numerical columns.."
   ]
  },
  {
   "cell_type": "markdown",
   "id": "ab65b9e1",
   "metadata": {},
   "source": [
    "# Counting the values for each columns"
   ]
  },
  {
   "cell_type": "code",
   "execution_count": 10,
   "id": "224c390a",
   "metadata": {},
   "outputs": [
    {
     "data": {
      "text/plain": [
       " Private             22696\n",
       " Self-emp-not-inc     2541\n",
       " Local-gov            2093\n",
       " ?                    1836\n",
       " State-gov            1297\n",
       " Self-emp-inc         1116\n",
       " Federal-gov           960\n",
       " Without-pay            14\n",
       " Never-worked            7\n",
       "Name: Workclass, dtype: int64"
      ]
     },
     "execution_count": 10,
     "metadata": {},
     "output_type": "execute_result"
    }
   ],
   "source": [
    "df['Workclass'].value_counts()"
   ]
  },
  {
   "cell_type": "code",
   "execution_count": 11,
   "id": "0ad1b976",
   "metadata": {},
   "outputs": [
    {
     "data": {
      "text/plain": [
       " Prof-specialty       4140\n",
       " Craft-repair         4099\n",
       " Exec-managerial      4066\n",
       " Adm-clerical         3769\n",
       " Sales                3650\n",
       " Other-service        3295\n",
       " Machine-op-inspct    2002\n",
       " ?                    1843\n",
       " Transport-moving     1597\n",
       " Handlers-cleaners    1370\n",
       " Farming-fishing       994\n",
       " Tech-support          928\n",
       " Protective-serv       649\n",
       " Priv-house-serv       149\n",
       " Armed-Forces            9\n",
       "Name: Occupation, dtype: int64"
      ]
     },
     "execution_count": 11,
     "metadata": {},
     "output_type": "execute_result"
    }
   ],
   "source": [
    "df['Occupation'].value_counts()"
   ]
  },
  {
   "cell_type": "code",
   "execution_count": 12,
   "id": "2eb231bf",
   "metadata": {},
   "outputs": [
    {
     "data": {
      "text/plain": [
       " United-States                 29169\n",
       " Mexico                          643\n",
       " ?                               583\n",
       " Philippines                     198\n",
       " Germany                         137\n",
       " Canada                          121\n",
       " Puerto-Rico                     114\n",
       " El-Salvador                     106\n",
       " India                           100\n",
       " Cuba                             95\n",
       " England                          90\n",
       " Jamaica                          81\n",
       " South                            80\n",
       " China                            75\n",
       " Italy                            73\n",
       " Dominican-Republic               70\n",
       " Vietnam                          67\n",
       " Guatemala                        64\n",
       " Japan                            62\n",
       " Poland                           60\n",
       " Columbia                         59\n",
       " Taiwan                           51\n",
       " Haiti                            44\n",
       " Iran                             43\n",
       " Portugal                         37\n",
       " Nicaragua                        34\n",
       " Peru                             31\n",
       " France                           29\n",
       " Greece                           29\n",
       " Ecuador                          28\n",
       " Ireland                          24\n",
       " Hong                             20\n",
       " Cambodia                         19\n",
       " Trinadad&Tobago                  19\n",
       " Laos                             18\n",
       " Thailand                         18\n",
       " Yugoslavia                       16\n",
       " Outlying-US(Guam-USVI-etc)       14\n",
       " Honduras                         13\n",
       " Hungary                          13\n",
       " Scotland                         12\n",
       " Holand-Netherlands                1\n",
       "Name: Native_country, dtype: int64"
      ]
     },
     "execution_count": 12,
     "metadata": {},
     "output_type": "execute_result"
    }
   ],
   "source": [
    "df['Native_country'].value_counts()"
   ]
  },
  {
   "cell_type": "code",
   "execution_count": 13,
   "id": "337e77fe",
   "metadata": {},
   "outputs": [
    {
     "data": {
      "text/plain": [
       " Married-civ-spouse       14976\n",
       " Never-married            10682\n",
       " Divorced                  4443\n",
       " Separated                 1025\n",
       " Widowed                    993\n",
       " Married-spouse-absent      418\n",
       " Married-AF-spouse           23\n",
       "Name: Marital_status, dtype: int64"
      ]
     },
     "execution_count": 13,
     "metadata": {},
     "output_type": "execute_result"
    }
   ],
   "source": [
    "df['Marital_status'].value_counts()"
   ]
  },
  {
   "cell_type": "code",
   "execution_count": 14,
   "id": "ef40d54e",
   "metadata": {},
   "outputs": [
    {
     "data": {
      "text/plain": [
       " HS-grad         10501\n",
       " Some-college     7291\n",
       " Bachelors        5354\n",
       " Masters          1723\n",
       " Assoc-voc        1382\n",
       " 11th             1175\n",
       " Assoc-acdm       1067\n",
       " 10th              933\n",
       " 7th-8th           646\n",
       " Prof-school       576\n",
       " 9th               514\n",
       " 12th              433\n",
       " Doctorate         413\n",
       " 5th-6th           333\n",
       " 1st-4th           168\n",
       " Preschool          51\n",
       "Name: Education, dtype: int64"
      ]
     },
     "execution_count": 14,
     "metadata": {},
     "output_type": "execute_result"
    }
   ],
   "source": [
    "df['Education'].value_counts()"
   ]
  },
  {
   "cell_type": "code",
   "execution_count": 15,
   "id": "53cc080c",
   "metadata": {},
   "outputs": [
    {
     "data": {
      "text/plain": [
       " Male      21789\n",
       " Female    10771\n",
       "Name: Sex, dtype: int64"
      ]
     },
     "execution_count": 15,
     "metadata": {},
     "output_type": "execute_result"
    }
   ],
   "source": [
    "df['Sex'].value_counts()"
   ]
  },
  {
   "cell_type": "code",
   "execution_count": 16,
   "id": "94e6a166",
   "metadata": {},
   "outputs": [
    {
     "data": {
      "text/plain": [
       " White                 27815\n",
       " Black                  3124\n",
       " Asian-Pac-Islander     1039\n",
       " Amer-Indian-Eskimo      311\n",
       " Other                   271\n",
       "Name: Race, dtype: int64"
      ]
     },
     "execution_count": 16,
     "metadata": {},
     "output_type": "execute_result"
    }
   ],
   "source": [
    "df['Race'].value_counts()"
   ]
  },
  {
   "cell_type": "code",
   "execution_count": 17,
   "id": "38f3b85f",
   "metadata": {},
   "outputs": [
    {
     "data": {
      "text/plain": [
       " <=50K    24719\n",
       " >50K      7841\n",
       "Name: Income, dtype: int64"
      ]
     },
     "execution_count": 17,
     "metadata": {},
     "output_type": "execute_result"
    }
   ],
   "source": [
    "df['Income'].value_counts()"
   ]
  },
  {
   "cell_type": "markdown",
   "id": "6c815952",
   "metadata": {},
   "source": [
    "# EDA"
   ]
  },
  {
   "cell_type": "code",
   "execution_count": 18,
   "id": "7826e2c1",
   "metadata": {},
   "outputs": [
    {
     "data": {
      "image/png": "[encoded data removed]",
      "text/plain": [
       "<Figure size 432x288 with 1 Axes>"
      ]
     },
     "metadata": {},
     "output_type": "display_data"
    }
   ],
   "source": [
    "plt.style.use('ggplot')\n",
    "sns.countplot(x = \"Workclass\", hue = \"Income\", data = df)\n",
    "plt.xticks(rotation=60)\n",
    "plt.show()"
   ]
  },
  {
   "cell_type": "raw",
   "id": "6db3e48f",
   "metadata": {},
   "source": [
    "So Private class peoples are more in <= and >50k..."
   ]
  },
  {
   "cell_type": "code",
   "execution_count": 19,
   "id": "a3fead50",
   "metadata": {},
   "outputs": [
    {
     "data": {
      "text/plain": [
       "<AxesSubplot:xlabel='Income', ylabel='count'>"
      ]
     },
     "execution_count": 19,
     "metadata": {},
     "output_type": "execute_result"
    },
    {
     "data": {
      "image/png": "[encoded data removed]",
      "text/plain": [
       "<Figure size 432x288 with 1 Axes>"
      ]
     },
     "metadata": {},
     "output_type": "display_data"
    }
   ],
   "source": [
    "plt.style.use('ggplot')\n",
    "sns.countplot(x = \"Income\", hue = \"Sex\", data = df)"
   ]
  },
  {
   "cell_type": "raw",
   "id": "4ace7509",
   "metadata": {},
   "source": [
    "So <=50 k are more when compared to >50k..."
   ]
  },
  {
   "cell_type": "code",
   "execution_count": 20,
   "id": "3f9b98cc",
   "metadata": {},
   "outputs": [
    {
     "data": {
      "image/png": "[encoded data removed]",
      "text/plain": [
       "<Figure size 720x288 with 1 Axes>"
      ]
     },
     "metadata": {},
     "output_type": "display_data"
    }
   ],
   "source": [
    "plt.style.use('ggplot')\n",
    "plt.figure(figsize=(10, 4))\n",
    "sns.countplot(x = \"Education\", hue = \"Income\", data = df)\n",
    "plt.xticks(rotation=60)\n",
    "plt.show()"
   ]
  },
  {
   "cell_type": "raw",
   "id": "955e3706",
   "metadata": {},
   "source": [
    "Over all HS grad and some college are more in <=50k.."
   ]
  },
  {
   "cell_type": "code",
   "execution_count": 21,
   "id": "b4c1202a",
   "metadata": {},
   "outputs": [
    {
     "data": {
      "text/plain": [
       "<AxesSubplot:xlabel='Income', ylabel='count'>"
      ]
     },
     "execution_count": 21,
     "metadata": {},
     "output_type": "execute_result"
    },
    {
     "data": {
      "image/png": "[encoded data removed]",
      "text/plain": [
       "<Figure size 432x288 with 1 Axes>"
      ]
     },
     "metadata": {},
     "output_type": "display_data"
    }
   ],
   "source": [
    "plt.style.use('ggplot')\n",
    "sns.countplot(x = \"Income\", hue = \"Race\", data = df)"
   ]
  },
  {
   "cell_type": "raw",
   "id": "201bccb6",
   "metadata": {},
   "source": [
    "white peoples are high inrace wen compare to others..."
   ]
  },
  {
   "cell_type": "code",
   "execution_count": 22,
   "id": "30cf26c8",
   "metadata": {},
   "outputs": [
    {
     "data": {
      "text/plain": [
       "<AxesSubplot:xlabel='Income', ylabel='count'>"
      ]
     },
     "execution_count": 22,
     "metadata": {},
     "output_type": "execute_result"
    },
    {
     "data": {
      "image/png": "[encoded data removed]",
      "text/plain": [
       "<Figure size 432x288 with 1 Axes>"
      ]
     },
     "metadata": {},
     "output_type": "display_data"
    }
   ],
   "source": [
    "plt.style.use('ggplot')\n",
    "sns.countplot(x = \"Income\", hue = \"Relationship\", data = df)"
   ]
  },
  {
   "cell_type": "raw",
   "id": "c645e77b",
   "metadata": {},
   "source": [
    "People with relationship of Husband and Wife giving higher ratio of Income getting >50K. In other cases this ratio is too low.."
   ]
  },
  {
   "cell_type": "code",
   "execution_count": 23,
   "id": "a7f049da",
   "metadata": {},
   "outputs": [
    {
     "data": {
      "text/plain": [
       "<AxesSubplot:xlabel='Income', ylabel='Age'>"
      ]
     },
     "execution_count": 23,
     "metadata": {},
     "output_type": "execute_result"
    },
    {
     "data": {
      "image/png": "[encoded data removed]",
      "text/plain": [
       "<Figure size 432x288 with 1 Axes>"
      ]
     },
     "metadata": {},
     "output_type": "display_data"
    }
   ],
   "source": [
    "sns.barplot(x = \"Income\", y = \"Age\", data = df)"
   ]
  },
  {
   "cell_type": "raw",
   "id": "4edabcfd",
   "metadata": {},
   "source": [
    "We can observe that the most of the people over age of 37 are having income >50.."
   ]
  },
  {
   "cell_type": "code",
   "execution_count": 24,
   "id": "d84f1bc4",
   "metadata": {},
   "outputs": [
    {
     "data": {
      "image/png": "[encoded data removed]",
      "text/plain": [
       "<Figure size 432x288 with 1 Axes>"
      ]
     },
     "metadata": {},
     "output_type": "display_data"
    }
   ],
   "source": [
    "plt.style.use('ggplot')\n",
    "sns.countplot(x = \"Marital_status\", hue = \"Income\", data = df)\n",
    "plt.xticks(rotation = 70)\n",
    "plt.show()"
   ]
  },
  {
   "cell_type": "raw",
   "id": "11a70e38",
   "metadata": {},
   "source": [
    "This will tell us that the ratio of income >50K is more in the case of Married_civ_spouse compared to othwr cases.."
   ]
  },
  {
   "cell_type": "code",
   "execution_count": 25,
   "id": "9b03c9ef",
   "metadata": {},
   "outputs": [
    {
     "data": {
      "image/png": "[encoded data removed]",
      "text/plain": [
       "<Figure size 432x288 with 1 Axes>"
      ]
     },
     "metadata": {},
     "output_type": "display_data"
    }
   ],
   "source": [
    "plt.style.use('ggplot')\n",
    "sns.countplot(x = \"Occupation\", hue = \"Income\", data = df)\n",
    "plt.xticks(rotation = 90)\n",
    "plt.show()"
   ]
  },
  {
   "cell_type": "raw",
   "id": "156e8f61",
   "metadata": {},
   "source": [
    "People working with Exec-managerial & prof-speciality positions has higher income ratio that is >50k compared to other classes.\n",
    "people who works as Armed-forces and priv-house-serv has income mostly below 50k."
   ]
  },
  {
   "cell_type": "code",
   "execution_count": 26,
   "id": "be14b629",
   "metadata": {},
   "outputs": [
    {
     "data": {
      "text/plain": [
       "<AxesSubplot:xlabel='Income', ylabel='count'>"
      ]
     },
     "execution_count": 26,
     "metadata": {},
     "output_type": "execute_result"
    },
    {
     "data": {
      "image/png": "[encoded data removed]",
      "text/plain": [
       "<Figure size 432x288 with 1 Axes>"
      ]
     },
     "metadata": {},
     "output_type": "display_data"
    }
   ],
   "source": [
    "sns.countplot(df['Income'], palette='coolwarm', hue = 'Occupation',data=df)"
   ]
  },
  {
   "cell_type": "code",
   "execution_count": 27,
   "id": "51082ed7",
   "metadata": {},
   "outputs": [
    {
     "data": {
      "text/plain": [
       "<AxesSubplot:xlabel='Income', ylabel='count'>"
      ]
     },
     "execution_count": 27,
     "metadata": {},
     "output_type": "execute_result"
    },
    {
     "data": {
      "image/png": "[encoded data removed]",
      "text/plain": [
       "<Figure size 432x288 with 1 Axes>"
      ]
     },
     "metadata": {},
     "output_type": "display_data"
    }
   ],
   "source": [
    "sns.countplot(df['Income'], palette='coolwarm', hue = 'Education',data=df)"
   ]
  },
  {
   "cell_type": "code",
   "execution_count": 28,
   "id": "77c38809",
   "metadata": {},
   "outputs": [
    {
     "data": {
      "text/plain": [
       "<AxesSubplot:xlabel='Income', ylabel='count'>"
      ]
     },
     "execution_count": 28,
     "metadata": {},
     "output_type": "execute_result"
    },
    {
     "data": {
      "image/png": "[encoded data removed]",
      "text/plain": [
       "<Figure size 432x288 with 1 Axes>"
      ]
     },
     "metadata": {},
     "output_type": "display_data"
    }
   ],
   "source": [
    "sns.countplot(df['Income'], palette='coolwarm', hue = 'Age',data=df)"
   ]
  },
  {
   "cell_type": "markdown",
   "id": "e611ed26",
   "metadata": {},
   "source": [
    "# FILLING THE VALUES FOR ?"
   ]
  },
  {
   "cell_type": "code",
   "execution_count": 29,
   "id": "b3db4ed9",
   "metadata": {},
   "outputs": [],
   "source": [
    "#We will replace all '?' with most frequently occuring values of that column because these are categorical columns..\n",
    "df['Workclass'] = df.Workclass.str.replace('?', 'Private')\n",
    "df['Occupation'] = df.Occupation.str.replace('?', 'Prof-specialty')\n",
    "df['Native_country'] = df.Native_country.str.replace('?', 'United-States')"
   ]
  },
  {
   "cell_type": "code",
   "execution_count": 30,
   "id": "9b708724",
   "metadata": {},
   "outputs": [
    {
     "data": {
      "text/plain": [
       "0        29849\n",
       "15024      347\n",
       "7688       284\n",
       "7298       246\n",
       "99999      159\n",
       "         ...  \n",
       "1111         1\n",
       "2538         1\n",
       "22040        1\n",
       "4931         1\n",
       "5060         1\n",
       "Name: Capital_gain, Length: 119, dtype: int64"
      ]
     },
     "execution_count": 30,
     "metadata": {},
     "output_type": "execute_result"
    }
   ],
   "source": [
    "df[\"Capital_gain\"].value_counts()"
   ]
  },
  {
   "cell_type": "code",
   "execution_count": 31,
   "id": "7cb91e87",
   "metadata": {},
   "outputs": [],
   "source": [
    "df[\"Capital_gain\"].replace(0, df[\"Capital_gain\"].mean(),inplace = True)\n",
    "#Replacing 0 in Capital_gain column with mean of this column.."
   ]
  },
  {
   "cell_type": "code",
   "execution_count": 32,
   "id": "8b6231b5",
   "metadata": {},
   "outputs": [
    {
     "data": {
      "text/plain": [
       "0       31041\n",
       "1902      202\n",
       "1977      168\n",
       "1887      159\n",
       "1848       51\n",
       "        ...  \n",
       "2080        1\n",
       "1539        1\n",
       "1844        1\n",
       "2489        1\n",
       "1411        1\n",
       "Name: Capital_loss, Length: 92, dtype: int64"
      ]
     },
     "execution_count": 32,
     "metadata": {},
     "output_type": "execute_result"
    }
   ],
   "source": [
    "df[\"Capital_loss\"].value_counts()\n",
    "#Most of the values are 0.."
   ]
  },
  {
   "cell_type": "code",
   "execution_count": 33,
   "id": "086666df",
   "metadata": {},
   "outputs": [],
   "source": [
    "df.drop(columns = \"Capital_loss\", inplace = True)\n",
    "#Dropping column Capital-loss..."
   ]
  },
  {
   "cell_type": "code",
   "execution_count": 34,
   "id": "f4075a68",
   "metadata": {},
   "outputs": [
    {
     "data": {
      "image/png": "[encoded data removed]",
      "text/plain": [
       "<Figure size 432x288 with 1 Axes>"
      ]
     },
     "metadata": {},
     "output_type": "display_data"
    }
   ],
   "source": [
    "sns.distplot(df[\"Hours_per_week\"], bins = 10)\n",
    "plt.show()"
   ]
  },
  {
   "cell_type": "raw",
   "id": "91f5aabd",
   "metadata": {},
   "source": [
    "Most of the peoples are working 40 hours per week...."
   ]
  },
  {
   "cell_type": "code",
   "execution_count": 35,
   "id": "246898dd",
   "metadata": {},
   "outputs": [
    {
     "data": {
      "text/plain": [
       "array([[<AxesSubplot:title={'center':'Age'}>,\n",
       "        <AxesSubplot:title={'center':'Fnlwgt'}>,\n",
       "        <AxesSubplot:title={'center':'Education_num'}>],\n",
       "       [<AxesSubplot:title={'center':'Capital_gain'}>,\n",
       "        <AxesSubplot:title={'center':'Hours_per_week'}>, <AxesSubplot:>],\n",
       "       [<AxesSubplot:>, <AxesSubplot:>, <AxesSubplot:>]], dtype=object)"
      ]
     },
     "execution_count": 35,
     "metadata": {},
     "output_type": "execute_result"
    },
    {
     "data": {
      "image/png": "[encoded data removed]",
      "text/plain": [
       "<Figure size 864x864 with 9 Axes>"
      ]
     },
     "metadata": {},
     "output_type": "display_data"
    }
   ],
   "source": [
    "df.hist(figsize=(12,12),layout=(3,3),sharex=False)"
   ]
  },
  {
   "cell_type": "code",
   "execution_count": 36,
   "id": "5cd3fc63",
   "metadata": {},
   "outputs": [
    {
     "data": {
      "text/plain": [
       "<AxesSubplot:xlabel='Hours_per_week', ylabel='Income'>"
      ]
     },
     "execution_count": 36,
     "metadata": {},
     "output_type": "execute_result"
    },
    {
     "data": {
      "image/png": "[encoded data removed]",
      "text/plain": [
       "<Figure size 432x288 with 1 Axes>"
      ]
     },
     "metadata": {},
     "output_type": "display_data"
    }
   ],
   "source": [
    "plt.style.use('ggplot')\n",
    "sns.barplot(x = \"Hours_per_week\", y = \"Income\", data = df)"
   ]
  },
  {
   "cell_type": "raw",
   "id": "81f7ba6e",
   "metadata": {},
   "source": [
    "We can say that the people who are working for more than 40 hours per week are mostly giving income >50K."
   ]
  },
  {
   "cell_type": "markdown",
   "id": "ebb0cd9c",
   "metadata": {},
   "source": [
    "# DataPreprocessing"
   ]
  },
  {
   "cell_type": "markdown",
   "id": "b6cd5321",
   "metadata": {},
   "source": [
    "# Encoding"
   ]
  },
  {
   "cell_type": "code",
   "execution_count": 37,
   "id": "8440ca1f",
   "metadata": {},
   "outputs": [],
   "source": [
    "from sklearn.preprocessing import LabelEncoder"
   ]
  },
  {
   "cell_type": "code",
   "execution_count": 38,
   "id": "e994434d",
   "metadata": {},
   "outputs": [],
   "source": [
    "#Encoding the column Income to binary numbers..\n",
    "lab_enc=LabelEncoder()\n",
    "df[\"Income\"]=lab_enc.fit_transform(df[\"Income\"])"
   ]
  },
  {
   "cell_type": "markdown",
   "id": "73714892",
   "metadata": {},
   "source": [
    "# Corelation"
   ]
  },
  {
   "cell_type": "code",
   "execution_count": 39,
   "id": "0317eb15",
   "metadata": {},
   "outputs": [
    {
     "data": {
      "text/html": [
       "<div>\n",
       "<style scoped>\n",
       "    .dataframe tbody tr th:only-of-type {\n",
       "        vertical-align: middle;\n",
       "    }\n",
       "\n",
       "    .dataframe tbody tr th {\n",
       "        vertical-align: top;\n",
       "    }\n",
       "\n",
       "    .dataframe thead th {\n",
       "        text-align: right;\n",
       "    }\n",
       "</style>\n",
       "<table border=\"1\" class=\"dataframe\">\n",
       "  <thead>\n",
       "    <tr style=\"text-align: right;\">\n",
       "      <th></th>\n",
       "      <th>Age</th>\n",
       "      <th>Fnlwgt</th>\n",
       "      <th>Education_num</th>\n",
       "      <th>Capital_gain</th>\n",
       "      <th>Hours_per_week</th>\n",
       "      <th>Income</th>\n",
       "    </tr>\n",
       "  </thead>\n",
       "  <tbody>\n",
       "    <tr>\n",
       "      <th>Age</th>\n",
       "      <td>1.000000</td>\n",
       "      <td>-0.076646</td>\n",
       "      <td>0.036527</td>\n",
       "      <td>0.074234</td>\n",
       "      <td>0.068756</td>\n",
       "      <td>0.234039</td>\n",
       "    </tr>\n",
       "    <tr>\n",
       "      <th>Fnlwgt</th>\n",
       "      <td>-0.076646</td>\n",
       "      <td>1.000000</td>\n",
       "      <td>-0.043159</td>\n",
       "      <td>0.000640</td>\n",
       "      <td>-0.018770</td>\n",
       "      <td>-0.009481</td>\n",
       "    </tr>\n",
       "    <tr>\n",
       "      <th>Education_num</th>\n",
       "      <td>0.036527</td>\n",
       "      <td>-0.043159</td>\n",
       "      <td>1.000000</td>\n",
       "      <td>0.120248</td>\n",
       "      <td>0.148127</td>\n",
       "      <td>0.335182</td>\n",
       "    </tr>\n",
       "    <tr>\n",
       "      <th>Capital_gain</th>\n",
       "      <td>0.074234</td>\n",
       "      <td>0.000640</td>\n",
       "      <td>0.120248</td>\n",
       "      <td>1.000000</td>\n",
       "      <td>0.076835</td>\n",
       "      <td>0.216691</td>\n",
       "    </tr>\n",
       "    <tr>\n",
       "      <th>Hours_per_week</th>\n",
       "      <td>0.068756</td>\n",
       "      <td>-0.018770</td>\n",
       "      <td>0.148127</td>\n",
       "      <td>0.076835</td>\n",
       "      <td>1.000000</td>\n",
       "      <td>0.229690</td>\n",
       "    </tr>\n",
       "    <tr>\n",
       "      <th>Income</th>\n",
       "      <td>0.234039</td>\n",
       "      <td>-0.009481</td>\n",
       "      <td>0.335182</td>\n",
       "      <td>0.216691</td>\n",
       "      <td>0.229690</td>\n",
       "      <td>1.000000</td>\n",
       "    </tr>\n",
       "  </tbody>\n",
       "</table>\n",
       "</div>"
      ],
      "text/plain": [
       "                     Age    Fnlwgt  Education_num  Capital_gain  \\\n",
       "Age             1.000000 -0.076646       0.036527      0.074234   \n",
       "Fnlwgt         -0.076646  1.000000      -0.043159      0.000640   \n",
       "Education_num   0.036527 -0.043159       1.000000      0.120248   \n",
       "Capital_gain    0.074234  0.000640       0.120248      1.000000   \n",
       "Hours_per_week  0.068756 -0.018770       0.148127      0.076835   \n",
       "Income          0.234039 -0.009481       0.335182      0.216691   \n",
       "\n",
       "                Hours_per_week    Income  \n",
       "Age                   0.068756  0.234039  \n",
       "Fnlwgt               -0.018770 -0.009481  \n",
       "Education_num         0.148127  0.335182  \n",
       "Capital_gain          0.076835  0.216691  \n",
       "Hours_per_week        1.000000  0.229690  \n",
       "Income                0.229690  1.000000  "
      ]
     },
     "execution_count": 39,
     "metadata": {},
     "output_type": "execute_result"
    }
   ],
   "source": [
    "df.corr()"
   ]
  },
  {
   "cell_type": "code",
   "execution_count": 40,
   "id": "c4e5c99b",
   "metadata": {},
   "outputs": [
    {
     "data": {
      "text/plain": [
       "<function matplotlib.pyplot.show(close=None, block=None)>"
      ]
     },
     "execution_count": 40,
     "metadata": {},
     "output_type": "execute_result"
    },
    {
     "data": {
      "image/png": "[encoded data removed]",
      "text/plain": [
       "<Figure size 864x1080 with 2 Axes>"
      ]
     },
     "metadata": {},
     "output_type": "display_data"
    }
   ],
   "source": [
    "corr=df.corr().abs()\n",
    "plt.figure(figsize=(12,15))\n",
    "sns.heatmap(corr,annot=True,annot_kws={'size':15})\n",
    "plt.title(\"Heatmap to find corelation\")\n",
    "plt.show"
   ]
  },
  {
   "cell_type": "raw",
   "id": "33652499",
   "metadata": {},
   "source": [
    "Education_num  is having good relation with target variable compared to other features."
   ]
  },
  {
   "cell_type": "code",
   "execution_count": 41,
   "id": "ea876b22",
   "metadata": {},
   "outputs": [
    {
     "data": {
      "text/html": [
       "<div>\n",
       "<style scoped>\n",
       "    .dataframe tbody tr th:only-of-type {\n",
       "        vertical-align: middle;\n",
       "    }\n",
       "\n",
       "    .dataframe tbody tr th {\n",
       "        vertical-align: top;\n",
       "    }\n",
       "\n",
       "    .dataframe thead th {\n",
       "        text-align: right;\n",
       "    }\n",
       "</style>\n",
       "<table border=\"1\" class=\"dataframe\">\n",
       "  <thead>\n",
       "    <tr style=\"text-align: right;\">\n",
       "      <th></th>\n",
       "      <th>Age</th>\n",
       "      <th>Fnlwgt</th>\n",
       "      <th>Education_num</th>\n",
       "      <th>Capital_gain</th>\n",
       "      <th>Hours_per_week</th>\n",
       "      <th>Income</th>\n",
       "    </tr>\n",
       "  </thead>\n",
       "  <tbody>\n",
       "    <tr>\n",
       "      <th>count</th>\n",
       "      <td>32560.000000</td>\n",
       "      <td>3.256000e+04</td>\n",
       "      <td>32560.000000</td>\n",
       "      <td>32560.000000</td>\n",
       "      <td>32560.000000</td>\n",
       "      <td>32560.000000</td>\n",
       "    </tr>\n",
       "    <tr>\n",
       "      <th>mean</th>\n",
       "      <td>38.581634</td>\n",
       "      <td>1.897818e+05</td>\n",
       "      <td>10.080590</td>\n",
       "      <td>2065.506304</td>\n",
       "      <td>40.437469</td>\n",
       "      <td>0.240817</td>\n",
       "    </tr>\n",
       "    <tr>\n",
       "      <th>std</th>\n",
       "      <td>13.640642</td>\n",
       "      <td>1.055498e+05</td>\n",
       "      <td>2.572709</td>\n",
       "      <td>7245.938132</td>\n",
       "      <td>12.347618</td>\n",
       "      <td>0.427586</td>\n",
       "    </tr>\n",
       "    <tr>\n",
       "      <th>min</th>\n",
       "      <td>17.000000</td>\n",
       "      <td>1.228500e+04</td>\n",
       "      <td>1.000000</td>\n",
       "      <td>114.000000</td>\n",
       "      <td>1.000000</td>\n",
       "      <td>0.000000</td>\n",
       "    </tr>\n",
       "    <tr>\n",
       "      <th>25%</th>\n",
       "      <td>28.000000</td>\n",
       "      <td>1.178315e+05</td>\n",
       "      <td>9.000000</td>\n",
       "      <td>1077.615172</td>\n",
       "      <td>40.000000</td>\n",
       "      <td>0.000000</td>\n",
       "    </tr>\n",
       "    <tr>\n",
       "      <th>50%</th>\n",
       "      <td>37.000000</td>\n",
       "      <td>1.783630e+05</td>\n",
       "      <td>10.000000</td>\n",
       "      <td>1077.615172</td>\n",
       "      <td>40.000000</td>\n",
       "      <td>0.000000</td>\n",
       "    </tr>\n",
       "    <tr>\n",
       "      <th>75%</th>\n",
       "      <td>48.000000</td>\n",
       "      <td>2.370545e+05</td>\n",
       "      <td>12.000000</td>\n",
       "      <td>1077.615172</td>\n",
       "      <td>45.000000</td>\n",
       "      <td>0.000000</td>\n",
       "    </tr>\n",
       "    <tr>\n",
       "      <th>max</th>\n",
       "      <td>90.000000</td>\n",
       "      <td>1.484705e+06</td>\n",
       "      <td>16.000000</td>\n",
       "      <td>99999.000000</td>\n",
       "      <td>99.000000</td>\n",
       "      <td>1.000000</td>\n",
       "    </tr>\n",
       "  </tbody>\n",
       "</table>\n",
       "</div>"
      ],
      "text/plain": [
       "                Age        Fnlwgt  Education_num  Capital_gain  \\\n",
       "count  32560.000000  3.256000e+04   32560.000000  32560.000000   \n",
       "mean      38.581634  1.897818e+05      10.080590   2065.506304   \n",
       "std       13.640642  1.055498e+05       2.572709   7245.938132   \n",
       "min       17.000000  1.228500e+04       1.000000    114.000000   \n",
       "25%       28.000000  1.178315e+05       9.000000   1077.615172   \n",
       "50%       37.000000  1.783630e+05      10.000000   1077.615172   \n",
       "75%       48.000000  2.370545e+05      12.000000   1077.615172   \n",
       "max       90.000000  1.484705e+06      16.000000  99999.000000   \n",
       "\n",
       "       Hours_per_week        Income  \n",
       "count    32560.000000  32560.000000  \n",
       "mean        40.437469      0.240817  \n",
       "std         12.347618      0.427586  \n",
       "min          1.000000      0.000000  \n",
       "25%         40.000000      0.000000  \n",
       "50%         40.000000      0.000000  \n",
       "75%         45.000000      0.000000  \n",
       "max         99.000000      1.000000  "
      ]
     },
     "execution_count": 41,
     "metadata": {},
     "output_type": "execute_result"
    }
   ],
   "source": [
    "df.describe()"
   ]
  },
  {
   "cell_type": "markdown",
   "id": "113f8375",
   "metadata": {},
   "source": [
    "# Skewness"
   ]
  },
  {
   "cell_type": "code",
   "execution_count": 42,
   "id": "d6eec0bd",
   "metadata": {},
   "outputs": [
    {
     "data": {
      "image/png": "[encoded data removed]",
      "text/plain": [
       "<Figure size 1800x1440 with 6 Axes>"
      ]
     },
     "metadata": {},
     "output_type": "display_data"
    }
   ],
   "source": [
    "plt.figure(figsize = (25,20),facecolor='yellow')\n",
    "plotnumber = 1\n",
    "columns = [\"Age\",\"Education_num\",\"Fnlwgt\",\"Capital_gain\",\"Hours_per_week\",\"Income\"]\n",
    "for column in df[columns]:\n",
    "    if plotnumber <=6:\n",
    "        ax = plt.subplot(3,2,plotnumber)\n",
    "        sns.distplot(df[column])\n",
    "        plt.xlabel(column,fontsize = 20)\n",
    "    plotnumber+=1\n",
    "plt.tight_layout()"
   ]
  },
  {
   "cell_type": "code",
   "execution_count": 43,
   "id": "1600d286",
   "metadata": {},
   "outputs": [
    {
     "data": {
      "text/plain": [
       "Age                0.558738\n",
       "Fnlwgt             1.446972\n",
       "Education_num     -0.311630\n",
       "Capital_gain      12.248734\n",
       "Hours_per_week     0.227636\n",
       "Income             1.212383\n",
       "dtype: float64"
      ]
     },
     "execution_count": 43,
     "metadata": {},
     "output_type": "execute_result"
    }
   ],
   "source": [
    "df.skew()"
   ]
  },
  {
   "cell_type": "code",
   "execution_count": 44,
   "id": "a30c3176",
   "metadata": {},
   "outputs": [],
   "source": [
    "#Removing Outliers by ZSCORE...\n",
    "from scipy import stats\n",
    "from scipy.stats import zscore"
   ]
  },
  {
   "cell_type": "code",
   "execution_count": 45,
   "id": "02228b0a",
   "metadata": {},
   "outputs": [],
   "source": [
    "z_score = zscore(df[['Age','Education_num','Fnlwgt','Capital_gain','Hours_per_week']])\n",
    "abs_z_score = np.abs(z_score)"
   ]
  },
  {
   "cell_type": "code",
   "execution_count": 46,
   "id": "3e7b4784",
   "metadata": {},
   "outputs": [],
   "source": [
    "df1 = (abs_z_score <3).all(axis=1)\n",
    "df2=df[df1]\n",
    "df2.reset_index(inplace=True)"
   ]
  },
  {
   "cell_type": "code",
   "execution_count": 47,
   "id": "1d197e2d",
   "metadata": {},
   "outputs": [
    {
     "data": {
      "text/html": [
       "<div>\n",
       "<style scoped>\n",
       "    .dataframe tbody tr th:only-of-type {\n",
       "        vertical-align: middle;\n",
       "    }\n",
       "\n",
       "    .dataframe tbody tr th {\n",
       "        vertical-align: top;\n",
       "    }\n",
       "\n",
       "    .dataframe thead th {\n",
       "        text-align: right;\n",
       "    }\n",
       "</style>\n",
       "<table border=\"1\" class=\"dataframe\">\n",
       "  <thead>\n",
       "    <tr style=\"text-align: right;\">\n",
       "      <th></th>\n",
       "      <th>index</th>\n",
       "      <th>Age</th>\n",
       "      <th>Workclass</th>\n",
       "      <th>Fnlwgt</th>\n",
       "      <th>Education</th>\n",
       "      <th>Education_num</th>\n",
       "      <th>Marital_status</th>\n",
       "      <th>Occupation</th>\n",
       "      <th>Relationship</th>\n",
       "      <th>Race</th>\n",
       "      <th>Sex</th>\n",
       "      <th>Capital_gain</th>\n",
       "      <th>Hours_per_week</th>\n",
       "      <th>Native_country</th>\n",
       "      <th>Income</th>\n",
       "    </tr>\n",
       "  </thead>\n",
       "  <tbody>\n",
       "    <tr>\n",
       "      <th>0</th>\n",
       "      <td>0</td>\n",
       "      <td>50</td>\n",
       "      <td>Self-emp-not-inc</td>\n",
       "      <td>83311</td>\n",
       "      <td>Bachelors</td>\n",
       "      <td>13</td>\n",
       "      <td>Married-civ-spouse</td>\n",
       "      <td>Exec-managerial</td>\n",
       "      <td>Husband</td>\n",
       "      <td>White</td>\n",
       "      <td>Male</td>\n",
       "      <td>1077.615172</td>\n",
       "      <td>13</td>\n",
       "      <td>United-States</td>\n",
       "      <td>0</td>\n",
       "    </tr>\n",
       "    <tr>\n",
       "      <th>1</th>\n",
       "      <td>1</td>\n",
       "      <td>38</td>\n",
       "      <td>Private</td>\n",
       "      <td>215646</td>\n",
       "      <td>HS-grad</td>\n",
       "      <td>9</td>\n",
       "      <td>Divorced</td>\n",
       "      <td>Handlers-cleaners</td>\n",
       "      <td>Not-in-family</td>\n",
       "      <td>White</td>\n",
       "      <td>Male</td>\n",
       "      <td>1077.615172</td>\n",
       "      <td>40</td>\n",
       "      <td>United-States</td>\n",
       "      <td>0</td>\n",
       "    </tr>\n",
       "    <tr>\n",
       "      <th>2</th>\n",
       "      <td>2</td>\n",
       "      <td>53</td>\n",
       "      <td>Private</td>\n",
       "      <td>234721</td>\n",
       "      <td>11th</td>\n",
       "      <td>7</td>\n",
       "      <td>Married-civ-spouse</td>\n",
       "      <td>Handlers-cleaners</td>\n",
       "      <td>Husband</td>\n",
       "      <td>Black</td>\n",
       "      <td>Male</td>\n",
       "      <td>1077.615172</td>\n",
       "      <td>40</td>\n",
       "      <td>United-States</td>\n",
       "      <td>0</td>\n",
       "    </tr>\n",
       "    <tr>\n",
       "      <th>3</th>\n",
       "      <td>3</td>\n",
       "      <td>28</td>\n",
       "      <td>Private</td>\n",
       "      <td>338409</td>\n",
       "      <td>Bachelors</td>\n",
       "      <td>13</td>\n",
       "      <td>Married-civ-spouse</td>\n",
       "      <td>Prof-specialty</td>\n",
       "      <td>Wife</td>\n",
       "      <td>Black</td>\n",
       "      <td>Female</td>\n",
       "      <td>1077.615172</td>\n",
       "      <td>40</td>\n",
       "      <td>Cuba</td>\n",
       "      <td>0</td>\n",
       "    </tr>\n",
       "    <tr>\n",
       "      <th>4</th>\n",
       "      <td>4</td>\n",
       "      <td>37</td>\n",
       "      <td>Private</td>\n",
       "      <td>284582</td>\n",
       "      <td>Masters</td>\n",
       "      <td>14</td>\n",
       "      <td>Married-civ-spouse</td>\n",
       "      <td>Exec-managerial</td>\n",
       "      <td>Wife</td>\n",
       "      <td>White</td>\n",
       "      <td>Female</td>\n",
       "      <td>1077.615172</td>\n",
       "      <td>40</td>\n",
       "      <td>United-States</td>\n",
       "      <td>0</td>\n",
       "    </tr>\n",
       "    <tr>\n",
       "      <th>...</th>\n",
       "      <td>...</td>\n",
       "      <td>...</td>\n",
       "      <td>...</td>\n",
       "      <td>...</td>\n",
       "      <td>...</td>\n",
       "      <td>...</td>\n",
       "      <td>...</td>\n",
       "      <td>...</td>\n",
       "      <td>...</td>\n",
       "      <td>...</td>\n",
       "      <td>...</td>\n",
       "      <td>...</td>\n",
       "      <td>...</td>\n",
       "      <td>...</td>\n",
       "      <td>...</td>\n",
       "    </tr>\n",
       "    <tr>\n",
       "      <th>31250</th>\n",
       "      <td>32555</td>\n",
       "      <td>27</td>\n",
       "      <td>Private</td>\n",
       "      <td>257302</td>\n",
       "      <td>Assoc-acdm</td>\n",
       "      <td>12</td>\n",
       "      <td>Married-civ-spouse</td>\n",
       "      <td>Tech-support</td>\n",
       "      <td>Wife</td>\n",
       "      <td>White</td>\n",
       "      <td>Female</td>\n",
       "      <td>1077.615172</td>\n",
       "      <td>38</td>\n",
       "      <td>United-States</td>\n",
       "      <td>0</td>\n",
       "    </tr>\n",
       "    <tr>\n",
       "      <th>31251</th>\n",
       "      <td>32556</td>\n",
       "      <td>40</td>\n",
       "      <td>Private</td>\n",
       "      <td>154374</td>\n",
       "      <td>HS-grad</td>\n",
       "      <td>9</td>\n",
       "      <td>Married-civ-spouse</td>\n",
       "      <td>Machine-op-inspct</td>\n",
       "      <td>Husband</td>\n",
       "      <td>White</td>\n",
       "      <td>Male</td>\n",
       "      <td>1077.615172</td>\n",
       "      <td>40</td>\n",
       "      <td>United-States</td>\n",
       "      <td>1</td>\n",
       "    </tr>\n",
       "    <tr>\n",
       "      <th>31252</th>\n",
       "      <td>32557</td>\n",
       "      <td>58</td>\n",
       "      <td>Private</td>\n",
       "      <td>151910</td>\n",
       "      <td>HS-grad</td>\n",
       "      <td>9</td>\n",
       "      <td>Widowed</td>\n",
       "      <td>Adm-clerical</td>\n",
       "      <td>Unmarried</td>\n",
       "      <td>White</td>\n",
       "      <td>Female</td>\n",
       "      <td>1077.615172</td>\n",
       "      <td>40</td>\n",
       "      <td>United-States</td>\n",
       "      <td>0</td>\n",
       "    </tr>\n",
       "    <tr>\n",
       "      <th>31253</th>\n",
       "      <td>32558</td>\n",
       "      <td>22</td>\n",
       "      <td>Private</td>\n",
       "      <td>201490</td>\n",
       "      <td>HS-grad</td>\n",
       "      <td>9</td>\n",
       "      <td>Never-married</td>\n",
       "      <td>Adm-clerical</td>\n",
       "      <td>Own-child</td>\n",
       "      <td>White</td>\n",
       "      <td>Male</td>\n",
       "      <td>1077.615172</td>\n",
       "      <td>20</td>\n",
       "      <td>United-States</td>\n",
       "      <td>0</td>\n",
       "    </tr>\n",
       "    <tr>\n",
       "      <th>31254</th>\n",
       "      <td>32559</td>\n",
       "      <td>52</td>\n",
       "      <td>Self-emp-inc</td>\n",
       "      <td>287927</td>\n",
       "      <td>HS-grad</td>\n",
       "      <td>9</td>\n",
       "      <td>Married-civ-spouse</td>\n",
       "      <td>Exec-managerial</td>\n",
       "      <td>Wife</td>\n",
       "      <td>White</td>\n",
       "      <td>Female</td>\n",
       "      <td>15024.000000</td>\n",
       "      <td>40</td>\n",
       "      <td>United-States</td>\n",
       "      <td>1</td>\n",
       "    </tr>\n",
       "  </tbody>\n",
       "</table>\n",
       "<p>31255 rows × 15 columns</p>\n",
       "</div>"
      ],
      "text/plain": [
       "       index  Age          Workclass  Fnlwgt    Education  Education_num  \\\n",
       "0          0   50   Self-emp-not-inc   83311    Bachelors             13   \n",
       "1          1   38            Private  215646      HS-grad              9   \n",
       "2          2   53            Private  234721         11th              7   \n",
       "3          3   28            Private  338409    Bachelors             13   \n",
       "4          4   37            Private  284582      Masters             14   \n",
       "...      ...  ...                ...     ...          ...            ...   \n",
       "31250  32555   27            Private  257302   Assoc-acdm             12   \n",
       "31251  32556   40            Private  154374      HS-grad              9   \n",
       "31252  32557   58            Private  151910      HS-grad              9   \n",
       "31253  32558   22            Private  201490      HS-grad              9   \n",
       "31254  32559   52       Self-emp-inc  287927      HS-grad              9   \n",
       "\n",
       "            Marital_status          Occupation    Relationship    Race  \\\n",
       "0       Married-civ-spouse     Exec-managerial         Husband   White   \n",
       "1                 Divorced   Handlers-cleaners   Not-in-family   White   \n",
       "2       Married-civ-spouse   Handlers-cleaners         Husband   Black   \n",
       "3       Married-civ-spouse      Prof-specialty            Wife   Black   \n",
       "4       Married-civ-spouse     Exec-managerial            Wife   White   \n",
       "...                    ...                 ...             ...     ...   \n",
       "31250   Married-civ-spouse        Tech-support            Wife   White   \n",
       "31251   Married-civ-spouse   Machine-op-inspct         Husband   White   \n",
       "31252              Widowed        Adm-clerical       Unmarried   White   \n",
       "31253        Never-married        Adm-clerical       Own-child   White   \n",
       "31254   Married-civ-spouse     Exec-managerial            Wife   White   \n",
       "\n",
       "           Sex  Capital_gain  Hours_per_week  Native_country  Income  \n",
       "0         Male   1077.615172              13   United-States       0  \n",
       "1         Male   1077.615172              40   United-States       0  \n",
       "2         Male   1077.615172              40   United-States       0  \n",
       "3       Female   1077.615172              40            Cuba       0  \n",
       "4       Female   1077.615172              40   United-States       0  \n",
       "...        ...           ...             ...             ...     ...  \n",
       "31250   Female   1077.615172              38   United-States       0  \n",
       "31251     Male   1077.615172              40   United-States       1  \n",
       "31252   Female   1077.615172              40   United-States       0  \n",
       "31253     Male   1077.615172              20   United-States       0  \n",
       "31254   Female  15024.000000              40   United-States       1  \n",
       "\n",
       "[31255 rows x 15 columns]"
      ]
     },
     "execution_count": 47,
     "metadata": {},
     "output_type": "execute_result"
    }
   ],
   "source": [
    "df2"
   ]
  },
  {
   "cell_type": "code",
   "execution_count": 48,
   "id": "c0f1566f",
   "metadata": {},
   "outputs": [
    {
     "data": {
      "text/plain": [
       "(32560, 14)"
      ]
     },
     "execution_count": 48,
     "metadata": {},
     "output_type": "execute_result"
    }
   ],
   "source": [
    "df.shape"
   ]
  },
  {
   "cell_type": "code",
   "execution_count": 49,
   "id": "b3b558cf",
   "metadata": {},
   "outputs": [
    {
     "data": {
      "text/plain": [
       "(31255, 15)"
      ]
     },
     "execution_count": 49,
     "metadata": {},
     "output_type": "execute_result"
    }
   ],
   "source": [
    "df2.shape"
   ]
  },
  {
   "cell_type": "code",
   "execution_count": 50,
   "id": "d1b8f7b2",
   "metadata": {},
   "outputs": [
    {
     "data": {
      "text/plain": [
       "4.007985257985258"
      ]
     },
     "execution_count": 50,
     "metadata": {},
     "output_type": "execute_result"
    }
   ],
   "source": [
    "(df.shape[0]-df2.shape[0])/df.shape[0]*100"
   ]
  },
  {
   "cell_type": "raw",
   "id": "353f42f9",
   "metadata": {},
   "source": [
    "By removing outliers we loose around 4% of data..."
   ]
  },
  {
   "cell_type": "code",
   "execution_count": 51,
   "id": "ebb4bd3f",
   "metadata": {},
   "outputs": [],
   "source": [
    "df2.drop(columns = \"index\", inplace = True)"
   ]
  },
  {
   "cell_type": "code",
   "execution_count": 52,
   "id": "ba756f48",
   "metadata": {},
   "outputs": [],
   "source": [
    "X = df2.drop(columns = \"Income\")\n",
    "Y = df2[\"Income\"]"
   ]
  },
  {
   "cell_type": "code",
   "execution_count": 53,
   "id": "e0983431",
   "metadata": {},
   "outputs": [
    {
     "data": {
      "text/plain": [
       "Age               0.476846\n",
       "Fnlwgt            0.633372\n",
       "Education_num    -0.165837\n",
       "Capital_gain      5.449847\n",
       "Hours_per_week   -0.348974\n",
       "dtype: float64"
      ]
     },
     "execution_count": 53,
     "metadata": {},
     "output_type": "execute_result"
    }
   ],
   "source": [
    "X.skew()"
   ]
  },
  {
   "cell_type": "code",
   "execution_count": 54,
   "id": "79b213eb",
   "metadata": {},
   "outputs": [],
   "source": [
    "for index in X.skew().index:\n",
    "    if X.skew().loc[index]>0.5:\n",
    "        X[index]=np.cbrt(X[index])\n",
    "        if X.skew().loc[index]<-0.5:\n",
    "            X[index]=np.square(X[index])"
   ]
  },
  {
   "cell_type": "code",
   "execution_count": 55,
   "id": "e2da5151",
   "metadata": {},
   "outputs": [
    {
     "data": {
      "text/plain": [
       "Age               0.476846\n",
       "Fnlwgt           -0.378099\n",
       "Education_num    -0.165837\n",
       "Capital_gain      4.283082\n",
       "Hours_per_week   -0.348974\n",
       "dtype: float64"
      ]
     },
     "execution_count": 55,
     "metadata": {},
     "output_type": "execute_result"
    }
   ],
   "source": [
    "X.skew()\n",
    "#We remove most of skewness in the columns.."
   ]
  },
  {
   "cell_type": "raw",
   "id": "c0a3c58e",
   "metadata": {},
   "source": [
    "Converting Categorical col to Numerical Colmns..."
   ]
  },
  {
   "cell_type": "code",
   "execution_count": 56,
   "id": "42d33628",
   "metadata": {},
   "outputs": [],
   "source": [
    "leb_enc = LabelEncoder()\n",
    "for i in X.columns:\n",
    "    if X[i].dtypes == \"object\":\n",
    "        X[i] = leb_enc.fit_transform(X[i])"
   ]
  },
  {
   "cell_type": "code",
   "execution_count": 57,
   "id": "dd3ba219",
   "metadata": {},
   "outputs": [
    {
     "data": {
      "text/plain": [
       "0        0\n",
       "1        0\n",
       "2        0\n",
       "3        0\n",
       "4        0\n",
       "        ..\n",
       "31250    0\n",
       "31251    1\n",
       "31252    0\n",
       "31253    0\n",
       "31254    1\n",
       "Name: Income, Length: 31255, dtype: int32"
      ]
     },
     "execution_count": 57,
     "metadata": {},
     "output_type": "execute_result"
    }
   ],
   "source": [
    "Y"
   ]
  },
  {
   "cell_type": "code",
   "execution_count": 58,
   "id": "0070e06e",
   "metadata": {},
   "outputs": [
    {
     "data": {
      "text/html": [
       "<div>\n",
       "<style scoped>\n",
       "    .dataframe tbody tr th:only-of-type {\n",
       "        vertical-align: middle;\n",
       "    }\n",
       "\n",
       "    .dataframe tbody tr th {\n",
       "        vertical-align: top;\n",
       "    }\n",
       "\n",
       "    .dataframe thead th {\n",
       "        text-align: right;\n",
       "    }\n",
       "</style>\n",
       "<table border=\"1\" class=\"dataframe\">\n",
       "  <thead>\n",
       "    <tr style=\"text-align: right;\">\n",
       "      <th></th>\n",
       "      <th>Age</th>\n",
       "      <th>Workclass</th>\n",
       "      <th>Fnlwgt</th>\n",
       "      <th>Education</th>\n",
       "      <th>Education_num</th>\n",
       "      <th>Marital_status</th>\n",
       "      <th>Occupation</th>\n",
       "      <th>Relationship</th>\n",
       "      <th>Race</th>\n",
       "      <th>Sex</th>\n",
       "      <th>Capital_gain</th>\n",
       "      <th>Hours_per_week</th>\n",
       "      <th>Native_country</th>\n",
       "    </tr>\n",
       "  </thead>\n",
       "  <tbody>\n",
       "    <tr>\n",
       "      <th>0</th>\n",
       "      <td>50</td>\n",
       "      <td>5</td>\n",
       "      <td>43.675121</td>\n",
       "      <td>8</td>\n",
       "      <td>13</td>\n",
       "      <td>2</td>\n",
       "      <td>3</td>\n",
       "      <td>0</td>\n",
       "      <td>4</td>\n",
       "      <td>1</td>\n",
       "      <td>10.252298</td>\n",
       "      <td>13</td>\n",
       "      <td>38</td>\n",
       "    </tr>\n",
       "    <tr>\n",
       "      <th>1</th>\n",
       "      <td>38</td>\n",
       "      <td>3</td>\n",
       "      <td>59.967204</td>\n",
       "      <td>10</td>\n",
       "      <td>9</td>\n",
       "      <td>0</td>\n",
       "      <td>5</td>\n",
       "      <td>1</td>\n",
       "      <td>4</td>\n",
       "      <td>1</td>\n",
       "      <td>10.252298</td>\n",
       "      <td>40</td>\n",
       "      <td>38</td>\n",
       "    </tr>\n",
       "    <tr>\n",
       "      <th>2</th>\n",
       "      <td>53</td>\n",
       "      <td>3</td>\n",
       "      <td>61.685627</td>\n",
       "      <td>1</td>\n",
       "      <td>7</td>\n",
       "      <td>2</td>\n",
       "      <td>5</td>\n",
       "      <td>0</td>\n",
       "      <td>2</td>\n",
       "      <td>1</td>\n",
       "      <td>10.252298</td>\n",
       "      <td>40</td>\n",
       "      <td>38</td>\n",
       "    </tr>\n",
       "    <tr>\n",
       "      <th>3</th>\n",
       "      <td>28</td>\n",
       "      <td>3</td>\n",
       "      <td>69.686283</td>\n",
       "      <td>8</td>\n",
       "      <td>13</td>\n",
       "      <td>2</td>\n",
       "      <td>9</td>\n",
       "      <td>5</td>\n",
       "      <td>2</td>\n",
       "      <td>0</td>\n",
       "      <td>10.252298</td>\n",
       "      <td>40</td>\n",
       "      <td>4</td>\n",
       "    </tr>\n",
       "    <tr>\n",
       "      <th>4</th>\n",
       "      <td>37</td>\n",
       "      <td>3</td>\n",
       "      <td>65.776255</td>\n",
       "      <td>11</td>\n",
       "      <td>14</td>\n",
       "      <td>2</td>\n",
       "      <td>3</td>\n",
       "      <td>5</td>\n",
       "      <td>4</td>\n",
       "      <td>0</td>\n",
       "      <td>10.252298</td>\n",
       "      <td>40</td>\n",
       "      <td>38</td>\n",
       "    </tr>\n",
       "    <tr>\n",
       "      <th>...</th>\n",
       "      <td>...</td>\n",
       "      <td>...</td>\n",
       "      <td>...</td>\n",
       "      <td>...</td>\n",
       "      <td>...</td>\n",
       "      <td>...</td>\n",
       "      <td>...</td>\n",
       "      <td>...</td>\n",
       "      <td>...</td>\n",
       "      <td>...</td>\n",
       "      <td>...</td>\n",
       "      <td>...</td>\n",
       "      <td>...</td>\n",
       "    </tr>\n",
       "    <tr>\n",
       "      <th>31250</th>\n",
       "      <td>27</td>\n",
       "      <td>3</td>\n",
       "      <td>63.603506</td>\n",
       "      <td>6</td>\n",
       "      <td>12</td>\n",
       "      <td>2</td>\n",
       "      <td>12</td>\n",
       "      <td>5</td>\n",
       "      <td>4</td>\n",
       "      <td>0</td>\n",
       "      <td>10.252298</td>\n",
       "      <td>38</td>\n",
       "      <td>38</td>\n",
       "    </tr>\n",
       "    <tr>\n",
       "      <th>31251</th>\n",
       "      <td>40</td>\n",
       "      <td>3</td>\n",
       "      <td>53.644440</td>\n",
       "      <td>10</td>\n",
       "      <td>9</td>\n",
       "      <td>2</td>\n",
       "      <td>6</td>\n",
       "      <td>0</td>\n",
       "      <td>4</td>\n",
       "      <td>1</td>\n",
       "      <td>10.252298</td>\n",
       "      <td>40</td>\n",
       "      <td>38</td>\n",
       "    </tr>\n",
       "    <tr>\n",
       "      <th>31252</th>\n",
       "      <td>58</td>\n",
       "      <td>3</td>\n",
       "      <td>53.357498</td>\n",
       "      <td>10</td>\n",
       "      <td>9</td>\n",
       "      <td>6</td>\n",
       "      <td>0</td>\n",
       "      <td>4</td>\n",
       "      <td>4</td>\n",
       "      <td>0</td>\n",
       "      <td>10.252298</td>\n",
       "      <td>40</td>\n",
       "      <td>38</td>\n",
       "    </tr>\n",
       "    <tr>\n",
       "      <th>31253</th>\n",
       "      <td>22</td>\n",
       "      <td>3</td>\n",
       "      <td>58.625222</td>\n",
       "      <td>10</td>\n",
       "      <td>9</td>\n",
       "      <td>4</td>\n",
       "      <td>0</td>\n",
       "      <td>3</td>\n",
       "      <td>4</td>\n",
       "      <td>1</td>\n",
       "      <td>10.252298</td>\n",
       "      <td>20</td>\n",
       "      <td>38</td>\n",
       "    </tr>\n",
       "    <tr>\n",
       "      <th>31254</th>\n",
       "      <td>52</td>\n",
       "      <td>4</td>\n",
       "      <td>66.032965</td>\n",
       "      <td>10</td>\n",
       "      <td>9</td>\n",
       "      <td>2</td>\n",
       "      <td>3</td>\n",
       "      <td>5</td>\n",
       "      <td>4</td>\n",
       "      <td>0</td>\n",
       "      <td>24.675267</td>\n",
       "      <td>40</td>\n",
       "      <td>38</td>\n",
       "    </tr>\n",
       "  </tbody>\n",
       "</table>\n",
       "<p>31255 rows × 13 columns</p>\n",
       "</div>"
      ],
      "text/plain": [
       "       Age  Workclass     Fnlwgt  Education  Education_num  Marital_status  \\\n",
       "0       50          5  43.675121          8             13               2   \n",
       "1       38          3  59.967204         10              9               0   \n",
       "2       53          3  61.685627          1              7               2   \n",
       "3       28          3  69.686283          8             13               2   \n",
       "4       37          3  65.776255         11             14               2   \n",
       "...    ...        ...        ...        ...            ...             ...   \n",
       "31250   27          3  63.603506          6             12               2   \n",
       "31251   40          3  53.644440         10              9               2   \n",
       "31252   58          3  53.357498         10              9               6   \n",
       "31253   22          3  58.625222         10              9               4   \n",
       "31254   52          4  66.032965         10              9               2   \n",
       "\n",
       "       Occupation  Relationship  Race  Sex  Capital_gain  Hours_per_week  \\\n",
       "0               3             0     4    1     10.252298              13   \n",
       "1               5             1     4    1     10.252298              40   \n",
       "2               5             0     2    1     10.252298              40   \n",
       "3               9             5     2    0     10.252298              40   \n",
       "4               3             5     4    0     10.252298              40   \n",
       "...           ...           ...   ...  ...           ...             ...   \n",
       "31250          12             5     4    0     10.252298              38   \n",
       "31251           6             0     4    1     10.252298              40   \n",
       "31252           0             4     4    0     10.252298              40   \n",
       "31253           0             3     4    1     10.252298              20   \n",
       "31254           3             5     4    0     24.675267              40   \n",
       "\n",
       "       Native_country  \n",
       "0                  38  \n",
       "1                  38  \n",
       "2                  38  \n",
       "3                   4  \n",
       "4                  38  \n",
       "...               ...  \n",
       "31250              38  \n",
       "31251              38  \n",
       "31252              38  \n",
       "31253              38  \n",
       "31254              38  \n",
       "\n",
       "[31255 rows x 13 columns]"
      ]
     },
     "execution_count": 58,
     "metadata": {},
     "output_type": "execute_result"
    }
   ],
   "source": [
    "X"
   ]
  },
  {
   "cell_type": "code",
   "execution_count": 59,
   "id": "94789e4a",
   "metadata": {},
   "outputs": [],
   "source": [
    "#lets seperate numerical data\n",
    "num_data = pd.DataFrame(X,columns = ['Age','Fnlwgt','Education_num','Capital_gain','Hours_per_week'])"
   ]
  },
  {
   "cell_type": "code",
   "execution_count": 60,
   "id": "0ab2b359",
   "metadata": {},
   "outputs": [],
   "source": [
    "#Lets bring all numerical features to common scale by applying standard scaler\n",
    "scaler = StandardScaler()\n",
    "x = scaler.fit_transform(num_data)\n",
    "x = pd.DataFrame(x,columns=num_data.columns)"
   ]
  },
  {
   "cell_type": "code",
   "execution_count": 61,
   "id": "2c63820e",
   "metadata": {},
   "outputs": [
    {
     "data": {
      "text/html": [
       "<div>\n",
       "<style scoped>\n",
       "    .dataframe tbody tr th:only-of-type {\n",
       "        vertical-align: middle;\n",
       "    }\n",
       "\n",
       "    .dataframe tbody tr th {\n",
       "        vertical-align: top;\n",
       "    }\n",
       "\n",
       "    .dataframe thead th {\n",
       "        text-align: right;\n",
       "    }\n",
       "</style>\n",
       "<table border=\"1\" class=\"dataframe\">\n",
       "  <thead>\n",
       "    <tr style=\"text-align: right;\">\n",
       "      <th></th>\n",
       "      <th>Age</th>\n",
       "      <th>Fnlwgt</th>\n",
       "      <th>Education_num</th>\n",
       "      <th>Capital_gain</th>\n",
       "      <th>Hours_per_week</th>\n",
       "    </tr>\n",
       "  </thead>\n",
       "  <tbody>\n",
       "    <tr>\n",
       "      <th>0</th>\n",
       "      <td>0.879167</td>\n",
       "      <td>-1.102044</td>\n",
       "      <td>1.166274</td>\n",
       "      <td>-0.252441</td>\n",
       "      <td>-2.424632</td>\n",
       "    </tr>\n",
       "    <tr>\n",
       "      <th>1</th>\n",
       "      <td>-0.021527</td>\n",
       "      <td>0.464687</td>\n",
       "      <td>-0.454152</td>\n",
       "      <td>-0.252441</td>\n",
       "      <td>-0.003552</td>\n",
       "    </tr>\n",
       "    <tr>\n",
       "      <th>2</th>\n",
       "      <td>1.104341</td>\n",
       "      <td>0.629940</td>\n",
       "      <td>-1.264366</td>\n",
       "      <td>-0.252441</td>\n",
       "      <td>-0.003552</td>\n",
       "    </tr>\n",
       "    <tr>\n",
       "      <th>3</th>\n",
       "      <td>-0.772105</td>\n",
       "      <td>1.399324</td>\n",
       "      <td>1.166274</td>\n",
       "      <td>-0.252441</td>\n",
       "      <td>-0.003552</td>\n",
       "    </tr>\n",
       "    <tr>\n",
       "      <th>4</th>\n",
       "      <td>-0.096585</td>\n",
       "      <td>1.023316</td>\n",
       "      <td>1.571381</td>\n",
       "      <td>-0.252441</td>\n",
       "      <td>-0.003552</td>\n",
       "    </tr>\n",
       "    <tr>\n",
       "      <th>...</th>\n",
       "      <td>...</td>\n",
       "      <td>...</td>\n",
       "      <td>...</td>\n",
       "      <td>...</td>\n",
       "      <td>...</td>\n",
       "    </tr>\n",
       "    <tr>\n",
       "      <th>31250</th>\n",
       "      <td>-0.847163</td>\n",
       "      <td>0.814373</td>\n",
       "      <td>0.761168</td>\n",
       "      <td>-0.252441</td>\n",
       "      <td>-0.182891</td>\n",
       "    </tr>\n",
       "    <tr>\n",
       "      <th>31251</th>\n",
       "      <td>0.128589</td>\n",
       "      <td>-0.143343</td>\n",
       "      <td>-0.454152</td>\n",
       "      <td>-0.252441</td>\n",
       "      <td>-0.003552</td>\n",
       "    </tr>\n",
       "    <tr>\n",
       "      <th>31252</th>\n",
       "      <td>1.479630</td>\n",
       "      <td>-0.170936</td>\n",
       "      <td>-0.454152</td>\n",
       "      <td>-0.252441</td>\n",
       "      <td>-0.003552</td>\n",
       "    </tr>\n",
       "    <tr>\n",
       "      <th>31253</th>\n",
       "      <td>-1.222452</td>\n",
       "      <td>0.335635</td>\n",
       "      <td>-0.454152</td>\n",
       "      <td>-0.252441</td>\n",
       "      <td>-1.796944</td>\n",
       "    </tr>\n",
       "    <tr>\n",
       "      <th>31254</th>\n",
       "      <td>1.029283</td>\n",
       "      <td>1.048002</td>\n",
       "      <td>-0.454152</td>\n",
       "      <td>5.670009</td>\n",
       "      <td>-0.003552</td>\n",
       "    </tr>\n",
       "  </tbody>\n",
       "</table>\n",
       "<p>31255 rows × 5 columns</p>\n",
       "</div>"
      ],
      "text/plain": [
       "            Age    Fnlwgt  Education_num  Capital_gain  Hours_per_week\n",
       "0      0.879167 -1.102044       1.166274     -0.252441       -2.424632\n",
       "1     -0.021527  0.464687      -0.454152     -0.252441       -0.003552\n",
       "2      1.104341  0.629940      -1.264366     -0.252441       -0.003552\n",
       "3     -0.772105  1.399324       1.166274     -0.252441       -0.003552\n",
       "4     -0.096585  1.023316       1.571381     -0.252441       -0.003552\n",
       "...         ...       ...            ...           ...             ...\n",
       "31250 -0.847163  0.814373       0.761168     -0.252441       -0.182891\n",
       "31251  0.128589 -0.143343      -0.454152     -0.252441       -0.003552\n",
       "31252  1.479630 -0.170936      -0.454152     -0.252441       -0.003552\n",
       "31253 -1.222452  0.335635      -0.454152     -0.252441       -1.796944\n",
       "31254  1.029283  1.048002      -0.454152      5.670009       -0.003552\n",
       "\n",
       "[31255 rows x 5 columns]"
      ]
     },
     "execution_count": 61,
     "metadata": {},
     "output_type": "execute_result"
    }
   ],
   "source": [
    "x"
   ]
  },
  {
   "cell_type": "code",
   "execution_count": 62,
   "id": "524a0596",
   "metadata": {},
   "outputs": [],
   "source": [
    "cat = X.drop(columns = ['Age','Fnlwgt','Education_num','Capital_gain','Hours_per_week'] )"
   ]
  },
  {
   "cell_type": "code",
   "execution_count": 63,
   "id": "56fac8ea",
   "metadata": {},
   "outputs": [
    {
     "data": {
      "text/html": [
       "<div>\n",
       "<style scoped>\n",
       "    .dataframe tbody tr th:only-of-type {\n",
       "        vertical-align: middle;\n",
       "    }\n",
       "\n",
       "    .dataframe tbody tr th {\n",
       "        vertical-align: top;\n",
       "    }\n",
       "\n",
       "    .dataframe thead th {\n",
       "        text-align: right;\n",
       "    }\n",
       "</style>\n",
       "<table border=\"1\" class=\"dataframe\">\n",
       "  <thead>\n",
       "    <tr style=\"text-align: right;\">\n",
       "      <th></th>\n",
       "      <th>Age</th>\n",
       "      <th>Fnlwgt</th>\n",
       "      <th>Education_num</th>\n",
       "      <th>Capital_gain</th>\n",
       "      <th>Hours_per_week</th>\n",
       "      <th>Workclass</th>\n",
       "      <th>Education</th>\n",
       "      <th>Marital_status</th>\n",
       "      <th>Occupation</th>\n",
       "      <th>Relationship</th>\n",
       "      <th>Race</th>\n",
       "      <th>Sex</th>\n",
       "      <th>Native_country</th>\n",
       "    </tr>\n",
       "  </thead>\n",
       "  <tbody>\n",
       "    <tr>\n",
       "      <th>0</th>\n",
       "      <td>0.879167</td>\n",
       "      <td>-1.102044</td>\n",
       "      <td>1.166274</td>\n",
       "      <td>-0.252441</td>\n",
       "      <td>-2.424632</td>\n",
       "      <td>5</td>\n",
       "      <td>8</td>\n",
       "      <td>2</td>\n",
       "      <td>3</td>\n",
       "      <td>0</td>\n",
       "      <td>4</td>\n",
       "      <td>1</td>\n",
       "      <td>38</td>\n",
       "    </tr>\n",
       "    <tr>\n",
       "      <th>1</th>\n",
       "      <td>-0.021527</td>\n",
       "      <td>0.464687</td>\n",
       "      <td>-0.454152</td>\n",
       "      <td>-0.252441</td>\n",
       "      <td>-0.003552</td>\n",
       "      <td>3</td>\n",
       "      <td>10</td>\n",
       "      <td>0</td>\n",
       "      <td>5</td>\n",
       "      <td>1</td>\n",
       "      <td>4</td>\n",
       "      <td>1</td>\n",
       "      <td>38</td>\n",
       "    </tr>\n",
       "    <tr>\n",
       "      <th>2</th>\n",
       "      <td>1.104341</td>\n",
       "      <td>0.629940</td>\n",
       "      <td>-1.264366</td>\n",
       "      <td>-0.252441</td>\n",
       "      <td>-0.003552</td>\n",
       "      <td>3</td>\n",
       "      <td>1</td>\n",
       "      <td>2</td>\n",
       "      <td>5</td>\n",
       "      <td>0</td>\n",
       "      <td>2</td>\n",
       "      <td>1</td>\n",
       "      <td>38</td>\n",
       "    </tr>\n",
       "    <tr>\n",
       "      <th>3</th>\n",
       "      <td>-0.772105</td>\n",
       "      <td>1.399324</td>\n",
       "      <td>1.166274</td>\n",
       "      <td>-0.252441</td>\n",
       "      <td>-0.003552</td>\n",
       "      <td>3</td>\n",
       "      <td>8</td>\n",
       "      <td>2</td>\n",
       "      <td>9</td>\n",
       "      <td>5</td>\n",
       "      <td>2</td>\n",
       "      <td>0</td>\n",
       "      <td>4</td>\n",
       "    </tr>\n",
       "    <tr>\n",
       "      <th>4</th>\n",
       "      <td>-0.096585</td>\n",
       "      <td>1.023316</td>\n",
       "      <td>1.571381</td>\n",
       "      <td>-0.252441</td>\n",
       "      <td>-0.003552</td>\n",
       "      <td>3</td>\n",
       "      <td>11</td>\n",
       "      <td>2</td>\n",
       "      <td>3</td>\n",
       "      <td>5</td>\n",
       "      <td>4</td>\n",
       "      <td>0</td>\n",
       "      <td>38</td>\n",
       "    </tr>\n",
       "    <tr>\n",
       "      <th>...</th>\n",
       "      <td>...</td>\n",
       "      <td>...</td>\n",
       "      <td>...</td>\n",
       "      <td>...</td>\n",
       "      <td>...</td>\n",
       "      <td>...</td>\n",
       "      <td>...</td>\n",
       "      <td>...</td>\n",
       "      <td>...</td>\n",
       "      <td>...</td>\n",
       "      <td>...</td>\n",
       "      <td>...</td>\n",
       "      <td>...</td>\n",
       "    </tr>\n",
       "    <tr>\n",
       "      <th>31250</th>\n",
       "      <td>-0.847163</td>\n",
       "      <td>0.814373</td>\n",
       "      <td>0.761168</td>\n",
       "      <td>-0.252441</td>\n",
       "      <td>-0.182891</td>\n",
       "      <td>3</td>\n",
       "      <td>6</td>\n",
       "      <td>2</td>\n",
       "      <td>12</td>\n",
       "      <td>5</td>\n",
       "      <td>4</td>\n",
       "      <td>0</td>\n",
       "      <td>38</td>\n",
       "    </tr>\n",
       "    <tr>\n",
       "      <th>31251</th>\n",
       "      <td>0.128589</td>\n",
       "      <td>-0.143343</td>\n",
       "      <td>-0.454152</td>\n",
       "      <td>-0.252441</td>\n",
       "      <td>-0.003552</td>\n",
       "      <td>3</td>\n",
       "      <td>10</td>\n",
       "      <td>2</td>\n",
       "      <td>6</td>\n",
       "      <td>0</td>\n",
       "      <td>4</td>\n",
       "      <td>1</td>\n",
       "      <td>38</td>\n",
       "    </tr>\n",
       "    <tr>\n",
       "      <th>31252</th>\n",
       "      <td>1.479630</td>\n",
       "      <td>-0.170936</td>\n",
       "      <td>-0.454152</td>\n",
       "      <td>-0.252441</td>\n",
       "      <td>-0.003552</td>\n",
       "      <td>3</td>\n",
       "      <td>10</td>\n",
       "      <td>6</td>\n",
       "      <td>0</td>\n",
       "      <td>4</td>\n",
       "      <td>4</td>\n",
       "      <td>0</td>\n",
       "      <td>38</td>\n",
       "    </tr>\n",
       "    <tr>\n",
       "      <th>31253</th>\n",
       "      <td>-1.222452</td>\n",
       "      <td>0.335635</td>\n",
       "      <td>-0.454152</td>\n",
       "      <td>-0.252441</td>\n",
       "      <td>-1.796944</td>\n",
       "      <td>3</td>\n",
       "      <td>10</td>\n",
       "      <td>4</td>\n",
       "      <td>0</td>\n",
       "      <td>3</td>\n",
       "      <td>4</td>\n",
       "      <td>1</td>\n",
       "      <td>38</td>\n",
       "    </tr>\n",
       "    <tr>\n",
       "      <th>31254</th>\n",
       "      <td>1.029283</td>\n",
       "      <td>1.048002</td>\n",
       "      <td>-0.454152</td>\n",
       "      <td>5.670009</td>\n",
       "      <td>-0.003552</td>\n",
       "      <td>4</td>\n",
       "      <td>10</td>\n",
       "      <td>2</td>\n",
       "      <td>3</td>\n",
       "      <td>5</td>\n",
       "      <td>4</td>\n",
       "      <td>0</td>\n",
       "      <td>38</td>\n",
       "    </tr>\n",
       "  </tbody>\n",
       "</table>\n",
       "<p>31255 rows × 13 columns</p>\n",
       "</div>"
      ],
      "text/plain": [
       "            Age    Fnlwgt  Education_num  Capital_gain  Hours_per_week  \\\n",
       "0      0.879167 -1.102044       1.166274     -0.252441       -2.424632   \n",
       "1     -0.021527  0.464687      -0.454152     -0.252441       -0.003552   \n",
       "2      1.104341  0.629940      -1.264366     -0.252441       -0.003552   \n",
       "3     -0.772105  1.399324       1.166274     -0.252441       -0.003552   \n",
       "4     -0.096585  1.023316       1.571381     -0.252441       -0.003552   \n",
       "...         ...       ...            ...           ...             ...   \n",
       "31250 -0.847163  0.814373       0.761168     -0.252441       -0.182891   \n",
       "31251  0.128589 -0.143343      -0.454152     -0.252441       -0.003552   \n",
       "31252  1.479630 -0.170936      -0.454152     -0.252441       -0.003552   \n",
       "31253 -1.222452  0.335635      -0.454152     -0.252441       -1.796944   \n",
       "31254  1.029283  1.048002      -0.454152      5.670009       -0.003552   \n",
       "\n",
       "       Workclass  Education  Marital_status  Occupation  Relationship  Race  \\\n",
       "0              5          8               2           3             0     4   \n",
       "1              3         10               0           5             1     4   \n",
       "2              3          1               2           5             0     2   \n",
       "3              3          8               2           9             5     2   \n",
       "4              3         11               2           3             5     4   \n",
       "...          ...        ...             ...         ...           ...   ...   \n",
       "31250          3          6               2          12             5     4   \n",
       "31251          3         10               2           6             0     4   \n",
       "31252          3         10               6           0             4     4   \n",
       "31253          3         10               4           0             3     4   \n",
       "31254          4         10               2           3             5     4   \n",
       "\n",
       "       Sex  Native_country  \n",
       "0        1              38  \n",
       "1        1              38  \n",
       "2        1              38  \n",
       "3        0               4  \n",
       "4        0              38  \n",
       "...    ...             ...  \n",
       "31250    0              38  \n",
       "31251    1              38  \n",
       "31252    0              38  \n",
       "31253    1              38  \n",
       "31254    0              38  \n",
       "\n",
       "[31255 rows x 13 columns]"
      ]
     },
     "execution_count": 63,
     "metadata": {},
     "output_type": "execute_result"
    }
   ],
   "source": [
    "#Lets join both categorical data and numerical data of our features\n",
    "X1= x.join(cat)\n",
    "X1"
   ]
  },
  {
   "cell_type": "code",
   "execution_count": 64,
   "id": "7779465c",
   "metadata": {},
   "outputs": [
    {
     "data": {
      "text/plain": [
       "(31255,)"
      ]
     },
     "execution_count": 64,
     "metadata": {},
     "output_type": "execute_result"
    }
   ],
   "source": [
    "Y.shape"
   ]
  },
  {
   "cell_type": "markdown",
   "id": "d22f9f21",
   "metadata": {},
   "source": [
    "# MODEL Building"
   ]
  },
  {
   "cell_type": "markdown",
   "id": "13a98558",
   "metadata": {},
   "source": [
    "# logisticRegression"
   ]
  },
  {
   "cell_type": "code",
   "execution_count": 65,
   "id": "d339e03f",
   "metadata": {},
   "outputs": [
    {
     "name": "stdout",
     "output_type": "stream",
     "text": [
      "Best accuracy is 0.8317123112362427 on Random State 42\n"
     ]
    }
   ],
   "source": [
    "#Lets find the best random state using LogisticRegression\n",
    "from sklearn.linear_model import LogisticRegression\n",
    "max_accu = 0\n",
    "max_rs = 0\n",
    "for i in range(1,200):\n",
    "    x_train,x_test,y_train,y_test = train_test_split(X1,Y,test_size = 0.25, random_state = i)\n",
    "    LR = LogisticRegression()\n",
    "    LR.fit(x_train,y_train)\n",
    "    pred = LR.predict(x_test)\n",
    "    acc = accuracy_score(y_test,pred)\n",
    "    if acc > max_accu:\n",
    "        max_accu = acc\n",
    "        max_rs = i\n",
    "print(\"Best accuracy is\",max_accu,\"on Random State\",max_rs)"
   ]
  },
  {
   "cell_type": "markdown",
   "id": "f0115066",
   "metadata": {},
   "source": [
    "# splitting data for train and test"
   ]
  },
  {
   "cell_type": "code",
   "execution_count": 66,
   "id": "c928fc83",
   "metadata": {},
   "outputs": [],
   "source": [
    "x_train,x_test,y_train,y_test = train_test_split(X1, Y, test_size = 0.25, random_state = max_rs )"
   ]
  },
  {
   "cell_type": "code",
   "execution_count": 67,
   "id": "71c7b27b",
   "metadata": {},
   "outputs": [],
   "source": [
    "from sklearn.metrics import accuracy_score,confusion_matrix,classification_report"
   ]
  },
  {
   "cell_type": "code",
   "execution_count": 68,
   "id": "d0f7b21e",
   "metadata": {},
   "outputs": [
    {
     "name": "stdout",
     "output_type": "stream",
     "text": [
      "0.8317123112362427\n",
      "[[5691  335]\n",
      " [ 980  808]]\n",
      "              precision    recall  f1-score   support\n",
      "\n",
      "           0       0.85      0.94      0.90      6026\n",
      "           1       0.71      0.45      0.55      1788\n",
      "\n",
      "    accuracy                           0.83      7814\n",
      "   macro avg       0.78      0.70      0.72      7814\n",
      "weighted avg       0.82      0.83      0.82      7814\n",
      "\n",
      "Training accuracy:: 0.8192056652873171\n",
      "Test accuracy:: 0.8317123112362427\n"
     ]
    }
   ],
   "source": [
    "LR.fit(x_train,y_train)\n",
    "LR_pred=LR.predict(x_test)\n",
    "\n",
    "print(accuracy_score(y_test,LR_pred))\n",
    "print(confusion_matrix(y_test,LR_pred))\n",
    "print(classification_report(y_test,LR_pred))\n",
    "print(\"Training accuracy::\",LR.score(x_train,y_train))\n",
    "print(\"Test accuracy::\",LR.score(x_test,y_test))"
   ]
  },
  {
   "cell_type": "code",
   "execution_count": 69,
   "id": "d8aa7afd",
   "metadata": {},
   "outputs": [
    {
     "name": "stdout",
     "output_type": "stream",
     "text": [
      "0.8214045752679571\n"
     ]
    }
   ],
   "source": [
    "print(cross_val_score(LR,X1,Y,cv=5).mean())"
   ]
  },
  {
   "cell_type": "markdown",
   "id": "a4f7827e",
   "metadata": {},
   "source": [
    "# KNeighborsClassifier"
   ]
  },
  {
   "cell_type": "code",
   "execution_count": 70,
   "id": "2b4bed88",
   "metadata": {},
   "outputs": [],
   "source": [
    "from sklearn.neighbors import KNeighborsClassifier"
   ]
  },
  {
   "cell_type": "code",
   "execution_count": 71,
   "id": "f5da539c",
   "metadata": {},
   "outputs": [
    {
     "name": "stdout",
     "output_type": "stream",
     "text": [
      "0.8331200409521372\n",
      "[[5436  590]\n",
      " [ 714 1074]]\n",
      "              precision    recall  f1-score   support\n",
      "\n",
      "           0       0.88      0.90      0.89      6026\n",
      "           1       0.65      0.60      0.62      1788\n",
      "\n",
      "    accuracy                           0.83      7814\n",
      "   macro avg       0.76      0.75      0.76      7814\n",
      "weighted avg       0.83      0.83      0.83      7814\n",
      "\n",
      "Training accuracy:: 0.8808924533936265\n",
      "Test accuracy:: 0.8331200409521372\n"
     ]
    }
   ],
   "source": [
    "knn=KNeighborsClassifier()\n",
    "knn.fit(x_train,y_train)\n",
    "pred_knn=knn.predict(x_test)\n",
    "print(accuracy_score(y_test,pred_knn))\n",
    "print(confusion_matrix(y_test,pred_knn))\n",
    "print(classification_report(y_test,pred_knn))\n",
    "print(\"Training accuracy::\",knn.score(x_train,y_train))\n",
    "print(\"Test accuracy::\",knn.score(x_test,y_test))"
   ]
  },
  {
   "cell_type": "code",
   "execution_count": 72,
   "id": "ed4d34a4",
   "metadata": {},
   "outputs": [
    {
     "name": "stdout",
     "output_type": "stream",
     "text": [
      "0.8293713005919052\n"
     ]
    }
   ],
   "source": [
    "print(cross_val_score(knn,X1,Y,cv=5).mean())"
   ]
  },
  {
   "cell_type": "markdown",
   "id": "f8d7eea2",
   "metadata": {},
   "source": [
    "# DecisionTree Clasifier"
   ]
  },
  {
   "cell_type": "code",
   "execution_count": 73,
   "id": "3fd8f08f",
   "metadata": {},
   "outputs": [],
   "source": [
    "from sklearn.tree import DecisionTreeClassifier"
   ]
  },
  {
   "cell_type": "code",
   "execution_count": 74,
   "id": "e1b6dc22",
   "metadata": {},
   "outputs": [
    {
     "name": "stdout",
     "output_type": "stream",
     "text": [
      "0.803813667775787\n",
      "[[5204  822]\n",
      " [ 711 1077]]\n",
      "              precision    recall  f1-score   support\n",
      "\n",
      "           0       0.88      0.86      0.87      6026\n",
      "           1       0.57      0.60      0.58      1788\n",
      "\n",
      "    accuracy                           0.80      7814\n",
      "   macro avg       0.72      0.73      0.73      7814\n",
      "weighted avg       0.81      0.80      0.81      7814\n",
      "\n",
      "Training accuracy:: 0.9999573397039375\n",
      "Test accuracy:: 0.803813667775787\n"
     ]
    }
   ],
   "source": [
    "DT=DecisionTreeClassifier()\n",
    "DT.fit(x_train,y_train)\n",
    "pred_DT=DT.predict(x_test)\n",
    "print(accuracy_score(y_test,pred_DT))\n",
    "print(confusion_matrix(y_test,pred_DT))\n",
    "print(classification_report(y_test,pred_DT))\n",
    "print(\"Training accuracy::\",DT.score(x_train,y_train))\n",
    "print(\"Test accuracy::\",DT.score(x_test,y_test))"
   ]
  },
  {
   "cell_type": "code",
   "execution_count": 75,
   "id": "d9246925",
   "metadata": {},
   "outputs": [
    {
     "name": "stdout",
     "output_type": "stream",
     "text": [
      "0.7970564709646457\n"
     ]
    }
   ],
   "source": [
    "print(cross_val_score(DT,X1,Y,cv=5).mean())"
   ]
  },
  {
   "cell_type": "markdown",
   "id": "717d6e0f",
   "metadata": {},
   "source": [
    "# RandomforestClassifier"
   ]
  },
  {
   "cell_type": "code",
   "execution_count": 76,
   "id": "93951835",
   "metadata": {},
   "outputs": [],
   "source": [
    "from sklearn.ensemble import RandomForestClassifier"
   ]
  },
  {
   "cell_type": "code",
   "execution_count": 77,
   "id": "4026ee8c",
   "metadata": {},
   "outputs": [
    {
     "name": "stdout",
     "output_type": "stream",
     "text": [
      "0.85564371640645\n",
      "[[5586  440]\n",
      " [ 688 1100]]\n",
      "              precision    recall  f1-score   support\n",
      "\n",
      "           0       0.89      0.93      0.91      6026\n",
      "           1       0.71      0.62      0.66      1788\n",
      "\n",
      "    accuracy                           0.86      7814\n",
      "   macro avg       0.80      0.77      0.78      7814\n",
      "weighted avg       0.85      0.86      0.85      7814\n",
      "\n",
      "Training accuracy:: 0.9999573397039375\n",
      "Test accuracy:: 0.85564371640645\n"
     ]
    }
   ],
   "source": [
    "RF=RandomForestClassifier()\n",
    "RF.fit(x_train,y_train)\n",
    "pred_RF=RF.predict(x_test)\n",
    "print(accuracy_score(y_test,pred_RF))\n",
    "print(confusion_matrix(y_test,pred_RF))\n",
    "print(classification_report(y_test,pred_RF))\n",
    "print(\"Training accuracy::\",RF.score(x_train,y_train))\n",
    "print(\"Test accuracy::\",RF.score(x_test,y_test))"
   ]
  },
  {
   "cell_type": "code",
   "execution_count": 78,
   "id": "430ce20f",
   "metadata": {},
   "outputs": [
    {
     "name": "stdout",
     "output_type": "stream",
     "text": [
      "0.8472244440889458\n"
     ]
    }
   ],
   "source": [
    "print(cross_val_score(RF,X1,Y,cv=5).mean())"
   ]
  },
  {
   "cell_type": "markdown",
   "id": "fc49a892",
   "metadata": {},
   "source": [
    "# AdaBosstClassifier"
   ]
  },
  {
   "cell_type": "code",
   "execution_count": 80,
   "id": "bab7a497",
   "metadata": {},
   "outputs": [],
   "source": [
    "from sklearn.ensemble import AdaBoostClassifier"
   ]
  },
  {
   "cell_type": "code",
   "execution_count": 81,
   "id": "8924473d",
   "metadata": {},
   "outputs": [
    {
     "name": "stdout",
     "output_type": "stream",
     "text": [
      "0.8585871512669567\n",
      "[[5667  359]\n",
      " [ 746 1042]]\n",
      "              precision    recall  f1-score   support\n",
      "\n",
      "           0       0.88      0.94      0.91      6026\n",
      "           1       0.74      0.58      0.65      1788\n",
      "\n",
      "    accuracy                           0.86      7814\n",
      "   macro avg       0.81      0.76      0.78      7814\n",
      "weighted avg       0.85      0.86      0.85      7814\n",
      "\n",
      "Training accuracy:: 0.8530779403609061\n",
      "Test accuracy:: 0.8585871512669567\n"
     ]
    }
   ],
   "source": [
    "ADA=AdaBoostClassifier()\n",
    "ADA.fit(x_train,y_train)\n",
    "pred_ADA=ADA.predict(x_test)\n",
    "print(accuracy_score(y_test,pred_ADA))\n",
    "print(confusion_matrix(y_test,pred_ADA))\n",
    "print(classification_report(y_test,pred_ADA))\n",
    "print(\"Training accuracy::\",ADA.score(x_train,y_train))\n",
    "print(\"Test accuracy::\",ADA.score(x_test,y_test))"
   ]
  },
  {
   "cell_type": "code",
   "execution_count": 82,
   "id": "60c90487",
   "metadata": {},
   "outputs": [
    {
     "name": "stdout",
     "output_type": "stream",
     "text": [
      "0.8539113741801312\n"
     ]
    }
   ],
   "source": [
    "print(cross_val_score(ADA,X1,Y,cv=5).mean())"
   ]
  },
  {
   "cell_type": "markdown",
   "id": "2fd599e8",
   "metadata": {},
   "source": [
    "# ROC Curve"
   ]
  },
  {
   "cell_type": "code",
   "execution_count": 83,
   "id": "9c1db73c",
   "metadata": {},
   "outputs": [
    {
     "data": {
      "image/png": "[encoded data removed]",
      "text/plain": [
       "<Figure size 432x288 with 1 Axes>"
      ]
     },
     "metadata": {},
     "output_type": "display_data"
    }
   ],
   "source": [
    "#Lets plot roc curve and check auc and performance of all algorithms\n",
    "from sklearn.metrics import plot_roc_curve\n",
    "disp = plot_roc_curve(LR, x_test, y_test)\n",
    "plot_roc_curve(DT, x_test, y_test, ax = disp.ax_)\n",
    "plot_roc_curve(RF, x_test, y_test, ax = disp.ax_)\n",
    "plot_roc_curve(knn, x_test, y_test, ax = disp.ax_)\n",
    "plot_roc_curve(ADA, x_test, y_test, ax = disp.ax_)\n",
    "\n",
    "plt.legend(prop={\"size\" :10} ,loc = 'lower right')\n",
    "plt.show()"
   ]
  },
  {
   "cell_type": "raw",
   "id": "5ca2b33f",
   "metadata": {},
   "source": [
    "RandomForest and RandomForest Classifier is giving good performance compared to other models, based on cross validation score and looking at model performance we will select RandomForestClassifier as a best suitable algorithm."
   ]
  },
  {
   "cell_type": "markdown",
   "id": "57f4bbe8",
   "metadata": {},
   "source": [
    "# HyperParameterTuning"
   ]
  },
  {
   "cell_type": "code",
   "execution_count": 86,
   "id": "e394797f",
   "metadata": {},
   "outputs": [],
   "source": [
    "from sklearn.model_selection import train_test_split, GridSearchCV"
   ]
  },
  {
   "cell_type": "code",
   "execution_count": 94,
   "id": "9dbf2d24",
   "metadata": {},
   "outputs": [],
   "source": [
    "grid_params = {\n",
    "                'criterion':['gini'],\n",
    "                'max_depth': [5,15],\n",
    "                'n_estimators':[5],\n",
    "                'min_samples_leaf': [2]\n",
    "                }"
   ]
  },
  {
   "cell_type": "code",
   "execution_count": 97,
   "id": "81ea2e3c",
   "metadata": {},
   "outputs": [
    {
     "data": {
      "text/plain": [
       "GridSearchCV(cv=5, estimator=RandomForestClassifier(),\n",
       "             param_grid={'criterion': ['gini'], 'max_depth': [5, 15],\n",
       "                         'min_samples_leaf': [2], 'n_estimators': [5]})"
      ]
     },
     "execution_count": 97,
     "metadata": {},
     "output_type": "execute_result"
    }
   ],
   "source": [
    "GCV =  GridSearchCV(RandomForestClassifier(), grid_params, cv = 5)\n",
    "GCV.fit(x_train,y_train)"
   ]
  },
  {
   "cell_type": "code",
   "execution_count": 98,
   "id": "29d9a882",
   "metadata": {},
   "outputs": [
    {
     "data": {
      "text/plain": [
       "{'criterion': 'gini',\n",
       " 'max_depth': 15,\n",
       " 'min_samples_leaf': 2,\n",
       " 'n_estimators': 5}"
      ]
     },
     "execution_count": 98,
     "metadata": {},
     "output_type": "execute_result"
    }
   ],
   "source": [
    "GCV.best_params_ "
   ]
  },
  {
   "cell_type": "code",
   "execution_count": 101,
   "id": "004c4d1e",
   "metadata": {},
   "outputs": [],
   "source": [
    "from sklearn.metrics import roc_auc_score"
   ]
  },
  {
   "cell_type": "code",
   "execution_count": 102,
   "id": "d0413263",
   "metadata": {},
   "outputs": [
    {
     "name": "stdout",
     "output_type": "stream",
     "text": [
      "Accuracy Score: 86.24264141284873%\n",
      "---------------------------------------------------\n",
      "roc_auc_score: 77.10978006565138%\n",
      "---------------------------------------------------\n",
      "Confusion Matrix : \n",
      " [[5637  389]\n",
      " [ 686 1102]]\n",
      "\n",
      "---------------------------------------------------\n",
      "CLASSIFICATION REPORT : \n",
      "               precision    recall  f1-score   support\n",
      "\n",
      "           0       0.89      0.94      0.91      6026\n",
      "           1       0.74      0.62      0.67      1788\n",
      "\n",
      "    accuracy                           0.86      7814\n",
      "   macro avg       0.82      0.78      0.79      7814\n",
      "weighted avg       0.86      0.86      0.86      7814\n",
      "\n",
      "---------------------------------------------------\n"
     ]
    }
   ],
   "source": [
    "model = RandomForestClassifier( criterion = 'gini', max_depth=22, n_estimators=900, min_samples_leaf = 1)\n",
    "\n",
    "model.fit(x_train,y_train)\n",
    "pred = model.predict(x_test)\n",
    "\n",
    "print(f\"Accuracy Score: {accuracy_score(y_test,pred)*100}%\")\n",
    "print(\"---------------------------------------------------\")\n",
    "\n",
    "print(f\"roc_auc_score: {roc_auc_score(y_test,pred_RF)*100}%\")\n",
    "print(\"---------------------------------------------------\")\n",
    "\n",
    "print(f\"Confusion Matrix : \\n {confusion_matrix(y_test,pred)}\\n\")\n",
    "print(\"---------------------------------------------------\")\n",
    "\n",
    "print(f\"CLASSIFICATION REPORT : \\n {classification_report(y_test,pred)}\")\n",
    "print(\"---------------------------------------------------\")"
   ]
  },
  {
   "cell_type": "code",
   "execution_count": 103,
   "id": "40fd7b9d",
   "metadata": {},
   "outputs": [
    {
     "data": {
      "image/png": "[encoded data removed]",
      "text/plain": [
       "<Figure size 432x288 with 1 Axes>"
      ]
     },
     "metadata": {},
     "output_type": "display_data"
    }
   ],
   "source": [
    "plot_roc_curve(model, x_test, y_test)\n",
    "plt.show()"
   ]
  },
  {
   "cell_type": "markdown",
   "id": "5e672d41",
   "metadata": {},
   "source": [
    "# concluding"
   ]
  },
  {
   "cell_type": "code",
   "execution_count": 105,
   "id": "3ba390b9",
   "metadata": {},
   "outputs": [
    {
     "name": "stdout",
     "output_type": "stream",
     "text": [
      "Logistic Regression Classifier: 83.17% Accuracy\n",
      "Random Forest Classifier: 85.56% Accuracy\n",
      "K-Nearest Neighbors Classifier: 83.31% Accuracy\n",
      "DecisionTreeClassifier: 80.38% Accuracy\n",
      "AdaBoostClassifier: 85.86% Accuracy\n"
     ]
    }
   ],
   "source": [
    "print(\"Logistic Regression Classifier: {:.2f}% Accuracy\".format( 100 * accuracy_score(LR_pred, y_test)))\n",
    "print(\"Random Forest Classifier: {:.2f}% Accuracy\".format( 100 * accuracy_score(pred_RF, y_test)))\n",
    "print(\"K-Nearest Neighbors Classifier: {:.2f}% Accuracy\".format( 100 * accuracy_score(pred_knn, y_test)))\n",
    "print(\"DecisionTreeClassifier: {:.2f}% Accuracy\".format( 100 * accuracy_score(pred_DT, y_test)))\n",
    "print(\"AdaBoostClassifier: {:.2f}% Accuracy\".format( 100 * accuracy_score(pred_ADA, y_test)))"
   ]
  },
  {
   "cell_type": "markdown",
   "id": "fbef043f",
   "metadata": {},
   "source": [
    "# SavingModel"
   ]
  },
  {
   "cell_type": "code",
   "execution_count": 106,
   "id": "0bcedf24",
   "metadata": {},
   "outputs": [
    {
     "data": {
      "text/plain": [
       "['Census_Income.pkl']"
      ]
     },
     "execution_count": 106,
     "metadata": {},
     "output_type": "execute_result"
    }
   ],
   "source": [
    "import joblib\n",
    "joblib.dump(model,\"Census_Income.pkl\")"
   ]
  }
 ],
 "metadata": {
  "kernelspec": {
   "display_name": "Python 3 (ipykernel)",
   "language": "python",
   "name": "python3"
  },
  "language_info": {
   "codemirror_mode": {
    "name": "ipython",
    "version": 3
   },
   "file_extension": ".py",
   "mimetype": "text/x-python",
   "name": "python",
   "nbconvert_exporter": "python",
   "pygments_lexer": "ipython3",
   "version": "3.9.12"
  }
 },
 "nbformat": 4,
 "nbformat_minor": 5
}
